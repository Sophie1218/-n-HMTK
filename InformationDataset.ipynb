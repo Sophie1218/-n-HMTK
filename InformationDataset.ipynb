{
  "nbformat": 4,
  "nbformat_minor": 0,
  "metadata": {
    "kernelspec": {
      "display_name": "Python 3",
      "language": "python",
      "name": "python3"
    },
    "language_info": {
      "codemirror_mode": {
        "name": "ipython",
        "version": 3
      },
      "file_extension": ".py",
      "mimetype": "text/x-python",
      "name": "python",
      "nbconvert_exporter": "python",
      "pygments_lexer": "ipython3",
      "version": "3.7.6"
    },
    "colab": {
      "name": "InformationDataset.ipynb",
      "provenance": [],
      "collapsed_sections": [],
      "include_colab_link": true
    }
  },
  "cells": [
    {
      "cell_type": "markdown",
      "metadata": {
        "id": "view-in-github",
        "colab_type": "text"
      },
      "source": [
        "<a href=\"https://colab.research.google.com/github/Sophie1218/HMTK_DS102.L11.CNCL/blob/main/InformationDataset.ipynb\" target=\"_parent\"><img src=\"https://colab.research.google.com/assets/colab-badge.svg\" alt=\"Open In Colab\"/></a>"
      ]
    },
    {
      "cell_type": "code",
      "metadata": {
        "colab": {
          "base_uri": "https://localhost:8080/"
        },
        "id": "2yJl-hDdF84O",
        "outputId": "f3ba88b8-f4ef-4dc8-ea07-852e22d0853e"
      },
      "source": [
        "from google.colab import drive\r\n",
        "drive.mount('/content/drive')"
      ],
      "execution_count": 1,
      "outputs": [
        {
          "output_type": "stream",
          "text": [
            "Drive already mounted at /content/drive; to attempt to forcibly remount, call drive.mount(\"/content/drive\", force_remount=True).\n"
          ],
          "name": "stdout"
        }
      ]
    },
    {
      "cell_type": "code",
      "metadata": {
        "id": "QGJ4Uin5GKPf"
      },
      "source": [
        "import os\r\n",
        "os.chdir('/content/drive/MyDrive/Colab Notebooks/Bert_Complaint')"
      ],
      "execution_count": 2,
      "outputs": []
    },
    {
      "cell_type": "code",
      "metadata": {
        "id": "iSgGBESjGdYy"
      },
      "source": [
        "import pandas as pd\r\n",
        "import numpy as np\r\n",
        "from tabulate import tabulate\r\n",
        "import matplotlib\r\n",
        "import matplotlib.pyplot as plt"
      ],
      "execution_count": 3,
      "outputs": []
    },
    {
      "cell_type": "code",
      "metadata": {
        "colab": {
          "base_uri": "https://localhost:8080/",
          "height": 204
        },
        "id": "l-EdAouHGVjA",
        "outputId": "b2dccab3-c4e6-4c5b-b546-e06e0654eefe"
      },
      "source": [
        "df = pd.read_csv('/content/drive/MyDrive/Colab Notebooks/Bert_Complaint/Dataset_DL.csv')\r\n",
        "df.head()"
      ],
      "execution_count": 4,
      "outputs": [
        {
          "output_type": "execute_result",
          "data": {
            "text/html": [
              "<div>\n",
              "<style scoped>\n",
              "    .dataframe tbody tr th:only-of-type {\n",
              "        vertical-align: middle;\n",
              "    }\n",
              "\n",
              "    .dataframe tbody tr th {\n",
              "        vertical-align: top;\n",
              "    }\n",
              "\n",
              "    .dataframe thead th {\n",
              "        text-align: right;\n",
              "    }\n",
              "</style>\n",
              "<table border=\"1\" class=\"dataframe\">\n",
              "  <thead>\n",
              "    <tr style=\"text-align: right;\">\n",
              "      <th></th>\n",
              "      <th>ID</th>\n",
              "      <th>Comment</th>\n",
              "      <th>Label</th>\n",
              "      <th>Domain</th>\n",
              "    </tr>\n",
              "  </thead>\n",
              "  <tbody>\n",
              "    <tr>\n",
              "      <th>0</th>\n",
              "      <td>1117661425258766_1117711878587054</td>\n",
              "      <td>Tắt Ai tự động nhận diện ảnh kiểu gì ak</td>\n",
              "      <td>0</td>\n",
              "      <td>Điện thoại</td>\n",
              "    </tr>\n",
              "    <tr>\n",
              "      <th>1</th>\n",
              "      <td>1117661425258766_1117711881920387</td>\n",
              "      <td>So sánh với Nokia 8.1</td>\n",
              "      <td>0</td>\n",
              "      <td>Điện thoại</td>\n",
              "    </tr>\n",
              "    <tr>\n",
              "      <th>2</th>\n",
              "      <td>1117661425258766_1117712271920348</td>\n",
              "      <td>A51 vs reno 2F máy nào tốt hơn a</td>\n",
              "      <td>0</td>\n",
              "      <td>Điện thoại</td>\n",
              "    </tr>\n",
              "    <tr>\n",
              "      <th>3</th>\n",
              "      <td>1117661425258766_1117712698586972</td>\n",
              "      <td>Giật nhỉ :))</td>\n",
              "      <td>1</td>\n",
              "      <td>Điện thoại</td>\n",
              "    </tr>\n",
              "    <tr>\n",
              "      <th>4</th>\n",
              "      <td>1117661425258766_1117712938586948</td>\n",
              "      <td>Mới toang con 7plus,hôm qua ra làm luôn con nà...</td>\n",
              "      <td>1</td>\n",
              "      <td>Điện thoại</td>\n",
              "    </tr>\n",
              "  </tbody>\n",
              "</table>\n",
              "</div>"
            ],
            "text/plain": [
              "                                  ID  ...      Domain\n",
              "0  1117661425258766_1117711878587054  ...  Điện thoại\n",
              "1  1117661425258766_1117711881920387  ...  Điện thoại\n",
              "2  1117661425258766_1117712271920348  ...  Điện thoại\n",
              "3  1117661425258766_1117712698586972  ...  Điện thoại\n",
              "4  1117661425258766_1117712938586948  ...  Điện thoại\n",
              "\n",
              "[5 rows x 4 columns]"
            ]
          },
          "metadata": {
            "tags": []
          },
          "execution_count": 4
        }
      ]
    },
    {
      "cell_type": "code",
      "metadata": {
        "colab": {
          "base_uri": "https://localhost:8080/"
        },
        "id": "A_Xiun_FGEU1",
        "outputId": "058b8569-9a50-40b0-b7f6-40a77024fd5f"
      },
      "source": [
        "#null\r\n",
        "df.isnull().sum(axis = 0)"
      ],
      "execution_count": 5,
      "outputs": [
        {
          "output_type": "execute_result",
          "data": {
            "text/plain": [
              "ID         0\n",
              "Comment    0\n",
              "Label      0\n",
              "Domain     0\n",
              "dtype: int64"
            ]
          },
          "metadata": {
            "tags": []
          },
          "execution_count": 5
        }
      ]
    },
    {
      "cell_type": "code",
      "metadata": {
        "id": "V8GxepCyF6Cm"
      },
      "source": [
        "def Stat_Domain(x,y):\n",
        "    sum_1_5 = [0,0,0]\n",
        "    sum_6_10 = [0,0,0]\n",
        "    sum_11_15 = [0,0,0]\n",
        "    sum_16_20 = [0,0,0]\n",
        "    sum_21_25 = [0,0,0]\n",
        "    sum_26_30 = [0,0,0]\n",
        "    sum_up30 = [0,0,0]\n",
        "    for i in range(len(x)):\n",
        "        if 1<= len(x[i]) <=5:\n",
        "            if y[i] == 'Ứng dụng': sum_1_5[0]+=1\n",
        "            if y[i] == 'Điện thoại': sum_1_5[1]+=1\n",
        "            if y[i] == 'Mỹ phẩm': sum_1_5[2]+=1\n",
        "        elif 6<= len(x[i]) <=10:\n",
        "            if y[i] == 'Ứng dụng': sum_6_10[0]+=1\n",
        "            if y[i] == 'Điện thoại': sum_6_10[1]+=1\n",
        "            if y[i] == 'Mỹ phẩm': sum_6_10[2]+=1\n",
        "                \n",
        "        elif 11<= len(x[i]) <=15:\n",
        "            if y[i] == 'Ứng dụng': sum_11_15[0]+=1\n",
        "            if y[i] == 'Điện thoại': sum_11_15[1]+=1\n",
        "            if y[i] == 'Mỹ phẩm': sum_11_15[2]+=1\n",
        "\n",
        "        elif 16<= len(x[i]) <=20:\n",
        "            if y[i] == 'Ứng dụng': sum_16_20[0]+=1\n",
        "            if y[i] == 'Điện thoại': sum_16_20[1]+=1\n",
        "            if y[i] == 'Mỹ phẩm': sum_16_20[2]+=1\n",
        "    \n",
        "        elif 21<= len(x[i]) <=25:\n",
        "            if y[i] == 'Ứng dụng': sum_21_25[0]+=1\n",
        "            if y[i] == 'Điện thoại': sum_21_25[1]+=1\n",
        "            if y[i] == 'Mỹ phẩm': sum_21_25[2]+=1\n",
        "    \n",
        "        elif 26<= len(x[i]) <=30:\n",
        "            if y[i] == 'Ứng dụng': sum_26_30[0]+=1\n",
        "            if y[i] == 'Điện thoại': sum_26_30[1]+=1\n",
        "            if y[i] == 'Mỹ phẩm': sum_26_30[2]+=1\n",
        "                \n",
        "        elif len(x[i])>30:\n",
        "            if y[i] == 'Ứng dụng': sum_up30[0]+=1\n",
        "            if y[i] == 'Điện thoại': sum_up30[1]+=1\n",
        "            if y[i] == 'Mỹ phẩm': sum_up30[2]+=1\n",
        "    \n",
        "    data = [['1-5',sum_1_5[0],sum_1_5[1],sum_1_5[2]],\n",
        "    ['6-10', sum_6_10[0],sum_6_10[1],sum_6_10[2]],\n",
        "    ['11-15', sum_11_15[0],sum_11_15[1],sum_11_15[2]],\n",
        "    ['16-20',sum_16_20[0],sum_16_20[1],sum_16_20[2]],\n",
        "    ['21-25',sum_21_25[0],sum_21_25[1],sum_21_25[2]],\n",
        "    ['26-30',sum_26_30[0],sum_26_30[1],sum_26_30[2]],\n",
        "    ['>30',sum_up30[0],sum_up30[1],sum_up30[2]]]\n",
        "    print (tabulate(data, headers=[\"Độ dài(từ)\", \"Ứng dụng\", \"Điện thoại\",\"Mỹ phẩm\"]))\n"
      ],
      "execution_count": 6,
      "outputs": []
    },
    {
      "cell_type": "code",
      "metadata": {
        "colab": {
          "base_uri": "https://localhost:8080/"
        },
        "id": "7CBh08tuF6Cm",
        "outputId": "4346e3cf-90b6-4d36-ac99-a50721d5c840"
      },
      "source": [
        "Stat_Domain(df['Comment'],df['Domain'])"
      ],
      "execution_count": 7,
      "outputs": [
        {
          "output_type": "stream",
          "text": [
            "Độ dài(từ)      Ứng dụng    Điện thoại    Mỹ phẩm\n",
            "------------  ----------  ------------  ---------\n",
            "1-5                    3             0          3\n",
            "6-10                   8             4         21\n",
            "11-15                  9            14         22\n",
            "16-20                 14            23         28\n",
            "21-25                 28            26         75\n",
            "26-30                 26            22         81\n",
            ">30                  512           286       1210\n"
          ],
          "name": "stdout"
        }
      ]
    },
    {
      "cell_type": "code",
      "metadata": {
        "colab": {
          "base_uri": "https://localhost:8080/",
          "height": 248
        },
        "id": "ixs-B9wdF6Cn",
        "outputId": "b0e3d3fe-293f-4099-881c-34beb8429690"
      },
      "source": [
        "%matplotlib inline\n",
        "labels = 'Không phàn nàn', 'Phàn nàn'\n",
        "\n",
        "sizes = [df['Label'].value_counts()[0]/len(df['Label']),df['Label'].value_counts()[1]/len(df['Label'])]\n",
        "explode = (0, 0.05)\n",
        "fig1, ax1 = plt.subplots()\n",
        "ax1.pie(sizes, explode=explode, labels=labels, autopct='%1.1f%%',\n",
        "        shadow=True, startangle=90)\n",
        "ax1.axis('equal')\n",
        "\n",
        "plt.show()"
      ],
      "execution_count": 8,
      "outputs": [
        {
          "output_type": "display_data",
          "data": {
            "image/png": "[encoded data removed]",
            "text/plain": [
              "<Figure size 432x288 with 1 Axes>"
            ]
          },
          "metadata": {
            "tags": []
          }
        }
      ]
    },
    {
      "cell_type": "code",
      "metadata": {
        "colab": {
          "base_uri": "https://localhost:8080/",
          "height": 248
        },
        "id": "834pvXnIF6Cn",
        "outputId": "7420bfe9-7459-49ec-b817-a50e1aea6bf9"
      },
      "source": [
        "%matplotlib inline\n",
        "labels = 'Mỹ phẩm', 'Ứng dụng', 'Điện thoại'\n",
        "\n",
        "sizes = [df['Domain'].value_counts()[0]/len(df['Domain']),df['Domain'].value_counts()[1]/len(df['Domain']),df['Domain'].value_counts()[2]/len(df['Domain'])]\n",
        "fig1, ax1 = plt.subplots()\n",
        "ax1.pie(sizes, labels=labels, autopct='%1.1f%%',\n",
        "        shadow=True, startangle=90)\n",
        "ax1.axis('equal')\n",
        "\n",
        "plt.show()"
      ],
      "execution_count": 9,
      "outputs": [
        {
          "output_type": "display_data",
          "data": {
            "image/png": "[encoded data removed]",
            "text/plain": [
              "<Figure size 432x288 with 1 Axes>"
            ]
          },
          "metadata": {
            "tags": []
          }
        }
      ]
    },
    {
      "cell_type": "code",
      "metadata": {
        "id": "bNzgangXF6Co"
      },
      "source": [
        "def Detail_Domain(x,y,z):\n",
        "    label_0 = [0,0,0]\n",
        "    label_1 = [0,0,0]\n",
        "    for i in range(len(x)):\n",
        "        if (z[i]) == 'Mỹ phẩm':\n",
        "            if (y[i]) == 0: label_0[0] += 1\n",
        "            elif (y[i]) == 1: label_1[0] += 1\n",
        "        elif (z[i]) == 'Ứng dụng':\n",
        "            if (y[i]) == 0: label_0[1] += 1\n",
        "            elif (y[i]) == 1: label_1[1] += 1\n",
        "        elif (z[i]) == 'Điện thoại':\n",
        "            if (y[i]) == 0: label_0[2] += 1\n",
        "            elif (y[i]) == 1: label_1[2] += 1\n",
        "    \n",
        "    %matplotlib inline\n",
        "    labels = ['Mỹ phẩm', 'Ứng dụng', 'Điện thoại' ]\n",
        "\n",
        "    x = np.arange(len(labels))  \n",
        "    width = 0.35\n",
        "\n",
        "    fig, ax = plt.subplots()\n",
        "    rects1 = ax.bar(x - width/2, label_0, width, label='Không phàn nàn')\n",
        "    rects2 = ax.bar(x + width/2, label_1, width, label='Phàn nàn')\n",
        "\n",
        "    ax.set_ylabel('The number of Corpus')\n",
        "    ax.set_xlabel('Domain')\n",
        "    ax.set_xticks(x)\n",
        "    ax.set_xticklabels(labels)\n",
        "    ax.set_yticks(np.arange(0, 1050, 200))\n",
        "    ax.legend()\n",
        "\n",
        "    def autolabel(rects):\n",
        "        for rect in rects:\n",
        "            height = rect.get_height()\n",
        "            ax.annotate('{}'.format(height),\n",
        "                        xy=(rect.get_x() + rect.get_width() / 2, height),\n",
        "                        xytext=(0, 3),  #\n",
        "                        textcoords=\"offset points\",\n",
        "                        ha='center', va='bottom')\n",
        "\n",
        "\n",
        "    autolabel(rects1)\n",
        "    autolabel(rects2)\n",
        "\n",
        "    fig.tight_layout()\n",
        "    plt.show()"
      ],
      "execution_count": 10,
      "outputs": []
    },
    {
      "cell_type": "code",
      "metadata": {
        "colab": {
          "base_uri": "https://localhost:8080/",
          "height": 297
        },
        "id": "gRz6RCOvF6Co",
        "outputId": "41cd9bd1-3b2a-496b-aed9-ac64edf3bdf0"
      },
      "source": [
        "Detail_Domain(df['Comment'],df['Label'],df['Domain'])"
      ],
      "execution_count": 11,
      "outputs": [
        {
          "output_type": "display_data",
          "data": {
            "image/png": "[encoded data removed]",
            "text/plain": [
              "<Figure size 432x288 with 1 Axes>"
            ]
          },
          "metadata": {
            "tags": [],
            "needs_background": "light"
          }
        }
      ]
    },
    {
      "cell_type": "code",
      "metadata": {
        "id": "ZvtDvAiKsDpu"
      },
      "source": [
        ""
      ],
      "execution_count": null,
      "outputs": []
    }
  ]
}