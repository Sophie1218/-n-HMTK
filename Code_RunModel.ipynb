{
  "nbformat": 4,
  "nbformat_minor": 0,
  "metadata": {
    "accelerator": "GPU",
    "colab": {
      "name": "Code_RunModel.ipynb",
      "provenance": [],
      "collapsed_sections": [],
      "machine_shape": "hm",
      "include_colab_link": true
    },
    "kernelspec": {
      "display_name": "Python 3",
      "name": "python3"
    },
    "widgets": {
      "application/vnd.jupyter.widget-state+json": {
        "b6ced43312fd44e3a99c5fccb5d3c9ef": {
          "model_module": "@jupyter-widgets/controls",
          "model_name": "HBoxModel",
          "state": {
            "_view_name": "HBoxView",
            "_dom_classes": [],
            "_model_name": "HBoxModel",
            "_view_module": "@jupyter-widgets/controls",
            "_model_module_version": "1.5.0",
            "_view_count": null,
            "_view_module_version": "1.5.0",
            "box_style": "",
            "layout": "IPY_MODEL_ceab14f42e8943a7b429ce01a409d3f3",
            "_model_module": "@jupyter-widgets/controls",
            "children": [
              "IPY_MODEL_e4968700a4284ea3bb9024c7b3e08ac0",
              "IPY_MODEL_da529aa4fec847c9bc5f951bf57a745a"
            ]
          }
        },
        "ceab14f42e8943a7b429ce01a409d3f3": {
          "model_module": "@jupyter-widgets/base",
          "model_name": "LayoutModel",
          "state": {
            "_view_name": "LayoutView",
            "grid_template_rows": null,
            "right": null,
            "justify_content": null,
            "_view_module": "@jupyter-widgets/base",
            "overflow": null,
            "_model_module_version": "1.2.0",
            "_view_count": null,
            "flex_flow": null,
            "width": null,
            "min_width": null,
            "border": null,
            "align_items": null,
            "bottom": null,
            "_model_module": "@jupyter-widgets/base",
            "top": null,
            "grid_column": null,
            "overflow_y": null,
            "overflow_x": null,
            "grid_auto_flow": null,
            "grid_area": null,
            "grid_template_columns": null,
            "flex": null,
            "_model_name": "LayoutModel",
            "justify_items": null,
            "grid_row": null,
            "max_height": null,
            "align_content": null,
            "visibility": null,
            "align_self": null,
            "height": null,
            "min_height": null,
            "padding": null,
            "grid_auto_rows": null,
            "grid_gap": null,
            "max_width": null,
            "order": null,
            "_view_module_version": "1.2.0",
            "grid_template_areas": null,
            "object_position": null,
            "object_fit": null,
            "grid_auto_columns": null,
            "margin": null,
            "display": null,
            "left": null
          }
        },
        "e4968700a4284ea3bb9024c7b3e08ac0": {
          "model_module": "@jupyter-widgets/controls",
          "model_name": "FloatProgressModel",
          "state": {
            "_view_name": "ProgressView",
            "style": "IPY_MODEL_73febbb681e244feb6fb7d5c87914113",
            "_dom_classes": [],
            "description": "",
            "_model_name": "FloatProgressModel",
            "bar_style": "success",
            "max": 1,
            "_view_module": "@jupyter-widgets/controls",
            "_model_module_version": "1.5.0",
            "value": 1,
            "_view_count": null,
            "_view_module_version": "1.5.0",
            "orientation": "horizontal",
            "min": 0,
            "description_tooltip": null,
            "_model_module": "@jupyter-widgets/controls",
            "layout": "IPY_MODEL_7b842b9010f64bcdbdfb83eab7ec0d72"
          }
        },
        "da529aa4fec847c9bc5f951bf57a745a": {
          "model_module": "@jupyter-widgets/controls",
          "model_name": "HTMLModel",
          "state": {
            "_view_name": "HTMLView",
            "style": "IPY_MODEL_dbc1239877824de6bbeacd8ea85ee276",
            "_dom_classes": [],
            "description": "",
            "_model_name": "HTMLModel",
            "placeholder": "​",
            "_view_module": "@jupyter-widgets/controls",
            "_model_module_version": "1.5.0",
            "value": " 61/? [03:22&lt;00:00,  3.32s/it]",
            "_view_count": null,
            "_view_module_version": "1.5.0",
            "description_tooltip": null,
            "_model_module": "@jupyter-widgets/controls",
            "layout": "IPY_MODEL_ec647b9e33e34d28bae32650da4efdd7"
          }
        },
        "73febbb681e244feb6fb7d5c87914113": {
          "model_module": "@jupyter-widgets/controls",
          "model_name": "ProgressStyleModel",
          "state": {
            "_view_name": "StyleView",
            "_model_name": "ProgressStyleModel",
            "description_width": "initial",
            "_view_module": "@jupyter-widgets/base",
            "_model_module_version": "1.5.0",
            "_view_count": null,
            "_view_module_version": "1.2.0",
            "bar_color": null,
            "_model_module": "@jupyter-widgets/controls"
          }
        },
        "7b842b9010f64bcdbdfb83eab7ec0d72": {
          "model_module": "@jupyter-widgets/base",
          "model_name": "LayoutModel",
          "state": {
            "_view_name": "LayoutView",
            "grid_template_rows": null,
            "right": null,
            "justify_content": null,
            "_view_module": "@jupyter-widgets/base",
            "overflow": null,
            "_model_module_version": "1.2.0",
            "_view_count": null,
            "flex_flow": null,
            "width": null,
            "min_width": null,
            "border": null,
            "align_items": null,
            "bottom": null,
            "_model_module": "@jupyter-widgets/base",
            "top": null,
            "grid_column": null,
            "overflow_y": null,
            "overflow_x": null,
            "grid_auto_flow": null,
            "grid_area": null,
            "grid_template_columns": null,
            "flex": null,
            "_model_name": "LayoutModel",
            "justify_items": null,
            "grid_row": null,
            "max_height": null,
            "align_content": null,
            "visibility": null,
            "align_self": null,
            "height": null,
            "min_height": null,
            "padding": null,
            "grid_auto_rows": null,
            "grid_gap": null,
            "max_width": null,
            "order": null,
            "_view_module_version": "1.2.0",
            "grid_template_areas": null,
            "object_position": null,
            "object_fit": null,
            "grid_auto_columns": null,
            "margin": null,
            "display": null,
            "left": null
          }
        },
        "dbc1239877824de6bbeacd8ea85ee276": {
          "model_module": "@jupyter-widgets/controls",
          "model_name": "DescriptionStyleModel",
          "state": {
            "_view_name": "StyleView",
            "_model_name": "DescriptionStyleModel",
            "description_width": "",
            "_view_module": "@jupyter-widgets/base",
            "_model_module_version": "1.5.0",
            "_view_count": null,
            "_view_module_version": "1.2.0",
            "_model_module": "@jupyter-widgets/controls"
          }
        },
        "ec647b9e33e34d28bae32650da4efdd7": {
          "model_module": "@jupyter-widgets/base",
          "model_name": "LayoutModel",
          "state": {
            "_view_name": "LayoutView",
            "grid_template_rows": null,
            "right": null,
            "justify_content": null,
            "_view_module": "@jupyter-widgets/base",
            "overflow": null,
            "_model_module_version": "1.2.0",
            "_view_count": null,
            "flex_flow": null,
            "width": null,
            "min_width": null,
            "border": null,
            "align_items": null,
            "bottom": null,
            "_model_module": "@jupyter-widgets/base",
            "top": null,
            "grid_column": null,
            "overflow_y": null,
            "overflow_x": null,
            "grid_auto_flow": null,
            "grid_area": null,
            "grid_template_columns": null,
            "flex": null,
            "_model_name": "LayoutModel",
            "justify_items": null,
            "grid_row": null,
            "max_height": null,
            "align_content": null,
            "visibility": null,
            "align_self": null,
            "height": null,
            "min_height": null,
            "padding": null,
            "grid_auto_rows": null,
            "grid_gap": null,
            "max_width": null,
            "order": null,
            "_view_module_version": "1.2.0",
            "grid_template_areas": null,
            "object_position": null,
            "object_fit": null,
            "grid_auto_columns": null,
            "margin": null,
            "display": null,
            "left": null
          }
        },
        "f3a37d23f8f14f07802a1f4885368a11": {
          "model_module": "@jupyter-widgets/controls",
          "model_name": "HBoxModel",
          "state": {
            "_view_name": "HBoxView",
            "_dom_classes": [],
            "_model_name": "HBoxModel",
            "_view_module": "@jupyter-widgets/controls",
            "_model_module_version": "1.5.0",
            "_view_count": null,
            "_view_module_version": "1.5.0",
            "box_style": "",
            "layout": "IPY_MODEL_6441fd6dcee24814ade89a1555f3d4b8",
            "_model_module": "@jupyter-widgets/controls",
            "children": [
              "IPY_MODEL_523e916fbbce459a8308e3d2ee51188a",
              "IPY_MODEL_020888cc06e24e6e9e4d1e30a9eb8df4"
            ]
          }
        },
        "6441fd6dcee24814ade89a1555f3d4b8": {
          "model_module": "@jupyter-widgets/base",
          "model_name": "LayoutModel",
          "state": {
            "_view_name": "LayoutView",
            "grid_template_rows": null,
            "right": null,
            "justify_content": null,
            "_view_module": "@jupyter-widgets/base",
            "overflow": null,
            "_model_module_version": "1.2.0",
            "_view_count": null,
            "flex_flow": null,
            "width": null,
            "min_width": null,
            "border": null,
            "align_items": null,
            "bottom": null,
            "_model_module": "@jupyter-widgets/base",
            "top": null,
            "grid_column": null,
            "overflow_y": null,
            "overflow_x": null,
            "grid_auto_flow": null,
            "grid_area": null,
            "grid_template_columns": null,
            "flex": null,
            "_model_name": "LayoutModel",
            "justify_items": null,
            "grid_row": null,
            "max_height": null,
            "align_content": null,
            "visibility": null,
            "align_self": null,
            "height": null,
            "min_height": null,
            "padding": null,
            "grid_auto_rows": null,
            "grid_gap": null,
            "max_width": null,
            "order": null,
            "_view_module_version": "1.2.0",
            "grid_template_areas": null,
            "object_position": null,
            "object_fit": null,
            "grid_auto_columns": null,
            "margin": null,
            "display": null,
            "left": null
          }
        },
        "523e916fbbce459a8308e3d2ee51188a": {
          "model_module": "@jupyter-widgets/controls",
          "model_name": "FloatProgressModel",
          "state": {
            "_view_name": "ProgressView",
            "style": "IPY_MODEL_0aaacc773bf24fc7babf88b902dd21a8",
            "_dom_classes": [],
            "description": "100%",
            "_model_name": "FloatProgressModel",
            "bar_style": "success",
            "max": 16,
            "_view_module": "@jupyter-widgets/controls",
            "_model_module_version": "1.5.0",
            "value": 16,
            "_view_count": null,
            "_view_module_version": "1.5.0",
            "orientation": "horizontal",
            "min": 0,
            "description_tooltip": null,
            "_model_module": "@jupyter-widgets/controls",
            "layout": "IPY_MODEL_c273675ce2fd4bb8ba6eeafc250677cb"
          }
        },
        "020888cc06e24e6e9e4d1e30a9eb8df4": {
          "model_module": "@jupyter-widgets/controls",
          "model_name": "HTMLModel",
          "state": {
            "_view_name": "HTMLView",
            "style": "IPY_MODEL_7f137e6af7a645238c39b2448ee7d797",
            "_dom_classes": [],
            "description": "",
            "_model_name": "HTMLModel",
            "placeholder": "​",
            "_view_module": "@jupyter-widgets/controls",
            "_model_module_version": "1.5.0",
            "value": " 16/16 [02:45&lt;00:00, 10.32s/it]",
            "_view_count": null,
            "_view_module_version": "1.5.0",
            "description_tooltip": null,
            "_model_module": "@jupyter-widgets/controls",
            "layout": "IPY_MODEL_6c98e8b3e6fe4ab69c33a1eb551cc1fe"
          }
        },
        "0aaacc773bf24fc7babf88b902dd21a8": {
          "model_module": "@jupyter-widgets/controls",
          "model_name": "ProgressStyleModel",
          "state": {
            "_view_name": "StyleView",
            "_model_name": "ProgressStyleModel",
            "description_width": "initial",
            "_view_module": "@jupyter-widgets/base",
            "_model_module_version": "1.5.0",
            "_view_count": null,
            "_view_module_version": "1.2.0",
            "bar_color": null,
            "_model_module": "@jupyter-widgets/controls"
          }
        },
        "c273675ce2fd4bb8ba6eeafc250677cb": {
          "model_module": "@jupyter-widgets/base",
          "model_name": "LayoutModel",
          "state": {
            "_view_name": "LayoutView",
            "grid_template_rows": null,
            "right": null,
            "justify_content": null,
            "_view_module": "@jupyter-widgets/base",
            "overflow": null,
            "_model_module_version": "1.2.0",
            "_view_count": null,
            "flex_flow": null,
            "width": null,
            "min_width": null,
            "border": null,
            "align_items": null,
            "bottom": null,
            "_model_module": "@jupyter-widgets/base",
            "top": null,
            "grid_column": null,
            "overflow_y": null,
            "overflow_x": null,
            "grid_auto_flow": null,
            "grid_area": null,
            "grid_template_columns": null,
            "flex": null,
            "_model_name": "LayoutModel",
            "justify_items": null,
            "grid_row": null,
            "max_height": null,
            "align_content": null,
            "visibility": null,
            "align_self": null,
            "height": null,
            "min_height": null,
            "padding": null,
            "grid_auto_rows": null,
            "grid_gap": null,
            "max_width": null,
            "order": null,
            "_view_module_version": "1.2.0",
            "grid_template_areas": null,
            "object_position": null,
            "object_fit": null,
            "grid_auto_columns": null,
            "margin": null,
            "display": null,
            "left": null
          }
        },
        "7f137e6af7a645238c39b2448ee7d797": {
          "model_module": "@jupyter-widgets/controls",
          "model_name": "DescriptionStyleModel",
          "state": {
            "_view_name": "StyleView",
            "_model_name": "DescriptionStyleModel",
            "description_width": "",
            "_view_module": "@jupyter-widgets/base",
            "_model_module_version": "1.5.0",
            "_view_count": null,
            "_view_module_version": "1.2.0",
            "_model_module": "@jupyter-widgets/controls"
          }
        },
        "6c98e8b3e6fe4ab69c33a1eb551cc1fe": {
          "model_module": "@jupyter-widgets/base",
          "model_name": "LayoutModel",
          "state": {
            "_view_name": "LayoutView",
            "grid_template_rows": null,
            "right": null,
            "justify_content": null,
            "_view_module": "@jupyter-widgets/base",
            "overflow": null,
            "_model_module_version": "1.2.0",
            "_view_count": null,
            "flex_flow": null,
            "width": null,
            "min_width": null,
            "border": null,
            "align_items": null,
            "bottom": null,
            "_model_module": "@jupyter-widgets/base",
            "top": null,
            "grid_column": null,
            "overflow_y": null,
            "overflow_x": null,
            "grid_auto_flow": null,
            "grid_area": null,
            "grid_template_columns": null,
            "flex": null,
            "_model_name": "LayoutModel",
            "justify_items": null,
            "grid_row": null,
            "max_height": null,
            "align_content": null,
            "visibility": null,
            "align_self": null,
            "height": null,
            "min_height": null,
            "padding": null,
            "grid_auto_rows": null,
            "grid_gap": null,
            "max_width": null,
            "order": null,
            "_view_module_version": "1.2.0",
            "grid_template_areas": null,
            "object_position": null,
            "object_fit": null,
            "grid_auto_columns": null,
            "margin": null,
            "display": null,
            "left": null
          }
        },
        "34633e05043644c7ace15593b5cb656f": {
          "model_module": "@jupyter-widgets/controls",
          "model_name": "HBoxModel",
          "state": {
            "_view_name": "HBoxView",
            "_dom_classes": [],
            "_model_name": "HBoxModel",
            "_view_module": "@jupyter-widgets/controls",
            "_model_module_version": "1.5.0",
            "_view_count": null,
            "_view_module_version": "1.5.0",
            "box_style": "",
            "layout": "IPY_MODEL_eda342a0e18446d798a5b5b411d4008f",
            "_model_module": "@jupyter-widgets/controls",
            "children": [
              "IPY_MODEL_1f9a5744f69d43d19a9be341403b85fb",
              "IPY_MODEL_c1f6a305854048e2aa097c73c6156f4f"
            ]
          }
        },
        "eda342a0e18446d798a5b5b411d4008f": {
          "model_module": "@jupyter-widgets/base",
          "model_name": "LayoutModel",
          "state": {
            "_view_name": "LayoutView",
            "grid_template_rows": null,
            "right": null,
            "justify_content": null,
            "_view_module": "@jupyter-widgets/base",
            "overflow": null,
            "_model_module_version": "1.2.0",
            "_view_count": null,
            "flex_flow": null,
            "width": null,
            "min_width": null,
            "border": null,
            "align_items": null,
            "bottom": null,
            "_model_module": "@jupyter-widgets/base",
            "top": null,
            "grid_column": null,
            "overflow_y": null,
            "overflow_x": null,
            "grid_auto_flow": null,
            "grid_area": null,
            "grid_template_columns": null,
            "flex": null,
            "_model_name": "LayoutModel",
            "justify_items": null,
            "grid_row": null,
            "max_height": null,
            "align_content": null,
            "visibility": null,
            "align_self": null,
            "height": null,
            "min_height": null,
            "padding": null,
            "grid_auto_rows": null,
            "grid_gap": null,
            "max_width": null,
            "order": null,
            "_view_module_version": "1.2.0",
            "grid_template_areas": null,
            "object_position": null,
            "object_fit": null,
            "grid_auto_columns": null,
            "margin": null,
            "display": null,
            "left": null
          }
        },
        "1f9a5744f69d43d19a9be341403b85fb": {
          "model_module": "@jupyter-widgets/controls",
          "model_name": "FloatProgressModel",
          "state": {
            "_view_name": "ProgressView",
            "style": "IPY_MODEL_a5c7284edbed4beea9112d874ba61d8d",
            "_dom_classes": [],
            "description": "",
            "_model_name": "FloatProgressModel",
            "bar_style": "success",
            "max": 1,
            "_view_module": "@jupyter-widgets/controls",
            "_model_module_version": "1.5.0",
            "value": 1,
            "_view_count": null,
            "_view_module_version": "1.5.0",
            "orientation": "horizontal",
            "min": 0,
            "description_tooltip": null,
            "_model_module": "@jupyter-widgets/controls",
            "layout": "IPY_MODEL_307e6b0479eb4ffe83077f43bddfdbb3"
          }
        },
        "c1f6a305854048e2aa097c73c6156f4f": {
          "model_module": "@jupyter-widgets/controls",
          "model_name": "HTMLModel",
          "state": {
            "_view_name": "HTMLView",
            "style": "IPY_MODEL_689ee7001cc6480e872264ff161a9ecf",
            "_dom_classes": [],
            "description": "",
            "_model_name": "HTMLModel",
            "placeholder": "​",
            "_view_module": "@jupyter-widgets/controls",
            "_model_module_version": "1.5.0",
            "value": " 61/? [00:40&lt;00:00,  1.51it/s]",
            "_view_count": null,
            "_view_module_version": "1.5.0",
            "description_tooltip": null,
            "_model_module": "@jupyter-widgets/controls",
            "layout": "IPY_MODEL_2d1b3fcd88434f53afc5fa1550fb176b"
          }
        },
        "a5c7284edbed4beea9112d874ba61d8d": {
          "model_module": "@jupyter-widgets/controls",
          "model_name": "ProgressStyleModel",
          "state": {
            "_view_name": "StyleView",
            "_model_name": "ProgressStyleModel",
            "description_width": "initial",
            "_view_module": "@jupyter-widgets/base",
            "_model_module_version": "1.5.0",
            "_view_count": null,
            "_view_module_version": "1.2.0",
            "bar_color": null,
            "_model_module": "@jupyter-widgets/controls"
          }
        },
        "307e6b0479eb4ffe83077f43bddfdbb3": {
          "model_module": "@jupyter-widgets/base",
          "model_name": "LayoutModel",
          "state": {
            "_view_name": "LayoutView",
            "grid_template_rows": null,
            "right": null,
            "justify_content": null,
            "_view_module": "@jupyter-widgets/base",
            "overflow": null,
            "_model_module_version": "1.2.0",
            "_view_count": null,
            "flex_flow": null,
            "width": null,
            "min_width": null,
            "border": null,
            "align_items": null,
            "bottom": null,
            "_model_module": "@jupyter-widgets/base",
            "top": null,
            "grid_column": null,
            "overflow_y": null,
            "overflow_x": null,
            "grid_auto_flow": null,
            "grid_area": null,
            "grid_template_columns": null,
            "flex": null,
            "_model_name": "LayoutModel",
            "justify_items": null,
            "grid_row": null,
            "max_height": null,
            "align_content": null,
            "visibility": null,
            "align_self": null,
            "height": null,
            "min_height": null,
            "padding": null,
            "grid_auto_rows": null,
            "grid_gap": null,
            "max_width": null,
            "order": null,
            "_view_module_version": "1.2.0",
            "grid_template_areas": null,
            "object_position": null,
            "object_fit": null,
            "grid_auto_columns": null,
            "margin": null,
            "display": null,
            "left": null
          }
        },
        "689ee7001cc6480e872264ff161a9ecf": {
          "model_module": "@jupyter-widgets/controls",
          "model_name": "DescriptionStyleModel",
          "state": {
            "_view_name": "StyleView",
            "_model_name": "DescriptionStyleModel",
            "description_width": "",
            "_view_module": "@jupyter-widgets/base",
            "_model_module_version": "1.5.0",
            "_view_count": null,
            "_view_module_version": "1.2.0",
            "_model_module": "@jupyter-widgets/controls"
          }
        },
        "2d1b3fcd88434f53afc5fa1550fb176b": {
          "model_module": "@jupyter-widgets/base",
          "model_name": "LayoutModel",
          "state": {
            "_view_name": "LayoutView",
            "grid_template_rows": null,
            "right": null,
            "justify_content": null,
            "_view_module": "@jupyter-widgets/base",
            "overflow": null,
            "_model_module_version": "1.2.0",
            "_view_count": null,
            "flex_flow": null,
            "width": null,
            "min_width": null,
            "border": null,
            "align_items": null,
            "bottom": null,
            "_model_module": "@jupyter-widgets/base",
            "top": null,
            "grid_column": null,
            "overflow_y": null,
            "overflow_x": null,
            "grid_auto_flow": null,
            "grid_area": null,
            "grid_template_columns": null,
            "flex": null,
            "_model_name": "LayoutModel",
            "justify_items": null,
            "grid_row": null,
            "max_height": null,
            "align_content": null,
            "visibility": null,
            "align_self": null,
            "height": null,
            "min_height": null,
            "padding": null,
            "grid_auto_rows": null,
            "grid_gap": null,
            "max_width": null,
            "order": null,
            "_view_module_version": "1.2.0",
            "grid_template_areas": null,
            "object_position": null,
            "object_fit": null,
            "grid_auto_columns": null,
            "margin": null,
            "display": null,
            "left": null
          }
        },
        "37f01bcf5a7a448fbaa4b705b7497a28": {
          "model_module": "@jupyter-widgets/controls",
          "model_name": "HBoxModel",
          "state": {
            "_view_name": "HBoxView",
            "_dom_classes": [],
            "_model_name": "HBoxModel",
            "_view_module": "@jupyter-widgets/controls",
            "_model_module_version": "1.5.0",
            "_view_count": null,
            "_view_module_version": "1.5.0",
            "box_style": "",
            "layout": "IPY_MODEL_0f6f00937fbd42d18543eda5d0f55bd5",
            "_model_module": "@jupyter-widgets/controls",
            "children": [
              "IPY_MODEL_903e9707f1494306ab84ff0e38b8e769",
              "IPY_MODEL_ef0dcd3a1dac48d7a1c2b310d78d16d1"
            ]
          }
        },
        "0f6f00937fbd42d18543eda5d0f55bd5": {
          "model_module": "@jupyter-widgets/base",
          "model_name": "LayoutModel",
          "state": {
            "_view_name": "LayoutView",
            "grid_template_rows": null,
            "right": null,
            "justify_content": null,
            "_view_module": "@jupyter-widgets/base",
            "overflow": null,
            "_model_module_version": "1.2.0",
            "_view_count": null,
            "flex_flow": null,
            "width": null,
            "min_width": null,
            "border": null,
            "align_items": null,
            "bottom": null,
            "_model_module": "@jupyter-widgets/base",
            "top": null,
            "grid_column": null,
            "overflow_y": null,
            "overflow_x": null,
            "grid_auto_flow": null,
            "grid_area": null,
            "grid_template_columns": null,
            "flex": null,
            "_model_name": "LayoutModel",
            "justify_items": null,
            "grid_row": null,
            "max_height": null,
            "align_content": null,
            "visibility": null,
            "align_self": null,
            "height": null,
            "min_height": null,
            "padding": null,
            "grid_auto_rows": null,
            "grid_gap": null,
            "max_width": null,
            "order": null,
            "_view_module_version": "1.2.0",
            "grid_template_areas": null,
            "object_position": null,
            "object_fit": null,
            "grid_auto_columns": null,
            "margin": null,
            "display": null,
            "left": null
          }
        },
        "903e9707f1494306ab84ff0e38b8e769": {
          "model_module": "@jupyter-widgets/controls",
          "model_name": "FloatProgressModel",
          "state": {
            "_view_name": "ProgressView",
            "style": "IPY_MODEL_de177bf2ce1b4bd4b1a544b0e583aa4f",
            "_dom_classes": [],
            "description": "100%",
            "_model_name": "FloatProgressModel",
            "bar_style": "success",
            "max": 16,
            "_view_module": "@jupyter-widgets/controls",
            "_model_module_version": "1.5.0",
            "value": 16,
            "_view_count": null,
            "_view_module_version": "1.5.0",
            "orientation": "horizontal",
            "min": 0,
            "description_tooltip": null,
            "_model_module": "@jupyter-widgets/controls",
            "layout": "IPY_MODEL_1fc4a4205fcf421f9c9711fe4eed027b"
          }
        },
        "ef0dcd3a1dac48d7a1c2b310d78d16d1": {
          "model_module": "@jupyter-widgets/controls",
          "model_name": "HTMLModel",
          "state": {
            "_view_name": "HTMLView",
            "style": "IPY_MODEL_b581b8da80054a50866e8397385632a6",
            "_dom_classes": [],
            "description": "",
            "_model_name": "HTMLModel",
            "placeholder": "​",
            "_view_module": "@jupyter-widgets/controls",
            "_model_module_version": "1.5.0",
            "value": " 16/16 [00:03&lt;00:00,  5.18it/s]",
            "_view_count": null,
            "_view_module_version": "1.5.0",
            "description_tooltip": null,
            "_model_module": "@jupyter-widgets/controls",
            "layout": "IPY_MODEL_ee0f9c2671af4dd4978e69be0ca4842f"
          }
        },
        "de177bf2ce1b4bd4b1a544b0e583aa4f": {
          "model_module": "@jupyter-widgets/controls",
          "model_name": "ProgressStyleModel",
          "state": {
            "_view_name": "StyleView",
            "_model_name": "ProgressStyleModel",
            "description_width": "initial",
            "_view_module": "@jupyter-widgets/base",
            "_model_module_version": "1.5.0",
            "_view_count": null,
            "_view_module_version": "1.2.0",
            "bar_color": null,
            "_model_module": "@jupyter-widgets/controls"
          }
        },
        "1fc4a4205fcf421f9c9711fe4eed027b": {
          "model_module": "@jupyter-widgets/base",
          "model_name": "LayoutModel",
          "state": {
            "_view_name": "LayoutView",
            "grid_template_rows": null,
            "right": null,
            "justify_content": null,
            "_view_module": "@jupyter-widgets/base",
            "overflow": null,
            "_model_module_version": "1.2.0",
            "_view_count": null,
            "flex_flow": null,
            "width": null,
            "min_width": null,
            "border": null,
            "align_items": null,
            "bottom": null,
            "_model_module": "@jupyter-widgets/base",
            "top": null,
            "grid_column": null,
            "overflow_y": null,
            "overflow_x": null,
            "grid_auto_flow": null,
            "grid_area": null,
            "grid_template_columns": null,
            "flex": null,
            "_model_name": "LayoutModel",
            "justify_items": null,
            "grid_row": null,
            "max_height": null,
            "align_content": null,
            "visibility": null,
            "align_self": null,
            "height": null,
            "min_height": null,
            "padding": null,
            "grid_auto_rows": null,
            "grid_gap": null,
            "max_width": null,
            "order": null,
            "_view_module_version": "1.2.0",
            "grid_template_areas": null,
            "object_position": null,
            "object_fit": null,
            "grid_auto_columns": null,
            "margin": null,
            "display": null,
            "left": null
          }
        },
        "b581b8da80054a50866e8397385632a6": {
          "model_module": "@jupyter-widgets/controls",
          "model_name": "DescriptionStyleModel",
          "state": {
            "_view_name": "StyleView",
            "_model_name": "DescriptionStyleModel",
            "description_width": "",
            "_view_module": "@jupyter-widgets/base",
            "_model_module_version": "1.5.0",
            "_view_count": null,
            "_view_module_version": "1.2.0",
            "_model_module": "@jupyter-widgets/controls"
          }
        },
        "ee0f9c2671af4dd4978e69be0ca4842f": {
          "model_module": "@jupyter-widgets/base",
          "model_name": "LayoutModel",
          "state": {
            "_view_name": "LayoutView",
            "grid_template_rows": null,
            "right": null,
            "justify_content": null,
            "_view_module": "@jupyter-widgets/base",
            "overflow": null,
            "_model_module_version": "1.2.0",
            "_view_count": null,
            "flex_flow": null,
            "width": null,
            "min_width": null,
            "border": null,
            "align_items": null,
            "bottom": null,
            "_model_module": "@jupyter-widgets/base",
            "top": null,
            "grid_column": null,
            "overflow_y": null,
            "overflow_x": null,
            "grid_auto_flow": null,
            "grid_area": null,
            "grid_template_columns": null,
            "flex": null,
            "_model_name": "LayoutModel",
            "justify_items": null,
            "grid_row": null,
            "max_height": null,
            "align_content": null,
            "visibility": null,
            "align_self": null,
            "height": null,
            "min_height": null,
            "padding": null,
            "grid_auto_rows": null,
            "grid_gap": null,
            "max_width": null,
            "order": null,
            "_view_module_version": "1.2.0",
            "grid_template_areas": null,
            "object_position": null,
            "object_fit": null,
            "grid_auto_columns": null,
            "margin": null,
            "display": null,
            "left": null
          }
        },
        "50ebed7349c142798949df1f7f17aca1": {
          "model_module": "@jupyter-widgets/controls",
          "model_name": "HBoxModel",
          "state": {
            "_view_name": "HBoxView",
            "_dom_classes": [],
            "_model_name": "HBoxModel",
            "_view_module": "@jupyter-widgets/controls",
            "_model_module_version": "1.5.0",
            "_view_count": null,
            "_view_module_version": "1.5.0",
            "box_style": "",
            "layout": "IPY_MODEL_12d5027c52154c6dace4e44c2c7f00c0",
            "_model_module": "@jupyter-widgets/controls",
            "children": [
              "IPY_MODEL_4582a9a42d074000a25983066e4c3fb8",
              "IPY_MODEL_d7b04a66b21d4d049aeb9b2c554d51af"
            ]
          }
        },
        "12d5027c52154c6dace4e44c2c7f00c0": {
          "model_module": "@jupyter-widgets/base",
          "model_name": "LayoutModel",
          "state": {
            "_view_name": "LayoutView",
            "grid_template_rows": null,
            "right": null,
            "justify_content": null,
            "_view_module": "@jupyter-widgets/base",
            "overflow": null,
            "_model_module_version": "1.2.0",
            "_view_count": null,
            "flex_flow": null,
            "width": null,
            "min_width": null,
            "border": null,
            "align_items": null,
            "bottom": null,
            "_model_module": "@jupyter-widgets/base",
            "top": null,
            "grid_column": null,
            "overflow_y": null,
            "overflow_x": null,
            "grid_auto_flow": null,
            "grid_area": null,
            "grid_template_columns": null,
            "flex": null,
            "_model_name": "LayoutModel",
            "justify_items": null,
            "grid_row": null,
            "max_height": null,
            "align_content": null,
            "visibility": null,
            "align_self": null,
            "height": null,
            "min_height": null,
            "padding": null,
            "grid_auto_rows": null,
            "grid_gap": null,
            "max_width": null,
            "order": null,
            "_view_module_version": "1.2.0",
            "grid_template_areas": null,
            "object_position": null,
            "object_fit": null,
            "grid_auto_columns": null,
            "margin": null,
            "display": null,
            "left": null
          }
        },
        "4582a9a42d074000a25983066e4c3fb8": {
          "model_module": "@jupyter-widgets/controls",
          "model_name": "FloatProgressModel",
          "state": {
            "_view_name": "ProgressView",
            "style": "IPY_MODEL_d035d6fa1265410092001b8b95d9d7c7",
            "_dom_classes": [],
            "description": "",
            "_model_name": "FloatProgressModel",
            "bar_style": "success",
            "max": 1,
            "_view_module": "@jupyter-widgets/controls",
            "_model_module_version": "1.5.0",
            "value": 1,
            "_view_count": null,
            "_view_module_version": "1.5.0",
            "orientation": "horizontal",
            "min": 0,
            "description_tooltip": null,
            "_model_module": "@jupyter-widgets/controls",
            "layout": "IPY_MODEL_eb3bc8dd1dac49ec90895f8022475544"
          }
        },
        "d7b04a66b21d4d049aeb9b2c554d51af": {
          "model_module": "@jupyter-widgets/controls",
          "model_name": "HTMLModel",
          "state": {
            "_view_name": "HTMLView",
            "style": "IPY_MODEL_423e99163a524031b2848c2c35f33972",
            "_dom_classes": [],
            "description": "",
            "_model_name": "HTMLModel",
            "placeholder": "​",
            "_view_module": "@jupyter-widgets/controls",
            "_model_module_version": "1.5.0",
            "value": " 61/? [02:01&lt;00:00,  1.99s/it]",
            "_view_count": null,
            "_view_module_version": "1.5.0",
            "description_tooltip": null,
            "_model_module": "@jupyter-widgets/controls",
            "layout": "IPY_MODEL_ba65b8ec39ed46e28c65a5f30819b5c2"
          }
        },
        "d035d6fa1265410092001b8b95d9d7c7": {
          "model_module": "@jupyter-widgets/controls",
          "model_name": "ProgressStyleModel",
          "state": {
            "_view_name": "StyleView",
            "_model_name": "ProgressStyleModel",
            "description_width": "initial",
            "_view_module": "@jupyter-widgets/base",
            "_model_module_version": "1.5.0",
            "_view_count": null,
            "_view_module_version": "1.2.0",
            "bar_color": null,
            "_model_module": "@jupyter-widgets/controls"
          }
        },
        "eb3bc8dd1dac49ec90895f8022475544": {
          "model_module": "@jupyter-widgets/base",
          "model_name": "LayoutModel",
          "state": {
            "_view_name": "LayoutView",
            "grid_template_rows": null,
            "right": null,
            "justify_content": null,
            "_view_module": "@jupyter-widgets/base",
            "overflow": null,
            "_model_module_version": "1.2.0",
            "_view_count": null,
            "flex_flow": null,
            "width": null,
            "min_width": null,
            "border": null,
            "align_items": null,
            "bottom": null,
            "_model_module": "@jupyter-widgets/base",
            "top": null,
            "grid_column": null,
            "overflow_y": null,
            "overflow_x": null,
            "grid_auto_flow": null,
            "grid_area": null,
            "grid_template_columns": null,
            "flex": null,
            "_model_name": "LayoutModel",
            "justify_items": null,
            "grid_row": null,
            "max_height": null,
            "align_content": null,
            "visibility": null,
            "align_self": null,
            "height": null,
            "min_height": null,
            "padding": null,
            "grid_auto_rows": null,
            "grid_gap": null,
            "max_width": null,
            "order": null,
            "_view_module_version": "1.2.0",
            "grid_template_areas": null,
            "object_position": null,
            "object_fit": null,
            "grid_auto_columns": null,
            "margin": null,
            "display": null,
            "left": null
          }
        },
        "423e99163a524031b2848c2c35f33972": {
          "model_module": "@jupyter-widgets/controls",
          "model_name": "DescriptionStyleModel",
          "state": {
            "_view_name": "StyleView",
            "_model_name": "DescriptionStyleModel",
            "description_width": "",
            "_view_module": "@jupyter-widgets/base",
            "_model_module_version": "1.5.0",
            "_view_count": null,
            "_view_module_version": "1.2.0",
            "_model_module": "@jupyter-widgets/controls"
          }
        },
        "ba65b8ec39ed46e28c65a5f30819b5c2": {
          "model_module": "@jupyter-widgets/base",
          "model_name": "LayoutModel",
          "state": {
            "_view_name": "LayoutView",
            "grid_template_rows": null,
            "right": null,
            "justify_content": null,
            "_view_module": "@jupyter-widgets/base",
            "overflow": null,
            "_model_module_version": "1.2.0",
            "_view_count": null,
            "flex_flow": null,
            "width": null,
            "min_width": null,
            "border": null,
            "align_items": null,
            "bottom": null,
            "_model_module": "@jupyter-widgets/base",
            "top": null,
            "grid_column": null,
            "overflow_y": null,
            "overflow_x": null,
            "grid_auto_flow": null,
            "grid_area": null,
            "grid_template_columns": null,
            "flex": null,
            "_model_name": "LayoutModel",
            "justify_items": null,
            "grid_row": null,
            "max_height": null,
            "align_content": null,
            "visibility": null,
            "align_self": null,
            "height": null,
            "min_height": null,
            "padding": null,
            "grid_auto_rows": null,
            "grid_gap": null,
            "max_width": null,
            "order": null,
            "_view_module_version": "1.2.0",
            "grid_template_areas": null,
            "object_position": null,
            "object_fit": null,
            "grid_auto_columns": null,
            "margin": null,
            "display": null,
            "left": null
          }
        },
        "657f7d2f860a4580a6e269cd853e6178": {
          "model_module": "@jupyter-widgets/controls",
          "model_name": "HBoxModel",
          "state": {
            "_view_name": "HBoxView",
            "_dom_classes": [],
            "_model_name": "HBoxModel",
            "_view_module": "@jupyter-widgets/controls",
            "_model_module_version": "1.5.0",
            "_view_count": null,
            "_view_module_version": "1.5.0",
            "box_style": "",
            "layout": "IPY_MODEL_aaa9cd59bdd14274a52827f1e187f27a",
            "_model_module": "@jupyter-widgets/controls",
            "children": [
              "IPY_MODEL_6e1006a97c6347419a42c860f41387ef",
              "IPY_MODEL_ccfbe7b2664d49e4aa06243ccf5eedb1"
            ]
          }
        },
        "aaa9cd59bdd14274a52827f1e187f27a": {
          "model_module": "@jupyter-widgets/base",
          "model_name": "LayoutModel",
          "state": {
            "_view_name": "LayoutView",
            "grid_template_rows": null,
            "right": null,
            "justify_content": null,
            "_view_module": "@jupyter-widgets/base",
            "overflow": null,
            "_model_module_version": "1.2.0",
            "_view_count": null,
            "flex_flow": null,
            "width": null,
            "min_width": null,
            "border": null,
            "align_items": null,
            "bottom": null,
            "_model_module": "@jupyter-widgets/base",
            "top": null,
            "grid_column": null,
            "overflow_y": null,
            "overflow_x": null,
            "grid_auto_flow": null,
            "grid_area": null,
            "grid_template_columns": null,
            "flex": null,
            "_model_name": "LayoutModel",
            "justify_items": null,
            "grid_row": null,
            "max_height": null,
            "align_content": null,
            "visibility": null,
            "align_self": null,
            "height": null,
            "min_height": null,
            "padding": null,
            "grid_auto_rows": null,
            "grid_gap": null,
            "max_width": null,
            "order": null,
            "_view_module_version": "1.2.0",
            "grid_template_areas": null,
            "object_position": null,
            "object_fit": null,
            "grid_auto_columns": null,
            "margin": null,
            "display": null,
            "left": null
          }
        },
        "6e1006a97c6347419a42c860f41387ef": {
          "model_module": "@jupyter-widgets/controls",
          "model_name": "FloatProgressModel",
          "state": {
            "_view_name": "ProgressView",
            "style": "IPY_MODEL_2b5b66ff65be4fdb819f7156594d7c41",
            "_dom_classes": [],
            "description": "100%",
            "_model_name": "FloatProgressModel",
            "bar_style": "success",
            "max": 16,
            "_view_module": "@jupyter-widgets/controls",
            "_model_module_version": "1.5.0",
            "value": 16,
            "_view_count": null,
            "_view_module_version": "1.5.0",
            "orientation": "horizontal",
            "min": 0,
            "description_tooltip": null,
            "_model_module": "@jupyter-widgets/controls",
            "layout": "IPY_MODEL_6da6b62e91cc4f01a0685d91c32f9a30"
          }
        },
        "ccfbe7b2664d49e4aa06243ccf5eedb1": {
          "model_module": "@jupyter-widgets/controls",
          "model_name": "HTMLModel",
          "state": {
            "_view_name": "HTMLView",
            "style": "IPY_MODEL_a9adb78f9e004f4494cfa2c7082d6611",
            "_dom_classes": [],
            "description": "",
            "_model_name": "HTMLModel",
            "placeholder": "​",
            "_view_module": "@jupyter-widgets/controls",
            "_model_module_version": "1.5.0",
            "value": " 16/16 [00:14&lt;00:00,  1.12it/s]",
            "_view_count": null,
            "_view_module_version": "1.5.0",
            "description_tooltip": null,
            "_model_module": "@jupyter-widgets/controls",
            "layout": "IPY_MODEL_7f078f130a1141798c7c815f03ab649c"
          }
        },
        "2b5b66ff65be4fdb819f7156594d7c41": {
          "model_module": "@jupyter-widgets/controls",
          "model_name": "ProgressStyleModel",
          "state": {
            "_view_name": "StyleView",
            "_model_name": "ProgressStyleModel",
            "description_width": "initial",
            "_view_module": "@jupyter-widgets/base",
            "_model_module_version": "1.5.0",
            "_view_count": null,
            "_view_module_version": "1.2.0",
            "bar_color": null,
            "_model_module": "@jupyter-widgets/controls"
          }
        },
        "6da6b62e91cc4f01a0685d91c32f9a30": {
          "model_module": "@jupyter-widgets/base",
          "model_name": "LayoutModel",
          "state": {
            "_view_name": "LayoutView",
            "grid_template_rows": null,
            "right": null,
            "justify_content": null,
            "_view_module": "@jupyter-widgets/base",
            "overflow": null,
            "_model_module_version": "1.2.0",
            "_view_count": null,
            "flex_flow": null,
            "width": null,
            "min_width": null,
            "border": null,
            "align_items": null,
            "bottom": null,
            "_model_module": "@jupyter-widgets/base",
            "top": null,
            "grid_column": null,
            "overflow_y": null,
            "overflow_x": null,
            "grid_auto_flow": null,
            "grid_area": null,
            "grid_template_columns": null,
            "flex": null,
            "_model_name": "LayoutModel",
            "justify_items": null,
            "grid_row": null,
            "max_height": null,
            "align_content": null,
            "visibility": null,
            "align_self": null,
            "height": null,
            "min_height": null,
            "padding": null,
            "grid_auto_rows": null,
            "grid_gap": null,
            "max_width": null,
            "order": null,
            "_view_module_version": "1.2.0",
            "grid_template_areas": null,
            "object_position": null,
            "object_fit": null,
            "grid_auto_columns": null,
            "margin": null,
            "display": null,
            "left": null
          }
        },
        "a9adb78f9e004f4494cfa2c7082d6611": {
          "model_module": "@jupyter-widgets/controls",
          "model_name": "DescriptionStyleModel",
          "state": {
            "_view_name": "StyleView",
            "_model_name": "DescriptionStyleModel",
            "description_width": "",
            "_view_module": "@jupyter-widgets/base",
            "_model_module_version": "1.5.0",
            "_view_count": null,
            "_view_module_version": "1.2.0",
            "_model_module": "@jupyter-widgets/controls"
          }
        },
        "7f078f130a1141798c7c815f03ab649c": {
          "model_module": "@jupyter-widgets/base",
          "model_name": "LayoutModel",
          "state": {
            "_view_name": "LayoutView",
            "grid_template_rows": null,
            "right": null,
            "justify_content": null,
            "_view_module": "@jupyter-widgets/base",
            "overflow": null,
            "_model_module_version": "1.2.0",
            "_view_count": null,
            "flex_flow": null,
            "width": null,
            "min_width": null,
            "border": null,
            "align_items": null,
            "bottom": null,
            "_model_module": "@jupyter-widgets/base",
            "top": null,
            "grid_column": null,
            "overflow_y": null,
            "overflow_x": null,
            "grid_auto_flow": null,
            "grid_area": null,
            "grid_template_columns": null,
            "flex": null,
            "_model_name": "LayoutModel",
            "justify_items": null,
            "grid_row": null,
            "max_height": null,
            "align_content": null,
            "visibility": null,
            "align_self": null,
            "height": null,
            "min_height": null,
            "padding": null,
            "grid_auto_rows": null,
            "grid_gap": null,
            "max_width": null,
            "order": null,
            "_view_module_version": "1.2.0",
            "grid_template_areas": null,
            "object_position": null,
            "object_fit": null,
            "grid_auto_columns": null,
            "margin": null,
            "display": null,
            "left": null
          }
        },
        "3d1df0dfebdb453f9a5b6e24d76c1790": {
          "model_module": "@jupyter-widgets/controls",
          "model_name": "HBoxModel",
          "state": {
            "_view_name": "HBoxView",
            "_dom_classes": [],
            "_model_name": "HBoxModel",
            "_view_module": "@jupyter-widgets/controls",
            "_model_module_version": "1.5.0",
            "_view_count": null,
            "_view_module_version": "1.5.0",
            "box_style": "",
            "layout": "IPY_MODEL_112d4f49db8d453c95391fada7cbef7a",
            "_model_module": "@jupyter-widgets/controls",
            "children": [
              "IPY_MODEL_b36fe9852ce84779b97721f3279e28c1",
              "IPY_MODEL_fe928c737c2b4bc2bafb823afe0cadc0"
            ]
          }
        },
        "112d4f49db8d453c95391fada7cbef7a": {
          "model_module": "@jupyter-widgets/base",
          "model_name": "LayoutModel",
          "state": {
            "_view_name": "LayoutView",
            "grid_template_rows": null,
            "right": null,
            "justify_content": null,
            "_view_module": "@jupyter-widgets/base",
            "overflow": null,
            "_model_module_version": "1.2.0",
            "_view_count": null,
            "flex_flow": null,
            "width": null,
            "min_width": null,
            "border": null,
            "align_items": null,
            "bottom": null,
            "_model_module": "@jupyter-widgets/base",
            "top": null,
            "grid_column": null,
            "overflow_y": null,
            "overflow_x": null,
            "grid_auto_flow": null,
            "grid_area": null,
            "grid_template_columns": null,
            "flex": null,
            "_model_name": "LayoutModel",
            "justify_items": null,
            "grid_row": null,
            "max_height": null,
            "align_content": null,
            "visibility": null,
            "align_self": null,
            "height": null,
            "min_height": null,
            "padding": null,
            "grid_auto_rows": null,
            "grid_gap": null,
            "max_width": null,
            "order": null,
            "_view_module_version": "1.2.0",
            "grid_template_areas": null,
            "object_position": null,
            "object_fit": null,
            "grid_auto_columns": null,
            "margin": null,
            "display": null,
            "left": null
          }
        },
        "b36fe9852ce84779b97721f3279e28c1": {
          "model_module": "@jupyter-widgets/controls",
          "model_name": "FloatProgressModel",
          "state": {
            "_view_name": "ProgressView",
            "style": "IPY_MODEL_81283bd2117b4d3a906584277ee61d86",
            "_dom_classes": [],
            "description": "",
            "_model_name": "FloatProgressModel",
            "bar_style": "success",
            "max": 1,
            "_view_module": "@jupyter-widgets/controls",
            "_model_module_version": "1.5.0",
            "value": 1,
            "_view_count": null,
            "_view_module_version": "1.5.0",
            "orientation": "horizontal",
            "min": 0,
            "description_tooltip": null,
            "_model_module": "@jupyter-widgets/controls",
            "layout": "IPY_MODEL_2c25aff6568c45c68b581c9c7930a624"
          }
        },
        "fe928c737c2b4bc2bafb823afe0cadc0": {
          "model_module": "@jupyter-widgets/controls",
          "model_name": "HTMLModel",
          "state": {
            "_view_name": "HTMLView",
            "style": "IPY_MODEL_99e2d5dba2e84663a0f138876ae1efed",
            "_dom_classes": [],
            "description": "",
            "_model_name": "HTMLModel",
            "placeholder": "​",
            "_view_module": "@jupyter-widgets/controls",
            "_model_module_version": "1.5.0",
            "value": " 61/? [01:21&lt;00:00,  1.33s/it]",
            "_view_count": null,
            "_view_module_version": "1.5.0",
            "description_tooltip": null,
            "_model_module": "@jupyter-widgets/controls",
            "layout": "IPY_MODEL_3e8d4c114adc4ed7b444b8d4c3e8e22a"
          }
        },
        "81283bd2117b4d3a906584277ee61d86": {
          "model_module": "@jupyter-widgets/controls",
          "model_name": "ProgressStyleModel",
          "state": {
            "_view_name": "StyleView",
            "_model_name": "ProgressStyleModel",
            "description_width": "initial",
            "_view_module": "@jupyter-widgets/base",
            "_model_module_version": "1.5.0",
            "_view_count": null,
            "_view_module_version": "1.2.0",
            "bar_color": null,
            "_model_module": "@jupyter-widgets/controls"
          }
        },
        "2c25aff6568c45c68b581c9c7930a624": {
          "model_module": "@jupyter-widgets/base",
          "model_name": "LayoutModel",
          "state": {
            "_view_name": "LayoutView",
            "grid_template_rows": null,
            "right": null,
            "justify_content": null,
            "_view_module": "@jupyter-widgets/base",
            "overflow": null,
            "_model_module_version": "1.2.0",
            "_view_count": null,
            "flex_flow": null,
            "width": null,
            "min_width": null,
            "border": null,
            "align_items": null,
            "bottom": null,
            "_model_module": "@jupyter-widgets/base",
            "top": null,
            "grid_column": null,
            "overflow_y": null,
            "overflow_x": null,
            "grid_auto_flow": null,
            "grid_area": null,
            "grid_template_columns": null,
            "flex": null,
            "_model_name": "LayoutModel",
            "justify_items": null,
            "grid_row": null,
            "max_height": null,
            "align_content": null,
            "visibility": null,
            "align_self": null,
            "height": null,
            "min_height": null,
            "padding": null,
            "grid_auto_rows": null,
            "grid_gap": null,
            "max_width": null,
            "order": null,
            "_view_module_version": "1.2.0",
            "grid_template_areas": null,
            "object_position": null,
            "object_fit": null,
            "grid_auto_columns": null,
            "margin": null,
            "display": null,
            "left": null
          }
        },
        "99e2d5dba2e84663a0f138876ae1efed": {
          "model_module": "@jupyter-widgets/controls",
          "model_name": "DescriptionStyleModel",
          "state": {
            "_view_name": "StyleView",
            "_model_name": "DescriptionStyleModel",
            "description_width": "",
            "_view_module": "@jupyter-widgets/base",
            "_model_module_version": "1.5.0",
            "_view_count": null,
            "_view_module_version": "1.2.0",
            "_model_module": "@jupyter-widgets/controls"
          }
        },
        "3e8d4c114adc4ed7b444b8d4c3e8e22a": {
          "model_module": "@jupyter-widgets/base",
          "model_name": "LayoutModel",
          "state": {
            "_view_name": "LayoutView",
            "grid_template_rows": null,
            "right": null,
            "justify_content": null,
            "_view_module": "@jupyter-widgets/base",
            "overflow": null,
            "_model_module_version": "1.2.0",
            "_view_count": null,
            "flex_flow": null,
            "width": null,
            "min_width": null,
            "border": null,
            "align_items": null,
            "bottom": null,
            "_model_module": "@jupyter-widgets/base",
            "top": null,
            "grid_column": null,
            "overflow_y": null,
            "overflow_x": null,
            "grid_auto_flow": null,
            "grid_area": null,
            "grid_template_columns": null,
            "flex": null,
            "_model_name": "LayoutModel",
            "justify_items": null,
            "grid_row": null,
            "max_height": null,
            "align_content": null,
            "visibility": null,
            "align_self": null,
            "height": null,
            "min_height": null,
            "padding": null,
            "grid_auto_rows": null,
            "grid_gap": null,
            "max_width": null,
            "order": null,
            "_view_module_version": "1.2.0",
            "grid_template_areas": null,
            "object_position": null,
            "object_fit": null,
            "grid_auto_columns": null,
            "margin": null,
            "display": null,
            "left": null
          }
        },
        "4c07150341204d87986a239253ac0fe5": {
          "model_module": "@jupyter-widgets/controls",
          "model_name": "HBoxModel",
          "state": {
            "_view_name": "HBoxView",
            "_dom_classes": [],
            "_model_name": "HBoxModel",
            "_view_module": "@jupyter-widgets/controls",
            "_model_module_version": "1.5.0",
            "_view_count": null,
            "_view_module_version": "1.5.0",
            "box_style": "",
            "layout": "IPY_MODEL_d683c653d8fb4bd6a1dd0b6261883ae1",
            "_model_module": "@jupyter-widgets/controls",
            "children": [
              "IPY_MODEL_7cd063a2d7704c7ea8e7e702ed860c4c",
              "IPY_MODEL_2c2491b372174428a5584abbe79d9650"
            ]
          }
        },
        "d683c653d8fb4bd6a1dd0b6261883ae1": {
          "model_module": "@jupyter-widgets/base",
          "model_name": "LayoutModel",
          "state": {
            "_view_name": "LayoutView",
            "grid_template_rows": null,
            "right": null,
            "justify_content": null,
            "_view_module": "@jupyter-widgets/base",
            "overflow": null,
            "_model_module_version": "1.2.0",
            "_view_count": null,
            "flex_flow": null,
            "width": null,
            "min_width": null,
            "border": null,
            "align_items": null,
            "bottom": null,
            "_model_module": "@jupyter-widgets/base",
            "top": null,
            "grid_column": null,
            "overflow_y": null,
            "overflow_x": null,
            "grid_auto_flow": null,
            "grid_area": null,
            "grid_template_columns": null,
            "flex": null,
            "_model_name": "LayoutModel",
            "justify_items": null,
            "grid_row": null,
            "max_height": null,
            "align_content": null,
            "visibility": null,
            "align_self": null,
            "height": null,
            "min_height": null,
            "padding": null,
            "grid_auto_rows": null,
            "grid_gap": null,
            "max_width": null,
            "order": null,
            "_view_module_version": "1.2.0",
            "grid_template_areas": null,
            "object_position": null,
            "object_fit": null,
            "grid_auto_columns": null,
            "margin": null,
            "display": null,
            "left": null
          }
        },
        "7cd063a2d7704c7ea8e7e702ed860c4c": {
          "model_module": "@jupyter-widgets/controls",
          "model_name": "FloatProgressModel",
          "state": {
            "_view_name": "ProgressView",
            "style": "IPY_MODEL_97ef34ae68ce4397ad78fbb5b13af192",
            "_dom_classes": [],
            "description": "100%",
            "_model_name": "FloatProgressModel",
            "bar_style": "success",
            "max": 16,
            "_view_module": "@jupyter-widgets/controls",
            "_model_module_version": "1.5.0",
            "value": 16,
            "_view_count": null,
            "_view_module_version": "1.5.0",
            "orientation": "horizontal",
            "min": 0,
            "description_tooltip": null,
            "_model_module": "@jupyter-widgets/controls",
            "layout": "IPY_MODEL_160597f1cb184567b7fc0861e813f205"
          }
        },
        "2c2491b372174428a5584abbe79d9650": {
          "model_module": "@jupyter-widgets/controls",
          "model_name": "HTMLModel",
          "state": {
            "_view_name": "HTMLView",
            "style": "IPY_MODEL_ff49434f6781453ebc306b5354cd6289",
            "_dom_classes": [],
            "description": "",
            "_model_name": "HTMLModel",
            "placeholder": "​",
            "_view_module": "@jupyter-widgets/controls",
            "_model_module_version": "1.5.0",
            "value": " 16/16 [00:40&lt;00:00,  2.51s/it]",
            "_view_count": null,
            "_view_module_version": "1.5.0",
            "description_tooltip": null,
            "_model_module": "@jupyter-widgets/controls",
            "layout": "IPY_MODEL_73cf70bf382d4542884dfa42a84b3043"
          }
        },
        "97ef34ae68ce4397ad78fbb5b13af192": {
          "model_module": "@jupyter-widgets/controls",
          "model_name": "ProgressStyleModel",
          "state": {
            "_view_name": "StyleView",
            "_model_name": "ProgressStyleModel",
            "description_width": "initial",
            "_view_module": "@jupyter-widgets/base",
            "_model_module_version": "1.5.0",
            "_view_count": null,
            "_view_module_version": "1.2.0",
            "bar_color": null,
            "_model_module": "@jupyter-widgets/controls"
          }
        },
        "160597f1cb184567b7fc0861e813f205": {
          "model_module": "@jupyter-widgets/base",
          "model_name": "LayoutModel",
          "state": {
            "_view_name": "LayoutView",
            "grid_template_rows": null,
            "right": null,
            "justify_content": null,
            "_view_module": "@jupyter-widgets/base",
            "overflow": null,
            "_model_module_version": "1.2.0",
            "_view_count": null,
            "flex_flow": null,
            "width": null,
            "min_width": null,
            "border": null,
            "align_items": null,
            "bottom": null,
            "_model_module": "@jupyter-widgets/base",
            "top": null,
            "grid_column": null,
            "overflow_y": null,
            "overflow_x": null,
            "grid_auto_flow": null,
            "grid_area": null,
            "grid_template_columns": null,
            "flex": null,
            "_model_name": "LayoutModel",
            "justify_items": null,
            "grid_row": null,
            "max_height": null,
            "align_content": null,
            "visibility": null,
            "align_self": null,
            "height": null,
            "min_height": null,
            "padding": null,
            "grid_auto_rows": null,
            "grid_gap": null,
            "max_width": null,
            "order": null,
            "_view_module_version": "1.2.0",
            "grid_template_areas": null,
            "object_position": null,
            "object_fit": null,
            "grid_auto_columns": null,
            "margin": null,
            "display": null,
            "left": null
          }
        },
        "ff49434f6781453ebc306b5354cd6289": {
          "model_module": "@jupyter-widgets/controls",
          "model_name": "DescriptionStyleModel",
          "state": {
            "_view_name": "StyleView",
            "_model_name": "DescriptionStyleModel",
            "description_width": "",
            "_view_module": "@jupyter-widgets/base",
            "_model_module_version": "1.5.0",
            "_view_count": null,
            "_view_module_version": "1.2.0",
            "_model_module": "@jupyter-widgets/controls"
          }
        },
        "73cf70bf382d4542884dfa42a84b3043": {
          "model_module": "@jupyter-widgets/base",
          "model_name": "LayoutModel",
          "state": {
            "_view_name": "LayoutView",
            "grid_template_rows": null,
            "right": null,
            "justify_content": null,
            "_view_module": "@jupyter-widgets/base",
            "overflow": null,
            "_model_module_version": "1.2.0",
            "_view_count": null,
            "flex_flow": null,
            "width": null,
            "min_width": null,
            "border": null,
            "align_items": null,
            "bottom": null,
            "_model_module": "@jupyter-widgets/base",
            "top": null,
            "grid_column": null,
            "overflow_y": null,
            "overflow_x": null,
            "grid_auto_flow": null,
            "grid_area": null,
            "grid_template_columns": null,
            "flex": null,
            "_model_name": "LayoutModel",
            "justify_items": null,
            "grid_row": null,
            "max_height": null,
            "align_content": null,
            "visibility": null,
            "align_self": null,
            "height": null,
            "min_height": null,
            "padding": null,
            "grid_auto_rows": null,
            "grid_gap": null,
            "max_width": null,
            "order": null,
            "_view_module_version": "1.2.0",
            "grid_template_areas": null,
            "object_position": null,
            "object_fit": null,
            "grid_auto_columns": null,
            "margin": null,
            "display": null,
            "left": null
          }
        },
        "9afab85b2a674d99bbc6a01960ba6797": {
          "model_module": "@jupyter-widgets/controls",
          "model_name": "HBoxModel",
          "state": {
            "_view_name": "HBoxView",
            "_dom_classes": [],
            "_model_name": "HBoxModel",
            "_view_module": "@jupyter-widgets/controls",
            "_model_module_version": "1.5.0",
            "_view_count": null,
            "_view_module_version": "1.5.0",
            "box_style": "",
            "layout": "IPY_MODEL_eac1b0196dfe45dfbee6c7c2e4782c79",
            "_model_module": "@jupyter-widgets/controls",
            "children": [
              "IPY_MODEL_12d2e466abe542c19e1965c36e736e32",
              "IPY_MODEL_d2f2f7d88972435aa40bf14acce457fe"
            ]
          }
        },
        "eac1b0196dfe45dfbee6c7c2e4782c79": {
          "model_module": "@jupyter-widgets/base",
          "model_name": "LayoutModel",
          "state": {
            "_view_name": "LayoutView",
            "grid_template_rows": null,
            "right": null,
            "justify_content": null,
            "_view_module": "@jupyter-widgets/base",
            "overflow": null,
            "_model_module_version": "1.2.0",
            "_view_count": null,
            "flex_flow": null,
            "width": null,
            "min_width": null,
            "border": null,
            "align_items": null,
            "bottom": null,
            "_model_module": "@jupyter-widgets/base",
            "top": null,
            "grid_column": null,
            "overflow_y": null,
            "overflow_x": null,
            "grid_auto_flow": null,
            "grid_area": null,
            "grid_template_columns": null,
            "flex": null,
            "_model_name": "LayoutModel",
            "justify_items": null,
            "grid_row": null,
            "max_height": null,
            "align_content": null,
            "visibility": null,
            "align_self": null,
            "height": null,
            "min_height": null,
            "padding": null,
            "grid_auto_rows": null,
            "grid_gap": null,
            "max_width": null,
            "order": null,
            "_view_module_version": "1.2.0",
            "grid_template_areas": null,
            "object_position": null,
            "object_fit": null,
            "grid_auto_columns": null,
            "margin": null,
            "display": null,
            "left": null
          }
        },
        "12d2e466abe542c19e1965c36e736e32": {
          "model_module": "@jupyter-widgets/controls",
          "model_name": "FloatProgressModel",
          "state": {
            "_view_name": "ProgressView",
            "style": "IPY_MODEL_d39bb347c10440ee81a42d06a69914e9",
            "_dom_classes": [],
            "description": "",
            "_model_name": "FloatProgressModel",
            "bar_style": "success",
            "max": 1,
            "_view_module": "@jupyter-widgets/controls",
            "_model_module_version": "1.5.0",
            "value": 1,
            "_view_count": null,
            "_view_module_version": "1.5.0",
            "orientation": "horizontal",
            "min": 0,
            "description_tooltip": null,
            "_model_module": "@jupyter-widgets/controls",
            "layout": "IPY_MODEL_63cb5efc4ff84ab486b24b82bebb7b7f"
          }
        },
        "d2f2f7d88972435aa40bf14acce457fe": {
          "model_module": "@jupyter-widgets/controls",
          "model_name": "HTMLModel",
          "state": {
            "_view_name": "HTMLView",
            "style": "IPY_MODEL_5bae10e7aea54ad88eccf9b4a856d871",
            "_dom_classes": [],
            "description": "",
            "_model_name": "HTMLModel",
            "placeholder": "​",
            "_view_module": "@jupyter-widgets/controls",
            "_model_module_version": "1.5.0",
            "value": " 61/? [00:40&lt;00:00,  1.51it/s]",
            "_view_count": null,
            "_view_module_version": "1.5.0",
            "description_tooltip": null,
            "_model_module": "@jupyter-widgets/controls",
            "layout": "IPY_MODEL_388cf5878343436096ef028f6cb0a954"
          }
        },
        "d39bb347c10440ee81a42d06a69914e9": {
          "model_module": "@jupyter-widgets/controls",
          "model_name": "ProgressStyleModel",
          "state": {
            "_view_name": "StyleView",
            "_model_name": "ProgressStyleModel",
            "description_width": "initial",
            "_view_module": "@jupyter-widgets/base",
            "_model_module_version": "1.5.0",
            "_view_count": null,
            "_view_module_version": "1.2.0",
            "bar_color": null,
            "_model_module": "@jupyter-widgets/controls"
          }
        },
        "63cb5efc4ff84ab486b24b82bebb7b7f": {
          "model_module": "@jupyter-widgets/base",
          "model_name": "LayoutModel",
          "state": {
            "_view_name": "LayoutView",
            "grid_template_rows": null,
            "right": null,
            "justify_content": null,
            "_view_module": "@jupyter-widgets/base",
            "overflow": null,
            "_model_module_version": "1.2.0",
            "_view_count": null,
            "flex_flow": null,
            "width": null,
            "min_width": null,
            "border": null,
            "align_items": null,
            "bottom": null,
            "_model_module": "@jupyter-widgets/base",
            "top": null,
            "grid_column": null,
            "overflow_y": null,
            "overflow_x": null,
            "grid_auto_flow": null,
            "grid_area": null,
            "grid_template_columns": null,
            "flex": null,
            "_model_name": "LayoutModel",
            "justify_items": null,
            "grid_row": null,
            "max_height": null,
            "align_content": null,
            "visibility": null,
            "align_self": null,
            "height": null,
            "min_height": null,
            "padding": null,
            "grid_auto_rows": null,
            "grid_gap": null,
            "max_width": null,
            "order": null,
            "_view_module_version": "1.2.0",
            "grid_template_areas": null,
            "object_position": null,
            "object_fit": null,
            "grid_auto_columns": null,
            "margin": null,
            "display": null,
            "left": null
          }
        },
        "5bae10e7aea54ad88eccf9b4a856d871": {
          "model_module": "@jupyter-widgets/controls",
          "model_name": "DescriptionStyleModel",
          "state": {
            "_view_name": "StyleView",
            "_model_name": "DescriptionStyleModel",
            "description_width": "",
            "_view_module": "@jupyter-widgets/base",
            "_model_module_version": "1.5.0",
            "_view_count": null,
            "_view_module_version": "1.2.0",
            "_model_module": "@jupyter-widgets/controls"
          }
        },
        "388cf5878343436096ef028f6cb0a954": {
          "model_module": "@jupyter-widgets/base",
          "model_name": "LayoutModel",
          "state": {
            "_view_name": "LayoutView",
            "grid_template_rows": null,
            "right": null,
            "justify_content": null,
            "_view_module": "@jupyter-widgets/base",
            "overflow": null,
            "_model_module_version": "1.2.0",
            "_view_count": null,
            "flex_flow": null,
            "width": null,
            "min_width": null,
            "border": null,
            "align_items": null,
            "bottom": null,
            "_model_module": "@jupyter-widgets/base",
            "top": null,
            "grid_column": null,
            "overflow_y": null,
            "overflow_x": null,
            "grid_auto_flow": null,
            "grid_area": null,
            "grid_template_columns": null,
            "flex": null,
            "_model_name": "LayoutModel",
            "justify_items": null,
            "grid_row": null,
            "max_height": null,
            "align_content": null,
            "visibility": null,
            "align_self": null,
            "height": null,
            "min_height": null,
            "padding": null,
            "grid_auto_rows": null,
            "grid_gap": null,
            "max_width": null,
            "order": null,
            "_view_module_version": "1.2.0",
            "grid_template_areas": null,
            "object_position": null,
            "object_fit": null,
            "grid_auto_columns": null,
            "margin": null,
            "display": null,
            "left": null
          }
        },
        "fa840b1baae44aafaeca0135a6d3d76c": {
          "model_module": "@jupyter-widgets/controls",
          "model_name": "HBoxModel",
          "state": {
            "_view_name": "HBoxView",
            "_dom_classes": [],
            "_model_name": "HBoxModel",
            "_view_module": "@jupyter-widgets/controls",
            "_model_module_version": "1.5.0",
            "_view_count": null,
            "_view_module_version": "1.5.0",
            "box_style": "",
            "layout": "IPY_MODEL_89a3ac47ef0242cda547bfec31949e13",
            "_model_module": "@jupyter-widgets/controls",
            "children": [
              "IPY_MODEL_5d746ace87864003a3bdd81412dc3447",
              "IPY_MODEL_f4bb0cf8f0d9445ebc87556a8427f1f8"
            ]
          }
        },
        "89a3ac47ef0242cda547bfec31949e13": {
          "model_module": "@jupyter-widgets/base",
          "model_name": "LayoutModel",
          "state": {
            "_view_name": "LayoutView",
            "grid_template_rows": null,
            "right": null,
            "justify_content": null,
            "_view_module": "@jupyter-widgets/base",
            "overflow": null,
            "_model_module_version": "1.2.0",
            "_view_count": null,
            "flex_flow": null,
            "width": null,
            "min_width": null,
            "border": null,
            "align_items": null,
            "bottom": null,
            "_model_module": "@jupyter-widgets/base",
            "top": null,
            "grid_column": null,
            "overflow_y": null,
            "overflow_x": null,
            "grid_auto_flow": null,
            "grid_area": null,
            "grid_template_columns": null,
            "flex": null,
            "_model_name": "LayoutModel",
            "justify_items": null,
            "grid_row": null,
            "max_height": null,
            "align_content": null,
            "visibility": null,
            "align_self": null,
            "height": null,
            "min_height": null,
            "padding": null,
            "grid_auto_rows": null,
            "grid_gap": null,
            "max_width": null,
            "order": null,
            "_view_module_version": "1.2.0",
            "grid_template_areas": null,
            "object_position": null,
            "object_fit": null,
            "grid_auto_columns": null,
            "margin": null,
            "display": null,
            "left": null
          }
        },
        "5d746ace87864003a3bdd81412dc3447": {
          "model_module": "@jupyter-widgets/controls",
          "model_name": "FloatProgressModel",
          "state": {
            "_view_name": "ProgressView",
            "style": "IPY_MODEL_1f6c407025374195b6c1734f7a496bd3",
            "_dom_classes": [],
            "description": "100%",
            "_model_name": "FloatProgressModel",
            "bar_style": "success",
            "max": 16,
            "_view_module": "@jupyter-widgets/controls",
            "_model_module_version": "1.5.0",
            "value": 16,
            "_view_count": null,
            "_view_module_version": "1.5.0",
            "orientation": "horizontal",
            "min": 0,
            "description_tooltip": null,
            "_model_module": "@jupyter-widgets/controls",
            "layout": "IPY_MODEL_61225230803c434797b8e492181f4531"
          }
        },
        "f4bb0cf8f0d9445ebc87556a8427f1f8": {
          "model_module": "@jupyter-widgets/controls",
          "model_name": "HTMLModel",
          "state": {
            "_view_name": "HTMLView",
            "style": "IPY_MODEL_91a56c6872a0453181bd85aabfaa15f7",
            "_dom_classes": [],
            "description": "",
            "_model_name": "HTMLModel",
            "placeholder": "​",
            "_view_module": "@jupyter-widgets/controls",
            "_model_module_version": "1.5.0",
            "value": " 16/16 [00:03&lt;00:00,  5.16it/s]",
            "_view_count": null,
            "_view_module_version": "1.5.0",
            "description_tooltip": null,
            "_model_module": "@jupyter-widgets/controls",
            "layout": "IPY_MODEL_516344d127a246df91fddae5cae0cd26"
          }
        },
        "1f6c407025374195b6c1734f7a496bd3": {
          "model_module": "@jupyter-widgets/controls",
          "model_name": "ProgressStyleModel",
          "state": {
            "_view_name": "StyleView",
            "_model_name": "ProgressStyleModel",
            "description_width": "initial",
            "_view_module": "@jupyter-widgets/base",
            "_model_module_version": "1.5.0",
            "_view_count": null,
            "_view_module_version": "1.2.0",
            "bar_color": null,
            "_model_module": "@jupyter-widgets/controls"
          }
        },
        "61225230803c434797b8e492181f4531": {
          "model_module": "@jupyter-widgets/base",
          "model_name": "LayoutModel",
          "state": {
            "_view_name": "LayoutView",
            "grid_template_rows": null,
            "right": null,
            "justify_content": null,
            "_view_module": "@jupyter-widgets/base",
            "overflow": null,
            "_model_module_version": "1.2.0",
            "_view_count": null,
            "flex_flow": null,
            "width": null,
            "min_width": null,
            "border": null,
            "align_items": null,
            "bottom": null,
            "_model_module": "@jupyter-widgets/base",
            "top": null,
            "grid_column": null,
            "overflow_y": null,
            "overflow_x": null,
            "grid_auto_flow": null,
            "grid_area": null,
            "grid_template_columns": null,
            "flex": null,
            "_model_name": "LayoutModel",
            "justify_items": null,
            "grid_row": null,
            "max_height": null,
            "align_content": null,
            "visibility": null,
            "align_self": null,
            "height": null,
            "min_height": null,
            "padding": null,
            "grid_auto_rows": null,
            "grid_gap": null,
            "max_width": null,
            "order": null,
            "_view_module_version": "1.2.0",
            "grid_template_areas": null,
            "object_position": null,
            "object_fit": null,
            "grid_auto_columns": null,
            "margin": null,
            "display": null,
            "left": null
          }
        },
        "91a56c6872a0453181bd85aabfaa15f7": {
          "model_module": "@jupyter-widgets/controls",
          "model_name": "DescriptionStyleModel",
          "state": {
            "_view_name": "StyleView",
            "_model_name": "DescriptionStyleModel",
            "description_width": "",
            "_view_module": "@jupyter-widgets/base",
            "_model_module_version": "1.5.0",
            "_view_count": null,
            "_view_module_version": "1.2.0",
            "_model_module": "@jupyter-widgets/controls"
          }
        },
        "516344d127a246df91fddae5cae0cd26": {
          "model_module": "@jupyter-widgets/base",
          "model_name": "LayoutModel",
          "state": {
            "_view_name": "LayoutView",
            "grid_template_rows": null,
            "right": null,
            "justify_content": null,
            "_view_module": "@jupyter-widgets/base",
            "overflow": null,
            "_model_module_version": "1.2.0",
            "_view_count": null,
            "flex_flow": null,
            "width": null,
            "min_width": null,
            "border": null,
            "align_items": null,
            "bottom": null,
            "_model_module": "@jupyter-widgets/base",
            "top": null,
            "grid_column": null,
            "overflow_y": null,
            "overflow_x": null,
            "grid_auto_flow": null,
            "grid_area": null,
            "grid_template_columns": null,
            "flex": null,
            "_model_name": "LayoutModel",
            "justify_items": null,
            "grid_row": null,
            "max_height": null,
            "align_content": null,
            "visibility": null,
            "align_self": null,
            "height": null,
            "min_height": null,
            "padding": null,
            "grid_auto_rows": null,
            "grid_gap": null,
            "max_width": null,
            "order": null,
            "_view_module_version": "1.2.0",
            "grid_template_areas": null,
            "object_position": null,
            "object_fit": null,
            "grid_auto_columns": null,
            "margin": null,
            "display": null,
            "left": null
          }
        }
      }
    }
  },
  "cells": [
    {
      "cell_type": "markdown",
      "metadata": {
        "id": "view-in-github",
        "colab_type": "text"
      },
      "source": [
        "<a href=\"https://colab.research.google.com/github/Sophie1218/HMTK_DS102.L11.CNCL/blob/main/Code_RunModel.ipynb\" target=\"_parent\"><img src=\"https://colab.research.google.com/assets/colab-badge.svg\" alt=\"Open In Colab\"/></a>"
      ]
    },
    {
      "cell_type": "markdown",
      "metadata": {
        "id": "T6ABvX1W0RrC"
      },
      "source": [
        "# Import and Install libraries"
      ]
    },
    {
      "cell_type": "code",
      "metadata": {
        "id": "wkENM8IwiyZ3",
        "colab": {
          "base_uri": "https://localhost:8080/"
        },
        "outputId": "c3f16ceb-8e4c-4b72-de2d-034b1a1baeb9"
      },
      "source": [
        "from google.colab import drive\n",
        "drive.mount('/content/drive')"
      ],
      "execution_count": 1,
      "outputs": [
        {
          "output_type": "stream",
          "text": [
            "Mounted at /content/drive\n"
          ],
          "name": "stdout"
        }
      ]
    },
    {
      "cell_type": "code",
      "metadata": {
        "id": "DH-mzfBpZPei"
      },
      "source": [
        "import os\n",
        "os.chdir('/content/drive/MyDrive/Colab Notebooks/Bert_Complaint')"
      ],
      "execution_count": 2,
      "outputs": []
    },
    {
      "cell_type": "code",
      "metadata": {
        "colab": {
          "base_uri": "https://localhost:8080/"
        },
        "id": "j5qfwX3jZddL",
        "outputId": "3535510d-df7f-4315-e8a7-8e09ce62e189"
      },
      "source": [
        "!nvidia-smi\r\n",
        "!pip install transformers\r\n",
        "!pip install fastBPE\r\n",
        "!pip install fairseq\r\n",
        "!pip install vncorenlp\r\n",
        "!pip install transformers-phobert"
      ],
      "execution_count": 3,
      "outputs": [
        {
          "output_type": "stream",
          "text": [
            "Mon Dec 14 14:28:26 2020       \n",
            "+-----------------------------------------------------------------------------+\n",
            "| NVIDIA-SMI 455.45.01    Driver Version: 418.67       CUDA Version: 10.1     |\n",
            "|-------------------------------+----------------------+----------------------+\n",
            "| GPU  Name        Persistence-M| Bus-Id        Disp.A | Volatile Uncorr. ECC |\n",
            "| Fan  Temp  Perf  Pwr:Usage/Cap|         Memory-Usage | GPU-Util  Compute M. |\n",
            "|                               |                      |               MIG M. |\n",
            "|===============================+======================+======================|\n",
            "|   0  Tesla P100-PCIE...  Off  | 00000000:00:04.0 Off |                    0 |\n",
            "| N/A   36C    P0    25W / 250W |      0MiB / 16280MiB |      0%      Default |\n",
            "|                               |                      |                 ERR! |\n",
            "+-------------------------------+----------------------+----------------------+\n",
            "                                                                               \n",
            "+-----------------------------------------------------------------------------+\n",
            "| Processes:                                                                  |\n",
            "|  GPU   GI   CI        PID   Type   Process name                  GPU Memory |\n",
            "|        ID   ID                                                   Usage      |\n",
            "|=============================================================================|\n",
            "|  No running processes found                                                 |\n",
            "+-----------------------------------------------------------------------------+\n",
            "Collecting transformers\n",
            "\u001b[?25l  Downloading https://files.pythonhosted.org/packages/ed/db/98c3ea1a78190dac41c0127a063abf92bd01b4b0b6970a6db1c2f5b66fa0/transformers-4.0.1-py3-none-any.whl (1.4MB)\n",
            "\u001b[K     |████████████████████████████████| 1.4MB 5.8MB/s \n",
            "\u001b[?25hRequirement already satisfied: requests in /usr/local/lib/python3.6/dist-packages (from transformers) (2.23.0)\n",
            "Collecting tokenizers==0.9.4\n",
            "\u001b[?25l  Downloading https://files.pythonhosted.org/packages/0f/1c/e789a8b12e28be5bc1ce2156cf87cb522b379be9cadc7ad8091a4cc107c4/tokenizers-0.9.4-cp36-cp36m-manylinux2010_x86_64.whl (2.9MB)\n",
            "\u001b[K     |████████████████████████████████| 2.9MB 52.6MB/s \n",
            "\u001b[?25hRequirement already satisfied: regex!=2019.12.17 in /usr/local/lib/python3.6/dist-packages (from transformers) (2019.12.20)\n",
            "Requirement already satisfied: tqdm>=4.27 in /usr/local/lib/python3.6/dist-packages (from transformers) (4.41.1)\n",
            "Requirement already satisfied: packaging in /usr/local/lib/python3.6/dist-packages (from transformers) (20.7)\n",
            "Requirement already satisfied: dataclasses; python_version < \"3.7\" in /usr/local/lib/python3.6/dist-packages (from transformers) (0.8)\n",
            "Collecting sacremoses\n",
            "\u001b[?25l  Downloading https://files.pythonhosted.org/packages/7d/34/09d19aff26edcc8eb2a01bed8e98f13a1537005d31e95233fd48216eed10/sacremoses-0.0.43.tar.gz (883kB)\n",
            "\u001b[K     |████████████████████████████████| 890kB 64.7MB/s \n",
            "\u001b[?25hRequirement already satisfied: filelock in /usr/local/lib/python3.6/dist-packages (from transformers) (3.0.12)\n",
            "Requirement already satisfied: numpy in /usr/local/lib/python3.6/dist-packages (from transformers) (1.18.5)\n",
            "Requirement already satisfied: urllib3!=1.25.0,!=1.25.1,<1.26,>=1.21.1 in /usr/local/lib/python3.6/dist-packages (from requests->transformers) (1.24.3)\n",
            "Requirement already satisfied: certifi>=2017.4.17 in /usr/local/lib/python3.6/dist-packages (from requests->transformers) (2020.12.5)\n",
            "Requirement already satisfied: chardet<4,>=3.0.2 in /usr/local/lib/python3.6/dist-packages (from requests->transformers) (3.0.4)\n",
            "Requirement already satisfied: idna<3,>=2.5 in /usr/local/lib/python3.6/dist-packages (from requests->transformers) (2.10)\n",
            "Requirement already satisfied: pyparsing>=2.0.2 in /usr/local/lib/python3.6/dist-packages (from packaging->transformers) (2.4.7)\n",
            "Requirement already satisfied: six in /usr/local/lib/python3.6/dist-packages (from sacremoses->transformers) (1.15.0)\n",
            "Requirement already satisfied: click in /usr/local/lib/python3.6/dist-packages (from sacremoses->transformers) (7.1.2)\n",
            "Requirement already satisfied: joblib in /usr/local/lib/python3.6/dist-packages (from sacremoses->transformers) (0.17.0)\n",
            "Building wheels for collected packages: sacremoses\n",
            "  Building wheel for sacremoses (setup.py) ... \u001b[?25l\u001b[?25hdone\n",
            "  Created wheel for sacremoses: filename=sacremoses-0.0.43-cp36-none-any.whl size=893261 sha256=ef5efae5e499b504fdd59f973e46c37757fd301d43ee591bc5135370a8b8371e\n",
            "  Stored in directory: /root/.cache/pip/wheels/29/3c/fd/7ce5c3f0666dab31a50123635e6fb5e19ceb42ce38d4e58f45\n",
            "Successfully built sacremoses\n",
            "Installing collected packages: tokenizers, sacremoses, transformers\n",
            "Successfully installed sacremoses-0.0.43 tokenizers-0.9.4 transformers-4.0.1\n",
            "Collecting fastBPE\n",
            "  Downloading https://files.pythonhosted.org/packages/e1/37/f97181428a5d151501b90b2cebedf97c81b034ace753606a3cda5ad4e6e2/fastBPE-0.1.0.tar.gz\n",
            "Building wheels for collected packages: fastBPE\n",
            "  Building wheel for fastBPE (setup.py) ... \u001b[?25l\u001b[?25hdone\n",
            "  Created wheel for fastBPE: filename=fastBPE-0.1.0-cp36-cp36m-linux_x86_64.whl size=481525 sha256=ddee48b32e6ed9c42216c051691974db5167765ad66e495167b34603e5b430fd\n",
            "  Stored in directory: /root/.cache/pip/wheels/f3/0c/9c/fc62058b4d473a5602bcd3d3edfece796f123875379ea82d79\n",
            "Successfully built fastBPE\n",
            "Installing collected packages: fastBPE\n",
            "Successfully installed fastBPE-0.1.0\n",
            "Collecting fairseq\n",
            "\u001b[?25l  Downloading https://files.pythonhosted.org/packages/2c/da/7c7032988dade3b21ccfd5b226e50b382abfd3459129d67240bb004506ae/fairseq-0.10.1-cp36-cp36m-manylinux1_x86_64.whl (1.7MB)\n",
            "\u001b[K     |████████████████████████████████| 1.7MB 4.4MB/s \n",
            "\u001b[?25hRequirement already satisfied: cffi in /usr/local/lib/python3.6/dist-packages (from fairseq) (1.14.4)\n",
            "Collecting hydra-core\n",
            "\u001b[?25l  Downloading https://files.pythonhosted.org/packages/f0/1f/7f502b9e37596164111655861370b08626f46f9e4524433c354f472765d4/hydra_core-1.0.4-py3-none-any.whl (122kB)\n",
            "\u001b[K     |████████████████████████████████| 122kB 51.4MB/s \n",
            "\u001b[?25hRequirement already satisfied: torch in /usr/local/lib/python3.6/dist-packages (from fairseq) (1.7.0+cu101)\n",
            "Collecting sacrebleu>=1.4.12\n",
            "\u001b[?25l  Downloading https://files.pythonhosted.org/packages/a3/c4/8e948f601a4f9609e8b2b58f31966cb13cf17b940b82aa3e767f01c42c52/sacrebleu-1.4.14-py3-none-any.whl (64kB)\n",
            "\u001b[K     |████████████████████████████████| 71kB 9.4MB/s \n",
            "\u001b[?25hRequirement already satisfied: cython in /usr/local/lib/python3.6/dist-packages (from fairseq) (0.29.21)\n",
            "Requirement already satisfied: dataclasses in /usr/local/lib/python3.6/dist-packages (from fairseq) (0.8)\n",
            "Requirement already satisfied: tqdm in /usr/local/lib/python3.6/dist-packages (from fairseq) (4.41.1)\n",
            "Requirement already satisfied: regex in /usr/local/lib/python3.6/dist-packages (from fairseq) (2019.12.20)\n",
            "Requirement already satisfied: numpy in /usr/local/lib/python3.6/dist-packages (from fairseq) (1.18.5)\n",
            "Requirement already satisfied: pycparser in /usr/local/lib/python3.6/dist-packages (from cffi->fairseq) (2.20)\n",
            "Requirement already satisfied: importlib-resources; python_version < \"3.9\" in /usr/local/lib/python3.6/dist-packages (from hydra-core->fairseq) (3.3.0)\n",
            "Collecting omegaconf>=2.0.5\n",
            "  Downloading https://files.pythonhosted.org/packages/e5/f6/043b6d255dd6fbf2025110cea35b87f4c5100a181681d8eab496269f0d5b/omegaconf-2.0.5-py3-none-any.whl\n",
            "Collecting antlr4-python3-runtime==4.8\n",
            "\u001b[?25l  Downloading https://files.pythonhosted.org/packages/56/02/789a0bddf9c9b31b14c3e79ec22b9656185a803dc31c15f006f9855ece0d/antlr4-python3-runtime-4.8.tar.gz (112kB)\n",
            "\u001b[K     |████████████████████████████████| 112kB 51.4MB/s \n",
            "\u001b[?25hRequirement already satisfied: future in /usr/local/lib/python3.6/dist-packages (from torch->fairseq) (0.16.0)\n",
            "Requirement already satisfied: typing-extensions in /usr/local/lib/python3.6/dist-packages (from torch->fairseq) (3.7.4.3)\n",
            "Collecting portalocker\n",
            "  Downloading https://files.pythonhosted.org/packages/89/a6/3814b7107e0788040870e8825eebf214d72166adf656ba7d4bf14759a06a/portalocker-2.0.0-py2.py3-none-any.whl\n",
            "Requirement already satisfied: zipp>=0.4; python_version < \"3.8\" in /usr/local/lib/python3.6/dist-packages (from importlib-resources; python_version < \"3.9\"->hydra-core->fairseq) (3.4.0)\n",
            "Collecting PyYAML>=5.1.*\n",
            "\u001b[?25l  Downloading https://files.pythonhosted.org/packages/64/c2/b80047c7ac2478f9501676c988a5411ed5572f35d1beff9cae07d321512c/PyYAML-5.3.1.tar.gz (269kB)\n",
            "\u001b[K     |████████████████████████████████| 276kB 35.5MB/s \n",
            "\u001b[?25hBuilding wheels for collected packages: antlr4-python3-runtime, PyYAML\n",
            "  Building wheel for antlr4-python3-runtime (setup.py) ... \u001b[?25l\u001b[?25hdone\n",
            "  Created wheel for antlr4-python3-runtime: filename=antlr4_python3_runtime-4.8-cp36-none-any.whl size=141231 sha256=3bcbcc7d3f83046e04a027df9d051e45f884453999707c5a019e3e86c4202d10\n",
            "  Stored in directory: /root/.cache/pip/wheels/e3/e2/fa/b78480b448b8579ddf393bebd3f47ee23aa84c89b6a78285c8\n",
            "  Building wheel for PyYAML (setup.py) ... \u001b[?25l\u001b[?25hdone\n",
            "  Created wheel for PyYAML: filename=PyYAML-5.3.1-cp36-cp36m-linux_x86_64.whl size=44620 sha256=34bf8ecc6f1aeaa3ef4fdf825f1159e1b9ec4649215b16366afb110fc3b80473\n",
            "  Stored in directory: /root/.cache/pip/wheels/a7/c1/ea/cf5bd31012e735dc1dfea3131a2d5eae7978b251083d6247bd\n",
            "Successfully built antlr4-python3-runtime PyYAML\n",
            "Installing collected packages: PyYAML, omegaconf, antlr4-python3-runtime, hydra-core, portalocker, sacrebleu, fairseq\n",
            "  Found existing installation: PyYAML 3.13\n",
            "    Uninstalling PyYAML-3.13:\n",
            "      Successfully uninstalled PyYAML-3.13\n",
            "Successfully installed PyYAML-5.3.1 antlr4-python3-runtime-4.8 fairseq-0.10.1 hydra-core-1.0.4 omegaconf-2.0.5 portalocker-2.0.0 sacrebleu-1.4.14\n",
            "Collecting vncorenlp\n",
            "\u001b[?25l  Downloading https://files.pythonhosted.org/packages/71/c2/96a60cf75421ecc740829fa920c617b3dd7fa6791e17554e7c6f3e7d7fca/vncorenlp-1.0.3.tar.gz (2.6MB)\n",
            "\u001b[K     |████████████████████████████████| 2.7MB 5.8MB/s \n",
            "\u001b[?25hRequirement already satisfied: requests in /usr/local/lib/python3.6/dist-packages (from vncorenlp) (2.23.0)\n",
            "Requirement already satisfied: certifi>=2017.4.17 in /usr/local/lib/python3.6/dist-packages (from requests->vncorenlp) (2020.12.5)\n",
            "Requirement already satisfied: idna<3,>=2.5 in /usr/local/lib/python3.6/dist-packages (from requests->vncorenlp) (2.10)\n",
            "Requirement already satisfied: chardet<4,>=3.0.2 in /usr/local/lib/python3.6/dist-packages (from requests->vncorenlp) (3.0.4)\n",
            "Requirement already satisfied: urllib3!=1.25.0,!=1.25.1,<1.26,>=1.21.1 in /usr/local/lib/python3.6/dist-packages (from requests->vncorenlp) (1.24.3)\n",
            "Building wheels for collected packages: vncorenlp\n",
            "  Building wheel for vncorenlp (setup.py) ... \u001b[?25l\u001b[?25hdone\n",
            "  Created wheel for vncorenlp: filename=vncorenlp-1.0.3-cp36-none-any.whl size=2645934 sha256=9fb4c23d81e92631411e3071fee21b016240e6f49d33cc24f2454a99f6395481\n",
            "  Stored in directory: /root/.cache/pip/wheels/09/54/8b/043667de6091d06a381d7745f44174504a9a4a56ecc9380c54\n",
            "Successfully built vncorenlp\n",
            "Installing collected packages: vncorenlp\n",
            "Successfully installed vncorenlp-1.0.3\n",
            "Collecting transformers-phobert\n",
            "\u001b[?25l  Downloading https://files.pythonhosted.org/packages/f7/de/95b3dfc362e0b733253ec36d7206356a9da4d7310808a2331f817505bdf6/transformers-phobert-3.1.2.tar.gz (777kB)\n",
            "\u001b[K     |████████████████████████████████| 778kB 6.2MB/s \n",
            "\u001b[?25hRequirement already satisfied: numpy in /usr/local/lib/python3.6/dist-packages (from transformers-phobert) (1.18.5)\n",
            "Collecting tokenizers==0.8.1.rc2\n",
            "\u001b[?25l  Downloading https://files.pythonhosted.org/packages/80/83/8b9fccb9e48eeb575ee19179e2bdde0ee9a1904f97de5f02d19016b8804f/tokenizers-0.8.1rc2-cp36-cp36m-manylinux1_x86_64.whl (3.0MB)\n",
            "\u001b[K     |████████████████████████████████| 3.0MB 30.6MB/s \n",
            "\u001b[?25hRequirement already satisfied: packaging in /usr/local/lib/python3.6/dist-packages (from transformers-phobert) (20.7)\n",
            "Requirement already satisfied: filelock in /usr/local/lib/python3.6/dist-packages (from transformers-phobert) (3.0.12)\n",
            "Requirement already satisfied: requests in /usr/local/lib/python3.6/dist-packages (from transformers-phobert) (2.23.0)\n",
            "Requirement already satisfied: tqdm>=4.27 in /usr/local/lib/python3.6/dist-packages (from transformers-phobert) (4.41.1)\n",
            "Requirement already satisfied: regex!=2019.12.17 in /usr/local/lib/python3.6/dist-packages (from transformers-phobert) (2019.12.20)\n",
            "Collecting sentencepiece!=0.1.92\n",
            "\u001b[?25l  Downloading https://files.pythonhosted.org/packages/e5/2d/6d4ca4bef9a67070fa1cac508606328329152b1df10bdf31fb6e4e727894/sentencepiece-0.1.94-cp36-cp36m-manylinux2014_x86_64.whl (1.1MB)\n",
            "\u001b[K     |████████████████████████████████| 1.1MB 58.4MB/s \n",
            "\u001b[?25hRequirement already satisfied: sacremoses in /usr/local/lib/python3.6/dist-packages (from transformers-phobert) (0.0.43)\n",
            "Requirement already satisfied: dataclasses in /usr/local/lib/python3.6/dist-packages (from transformers-phobert) (0.8)\n",
            "Requirement already satisfied: pyparsing>=2.0.2 in /usr/local/lib/python3.6/dist-packages (from packaging->transformers-phobert) (2.4.7)\n",
            "Requirement already satisfied: certifi>=2017.4.17 in /usr/local/lib/python3.6/dist-packages (from requests->transformers-phobert) (2020.12.5)\n",
            "Requirement already satisfied: idna<3,>=2.5 in /usr/local/lib/python3.6/dist-packages (from requests->transformers-phobert) (2.10)\n",
            "Requirement already satisfied: urllib3!=1.25.0,!=1.25.1,<1.26,>=1.21.1 in /usr/local/lib/python3.6/dist-packages (from requests->transformers-phobert) (1.24.3)\n",
            "Requirement already satisfied: chardet<4,>=3.0.2 in /usr/local/lib/python3.6/dist-packages (from requests->transformers-phobert) (3.0.4)\n",
            "Requirement already satisfied: joblib in /usr/local/lib/python3.6/dist-packages (from sacremoses->transformers-phobert) (0.17.0)\n",
            "Requirement already satisfied: click in /usr/local/lib/python3.6/dist-packages (from sacremoses->transformers-phobert) (7.1.2)\n",
            "Requirement already satisfied: six in /usr/local/lib/python3.6/dist-packages (from sacremoses->transformers-phobert) (1.15.0)\n",
            "Building wheels for collected packages: transformers-phobert\n",
            "  Building wheel for transformers-phobert (setup.py) ... \u001b[?25l\u001b[?25hdone\n",
            "  Created wheel for transformers-phobert: filename=transformers_phobert-3.1.2-cp36-none-any.whl size=937535 sha256=97f1469f6ae38e3776752636c85df5b462b78c8c5754e8578d4ea9c0af7cdb0f\n",
            "  Stored in directory: /root/.cache/pip/wheels/cd/cc/58/e17df0c3e8a761f126c5864f29aa299559a14698ab78e3e825\n",
            "Successfully built transformers-phobert\n",
            "\u001b[31mERROR: transformers 4.0.1 has requirement tokenizers==0.9.4, but you'll have tokenizers 0.8.1rc2 which is incompatible.\u001b[0m\n",
            "Installing collected packages: tokenizers, sentencepiece, transformers-phobert\n",
            "  Found existing installation: tokenizers 0.9.4\n",
            "    Uninstalling tokenizers-0.9.4:\n",
            "      Successfully uninstalled tokenizers-0.9.4\n",
            "Successfully installed sentencepiece-0.1.94 tokenizers-0.8.1rc2 transformers-phobert-3.1.2\n"
          ],
          "name": "stdout"
        }
      ]
    },
    {
      "cell_type": "code",
      "metadata": {
        "id": "EPhu2RUBJk_r"
      },
      "source": [
        "import warnings \r\n",
        "  \r\n",
        "warnings.filterwarnings(action = 'ignore') "
      ],
      "execution_count": 4,
      "outputs": []
    },
    {
      "cell_type": "code",
      "metadata": {
        "id": "ybfXEhCVJwmJ"
      },
      "source": [
        "import os\r\n",
        "import time\r\n",
        "import string\r\n",
        "import random\r\n",
        "import argparse\r\n",
        "import wordcloud\r\n",
        "import seaborn as sns\r\n",
        "import pandas as pd\r\n",
        "import numpy as np\r\n",
        "import numpy as np\r\n",
        "import matplotlib\r\n",
        "import regex as re\r\n",
        "import matplotlib.pyplot as plt\r\n",
        "\r\n",
        "import torch\r\n",
        "from tqdm import tqdm_notebook\r\n",
        "from sklearn.metrics import classification_report\r\n",
        "from sklearn import model_selection\r\n",
        "from sklearn.model_selection import train_test_split\r\n",
        "from sklearn.feature_extraction.text import TfidfVectorizer\r\n",
        "from sklearn.metrics import confusion_matrix\r\n",
        "from sklearn.model_selection import cross_val_predict\r\n",
        "from sklearn.model_selection import ShuffleSplit\r\n",
        "from sklearn.model_selection import cross_val_score\r\n",
        "from sklearn.metrics import accuracy_score, f1_score\r\n",
        "from sklearn.model_selection import StratifiedKFold\r\n",
        "from fairseq.data.encoders.fastbpe import fastBPE\r\n",
        "from sklearn.preprocessing import StandardScaler\r\n",
        "from sklearn.linear_model import LogisticRegression\r\n",
        "from sklearn.svm import SVC\r\n",
        "from sklearn.tree import DecisionTreeClassifier\r\n",
        "from sklearn.ensemble import RandomForestClassifier\r\n",
        "from sklearn.neighbors import KNeighborsClassifier\r\n",
        "from sklearn.naive_bayes import GaussianNB\r\n",
        "from fairseq.data import Dictionary\r\n",
        "\r\n",
        "from tensorflow.keras.preprocessing.sequence import pad_sequences\r\n",
        "from torch.utils.data import TensorDataset, DataLoader, RandomSampler, SequentialSampler"
      ],
      "execution_count": 5,
      "outputs": []
    },
    {
      "cell_type": "code",
      "metadata": {
        "id": "5sGcfSblZrgq",
        "colab": {
          "base_uri": "https://localhost:8080/"
        },
        "outputId": "f99a25d9-7b66-4105-ce84-5b930c3b82cc"
      },
      "source": [
        "from vncorenlp import VnCoreNLP\n",
        "rdrsegmenter = VnCoreNLP(\"/content/drive/MyDrive/Colab Notebooks/VnCoreNLP-master/VnCoreNLP-1.1.1.jar\", annotators=\"wseg\", max_heap_size='-Xmx500m') "
      ],
      "execution_count": 6,
      "outputs": [
        {
          "output_type": "stream",
          "text": [
            "2020-12-14 14:29:06 | INFO | vncorenlp.vncorenlp | Starting server on: http://127.0.0.1:56601\n",
            "2020-12-14 14:29:06 | INFO | vncorenlp.vncorenlp | Server ID: 383\n",
            "2020-12-14 14:29:06 | INFO | vncorenlp.vncorenlp | Waiting until the server is available...\n",
            "2020-12-14 14:29:11 | INFO | vncorenlp.vncorenlp | The server is now available on: http://127.0.0.1:56601\n"
          ],
          "name": "stderr"
        }
      ]
    },
    {
      "cell_type": "code",
      "metadata": {
        "id": "AKZNsDOUZuT9"
      },
      "source": [
        "parser = argparse.ArgumentParser()\n",
        "parser.add_argument('--bpe-codes', \n",
        "    default=\"/content/drive/MyDrive/Colab Notebooks/PhoBERT_base_transformers/PhoBERT_base_transformers/bpe.codes\",\n",
        "    required=False,\n",
        "    type=str,\n",
        "    help='path to fastBPE BPE'\n",
        ")\n",
        "args, unknown = parser.parse_known_args()\n",
        "bpe = fastBPE(args)\n",
        "\n",
        "vocab = Dictionary()\n",
        "vocab.add_from_file(\"/content/drive/MyDrive/Colab Notebooks/PhoBERT_base_transformers/PhoBERT_base_transformers/dict.txt\")"
      ],
      "execution_count": 7,
      "outputs": []
    },
    {
      "cell_type": "markdown",
      "metadata": {
        "id": "OG3KjpqR0hVT"
      },
      "source": [
        "\r\n",
        "# Preprocess data"
      ]
    },
    {
      "cell_type": "code",
      "metadata": {
        "colab": {
          "base_uri": "https://localhost:8080/",
          "height": 204
        },
        "id": "wj4Csu7ccRS2",
        "outputId": "f1fff92b-b0bf-4912-cb88-16a930a7f93d"
      },
      "source": [
        "df = pd.read_csv('/content/drive/MyDrive/Colab Notebooks/Bert_Complaint/Dataset_DL.csv')\n",
        "df.head()"
      ],
      "execution_count": 8,
      "outputs": [
        {
          "output_type": "execute_result",
          "data": {
            "text/html": [
              "<div>\n",
              "<style scoped>\n",
              "    .dataframe tbody tr th:only-of-type {\n",
              "        vertical-align: middle;\n",
              "    }\n",
              "\n",
              "    .dataframe tbody tr th {\n",
              "        vertical-align: top;\n",
              "    }\n",
              "\n",
              "    .dataframe thead th {\n",
              "        text-align: right;\n",
              "    }\n",
              "</style>\n",
              "<table border=\"1\" class=\"dataframe\">\n",
              "  <thead>\n",
              "    <tr style=\"text-align: right;\">\n",
              "      <th></th>\n",
              "      <th>ID</th>\n",
              "      <th>Comment</th>\n",
              "      <th>Label</th>\n",
              "      <th>Domain</th>\n",
              "    </tr>\n",
              "  </thead>\n",
              "  <tbody>\n",
              "    <tr>\n",
              "      <th>0</th>\n",
              "      <td>1117661425258766_1117711878587054</td>\n",
              "      <td>Tắt Ai tự động nhận diện ảnh kiểu gì ak</td>\n",
              "      <td>0</td>\n",
              "      <td>Điện thoại</td>\n",
              "    </tr>\n",
              "    <tr>\n",
              "      <th>1</th>\n",
              "      <td>1117661425258766_1117711881920387</td>\n",
              "      <td>So sánh với Nokia 8.1</td>\n",
              "      <td>0</td>\n",
              "      <td>Điện thoại</td>\n",
              "    </tr>\n",
              "    <tr>\n",
              "      <th>2</th>\n",
              "      <td>1117661425258766_1117712271920348</td>\n",
              "      <td>A51 vs reno 2F máy nào tốt hơn a</td>\n",
              "      <td>0</td>\n",
              "      <td>Điện thoại</td>\n",
              "    </tr>\n",
              "    <tr>\n",
              "      <th>3</th>\n",
              "      <td>1117661425258766_1117712698586972</td>\n",
              "      <td>Giật nhỉ :))</td>\n",
              "      <td>1</td>\n",
              "      <td>Điện thoại</td>\n",
              "    </tr>\n",
              "    <tr>\n",
              "      <th>4</th>\n",
              "      <td>1117661425258766_1117712938586948</td>\n",
              "      <td>Mới toang con 7plus,hôm qua ra làm luôn con nà...</td>\n",
              "      <td>1</td>\n",
              "      <td>Điện thoại</td>\n",
              "    </tr>\n",
              "  </tbody>\n",
              "</table>\n",
              "</div>"
            ],
            "text/plain": [
              "                                  ID  ...      Domain\n",
              "0  1117661425258766_1117711878587054  ...  Điện thoại\n",
              "1  1117661425258766_1117711881920387  ...  Điện thoại\n",
              "2  1117661425258766_1117712271920348  ...  Điện thoại\n",
              "3  1117661425258766_1117712698586972  ...  Điện thoại\n",
              "4  1117661425258766_1117712938586948  ...  Điện thoại\n",
              "\n",
              "[5 rows x 4 columns]"
            ]
          },
          "metadata": {
            "tags": []
          },
          "execution_count": 8
        }
      ]
    },
    {
      "cell_type": "code",
      "metadata": {
        "id": "YMC8PPnsep0n"
      },
      "source": [
        "uniChars = \"àáảãạâầấẩẫậăằắẳẵặèéẻẽẹêềếểễệđìíỉĩịòóỏõọôồốổỗộơờớởỡợùúủũụưừứửữựỳýỷỹỵÀÁẢÃẠÂẦẤẨẪẬĂẰẮẲẴẶÈÉẺẼẸÊỀẾỂỄỆĐÌÍỈĨỊÒÓỎÕỌÔỒỐỔỖỘƠỜỚỞỠỢÙÚỦŨỤƯỪỨỬỮỰỲÝỶỸỴÂĂĐÔƠƯ\"\n",
        "unsignChars = \"aaaaaaaaaaaaaaaaaeeeeeeeeeeediiiiiooooooooooooooooouuuuuuuuuuuyyyyyAAAAAAAAAAAAAAAAAEEEEEEEEEEEDIIIOOOOOOOOOOOOOOOOOOOUUUUUUUUUUUYYYYYAADOOU\"\n",
        " \n",
        "def loaddicchar():\n",
        "    dic = {}\n",
        "    char1252 = 'à|á|ả|ã|ạ|ầ|ấ|ẩ|ẫ|ậ|ằ|ắ|ẳ|ẵ|ặ|è|é|ẻ|ẽ|ẹ|ề|ế|ể|ễ|ệ|ì|í|ỉ|ĩ|ị|ò|ó|ỏ|õ|ọ|ồ|ố|ổ|ỗ|ộ|ờ|ớ|ở|ỡ|ợ|ù|ú|ủ|ũ|ụ|ừ|ứ|ử|ữ|ự|ỳ|ý|ỷ|ỹ|ỵ|À|Á|Ả|Ã|Ạ|Ầ|Ấ|Ẩ|Ẫ|Ậ|Ằ|Ắ|Ẳ|Ẵ|Ặ|È|É|Ẻ|Ẽ|Ẹ|Ề|Ế|Ể|Ễ|Ệ|Ì|Í|Ỉ|Ĩ|Ị|Ò|Ó|Ỏ|Õ|Ọ|Ồ|Ố|Ổ|Ỗ|Ộ|Ờ|Ớ|Ở|Ỡ|Ợ|Ù|Ú|Ủ|Ũ|Ụ|Ừ|Ứ|Ử|Ữ|Ự|Ỳ|Ý|Ỷ|Ỹ|Ỵ'.split(\n",
        "        '|')\n",
        "    charutf8 = \"à|á|ả|ã|ạ|ầ|ấ|ẩ|ẫ|ậ|ằ|ắ|ẳ|ẵ|ặ|è|é|ẻ|ẽ|ẹ|ề|ế|ể|ễ|ệ|ì|í|ỉ|ĩ|ị|ò|ó|ỏ|õ|ọ|ồ|ố|ổ|ỗ|ộ|ờ|ớ|ở|ỡ|ợ|ù|ú|ủ|ũ|ụ|ừ|ứ|ử|ữ|ự|ỳ|ý|ỷ|ỹ|ỵ|À|Á|Ả|Ã|Ạ|Ầ|Ấ|Ẩ|Ẫ|Ậ|Ằ|Ắ|Ẳ|Ẵ|Ặ|È|É|Ẻ|Ẽ|Ẹ|Ề|Ế|Ể|Ễ|Ệ|Ì|Í|Ỉ|Ĩ|Ị|Ò|Ó|Ỏ|Õ|Ọ|Ồ|Ố|Ổ|Ỗ|Ộ|Ờ|Ớ|Ở|Ỡ|Ợ|Ù|Ú|Ủ|Ũ|Ụ|Ừ|Ứ|Ử|Ữ|Ự|Ỳ|Ý|Ỷ|Ỹ|Ỵ\".split(\n",
        "        '|')\n",
        "    for i in range(len(char1252)):\n",
        "        dic[char1252[i]] = charutf8[i]\n",
        "    return dic\n",
        "dicchar = loaddicchar()\n",
        "\n",
        "def convert_unicode(txt):\n",
        "    return re.sub(\n",
        "        r'à|á|ả|ã|ạ|ầ|ấ|ẩ|ẫ|ậ|ằ|ắ|ẳ|ẵ|ặ|è|é|ẻ|ẽ|ẹ|ề|ế|ể|ễ|ệ|ì|í|ỉ|ĩ|ị|ò|ó|ỏ|õ|ọ|ồ|ố|ổ|ỗ|ộ|ờ|ớ|ở|ỡ|ợ|ù|ú|ủ|ũ|ụ|ừ|ứ|ử|ữ|ự|ỳ|ý|ỷ|ỹ|ỵ|À|Á|Ả|Ã|Ạ|Ầ|Ấ|Ẩ|Ẫ|Ậ|Ằ|Ắ|Ẳ|Ẵ|Ặ|È|É|Ẻ|Ẽ|Ẹ|Ề|Ế|Ể|Ễ|Ệ|Ì|Í|Ỉ|Ĩ|Ị|Ò|Ó|Ỏ|Õ|Ọ|Ồ|Ố|Ổ|Ỗ|Ộ|Ờ|Ớ|Ở|Ỡ|Ợ|Ù|Ú|Ủ|Ũ|Ụ|Ừ|Ứ|Ử|Ữ|Ự|Ỳ|Ý|Ỷ|Ỹ|Ỵ',\n",
        "        lambda x: dicchar[x.group()], txt)\n",
        "\n",
        "bang_nguyen_am = [['a', 'à', 'á', 'ả', 'ã', 'ạ', 'a'],\n",
        "                  ['ă', 'ằ', 'ắ', 'ẳ', 'ẵ', 'ặ', 'aw'],\n",
        "                  ['â', 'ầ', 'ấ', 'ẩ', 'ẫ', 'ậ', 'aa'],\n",
        "                  ['e', 'è', 'é', 'ẻ', 'ẽ', 'ẹ', 'e'],\n",
        "                  ['ê', 'ề', 'ế', 'ể', 'ễ', 'ệ', 'ee'],\n",
        "                  ['i', 'ì', 'í', 'ỉ', 'ĩ', 'ị', 'i'],\n",
        "                  ['o', 'ò', 'ó', 'ỏ', 'õ', 'ọ', 'o'],\n",
        "                  ['ô', 'ồ', 'ố', 'ổ', 'ỗ', 'ộ', 'oo'],\n",
        "                  ['ơ', 'ờ', 'ớ', 'ở', 'ỡ', 'ợ', 'ow'],\n",
        "                  ['u', 'ù', 'ú', 'ủ', 'ũ', 'ụ', 'u'],\n",
        "                  ['ư', 'ừ', 'ứ', 'ử', 'ữ', 'ự', 'uw'],\n",
        "                  ['y', 'ỳ', 'ý', 'ỷ', 'ỹ', 'ỵ', 'y']]\n",
        "bang_ky_tu_dau = ['', 'f', 's', 'r', 'x', 'j']\n",
        "\n",
        "nguyen_am_to_ids = {}\n",
        "\n",
        "for i in range(len(bang_nguyen_am)):\n",
        "    for j in range(len(bang_nguyen_am[i]) - 1):\n",
        "        nguyen_am_to_ids[bang_nguyen_am[i][j]] = (i, j)\n",
        "\n",
        "def chuan_hoa_dau_tu_tieng_viet(word):\n",
        "    if not is_valid_vietnam_word(word):\n",
        "        return word\n",
        "\n",
        "    chars = list(word)\n",
        "    dau_cau = 0\n",
        "    nguyen_am_index = []\n",
        "    qu_or_gi = False\n",
        "    for index, char in enumerate(chars):\n",
        "        x, y = nguyen_am_to_ids.get(char, (-1, -1))\n",
        "        if x == -1:\n",
        "            continue\n",
        "        elif x == 9:  # check qu\n",
        "            if index != 0 and chars[index - 1] == 'q':\n",
        "                chars[index] = 'u'\n",
        "                qu_or_gi = True\n",
        "        elif x == 5:  # check gi\n",
        "            if index != 0 and chars[index - 1] == 'g':\n",
        "                chars[index] = 'i'\n",
        "                qu_or_gi = True\n",
        "        if y != 0:\n",
        "            dau_cau = y\n",
        "            chars[index] = bang_nguyen_am[x][0]\n",
        "        if not qu_or_gi or index != 1:\n",
        "            nguyen_am_index.append(index)\n",
        "    if len(nguyen_am_index) < 2:\n",
        "        if qu_or_gi:\n",
        "            if len(chars) == 2:\n",
        "                x, y = nguyen_am_to_ids.get(chars[1])\n",
        "                chars[1] = bang_nguyen_am[x][dau_cau]\n",
        "            else:\n",
        "                x, y = nguyen_am_to_ids.get(chars[2], (-1, -1))\n",
        "                if x != -1:\n",
        "                    chars[2] = bang_nguyen_am[x][dau_cau]\n",
        "                else:\n",
        "                    chars[1] = bang_nguyen_am[5][dau_cau] if chars[1] == 'i' else bang_nguyen_am[9][dau_cau]\n",
        "            return ''.join(chars)\n",
        "        return word\n",
        "\n",
        "    for index in nguyen_am_index:\n",
        "        x, y = nguyen_am_to_ids[chars[index]]\n",
        "        if x == 4 or x == 8:  # ê, ơ\n",
        "            chars[index] = bang_nguyen_am[x][dau_cau]\n",
        "            # for index2 in nguyen_am_index:\n",
        "            #     if index2 != index:\n",
        "            #         x, y = nguyen_am_to_ids[chars[index]]\n",
        "            #         chars[index2] = bang_nguyen_am[x][0]\n",
        "            return ''.join(chars)\n",
        "\n",
        "    if len(nguyen_am_index) == 2:\n",
        "        if nguyen_am_index[-1] == len(chars) - 1:\n",
        "            x, y = nguyen_am_to_ids[chars[nguyen_am_index[0]]]\n",
        "            chars[nguyen_am_index[0]] = bang_nguyen_am[x][dau_cau]\n",
        "            # x, y = nguyen_am_to_ids[chars[nguyen_am_index[1]]]\n",
        "            # chars[nguyen_am_index[1]] = bang_nguyen_am[x][0]\n",
        "        else:\n",
        "            # x, y = nguyen_am_to_ids[chars[nguyen_am_index[0]]]\n",
        "            # chars[nguyen_am_index[0]] = bang_nguyen_am[x][0]\n",
        "            x, y = nguyen_am_to_ids[chars[nguyen_am_index[1]]]\n",
        "            chars[nguyen_am_index[1]] = bang_nguyen_am[x][dau_cau]\n",
        "    else:\n",
        "        # x, y = nguyen_am_to_ids[chars[nguyen_am_index[0]]]\n",
        "        # chars[nguyen_am_index[0]] = bang_nguyen_am[x][0]\n",
        "        x, y = nguyen_am_to_ids[chars[nguyen_am_index[1]]]\n",
        "        chars[nguyen_am_index[1]] = bang_nguyen_am[x][dau_cau]\n",
        "        # x, y = nguyen_am_to_ids[chars[nguyen_am_index[2]]]\n",
        "        # chars[nguyen_am_index[2]] = bang_nguyen_am[x][0]\n",
        "    return ''.join(chars)\n",
        "\n",
        "\n",
        "def is_valid_vietnam_word(word):\n",
        "    chars = list(word)\n",
        "    nguyen_am_index = -1\n",
        "    for index, char in enumerate(chars):\n",
        "        x, y = nguyen_am_to_ids.get(char, (-1, -1))\n",
        "        if x != -1:\n",
        "            if nguyen_am_index == -1:\n",
        "                nguyen_am_index = index\n",
        "            else:\n",
        "                if index - nguyen_am_index != 1:\n",
        "                    return False\n",
        "                nguyen_am_index = index\n",
        "    return True\n",
        "\n",
        "\n",
        "def chuan_hoa_dau_cau_tieng_viet(sentence):\n",
        "    \"\"\"\n",
        "        Chuyển câu tiếng việt về chuẩn gõ dấu kiểu cũ.\n",
        "        :param sentence:\n",
        "        :return:\n",
        "        \"\"\"\n",
        "    sentence = sentence.lower()\n",
        "    words = sentence.split()\n",
        "    for index, word in enumerate(words):\n",
        "        cw = re.sub(r'(^\\p{P}*)([p{L}.]*\\p{L}+)(\\p{P}*$)', r'\\1/\\2/\\3', word).split('/')\n",
        "        # print(cw)\n",
        "        if len(cw) == 3:\n",
        "            cw[1] = chuan_hoa_dau_tu_tieng_viet(cw[1])\n",
        "        words[index] = ''.join(cw)\n",
        "    return ' '.join(words)\n",
        "\n",
        "def remove_html(txt):\n",
        "    return re.sub(r'<[^>]*>', '', txt)"
      ],
      "execution_count": 9,
      "outputs": []
    },
    {
      "cell_type": "code",
      "metadata": {
        "id": "A_lXbaCIfer8"
      },
      "source": [
        "def text_preprocess(document):\n",
        "    # delete html code\n",
        "    document = remove_html(document)\n",
        "    # standardized unicode\n",
        "    document = convert_unicode(document)\n",
        "    # standardized typing Vietnamese accents\n",
        "    document = chuan_hoa_dau_cau_tieng_viet(document)\n",
        "    # lower\n",
        "    document = document.lower()\n",
        "    # delete unnecessary characters \n",
        "    document = re.sub(r'[^\\s\\wáàảãạăắằẳẵặâấầẩẫậéèẻẽẹêếềểễệóòỏõọôốồổỗộơớờởỡợíìỉĩịúùủũụưứừửữựýỳỷỹỵđ_]',' ',document)\n",
        "    # delete extra spaces\n",
        "    document = re.sub(r'\\s+', ' ', document).strip()\n",
        "    return document"
      ],
      "execution_count": 10,
      "outputs": []
    },
    {
      "cell_type": "code",
      "metadata": {
        "id": "VTUkNwHsfpS5"
      },
      "source": [
        "df[\"Comment\"] = df[\"Comment\"].apply(text_preprocess)"
      ],
      "execution_count": 11,
      "outputs": []
    },
    {
      "cell_type": "code",
      "metadata": {
        "id": "_2K3_RQ9hozP"
      },
      "source": [
        "abbr_dict={'k':'không','t':'tôi','fb':'facebook','mess':'messenger','mn':'mọi người','gr':'group','dc':'được','ko':'không','mng':'mọi người','cty':'công ty','1':'một','ngta':'người ta','ng':'người','oki':'ok','thg':'thường','vn':'việt nam','tq':'trung quốc','insta':'instagram','connect':'kết nối','user':'người dùng','h':'giờ','nt':'nhắn tin','dth':'dễ thương','đt':'điện thoại','qc':'quảng cáo','pr':'quảng cáo','ae':'anh em','trung':'trung quốc','tk':'tài khoản','mị':'tôi','chăn rau':'gạ gẫm','ny':'người yêu','lq':'game','wa':'quá','ak':'á','í':'ý','ms':'mới','ip':'iphone','apple':'iphone','kh':'không','cùi':'tệ','dg':'đang','ms':'mới','vs':'với','lm':'làm','bik':'biết','tàu':'trung quốc','tn':'tin nhắn','comment':'bình luận','ng':'người','app':'ứng dụng','u.d':'ứng dụng','j':'gì','mk':'tôi','inb':'nhắn tin','nick':'tài khoản','cmt':'bình luận','update':'nâng cấp','hk':'hông','hoy':'thôi','xh':'xã hội','ntn':'như thế nào',\n",
        "'gr':'group','mxh':'mạng xã hội','đc':'được','ko':'không','fb':'facebook','zl':'zalo','tw':'twitter','tele':'telegram','t':'tôi','mng':'mọi người','ng':'người','nma':'nhưng mà','cty':'công ty','vidcall':'video call','acc':'account','tumblr':'tumbler',\n",
        "'mn':'mọi người','ngta':'người ta','hong':'không','vn':'Việt Nam','vl':'quá trời','cm':'chúng mày','tq':'Trung Quốc','thg':'thường','face':'facebook','hs':'Hoàng Sa','ts':'Trường Sa','vn':'Việt Nam','tq':'Trung Quốc','nn':'nước ngoài','dn':'doanh nghiệp',\n",
        "'fb':'facebook','bt':'biết','vs':'với','pr':'quảng cáo','dth':'dễ thương','sx':'sản xuất','vn':'Việt Nam','pỏn':'porn','ig':'instagram','klq':'không liên quan',\n",
        "'mobi':'mobile','ae':'anh em','ny':'người yêu','nhứt':'nhất','trc':'trước','zm':'zing me','n':'nhiều','mess':'messenger','tk':'tài khoản','r':'rồi','mị':'mình','ib':'inbox','nf':'new feed','nhug':'nhưng','sđ':'sử dụng','tung của':'Trung Quốc','mer':'mơ','cmt':'comment','j':'gì','4rum':'forum','nyc':'người yêu cũ','đc':'được','dùg':'dùng','dùngg':'dùng','trường cđ':'trường cao đẳng','cae':'cả anh em','Ms':'microsoft',\n",
        "'nhìu':'nhiều','sv':'sinh viên','hwa':'hôm qua','ae':'anh em','save':'lưu','bank':'ngân hàng','tgioi':'thế giới','méo':'không','ndung':'nội dung','e':'em','áh':'á',\n",
        "'nf':'new feed','xh':'xã hội','ak':'á','trc':'trước','đb':'đầu bùi','ad':'admin','k':'không','t':'tôi','fb':'facebook','mess':'messenger','mn':'mọi người','gr':'group','dc':'được','ko':'không','mng':'mọi người','cty':'công ty','1':'một','ngta':'người ta','ng':'người','oki':'ok','thg':'thường','vn':'việt nam','tq':'trung quốc','die':'chết','insta':'instagram','connect':'kết nối','user':'người dùng','h':'giờ','nt':'nhắn tin','dth':'dễ thương','đt':'điện thoại','qc':'quảng cáo','pr':'quảng cáo','ae':'anh em','trung':'trung quốc','tk':'tài khoản','mị':'tôi','chăn rau':'gạ gẫm','ny':'người yêu','lq':'game','wa':'quá','ak':'á','í':'ý','ms':'mới','ip':'iphone','apple':'iphone','kh':'không','cùi':'tệ','dg':'đang','ms':'mới','vs':'với','lm':'làm','bik':'biết','tàu':'trung quốc',\n",
        "'tn':'tin nhắn','comment':'bình luận','ng':'người','app':'ứng dụng','u.d':'ứng dụng','j':'gì','mk':'tôi','inb':'nhắn tin','nick':'tài khoản','cmt':'bình luận','update':'nâng cấp','hk':'hông','hoy':'thôi','xh':'xã hội','ntn':'như thế nào','b':'bạn','sp':'sản phẩm','oki':'ok','dùg':'dùng','hk':'không','nc': 'nước','í': 'ý','e':'em','srm': 'sữa rửa mặt','rv': 'review','kcn': 'kem chống nắng','ttrang': 'tẩy trang','bn':'bao nhiêu','r': 'rồi','ah':'ạ','m': 'mình','oke': 'ok','zới': 'với','rw': 'review','klq': 'không liên quan','sr': 'serum','mp': 'mỹ phẩm','cx':'cũng','cj': 'chị','c':'chị','ttbc': 'tẩy tế bào chết','ng':'người','v': 'vậy','ce': 'chị em','hok': 'không','lquan':'liên quan','nèe': 'nè','bạnn': 'bạn','sis': 'chị','pk': 'biết','sg':'sài gòn','ntn': 'như thế này','bit': 'biết','tnao': 'thế nào','okeee':'ok','ơu': 'ơi','xl': 'xin lỗi','bh': 'bây giờ','hh': 'hỗn hợp','cũngg': 'cũng','hjx': 'hic','tr': 'trời','ln': 'luôn','od': 'đặt hàng','thik': 'thích','ncl': 'nói chung là','ơii': 'ơi','n': 'nó','N':'nó','nhiêud': 'nhiều','ek': 'em','Mội': 'mọi','mjnh': 'mình','bth': 'bình thường','gù': 'gì','rww': 'bình luận','lq': 'liên quan','oie': 'ơi','okela': 'ok','mem': 'bạn','siu':'siêu','Vtm tree': 'nhãn_hiệu','gth': 'giới thiệu','yt': 'youtube','th': 'trường hợp','nhưg': 'nhưng','mrm': 'sữa rửa mặt','ci': 'chị','bt': 'biết','pai': 'phải','ngta': 'người ta','m.n': 'mọi người','ms': 'mới','cx': 'cũng','thíc':'thích','dg': 'đang','tt': 'tẩy trang','kb': 'không biết','hq':'Hàn Quốc','sd':'sử dụng','nc':'nước','lcl':'lỗ chân lông','b':'bạn','r':'rồi','mh':'mình','xog':'xong','nh':'nhiều','c':'chị','r':'rồi','m':'mình','auth':'chính hãng','ah':'ạ','sp':'sản phẩm','bn':'bạn','xg':'xong','mk':'mình','bth':'bình thường','or':'hoặc','m.n':'mọi người','v':'vậy','mrm':'sữa rửa mặt','sr':'serum','ngkhac':'người khác','vsinh':'vệ sinh','mn':'mặt nạ','kh':'không','lun':'luôn','hiu hiu':'khóc','bio':'bio','TO':'The Ordinary','td':'tẩy da','nek':'nè','mìk':'mình','ạk':'ạ','mog':'mong','lsao':'là sao','s':'sao','ak':'á','siu siu':'siêu siêu','cx':'cũng','kp':'không phải','bt':'bình thường','hhtd':'hỗn hợp thiên dầu','ord':'đặt hàng','đc':'được','ợ':'ạ','kp':'không phải','đk':'được','nta':'người ta','hời':'trời ơi','td':'tác dụng','sr':'xin lỗi','ui':'ôi','tt':'tẩy trang','oi':'ơi','kb':'không biết','z':'vậy','sis':'chị gái','nvay':'như vậy','vd':'ví dụ','hsinh':'hi sinh','mh':'mình','eee':'ê','a':'anh','hông':'không','bh':'bao giờ','qq':'quần què','gg':'google','mọi ng':'mọi người','ni':'này','hq':'hôm qua','òy':'rồi','rcm':'tư vấn','fai':'phải','vđ':'ví dụ','đg':'đang','ối':'trời ơi','èo':'eo ôi','cskh':'chăm sóc khách hàng','f':'phải','nầy':'này','nx':'nhận xét','zô':'vô','TG':'thế giới','ui':'ơi','hhtk':'hỗn hợp thiên khô','oki':'ok','ytb':'youtuber','ún':'uống','hs':'học sinh','sv':'sinh viên','nc':'nói chung','ng':'người','400k':'400 nghìn','tbc':'tế bào chết','vứiiii':'với','mđ':'mấy đứa','ts':'tới','bn':'bao nhiêu','tờ':'trộn','zs':'với','ch':'chưa','é':'á','okies':'ok','tphan':'thành phần','coa':'có','hk':'không','ttbc':'tẩy tế bào chết','dk':'được','nhma':'nhưng mà','mọe':'mẹ','rì':'nhận xét','dug':'đúng','ck':'chồng','tv':'tư vấn','tg':'thời gian','oy':'ơi','cd':'công dụng','bn':'bạn', 'bum':'bướm','búm':'bướm','nhg':'nhưng','hok':'không','ks':'không sao','qtrong':'quan trọng','tgian':'thời gian','tr':'trời','tnao':'thế nào','hôg':'không','kbt':'không biết sao','body':'cơ thể','review':'bình luận','toner':'nước_dưỡng','naruko':'nhãn_hiệu','saem':'nhãn_hiệu','aztec':'nhãn_hiệu','lotion':'sữa_dưỡng','khoing':'không','skincare':'sp_dưỡng_da','serum':'tinh chất','melano':'nhãn_hiệu','simple':'nhãn_hiệu','laroche':'nhãn_hiệu','senka':'nhãn_hiệu','acnes':'nhãn_hiệu','cerave':'nhãn_hiệu','silicon':'chất hại','liti':'li ti','từg':'từng','fake':'giả','makup':'trang điểm'\n",
        "}\n",
        "def find_replace(list_token, dictionary):\n",
        "    for idx, item in enumerate(list_token): \n",
        "        if item in dictionary.keys():\n",
        "            list_token[idx] = dictionary[item]            \n",
        "    return list_token \n"
      ],
      "execution_count": 12,
      "outputs": []
    },
    {
      "cell_type": "code",
      "metadata": {
        "id": "jWffmf8Un2nI"
      },
      "source": [
        "for i in range(len(df)):\n",
        "    df[\"Comment\"][i] = find_replace(df[\"Comment\"][i].split(' '), abbr_dict)\n",
        "#convert to string\n",
        "for i in range(len(df)):\n",
        "   df[\"Comment\"][i]= ' '.join(df[\"Comment\"][i])\n",
        "comments = df[\"Comment\"]"
      ],
      "execution_count": 13,
      "outputs": []
    },
    {
      "cell_type": "code",
      "metadata": {
        "id": "9PeUfS4w0ivD"
      },
      "source": [
        "for i in range(len(df)):\r\n",
        "  df[\"Comment\"][i] = rdrsegmenter.tokenize(df[\"Comment\"][i])\r\n",
        "  df[\"Comment\"][i] = ' '.join([' '.join(x) for x in df[\"Comment\"][i]])\r\n"
      ],
      "execution_count": 14,
      "outputs": []
    },
    {
      "cell_type": "code",
      "metadata": {
        "id": "TUjeIFv7hVEo"
      },
      "source": [
        "# Find the maximum length\r\n",
        "length = []\r\n",
        "for i in range(len(df)):\r\n",
        "  length.append(len(df[\"Comment\"][i]))"
      ],
      "execution_count": 15,
      "outputs": []
    },
    {
      "cell_type": "code",
      "metadata": {
        "colab": {
          "base_uri": "https://localhost:8080/",
          "height": 313
        },
        "id": "vCsNFBWLi_AS",
        "outputId": "f7d24415-b44a-4e1f-9358-7a393ef0565c"
      },
      "source": [
        "%matplotlib inline\r\n",
        "import matplotlib.pyplot as plt\r\n",
        "import seaborn as sns\r\n",
        "sns.distplot(length)\r\n",
        "plt.xlim([0, 500]);\r\n",
        "plt.xlabel('Token count')\r\n",
        " "
      ],
      "execution_count": 16,
      "outputs": [
        {
          "output_type": "stream",
          "text": [
            "2020-12-14 14:29:24 | INFO | numexpr.utils | NumExpr defaulting to 4 threads.\n"
          ],
          "name": "stderr"
        },
        {
          "output_type": "execute_result",
          "data": {
            "text/plain": [
              "Text(0.5, 0, 'Token count')"
            ]
          },
          "metadata": {
            "tags": []
          },
          "execution_count": 16
        },
        {
          "output_type": "display_data",
          "data": {
            "image/png": "[encoded data removed]",
            "text/plain": [
              "<Figure size 432x288 with 1 Axes>"
            ]
          },
          "metadata": {
            "tags": [],
            "needs_background": "light"
          }
        }
      ]
    },
    {
      "cell_type": "markdown",
      "metadata": {
        "id": "Lr4ughcjKxgb"
      },
      "source": [
        "# Split Train Set và Test Set"
      ]
    },
    {
      "cell_type": "code",
      "metadata": {
        "id": "50z0ozp8ozuC"
      },
      "source": [
        "X_train, X_test, y_train, y_test = train_test_split(df[\"Comment\"], df['Label'], test_size=0.2,random_state=42)"
      ],
      "execution_count": 17,
      "outputs": []
    },
    {
      "cell_type": "code",
      "metadata": {
        "colab": {
          "base_uri": "https://localhost:8080/"
        },
        "id": "HH2wq01f_Ko1",
        "outputId": "e0f78327-002a-464e-c61a-353740ea90bc"
      },
      "source": [
        "test = X_test.tolist()\r\n",
        "print('Train:\\n',y_train.value_counts(normalize=False))\r\n",
        "print('Test:\\n',y_test.value_counts(normalize=False))"
      ],
      "execution_count": 18,
      "outputs": [
        {
          "output_type": "stream",
          "text": [
            "Train:\n",
            " 0    1060\n",
            "1     872\n",
            "Name: Label, dtype: int64\n",
            "Test:\n",
            " 0    262\n",
            "1    221\n",
            "Name: Label, dtype: int64\n"
          ],
          "name": "stdout"
        }
      ]
    },
    {
      "cell_type": "markdown",
      "metadata": {
        "id": "jXxgwdIuLEVq"
      },
      "source": [
        "# Machine Learning"
      ]
    },
    {
      "cell_type": "markdown",
      "metadata": {
        "id": "ykiAy-y_NsTP"
      },
      "source": [
        "Vector hóa dữ liệu: TF-IDF"
      ]
    },
    {
      "cell_type": "code",
      "metadata": {
        "colab": {
          "base_uri": "https://localhost:8080/"
        },
        "id": "Y1f2lCvRQCfO",
        "outputId": "c093a038-61e0-407b-98a2-e4316f7491b5"
      },
      "source": [
        "from sklearn.feature_extraction.text import CountVectorizer\r\n",
        "cv = CountVectorizer()\r\n",
        "X_cv = cv.fit_transform(X_train)\r\n",
        "print(X_cv.shape[1])"
      ],
      "execution_count": 19,
      "outputs": [
        {
          "output_type": "stream",
          "text": [
            "3922\n"
          ],
          "name": "stdout"
        }
      ]
    },
    {
      "cell_type": "code",
      "metadata": {
        "id": "A1zuaKb4LaCh"
      },
      "source": [
        "tfidf = TfidfVectorizer(max_features= 3870, max_df=0.9)\r\n",
        "X_train_tfidf = tfidf.fit_transform(X_train.astype('U')).toarray()\r\n",
        "X_test_tfidf = tfidf.transform(X_test.astype('U')).toarray()"
      ],
      "execution_count": 20,
      "outputs": []
    },
    {
      "cell_type": "code",
      "metadata": {
        "colab": {
          "base_uri": "https://localhost:8080/"
        },
        "id": "B3AK7lKtSaVt",
        "outputId": "17b85ebf-9822-4117-aad1-3362ed4863a2"
      },
      "source": [
        "X_train_tfidf.shape"
      ],
      "execution_count": 21,
      "outputs": [
        {
          "output_type": "execute_result",
          "data": {
            "text/plain": [
              "(1932, 3870)"
            ]
          },
          "metadata": {
            "tags": []
          },
          "execution_count": 21
        }
      ]
    },
    {
      "cell_type": "code",
      "metadata": {
        "id": "5vfUWRvoVXnV"
      },
      "source": [
        "# Standardize data\r\n",
        "sc = StandardScaler()\r\n",
        "X_train_tfidf = sc.fit_transform(X_train_tfidf)\r\n",
        "X_test_tfidf = sc.transform(X_test_tfidf)"
      ],
      "execution_count": 22,
      "outputs": []
    },
    {
      "cell_type": "code",
      "metadata": {
        "colab": {
          "base_uri": "https://localhost:8080/",
          "height": 430
        },
        "id": "Wiy5lbpSLaSB",
        "outputId": "c4d385f6-535c-4ae6-9fbb-14d4d3756695"
      },
      "source": [
        "%%time\r\n",
        "models = []\r\n",
        "models.append(('LR', LogisticRegression()))\r\n",
        "models.append(('KNN', KNeighborsClassifier()))\r\n",
        "models.append(('DTree', DecisionTreeClassifier()))\r\n",
        "models.append(('NB', GaussianNB()))\r\n",
        "models.append(('SVM', SVC()))\r\n",
        "models.append(('RF',RandomForestClassifier()))\r\n",
        "\r\n",
        "results = []\r\n",
        "names = []\r\n",
        "scoring='f1_macro'\r\n",
        "for name, model in models:\r\n",
        "\tkfold = model_selection.KFold(n_splits=5)\r\n",
        "\tcv_results = model_selection.cross_val_score(model, X_train_tfidf, y_train, cv=kfold, scoring=scoring)\r\n",
        "\tresults.append(cv_results)\r\n",
        "\tnames.append(name)\r\n",
        "\tmsg = \"%s: %f (%f)\" % (name, cv_results.mean(), cv_results.std())\r\n",
        "\tprint(msg)\r\n",
        "  \r\n",
        "fig = plt.figure()\r\n",
        "fig.suptitle('Algorithm Comparison')\r\n",
        "ax = fig.add_subplot(111)\r\n",
        "plt.boxplot(results)\r\n",
        "ax.set_xticklabels(names)\r\n",
        "\r\n",
        "plt.show()"
      ],
      "execution_count": 23,
      "outputs": [
        {
          "output_type": "stream",
          "text": [
            "LR: 0.715038 (0.023892)\n",
            "KNN: 0.600012 (0.036689)\n",
            "DTree: 0.667756 (0.018059)\n",
            "NB: 0.646682 (0.023959)\n",
            "SVM: 0.710070 (0.023033)\n",
            "RF: 0.741745 (0.025851)\n"
          ],
          "name": "stdout"
        },
        {
          "output_type": "display_data",
          "data": {
            "image/png": "[encoded data removed]",
            "text/plain": [
              "<Figure size 432x288 with 1 Axes>"
            ]
          },
          "metadata": {
            "tags": [],
            "needs_background": "light"
          }
        },
        {
          "output_type": "stream",
          "text": [
            "CPU times: user 1min 58s, sys: 1.53 s, total: 2min\n",
            "Wall time: 1min 56s\n"
          ],
          "name": "stdout"
        }
      ]
    },
    {
      "cell_type": "code",
      "metadata": {
        "id": "0joYMNIxpLXd",
        "colab": {
          "base_uri": "https://localhost:8080/"
        },
        "outputId": "f197223f-1bd3-4d7b-fe0f-f609bf4a42f8"
      },
      "source": [
        "%%time\r\n",
        "#Tuning hyparameters of Random Forest\r\n",
        "from sklearn.model_selection import GridSearchCV\r\n",
        "\r\n",
        "grid_param = {\r\n",
        "    'n_estimators': [100, 300, 500, 800, 1000],\r\n",
        "    'criterion': ['gini', 'entropy'],\r\n",
        "    'bootstrap': [True, False]\r\n",
        "}\r\n",
        "\r\n",
        "rf_grid = GridSearchCV(estimator=RandomForestClassifier(), param_grid=grid_param, cv= 5,scoring='f1_macro')\r\n",
        "\r\n",
        "rf_grid.fit(X_train_tfidf, y_train)\r\n",
        "\r\n",
        "print(rf_grid.best_params_)\r\n",
        "print(rf_grid.best_score_)\r\n"
      ],
      "execution_count": 24,
      "outputs": [
        {
          "output_type": "stream",
          "text": [
            "{'bootstrap': True, 'criterion': 'entropy', 'n_estimators': 800}\n",
            "0.7541658699541927\n",
            "CPU times: user 18min 10s, sys: 838 ms, total: 18min 11s\n",
            "Wall time: 18min 11s\n"
          ],
          "name": "stdout"
        }
      ]
    },
    {
      "cell_type": "code",
      "metadata": {
        "id": "yRE5lGFo48Br",
        "colab": {
          "base_uri": "https://localhost:8080/"
        },
        "outputId": "6550fba0-28c4-413a-9d81-fd3532c8af83"
      },
      "source": [
        "%%time\r\n",
        "#Tuning hyparameters of Logistic Regression\r\n",
        "grid_param = {\"C\": [0.001,0.01,0.1,1,10],\r\n",
        "\"penalty\" : ['l1', 'l2']\r\n",
        "}\r\n",
        "lr_grid = GridSearchCV(estimator=LogisticRegression(), param_grid=grid_param, cv= 5,scoring='f1_macro')\r\n",
        "\r\n",
        "lr_grid.fit(X_train_tfidf, y_train)\r\n",
        "\r\n",
        "print(lr_grid.best_params_)\r\n",
        "print(lr_grid.best_score_)"
      ],
      "execution_count": 25,
      "outputs": [
        {
          "output_type": "stream",
          "text": [
            "{'C': 0.01, 'penalty': 'l2'}\n",
            "0.7447393020108238\n",
            "CPU times: user 13.9 s, sys: 5.72 s, total: 19.6 s\n",
            "Wall time: 5.01 s\n"
          ],
          "name": "stdout"
        }
      ]
    },
    {
      "cell_type": "code",
      "metadata": {
        "id": "gouMzGm-5IYO",
        "colab": {
          "base_uri": "https://localhost:8080/"
        },
        "outputId": "a0b79134-6d3f-49fa-fdf0-f74f1138932b"
      },
      "source": [
        "%%time\r\n",
        "#Tuning hyparameters of Decison Tree\r\n",
        "\r\n",
        "grid_param = {'criterion': ['gini', 'entropy'],\r\n",
        "             'max_depth': ['None',1, 2, 3, 4, 5, 6, 7, 8],\r\n",
        "             'min_samples_split': [1,2,3,4]}\r\n",
        "\r\n",
        "DT_grid = GridSearchCV(estimator=DecisionTreeClassifier(), \r\n",
        "                     param_grid=grid_param, \r\n",
        "                     cv=5, \r\n",
        "                     scoring='f1_macro')\r\n",
        "\r\n",
        "DT_grid.fit(X_train_tfidf, y_train);\r\n",
        "\r\n",
        "print(DT_grid.best_params_)\r\n",
        "\r\n",
        "print(DT_grid.best_score_)"
      ],
      "execution_count": 26,
      "outputs": [
        {
          "output_type": "stream",
          "text": [
            "{'criterion': 'gini', 'max_depth': 8, 'min_samples_split': 3}\n",
            "0.6034930765199702\n",
            "CPU times: user 1min 2s, sys: 374 ms, total: 1min 2s\n",
            "Wall time: 1min 2s\n"
          ],
          "name": "stdout"
        }
      ]
    },
    {
      "cell_type": "code",
      "metadata": {
        "id": "XdqAv6gP_sKg",
        "colab": {
          "base_uri": "https://localhost:8080/"
        },
        "outputId": "d284a22a-5851-49fd-8bbb-2f9c2caba83b"
      },
      "source": [
        "%%time\r\n",
        "#Tuning hyparameters of SVM\r\n",
        "grid_param = {'C': [0.0001,0.01,0.1,1,10,100,1000],\r\n",
        "             'gamma': [1, 0.1, 0.001, 0.0001],\r\n",
        "             'kernel': ['linear', 'rbf']}\r\n",
        "\r\n",
        "SVM_grid = GridSearchCV(estimator=SVC(), \r\n",
        "                     param_grid=grid_param, \r\n",
        "                     cv=5, \r\n",
        "                     scoring='f1_macro')\r\n",
        "\r\n",
        "SVM_grid.fit(X_train_tfidf, y_train);\r\n",
        "\r\n",
        "print(SVM_grid.best_params_)\r\n",
        "\r\n",
        "print(SVM_grid.best_score_)"
      ],
      "execution_count": 27,
      "outputs": [
        {
          "output_type": "stream",
          "text": [
            "{'C': 10, 'gamma': 0.0001, 'kernel': 'rbf'}\n",
            "0.7463531819737116\n",
            "CPU times: user 1h 8min 58s, sys: 260 ms, total: 1h 8min 58s\n",
            "Wall time: 1h 8min 58s\n"
          ],
          "name": "stdout"
        }
      ]
    },
    {
      "cell_type": "code",
      "metadata": {
        "id": "klcQ_de7C4w-",
        "colab": {
          "base_uri": "https://localhost:8080/"
        },
        "outputId": "657269ed-0e5f-4ebf-864d-519ef807906f"
      },
      "source": [
        "%%time\r\n",
        "# Final Results in Test Set\r\n",
        "models = []\r\n",
        "models.append(SVM_grid.best_estimator_)\r\n",
        "models.append(rf_grid.best_estimator_)\r\n",
        "models.append(lr_grid.best_estimator_)\r\n",
        "models.append(DT_grid.best_estimator_)\r\n",
        "\r\n",
        "for model in models:\r\n",
        "  y_pred = model.predict(X_test_tfidf)\r\n",
        "  print(classification_report(y_test, y_pred,digits=4))"
      ],
      "execution_count": 28,
      "outputs": [
        {
          "output_type": "stream",
          "text": [
            "              precision    recall  f1-score   support\n",
            "\n",
            "           0     0.8119    0.6756    0.7375       262\n",
            "           1     0.6792    0.8145    0.7407       221\n",
            "\n",
            "    accuracy                         0.7391       483\n",
            "   macro avg     0.7456    0.7450    0.7391       483\n",
            "weighted avg     0.7512    0.7391    0.7390       483\n",
            "\n",
            "              precision    recall  f1-score   support\n",
            "\n",
            "           0     0.7463    0.7748    0.7603       262\n",
            "           1     0.7204    0.6878    0.7037       221\n",
            "\n",
            "    accuracy                         0.7350       483\n",
            "   macro avg     0.7334    0.7313    0.7320       483\n",
            "weighted avg     0.7345    0.7350    0.7344       483\n",
            "\n",
            "              precision    recall  f1-score   support\n",
            "\n",
            "           0     0.7826    0.7557    0.7689       262\n",
            "           1     0.7217    0.7511    0.7361       221\n",
            "\n",
            "    accuracy                         0.7536       483\n",
            "   macro avg     0.7522    0.7534    0.7525       483\n",
            "weighted avg     0.7548    0.7536    0.7539       483\n",
            "\n",
            "              precision    recall  f1-score   support\n",
            "\n",
            "           0     0.6233    0.8779    0.7290       262\n",
            "           1     0.7193    0.3710    0.4896       221\n",
            "\n",
            "    accuracy                         0.6460       483\n",
            "   macro avg     0.6713    0.6245    0.6093       483\n",
            "weighted avg     0.6672    0.6460    0.6194       483\n",
            "\n",
            "CPU times: user 4.47 s, sys: 36 ms, total: 4.51 s\n",
            "Wall time: 4.46 s\n"
          ],
          "name": "stdout"
        }
      ]
    },
    {
      "cell_type": "markdown",
      "metadata": {
        "id": "TBPMS_wqLB0D"
      },
      "source": [
        "# Bert"
      ]
    },
    {
      "cell_type": "code",
      "metadata": {
        "id": "8xyLNZxIo0X3"
      },
      "source": [
        "MAX_LEN = 200\n",
        "\n",
        "train_ids = []\n",
        "for sent in X_train:\n",
        "    subwords = '<s> ' + bpe.encode(sent) + ' </s>'\n",
        "    encoded_sent = vocab.encode_line(subwords, append_eos=True, add_if_not_exist=False).long().tolist()\n",
        "    train_ids.append(encoded_sent)\n",
        "\n",
        "test_ids = []\n",
        "for sent in X_test:\n",
        "    subwords = '<s> ' + bpe.encode(sent) + ' </s>'\n",
        "    encoded_sent = vocab.encode_line(subwords, append_eos=True, add_if_not_exist=False).long().tolist()\n",
        "    test_ids.append(encoded_sent)\n",
        "    \n",
        "train_ids = pad_sequences(train_ids, maxlen=MAX_LEN, dtype=\"long\", value=0, truncating=\"post\", padding=\"post\")\n",
        "test_ids = pad_sequences(test_ids, maxlen=MAX_LEN, dtype=\"long\", value=0, truncating=\"post\", padding=\"post\")"
      ],
      "execution_count": 29,
      "outputs": []
    },
    {
      "cell_type": "code",
      "metadata": {
        "id": "6t7cSUH_pP9p"
      },
      "source": [
        "train_masks = []\n",
        "for sent in train_ids:\n",
        "    mask = [int(token_id > 0) for token_id in sent]\n",
        "    train_masks.append(mask)\n",
        "\n",
        "test_masks = []\n",
        "for sent in test_ids:\n",
        "    mask = [int(token_id > 0) for token_id in sent]\n",
        "\n",
        "    test_masks.append(mask)"
      ],
      "execution_count": 30,
      "outputs": []
    },
    {
      "cell_type": "code",
      "metadata": {
        "id": "mVAly4LvpScC"
      },
      "source": [
        "train_inputs = torch.tensor(train_ids)\n",
        "test_inputs = torch.tensor(test_ids)\n",
        "y_train = torch.tensor((y_train.tolist()).copy())\n",
        "y_test = torch.tensor((y_test.tolist()).copy())\n",
        "train_masks = torch.tensor(train_masks)\n",
        "test_masks = torch.tensor(test_masks)\n",
        "\n",
        "train_data = TensorDataset(train_inputs, train_masks, y_train)\n",
        "train_sampler = SequentialSampler(train_data)\n",
        "train_dataloader = DataLoader(train_data, sampler=train_sampler, batch_size=32)\n",
        "\n",
        "test_data = TensorDataset(test_inputs, test_masks, y_test)\n",
        "test_sampler = SequentialSampler(test_data)\n",
        "test_dataloader = DataLoader(test_data, sampler=test_sampler, batch_size=32)"
      ],
      "execution_count": 31,
      "outputs": []
    },
    {
      "cell_type": "code",
      "metadata": {
        "id": "KpSc7CYGrhA9",
        "colab": {
          "base_uri": "https://localhost:8080/"
        },
        "outputId": "87bc16f1-7c35-4bfc-876e-e12317357b2b"
      },
      "source": [
        "from transformers import RobertaForSequenceClassification, RobertaConfig, AdamW\n",
        "\n",
        "config = RobertaConfig.from_pretrained(\n",
        "    \"/content/drive/MyDrive/Colab Notebooks/PhoBERT_base_transformers/PhoBERT_base_transformers/config.json\", from_tf=False, num_labels = 2, output_hidden_states=False,\n",
        ")\n",
        "BERT = RobertaForSequenceClassification.from_pretrained(\n",
        "    \"/content/drive/MyDrive/Colab Notebooks/PhoBERT_base_transformers/PhoBERT_base_transformers/model.bin\",\n",
        "    config=config\n",
        ")"
      ],
      "execution_count": 32,
      "outputs": [
        {
          "output_type": "stream",
          "text": [
            "Some weights of the model checkpoint at /content/drive/MyDrive/Colab Notebooks/PhoBERT_base_transformers/PhoBERT_base_transformers/model.bin were not used when initializing RobertaForSequenceClassification: ['lm_head.bias', 'lm_head.dense.weight', 'lm_head.dense.bias', 'lm_head.layer_norm.weight', 'lm_head.layer_norm.bias', 'lm_head.decoder.weight', 'lm_head.decoder.bias']\n",
            "- This IS expected if you are initializing RobertaForSequenceClassification from the checkpoint of a model trained on another task or with another architecture (e.g. initializing a BertForSequenceClassification model from a BertForPretraining model).\n",
            "- This IS NOT expected if you are initializing RobertaForSequenceClassification from the checkpoint of a model that you expect to be exactly identical (initializing a BertForSequenceClassification model from a BertForSequenceClassification model).\n",
            "Some weights of RobertaForSequenceClassification were not initialized from the model checkpoint at /content/drive/MyDrive/Colab Notebooks/PhoBERT_base_transformers/PhoBERT_base_transformers/model.bin and are newly initialized: ['classifier.dense.weight', 'classifier.dense.bias', 'classifier.out_proj.weight', 'classifier.out_proj.bias']\n",
            "You should probably TRAIN this model on a down-stream task to be able to use it for predictions and inference.\n"
          ],
          "name": "stderr"
        }
      ]
    },
    {
      "cell_type": "code",
      "metadata": {
        "id": "TeUopsaJuPjO",
        "colab": {
          "base_uri": "https://localhost:8080/"
        },
        "outputId": "5c731a0b-b79b-418d-bf14-ca09cd8ee326"
      },
      "source": [
        "BERT.cuda()\r\n",
        "print('Done')"
      ],
      "execution_count": 33,
      "outputs": [
        {
          "output_type": "stream",
          "text": [
            "Done\n"
          ],
          "name": "stdout"
        }
      ]
    },
    {
      "cell_type": "code",
      "metadata": {
        "id": "94nXDdoyqHEQ"
      },
      "source": [
        "def flat_accuracy(preds, labels):\n",
        "    pred_flat = np.argmax(preds, axis=1).flatten()\n",
        "    labels_flat = labels.flatten()\n",
        "    \n",
        "    F1_score = f1_score(pred_flat, labels_flat, average='macro')\n",
        "    \n",
        "    return accuracy_score(pred_flat, labels_flat), F1_score"
      ],
      "execution_count": 34,
      "outputs": []
    },
    {
      "cell_type": "code",
      "metadata": {
        "id": "SHcvhGnGru9M",
        "colab": {
          "base_uri": "https://localhost:8080/",
          "height": 1000,
          "referenced_widgets": [
            "b6ced43312fd44e3a99c5fccb5d3c9ef",
            "ceab14f42e8943a7b429ce01a409d3f3",
            "e4968700a4284ea3bb9024c7b3e08ac0",
            "da529aa4fec847c9bc5f951bf57a745a",
            "73febbb681e244feb6fb7d5c87914113",
            "7b842b9010f64bcdbdfb83eab7ec0d72",
            "dbc1239877824de6bbeacd8ea85ee276",
            "ec647b9e33e34d28bae32650da4efdd7",
            "f3a37d23f8f14f07802a1f4885368a11",
            "6441fd6dcee24814ade89a1555f3d4b8",
            "523e916fbbce459a8308e3d2ee51188a",
            "020888cc06e24e6e9e4d1e30a9eb8df4",
            "0aaacc773bf24fc7babf88b902dd21a8",
            "c273675ce2fd4bb8ba6eeafc250677cb",
            "7f137e6af7a645238c39b2448ee7d797",
            "6c98e8b3e6fe4ab69c33a1eb551cc1fe",
            "34633e05043644c7ace15593b5cb656f",
            "eda342a0e18446d798a5b5b411d4008f",
            "1f9a5744f69d43d19a9be341403b85fb",
            "c1f6a305854048e2aa097c73c6156f4f",
            "a5c7284edbed4beea9112d874ba61d8d",
            "307e6b0479eb4ffe83077f43bddfdbb3",
            "689ee7001cc6480e872264ff161a9ecf",
            "2d1b3fcd88434f53afc5fa1550fb176b",
            "37f01bcf5a7a448fbaa4b705b7497a28",
            "0f6f00937fbd42d18543eda5d0f55bd5",
            "903e9707f1494306ab84ff0e38b8e769",
            "ef0dcd3a1dac48d7a1c2b310d78d16d1",
            "de177bf2ce1b4bd4b1a544b0e583aa4f",
            "1fc4a4205fcf421f9c9711fe4eed027b",
            "b581b8da80054a50866e8397385632a6",
            "ee0f9c2671af4dd4978e69be0ca4842f",
            "50ebed7349c142798949df1f7f17aca1",
            "12d5027c52154c6dace4e44c2c7f00c0",
            "4582a9a42d074000a25983066e4c3fb8",
            "d7b04a66b21d4d049aeb9b2c554d51af",
            "d035d6fa1265410092001b8b95d9d7c7",
            "eb3bc8dd1dac49ec90895f8022475544",
            "423e99163a524031b2848c2c35f33972",
            "ba65b8ec39ed46e28c65a5f30819b5c2",
            "657f7d2f860a4580a6e269cd853e6178",
            "aaa9cd59bdd14274a52827f1e187f27a",
            "6e1006a97c6347419a42c860f41387ef",
            "ccfbe7b2664d49e4aa06243ccf5eedb1",
            "2b5b66ff65be4fdb819f7156594d7c41",
            "6da6b62e91cc4f01a0685d91c32f9a30",
            "a9adb78f9e004f4494cfa2c7082d6611",
            "7f078f130a1141798c7c815f03ab649c",
            "3d1df0dfebdb453f9a5b6e24d76c1790",
            "112d4f49db8d453c95391fada7cbef7a",
            "b36fe9852ce84779b97721f3279e28c1",
            "fe928c737c2b4bc2bafb823afe0cadc0",
            "81283bd2117b4d3a906584277ee61d86",
            "2c25aff6568c45c68b581c9c7930a624",
            "99e2d5dba2e84663a0f138876ae1efed",
            "3e8d4c114adc4ed7b444b8d4c3e8e22a",
            "4c07150341204d87986a239253ac0fe5",
            "d683c653d8fb4bd6a1dd0b6261883ae1",
            "7cd063a2d7704c7ea8e7e702ed860c4c",
            "2c2491b372174428a5584abbe79d9650",
            "97ef34ae68ce4397ad78fbb5b13af192",
            "160597f1cb184567b7fc0861e813f205",
            "ff49434f6781453ebc306b5354cd6289",
            "73cf70bf382d4542884dfa42a84b3043",
            "9afab85b2a674d99bbc6a01960ba6797",
            "eac1b0196dfe45dfbee6c7c2e4782c79",
            "12d2e466abe542c19e1965c36e736e32",
            "d2f2f7d88972435aa40bf14acce457fe",
            "d39bb347c10440ee81a42d06a69914e9",
            "63cb5efc4ff84ab486b24b82bebb7b7f",
            "5bae10e7aea54ad88eccf9b4a856d871",
            "388cf5878343436096ef028f6cb0a954",
            "fa840b1baae44aafaeca0135a6d3d76c",
            "89a3ac47ef0242cda547bfec31949e13",
            "5d746ace87864003a3bdd81412dc3447",
            "f4bb0cf8f0d9445ebc87556a8427f1f8",
            "1f6c407025374195b6c1734f7a496bd3",
            "61225230803c434797b8e492181f4531",
            "91a56c6872a0453181bd85aabfaa15f7",
            "516344d127a246df91fddae5cae0cd26"
          ]
        },
        "outputId": "00adb2ff-c14b-41f6-f145-ff730bc9dcca"
      },
      "source": [
        "device = 'cuda'\n",
        "epochs = 5\n",
        "\n",
        "param_optimizer = list(BERT.named_parameters())\n",
        "no_decay = ['bias', 'LayerNorm.bias', 'LayerNorm.weight']\n",
        "optimizer_grouped_parameters = [\n",
        "    {'params': [p for n, p in param_optimizer if not any(nd in n for nd in no_decay)], 'weight_decay': 0.01},\n",
        "    {'params': [p for n, p in param_optimizer if any(nd in n for nd in no_decay)], 'weight_decay': 0.0}\n",
        "]\n",
        "\n",
        "optimizer = AdamW(optimizer_grouped_parameters, lr=1e-5, correct_bias=False)\n",
        "\n",
        "\n",
        "for epoch_i in range(0, epochs):\n",
        "    print('======== Epoch {:} / {:} ========'.format(epoch_i + 1, epochs))\n",
        "    print('Training...')\n",
        "\n",
        "    total_loss = 0\n",
        "    BERT.train()\n",
        "    train_accuracy = 0\n",
        "    nb_train_steps = 0\n",
        "    train_f1 = 0\n",
        "    \n",
        "    for step, batch in tqdm_notebook(enumerate(train_dataloader)):\n",
        "        b_input_ids = batch[0].to(device)\n",
        "        b_input_mask = batch[1].to(device)\n",
        "        b_labels = batch[2].to(device)\n",
        "\n",
        "        BERT.zero_grad()\n",
        "        outputs = BERT(b_input_ids, \n",
        "            token_type_ids=None, \n",
        "            attention_mask=b_input_mask, \n",
        "            labels=b_labels)\n",
        "        loss = outputs[0]\n",
        "        total_loss += loss.item()\n",
        "        \n",
        "        logits = outputs[1].detach().cpu().numpy()\n",
        "        label_ids = b_labels.to('cpu').numpy()\n",
        "        tmp_train_accuracy, tmp_train_f1 = flat_accuracy(logits, label_ids)\n",
        "        train_accuracy += tmp_train_accuracy\n",
        "        train_f1 += tmp_train_f1\n",
        "        nb_train_steps += 1\n",
        "        \n",
        "        loss.backward()\n",
        "        torch.nn.utils.clip_grad_norm_(BERT.parameters(), 1.0)\n",
        "        optimizer.step()\n",
        "        \n",
        "    avg_train_loss = total_loss / len(train_dataloader)\n",
        "    print(\" Accuracy: {0:.4f}\".format(train_accuracy/nb_train_steps))\n",
        "    print(\" F1 score: {0:.4f}\".format(train_f1/nb_train_steps))\n",
        "    print(\" Average training loss: {0:.4f}\".format(avg_train_loss))\n",
        "\n",
        "    print(\"Running Test...\")\n",
        "    BERT.eval()\n",
        "    eval_loss, eval_accuracy = 0, 0\n",
        "    nb_eval_steps, nb_eval_examples = 0, 0\n",
        "    eval_f1 = 0\n",
        "    y_pred = []\n",
        "    for batch in tqdm_notebook(test_dataloader):\n",
        "\n",
        "        batch = tuple(t.to(device) for t in batch)\n",
        "\n",
        "        b_input_ids, b_input_mask, b_labels = batch\n",
        "\n",
        "        with torch.no_grad():\n",
        "            outputs = BERT(b_input_ids, \n",
        "            token_type_ids=None, \n",
        "            attention_mask=b_input_mask)\n",
        "            logits = outputs[0]\n",
        "            \n",
        "            logits = logits.detach().cpu().numpy()\n",
        "            label_ids = b_labels.to('cpu').numpy()\n",
        "            pred_flat = np.argmax(logits, axis=1).flatten()\n",
        "            for i in pred_flat:\n",
        "              y_pred.append(i)\n",
        "\n",
        "            tmp_eval_accuracy, tmp_eval_f1 = flat_accuracy(logits, label_ids)\n",
        "\n",
        "            eval_accuracy += tmp_eval_accuracy\n",
        "            eval_f1 += tmp_eval_f1\n",
        "            nb_eval_steps += 1\n",
        "    print(\" Accuracy: {0:.4f}\".format(eval_accuracy/nb_eval_steps))\n",
        "    print(\" F1 score: {0:.4f}\".format(eval_f1/nb_eval_steps))\n",
        "print(\"Training complete!\")"
      ],
      "execution_count": 35,
      "outputs": [
        {
          "output_type": "stream",
          "text": [
            "======== Epoch 1 / 5 ========\n",
            "Training...\n"
          ],
          "name": "stdout"
        },
        {
          "output_type": "display_data",
          "data": {
            "application/vnd.jupyter.widget-view+json": {
              "model_id": "b6ced43312fd44e3a99c5fccb5d3c9ef",
              "version_minor": 0,
              "version_major": 2
            },
            "text/plain": [
              "HBox(children=(FloatProgress(value=1.0, bar_style='info', max=1.0), HTML(value='')))"
            ]
          },
          "metadata": {
            "tags": []
          }
        },
        {
          "output_type": "stream",
          "text": [
            "\n",
            " Accuracy: 0.6621\n",
            " F1 score: 0.6226\n",
            " Average training loss: 0.5820\n",
            "Running Test...\n"
          ],
          "name": "stdout"
        },
        {
          "output_type": "display_data",
          "data": {
            "application/vnd.jupyter.widget-view+json": {
              "model_id": "f3a37d23f8f14f07802a1f4885368a11",
              "version_minor": 0,
              "version_major": 2
            },
            "text/plain": [
              "HBox(children=(FloatProgress(value=0.0, max=16.0), HTML(value='')))"
            ]
          },
          "metadata": {
            "tags": []
          }
        },
        {
          "output_type": "stream",
          "text": [
            "\n",
            " Accuracy: 0.7819\n",
            " F1 score: 0.7581\n",
            "======== Epoch 2 / 5 ========\n",
            "Training...\n"
          ],
          "name": "stdout"
        },
        {
          "output_type": "display_data",
          "data": {
            "application/vnd.jupyter.widget-view+json": {
              "model_id": "34633e05043644c7ace15593b5cb656f",
              "version_minor": 0,
              "version_major": 2
            },
            "text/plain": [
              "HBox(children=(FloatProgress(value=1.0, bar_style='info', max=1.0), HTML(value='')))"
            ]
          },
          "metadata": {
            "tags": []
          }
        },
        {
          "output_type": "stream",
          "text": [
            "\n",
            " Accuracy: 0.8260\n",
            " F1 score: 0.8172\n",
            " Average training loss: 0.3850\n",
            "Running Test...\n"
          ],
          "name": "stdout"
        },
        {
          "output_type": "display_data",
          "data": {
            "application/vnd.jupyter.widget-view+json": {
              "model_id": "37f01bcf5a7a448fbaa4b705b7497a28",
              "version_minor": 0,
              "version_major": 2
            },
            "text/plain": [
              "HBox(children=(FloatProgress(value=0.0, max=16.0), HTML(value='')))"
            ]
          },
          "metadata": {
            "tags": []
          }
        },
        {
          "output_type": "stream",
          "text": [
            "\n",
            " Accuracy: 0.8262\n",
            " F1 score: 0.8213\n",
            "======== Epoch 3 / 5 ========\n",
            "Training...\n"
          ],
          "name": "stdout"
        },
        {
          "output_type": "display_data",
          "data": {
            "application/vnd.jupyter.widget-view+json": {
              "model_id": "50ebed7349c142798949df1f7f17aca1",
              "version_minor": 0,
              "version_major": 2
            },
            "text/plain": [
              "HBox(children=(FloatProgress(value=1.0, bar_style='info', max=1.0), HTML(value='')))"
            ]
          },
          "metadata": {
            "tags": []
          }
        },
        {
          "output_type": "stream",
          "text": [
            "\n",
            " Accuracy: 0.9032\n",
            " F1 score: 0.8980\n",
            " Average training loss: 0.2458\n",
            "Running Test...\n"
          ],
          "name": "stdout"
        },
        {
          "output_type": "display_data",
          "data": {
            "application/vnd.jupyter.widget-view+json": {
              "model_id": "657f7d2f860a4580a6e269cd853e6178",
              "version_minor": 0,
              "version_major": 2
            },
            "text/plain": [
              "HBox(children=(FloatProgress(value=0.0, max=16.0), HTML(value='')))"
            ]
          },
          "metadata": {
            "tags": []
          }
        },
        {
          "output_type": "stream",
          "text": [
            "\n",
            " Accuracy: 0.8516\n",
            " F1 score: 0.8467\n",
            "======== Epoch 4 / 5 ========\n",
            "Training...\n"
          ],
          "name": "stdout"
        },
        {
          "output_type": "display_data",
          "data": {
            "application/vnd.jupyter.widget-view+json": {
              "model_id": "3d1df0dfebdb453f9a5b6e24d76c1790",
              "version_minor": 0,
              "version_major": 2
            },
            "text/plain": [
              "HBox(children=(FloatProgress(value=1.0, bar_style='info', max=1.0), HTML(value='')))"
            ]
          },
          "metadata": {
            "tags": []
          }
        },
        {
          "output_type": "stream",
          "text": [
            "\n",
            " Accuracy: 0.9298\n",
            " F1 score: 0.9263\n",
            " Average training loss: 0.1905\n",
            "Running Test...\n"
          ],
          "name": "stdout"
        },
        {
          "output_type": "display_data",
          "data": {
            "application/vnd.jupyter.widget-view+json": {
              "model_id": "4c07150341204d87986a239253ac0fe5",
              "version_minor": 0,
              "version_major": 2
            },
            "text/plain": [
              "HBox(children=(FloatProgress(value=0.0, max=16.0), HTML(value='')))"
            ]
          },
          "metadata": {
            "tags": []
          }
        },
        {
          "output_type": "stream",
          "text": [
            "\n",
            " Accuracy: 0.8555\n",
            " F1 score: 0.8513\n",
            "======== Epoch 5 / 5 ========\n",
            "Training...\n"
          ],
          "name": "stdout"
        },
        {
          "output_type": "display_data",
          "data": {
            "application/vnd.jupyter.widget-view+json": {
              "model_id": "9afab85b2a674d99bbc6a01960ba6797",
              "version_minor": 0,
              "version_major": 2
            },
            "text/plain": [
              "HBox(children=(FloatProgress(value=1.0, bar_style='info', max=1.0), HTML(value='')))"
            ]
          },
          "metadata": {
            "tags": []
          }
        },
        {
          "output_type": "stream",
          "text": [
            "\n",
            " Accuracy: 0.9580\n",
            " F1 score: 0.9563\n",
            " Average training loss: 0.1163\n",
            "Running Test...\n"
          ],
          "name": "stdout"
        },
        {
          "output_type": "display_data",
          "data": {
            "application/vnd.jupyter.widget-view+json": {
              "model_id": "fa840b1baae44aafaeca0135a6d3d76c",
              "version_minor": 0,
              "version_major": 2
            },
            "text/plain": [
              "HBox(children=(FloatProgress(value=0.0, max=16.0), HTML(value='')))"
            ]
          },
          "metadata": {
            "tags": []
          }
        },
        {
          "output_type": "stream",
          "text": [
            "\n",
            " Accuracy: 0.8535\n",
            " F1 score: 0.8500\n",
            "Training complete!\n"
          ],
          "name": "stdout"
        }
      ]
    },
    {
      "cell_type": "code",
      "metadata": {
        "id": "ryzVXRPGsf9f",
        "colab": {
          "base_uri": "https://localhost:8080/",
          "height": 317
        },
        "outputId": "5fb51c13-3e3c-419e-c391-2caf89b38d7e"
      },
      "source": [
        "from sklearn.metrics import confusion_matrix\r\n",
        "def show_confusion_matrix(confusion_matrix):\r\n",
        "  hmap = sns.heatmap(confusion_matrix, annot=True, fmt=\"d\", cmap=\"Blues\")\r\n",
        "  hmap.yaxis.set_ticklabels(hmap.yaxis.get_ticklabels(), rotation=0, ha='right')\r\n",
        "  hmap.xaxis.set_ticklabels(hmap.xaxis.get_ticklabels(), rotation=30, ha='right')\r\n",
        "  plt.ylabel('True Complaint')\r\n",
        "  plt.xlabel('Predicted Complaint');\r\n",
        "cm = confusion_matrix(y_test, y_pred)\r\n",
        "df_cm = pd.DataFrame(cm, index=['Non_Complaint','Complaint'], columns=['Non_Complaint','Complaint'])\r\n",
        "\r\n",
        "show_confusion_matrix(df_cm)"
      ],
      "execution_count": 36,
      "outputs": [
        {
          "output_type": "display_data",
          "data": {
            "image/png": "[encoded data removed]",
            "text/plain": [
              "<Figure size 432x288 with 2 Axes>"
            ]
          },
          "metadata": {
            "tags": [],
            "needs_background": "light"
          }
        }
      ]
    },
    {
      "cell_type": "code",
      "metadata": {
        "id": "9GhMVsuQ3PS2",
        "colab": {
          "base_uri": "https://localhost:8080/"
        },
        "outputId": "b6237f55-d000-44fa-84bc-31b4f557764e"
      },
      "source": [
        "#  print('Câu bình luận không phàn nàn bị nhận nhầm:')\r\n",
        "index_Non_False = []\r\n",
        "for i in range(len(y_test)):\r\n",
        "  if (y_test[i] == 0) and (y_pred[i] == 1):\r\n",
        "    index_Non_False.append(i)\r\n",
        "for i in index_Non_False:\r\n",
        "  print(test[i])"
      ],
      "execution_count": 37,
      "outputs": [
        {
          "output_type": "stream",
          "text": [
            "đang dài mới biết được trụ được một 2 trận thì không thể_hiện được\n",
            "vừa định đặt mua mà nghe nói cũng sợ sợ mình da_dầu mụn ẩn\n",
            "zalo nó chỉ là ứng_dụng nhắn_tin này_nọ chứ chưa được tính là mạng xã_hội mà chưa kể nó bảo_mật được tin nhắn thông_tin tốt thì có gì đâu đã muốn cắm_sừng thì shopee ứng_dụng ngân_hàng nó còn cắm được nói gì zalo\n",
            "hic mấy năm nay mình toàn nhãn _ hiệu thấy cũng khá ổn cơ_mà hóng thấy bảo có cồn vậy không biết mình nên dùng loại nào ạ mong cao_nhân nào chỉ giúp mình với\n",
            "mới đặt mua hàng chưa về mà các chị làm em hoang_mang quá\n",
            "sau 15phut gánh team mà pin tụt có 4 quá ngầu\n",
            "sữa rửa mặt some by mi snail truecica có cồn với hương_liệu không mặt_nạ ơi\n",
            "sữa rửa mặt nhãn _ hiệu này thì sao ạ\n",
            "máy mình lla để qua đêm không sụt tí nào\n",
            "mình muốn mua bột trà xanh nhưng cái này là trộn phải khạ\n",
            "hàng công_nghệ mà vẫn có tỉ_lệ lỗi nhất_định và iphone đã lược bớt phần kiểm_tra sản_phẩm để giảm chi_phí và đem công_việc kiểm_tra ấy cho khách_hàng có_khi mua iphone cũ lại hay cái người bán kiểm_tra mệt_nghỉ mới giám bán ra cho mình vừa giá rẻ hơn có lỗi cũng đổi trả dễ hơn\n",
            "fnews collection admin ơi em viết bài dài với không có trùng bài này mà không được duyệt huhu\n",
            "mấy ông_bà trung_quốc niên khoái dùng zalo để cắm_sừng vợ_chồng ở nhà\n",
            "mạng xã_hội thuần việt thì bọn phản_động nó không dùng đâu\n",
            "chê lỗi này lỗi nọ mà mỗi năm đều cháy hàng càng nhiều anti fan thì càng nhiều người mua_bán ra hàng triệu máy tất_nhiên phải có sản_phẩm bị lỗi rồi hãng nào cũng dính thôi nếu do nhà_sản_xuất thì đem đổi trả có gì đâu\n",
            "mấy bạn dùng v7 lên mụn thường là không biết xài với v7 bôi ban_ngày nâng tone với dưỡng ẩm thì ok chứ để dưỡng trắng thì không hiệu_quả lắm\n",
            "ai cho em mã zoom troll thầy_cô phát\n",
            "3 nhà mình gần cái công_ty tên là lotus này cơ_mà vẫn không biết lotus làm cái gì\n",
            "mẹ em cũng đang sài không biết sao nữa\n",
            "tui đang sài cái này luôn nè vậy\n",
            "trị mụn ẩn\n",
            "đồng cảnh_ngộ với chế\n",
            "tại_sao p60 lại max setting liên_quân được vậy anh_em sao nói 730g lại không bật được ta\n",
            "mình dùng facebook ảnh và chữ bị out nét thì phải làm_sao có ai bị như_vậy không\n",
            "pin khoẻ không ý_anh\n",
            "có 2 lọ giống nhau đó bạn người ta hay bị nhầm lắm một lọ là hương_liệu một lọ là natural thì phỉ\n",
            "cũng hay\n",
            "mình đang dùng thấy ỗn nhưng nghe mặt_nạ nói em lo quá\n",
            "ngày_xưa có account game trên zing khủng vc mà nó lại xoá\n",
            "lưng nhựa hay gì mặt_nạ\n",
            "đừng nói mạng xã_hội khi facebook twitter đã quá phổ_biến ngày_trước thời_đại hoàng_kim của văn_hoá forum còn chết gần sạch truongton vnsharing yumei mấy web như voz webtretho được đúc tiền mà hoạt_động còn chả bằng 110 ngày trước\n",
            "ai đứng sau mạng này mà truyền_thông mạnh_dạn quảng_cáo cho đến chạy bài trên các hội nhóm ở facebook thế có_khi giống vin cũng_nên\n",
            "người dùng quyết_định cả lúc chưa có facebook thì yahoo với zing phổ_biến như thế_này nếu không đủ tốt thì sẽ bị đào_thải thế thôi\n",
            "có_lẽ chị chưa bình_thường dòng này có 2 loại có hương_liệu và không hương_liệu chị mua phải loại có hương_liệu rồi loai không huong liêu nó lùn với nó hơi ngang nhìn mập hơn loai có huong liêu chất hại trong kem dưỡng này không nhiều nhưng kich ứng với một sô người ạ\n",
            "tại việt_nam mình thời zing me còn nổi thì tự_nhiên bỏ chặn facebook trước đó muốn vào facebook phải giả iphone\n",
            "camera đẹp\n",
            "gapo có_vẻ không ai ngó_ngàng nhỉ\n",
            "chuyển qua dùng chai màu xanh lá ý mình dùng thấy ok cũng bớt mụn ý còn không thì bạn đổi sang sữa rửa mặt dịu nhẹ như centaphil thì sẽ bớt căng da hơn nhãn _ hiệu nhiều á mà mặt bạn mình thấy như bị mụn nội_tiết ý nên điều_chế lại chế đôn sinh_hoạt cách ăn_uống rồi tham_khảo thêm các bước đặc_trị mụn cho mau hết nhaa\n",
            "không phải trộn nha\n",
            "cái này mới cho da mụn không hương_liệu nè chị còn cái chị dùng là cho da_dầu thường hay sao ý có hương_liệu\n",
            "lên lúc đầu một_chút thôi sau đó sẽ ổn nha bạn lúc đầu cảm_giác da bị co lại mình nhìn thây rõ những vết rỗ nhẹ trước giờ chưa từng thấy sau lại căng ra cảm_giác mấy vết đó nó đầy luôn mình vẫn đang dùng thấy ok\n",
            "nói thật chứ máy gì mà chả có lỗi\n"
          ],
          "name": "stdout"
        }
      ]
    },
    {
      "cell_type": "code",
      "metadata": {
        "id": "cqk32OcBuAcx",
        "colab": {
          "base_uri": "https://localhost:8080/"
        },
        "outputId": "947a7304-c477-448b-b4e0-a3e43d821429"
      },
      "source": [
        "#print('Câu bình luận phàn nàn bị nhận nhầm:')\r\n",
        "index_Com_False = []\r\n",
        "for i in range(len(y_test)):\r\n",
        "  if (y_test[i] == 1) and (y_pred[i] == 0):\r\n",
        "    index_Com_False.append(i)\r\n",
        "for i in index_Com_False:\r\n",
        "  print(test[i])"
      ],
      "execution_count": 38,
      "outputs": [
        {
          "output_type": "stream",
          "text": [
            "vừa đăng về lịch_sử buổi sáng buổi chiều khoá hoàn_toàn chức_năng hiểu mục_đích rồi chứ\n",
            "chưa bao_giờ dt mình điểm_danh được\n",
            "ok lam nhung toi rat mong cac anh ra phan bạn moi hon sang tao hon va ok hon khac phuc loi va khieu nai ve phan bạn cu von da loi_thoi nay chi su dung một so diwn thoai con một so khac không su dung duoc neu dung luong phien ban sao ich hon thi cang duoc danh_gia cao hon rat mong ben phia cac nha sang bài đánh_giá đầy đuỏk lam nhung toi rat mong cac anh ra phan bạn moi hon sang tao hon va ok hon khac phuc loi va khieu nai ve phan bạn cu von da loi_thoi nay chi su dung một so diwn thoai con một so khac không su dung duoc neu dung luong phien ban sao ich hon thi cang duoc danh_gia cao hon rat mong ben phia cac nha sang tao nhin thay y kien cua toi rat cam on\n",
            "nếu bạn thích tăng độ khó cho game thì cứ dùng\n",
            "cho mình hỏi đồ này có phải trộn không ạ bảo đồ hàn_quốc mà bên đó cũng có mỹ_phẩm medicell mà logo với sản_phẩm lại không giống cái này lắm\n",
            "mạng xã_hội việt_nam thì trước_hết cái tên phải việt_nam\n",
            "kem này có chất nghiện kem\n",
            "nhìn vỏ hộp phèn là biết nó trộn òi mấy chị\n",
            "bạn dùng water gel lên mụn là đúng ùi mình dùng loại gel cream thích lắm\n",
            "vui_lòng sửa cập_nhật giúp chúng_tôi sau khi cập_nhật ngày 16 11 2018 vào chat với khách thì giao_diện đã khác cụ_thể ứng_dụng đã bổ_sung tính_năng chat với khách với tư_cách là tài_khoản cá_nhân của người đang chat với khách trên fanapge ghi_chú với tư_cách trang trên từng tài_khoản của khách cũng đã thay_đổi vị bài đánh_giá đầy đủvui lòng sửa cập_nhật giúp chúng_tôi sau khi cập_nhật ngày 16 11 2018 vào chat với khách thì giao_diện đã khác cụ_thể ứng_dụng đã bổ_sung tính_năng chat với khách với tư_cách là tài_khoản cá_nhân của người đang chat với khách trên fanapge ghi_chú với tư_cách trang trên từng tài_khoản của khách cũng đã thay_đổi vị_trí mở ra ghi_chú bằng cách bấm vào avatar của khách trong đoạn chat thanks cập_nhật rất tốt\n",
            "siêu lên mụn ẩn nhé bạn\n",
            "dòng này dễ lên mụn ẩn còn một dòng màu trắng xanh nhạt hơn cho da nhạy_cảm thì phải\n",
            "em nghĩ là chị nên đổi sữa rửa mặt đi ạ\n",
            "chi co điều gia qua max\n",
            "không dùng pond sao vì nó không tốt đâu tẩy_trang mỗi ngày vì mụn ẩn đều do da không được làm sạch tìm kem dưỡng mỏng nhẹ thôi và đừng cố_gắng đắp nhiều đồ dưỡng da lên mặt recommend là bạn tìm sản_phẩm chứa ahabha sẽ trị được mụn ẩn nha\n",
            "mua về tẩy thâm mông cũng được á vì da mông dày nhất rồi\n",
            "kem chống nắng này bám da kĩ lắm nên phải dùng tẩy_trang nào sạch thiệt sạch ý\n",
            "cho mình hỏi gapo có chat group được không nhở hôm_nay mình kêu_gọi mấy bạn thân sang xài cái này nhưng tìm mãi không có chat group để bọn mình tiện chat với nhau nếu không có thì chắc ghé qua zalo để chat nhóm thôi nhỉ\n",
            "không phải trộn đâu chắc bạn mua phải hàng facebook rồi đó đấy là lí_lẽ của mấy con bán kem trộn chứ tôi chỉ có một chữ để trả_lời mình thôi khuấy\n",
            "mình từng đi spa soi da và được tư_vấn không nên sử_dụng pond bạn ơi\n",
            "mua máy chơi game thi nên từ_bỏ ý_định mua sam sung đi\n",
            "có ai sử_dụng mask miung lab chưa ạ cho em xin bình_luận với thấy nhiều người bảo tốt với giá_thành cũng rất đắt\n",
            "kem này là kem nâng tone nên chỉ được dùng ban_ngày thôi cuối ngày bạn phải tẩy_trang rồi tối dưỡng ẩm chứ dùng loại này ngày đem thì vừa bị mụn vừa không có dưỡng ẩm cho da được đâu\n",
            "với số tiền bỏ ra mua thứ hàng trộn xa_xỉ này thì mua được cả tá mĩ_phẩm hẳn_hoi rồi\n",
            "vậy do sữa rửa mặt rồi đổi loại khác đi mà đôi_khi sữa rửa mặt không cũng không đủ sạch mua baby oil massage mỗi tối rồi rửa mặt lại bằng sữa rửa mặt\n",
            "kem của hàn nặng mặt lắm toan bị lên mụn mỹ_phẩm úc cung ok nhé\n",
            "mạng xã_hội mới phải khác_biệt không_thể bám vào facebook hay gì khác như twitter hồi xưa hay vk chứ cứ post bài post hình page rồi like share thì khác gì facebook\n",
            "tui kị neu cực_kỳ\n",
            "mới dùng số điện_thoại đăng_ký vài ngày sau có bên bảo_hiểm tua du_lịch điện vào số mình liền hay một cái là biết tên mình luôn\n",
            "nhà mình cũng có một hủ nè nhìn mấy dòng trên nắp hủ mà tôi ứa gan mà kem trộn này có giá lắm nhaaa được bán tận bên chợ cali ở mỹ người_thân mình mua ở bển đem về vì nghe giới_thiệu trị mụn ok lắm\n",
            "đổi nước _ dưỡng đi chị uiii\n",
            "nếu_như không phải dùng để liên_lạc bạn_bè với học_tập thì tôi đã xoá messenger để chuyển sang dùng zalo rồi\n",
            "loại kem chống nắng the nhãn _ hiệu này mình dùng nên bôi lớp mỏng thôi ạ bôi lớp quá dày sẽ gây bí và đó là lý_do bị nổi mụn ẩn ạ chứ không phải cứ dùng là bị mụn ẩn đâu ạ\n"
          ],
          "name": "stdout"
        }
      ]
    },
    {
      "cell_type": "code",
      "metadata": {
        "id": "o198syo35d7z"
      },
      "source": [
        ""
      ],
      "execution_count": null,
      "outputs": []
    },
    {
      "cell_type": "code",
      "metadata": {
        "id": "oGaHWD9VFUYk"
      },
      "source": [
        ""
      ],
      "execution_count": null,
      "outputs": []
    }
  ]
}