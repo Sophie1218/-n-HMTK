{
  "nbformat": 4,
  "nbformat_minor": 0,
  "metadata": {
    "accelerator": "GPU",
    "colab": {
      "name": "Code_RunModel.ipynb",
      "provenance": [],
      "collapsed_sections": [],
      "machine_shape": "hm",
      "include_colab_link": true
    },
    "kernelspec": {
      "display_name": "Python 3",
      "name": "python3"
    },
    "widgets": {
      "application/vnd.jupyter.widget-state+json": {
        "ae3d9fbf32da4feebcee7057009d9e3d": {
          "model_module": "@jupyter-widgets/controls",
          "model_name": "HBoxModel",
          "state": {
            "_view_name": "HBoxView",
            "_dom_classes": [],
            "_model_name": "HBoxModel",
            "_view_module": "@jupyter-widgets/controls",
            "_model_module_version": "1.5.0",
            "_view_count": null,
            "_view_module_version": "1.5.0",
            "box_style": "",
            "layout": "IPY_MODEL_fcf7b74c6e59437590ae115ca4c8caf2",
            "_model_module": "@jupyter-widgets/controls",
            "children": [
              "IPY_MODEL_ef5a8f5a163b410da2b98b785a7f3e2e",
              "IPY_MODEL_ded41252db9642f7bc4c8bafc9e497bf"
            ]
          }
        },
        "fcf7b74c6e59437590ae115ca4c8caf2": {
          "model_module": "@jupyter-widgets/base",
          "model_name": "LayoutModel",
          "state": {
            "_view_name": "LayoutView",
            "grid_template_rows": null,
            "right": null,
            "justify_content": null,
            "_view_module": "@jupyter-widgets/base",
            "overflow": null,
            "_model_module_version": "1.2.0",
            "_view_count": null,
            "flex_flow": null,
            "width": null,
            "min_width": null,
            "border": null,
            "align_items": null,
            "bottom": null,
            "_model_module": "@jupyter-widgets/base",
            "top": null,
            "grid_column": null,
            "overflow_y": null,
            "overflow_x": null,
            "grid_auto_flow": null,
            "grid_area": null,
            "grid_template_columns": null,
            "flex": null,
            "_model_name": "LayoutModel",
            "justify_items": null,
            "grid_row": null,
            "max_height": null,
            "align_content": null,
            "visibility": null,
            "align_self": null,
            "height": null,
            "min_height": null,
            "padding": null,
            "grid_auto_rows": null,
            "grid_gap": null,
            "max_width": null,
            "order": null,
            "_view_module_version": "1.2.0",
            "grid_template_areas": null,
            "object_position": null,
            "object_fit": null,
            "grid_auto_columns": null,
            "margin": null,
            "display": null,
            "left": null
          }
        },
        "ef5a8f5a163b410da2b98b785a7f3e2e": {
          "model_module": "@jupyter-widgets/controls",
          "model_name": "FloatProgressModel",
          "state": {
            "_view_name": "ProgressView",
            "style": "IPY_MODEL_bc126f7c22384145b1794ac0b101bec2",
            "_dom_classes": [],
            "description": "",
            "_model_name": "FloatProgressModel",
            "bar_style": "success",
            "max": 1,
            "_view_module": "@jupyter-widgets/controls",
            "_model_module_version": "1.5.0",
            "value": 1,
            "_view_count": null,
            "_view_module_version": "1.5.0",
            "orientation": "horizontal",
            "min": 0,
            "description_tooltip": null,
            "_model_module": "@jupyter-widgets/controls",
            "layout": "IPY_MODEL_fc8a52baaa304391a0638a6906500215"
          }
        },
        "ded41252db9642f7bc4c8bafc9e497bf": {
          "model_module": "@jupyter-widgets/controls",
          "model_name": "HTMLModel",
          "state": {
            "_view_name": "HTMLView",
            "style": "IPY_MODEL_982b9c70e3aa414d9ca1bb7bf9189a72",
            "_dom_classes": [],
            "description": "",
            "_model_name": "HTMLModel",
            "placeholder": "​",
            "_view_module": "@jupyter-widgets/controls",
            "_model_module_version": "1.5.0",
            "value": " 61/? [02:17&lt;00:00,  2.25s/it]",
            "_view_count": null,
            "_view_module_version": "1.5.0",
            "description_tooltip": null,
            "_model_module": "@jupyter-widgets/controls",
            "layout": "IPY_MODEL_3646f2e7bb5144aca0ec7aed8bab79d2"
          }
        },
        "bc126f7c22384145b1794ac0b101bec2": {
          "model_module": "@jupyter-widgets/controls",
          "model_name": "ProgressStyleModel",
          "state": {
            "_view_name": "StyleView",
            "_model_name": "ProgressStyleModel",
            "description_width": "initial",
            "_view_module": "@jupyter-widgets/base",
            "_model_module_version": "1.5.0",
            "_view_count": null,
            "_view_module_version": "1.2.0",
            "bar_color": null,
            "_model_module": "@jupyter-widgets/controls"
          }
        },
        "fc8a52baaa304391a0638a6906500215": {
          "model_module": "@jupyter-widgets/base",
          "model_name": "LayoutModel",
          "state": {
            "_view_name": "LayoutView",
            "grid_template_rows": null,
            "right": null,
            "justify_content": null,
            "_view_module": "@jupyter-widgets/base",
            "overflow": null,
            "_model_module_version": "1.2.0",
            "_view_count": null,
            "flex_flow": null,
            "width": null,
            "min_width": null,
            "border": null,
            "align_items": null,
            "bottom": null,
            "_model_module": "@jupyter-widgets/base",
            "top": null,
            "grid_column": null,
            "overflow_y": null,
            "overflow_x": null,
            "grid_auto_flow": null,
            "grid_area": null,
            "grid_template_columns": null,
            "flex": null,
            "_model_name": "LayoutModel",
            "justify_items": null,
            "grid_row": null,
            "max_height": null,
            "align_content": null,
            "visibility": null,
            "align_self": null,
            "height": null,
            "min_height": null,
            "padding": null,
            "grid_auto_rows": null,
            "grid_gap": null,
            "max_width": null,
            "order": null,
            "_view_module_version": "1.2.0",
            "grid_template_areas": null,
            "object_position": null,
            "object_fit": null,
            "grid_auto_columns": null,
            "margin": null,
            "display": null,
            "left": null
          }
        },
        "982b9c70e3aa414d9ca1bb7bf9189a72": {
          "model_module": "@jupyter-widgets/controls",
          "model_name": "DescriptionStyleModel",
          "state": {
            "_view_name": "StyleView",
            "_model_name": "DescriptionStyleModel",
            "description_width": "",
            "_view_module": "@jupyter-widgets/base",
            "_model_module_version": "1.5.0",
            "_view_count": null,
            "_view_module_version": "1.2.0",
            "_model_module": "@jupyter-widgets/controls"
          }
        },
        "3646f2e7bb5144aca0ec7aed8bab79d2": {
          "model_module": "@jupyter-widgets/base",
          "model_name": "LayoutModel",
          "state": {
            "_view_name": "LayoutView",
            "grid_template_rows": null,
            "right": null,
            "justify_content": null,
            "_view_module": "@jupyter-widgets/base",
            "overflow": null,
            "_model_module_version": "1.2.0",
            "_view_count": null,
            "flex_flow": null,
            "width": null,
            "min_width": null,
            "border": null,
            "align_items": null,
            "bottom": null,
            "_model_module": "@jupyter-widgets/base",
            "top": null,
            "grid_column": null,
            "overflow_y": null,
            "overflow_x": null,
            "grid_auto_flow": null,
            "grid_area": null,
            "grid_template_columns": null,
            "flex": null,
            "_model_name": "LayoutModel",
            "justify_items": null,
            "grid_row": null,
            "max_height": null,
            "align_content": null,
            "visibility": null,
            "align_self": null,
            "height": null,
            "min_height": null,
            "padding": null,
            "grid_auto_rows": null,
            "grid_gap": null,
            "max_width": null,
            "order": null,
            "_view_module_version": "1.2.0",
            "grid_template_areas": null,
            "object_position": null,
            "object_fit": null,
            "grid_auto_columns": null,
            "margin": null,
            "display": null,
            "left": null
          }
        },
        "eb840662626a4145979b964672228939": {
          "model_module": "@jupyter-widgets/controls",
          "model_name": "HBoxModel",
          "state": {
            "_view_name": "HBoxView",
            "_dom_classes": [],
            "_model_name": "HBoxModel",
            "_view_module": "@jupyter-widgets/controls",
            "_model_module_version": "1.5.0",
            "_view_count": null,
            "_view_module_version": "1.5.0",
            "box_style": "",
            "layout": "IPY_MODEL_deaa25e0ca9e4d0b89b42bac2aa2201e",
            "_model_module": "@jupyter-widgets/controls",
            "children": [
              "IPY_MODEL_bb932ddba05f4c8288c221dea8926d71",
              "IPY_MODEL_420dd942d5cf421197afce9d235923f3"
            ]
          }
        },
        "deaa25e0ca9e4d0b89b42bac2aa2201e": {
          "model_module": "@jupyter-widgets/base",
          "model_name": "LayoutModel",
          "state": {
            "_view_name": "LayoutView",
            "grid_template_rows": null,
            "right": null,
            "justify_content": null,
            "_view_module": "@jupyter-widgets/base",
            "overflow": null,
            "_model_module_version": "1.2.0",
            "_view_count": null,
            "flex_flow": null,
            "width": null,
            "min_width": null,
            "border": null,
            "align_items": null,
            "bottom": null,
            "_model_module": "@jupyter-widgets/base",
            "top": null,
            "grid_column": null,
            "overflow_y": null,
            "overflow_x": null,
            "grid_auto_flow": null,
            "grid_area": null,
            "grid_template_columns": null,
            "flex": null,
            "_model_name": "LayoutModel",
            "justify_items": null,
            "grid_row": null,
            "max_height": null,
            "align_content": null,
            "visibility": null,
            "align_self": null,
            "height": null,
            "min_height": null,
            "padding": null,
            "grid_auto_rows": null,
            "grid_gap": null,
            "max_width": null,
            "order": null,
            "_view_module_version": "1.2.0",
            "grid_template_areas": null,
            "object_position": null,
            "object_fit": null,
            "grid_auto_columns": null,
            "margin": null,
            "display": null,
            "left": null
          }
        },
        "bb932ddba05f4c8288c221dea8926d71": {
          "model_module": "@jupyter-widgets/controls",
          "model_name": "FloatProgressModel",
          "state": {
            "_view_name": "ProgressView",
            "style": "IPY_MODEL_1644c2ad9f5842739ca767c761e3fd5b",
            "_dom_classes": [],
            "description": "100%",
            "_model_name": "FloatProgressModel",
            "bar_style": "success",
            "max": 16,
            "_view_module": "@jupyter-widgets/controls",
            "_model_module_version": "1.5.0",
            "value": 16,
            "_view_count": null,
            "_view_module_version": "1.5.0",
            "orientation": "horizontal",
            "min": 0,
            "description_tooltip": null,
            "_model_module": "@jupyter-widgets/controls",
            "layout": "IPY_MODEL_d807d9b379f34f42a48209f228e68fcc"
          }
        },
        "420dd942d5cf421197afce9d235923f3": {
          "model_module": "@jupyter-widgets/controls",
          "model_name": "HTMLModel",
          "state": {
            "_view_name": "HTMLView",
            "style": "IPY_MODEL_ab0955af7a674341a38bc0a7bb641db8",
            "_dom_classes": [],
            "description": "",
            "_model_name": "HTMLModel",
            "placeholder": "​",
            "_view_module": "@jupyter-widgets/controls",
            "_model_module_version": "1.5.0",
            "value": " 16/16 [01:51&lt;00:00,  6.99s/it]",
            "_view_count": null,
            "_view_module_version": "1.5.0",
            "description_tooltip": null,
            "_model_module": "@jupyter-widgets/controls",
            "layout": "IPY_MODEL_90ce1a7b068043daa4603d2f43d05f5d"
          }
        },
        "1644c2ad9f5842739ca767c761e3fd5b": {
          "model_module": "@jupyter-widgets/controls",
          "model_name": "ProgressStyleModel",
          "state": {
            "_view_name": "StyleView",
            "_model_name": "ProgressStyleModel",
            "description_width": "initial",
            "_view_module": "@jupyter-widgets/base",
            "_model_module_version": "1.5.0",
            "_view_count": null,
            "_view_module_version": "1.2.0",
            "bar_color": null,
            "_model_module": "@jupyter-widgets/controls"
          }
        },
        "d807d9b379f34f42a48209f228e68fcc": {
          "model_module": "@jupyter-widgets/base",
          "model_name": "LayoutModel",
          "state": {
            "_view_name": "LayoutView",
            "grid_template_rows": null,
            "right": null,
            "justify_content": null,
            "_view_module": "@jupyter-widgets/base",
            "overflow": null,
            "_model_module_version": "1.2.0",
            "_view_count": null,
            "flex_flow": null,
            "width": null,
            "min_width": null,
            "border": null,
            "align_items": null,
            "bottom": null,
            "_model_module": "@jupyter-widgets/base",
            "top": null,
            "grid_column": null,
            "overflow_y": null,
            "overflow_x": null,
            "grid_auto_flow": null,
            "grid_area": null,
            "grid_template_columns": null,
            "flex": null,
            "_model_name": "LayoutModel",
            "justify_items": null,
            "grid_row": null,
            "max_height": null,
            "align_content": null,
            "visibility": null,
            "align_self": null,
            "height": null,
            "min_height": null,
            "padding": null,
            "grid_auto_rows": null,
            "grid_gap": null,
            "max_width": null,
            "order": null,
            "_view_module_version": "1.2.0",
            "grid_template_areas": null,
            "object_position": null,
            "object_fit": null,
            "grid_auto_columns": null,
            "margin": null,
            "display": null,
            "left": null
          }
        },
        "ab0955af7a674341a38bc0a7bb641db8": {
          "model_module": "@jupyter-widgets/controls",
          "model_name": "DescriptionStyleModel",
          "state": {
            "_view_name": "StyleView",
            "_model_name": "DescriptionStyleModel",
            "description_width": "",
            "_view_module": "@jupyter-widgets/base",
            "_model_module_version": "1.5.0",
            "_view_count": null,
            "_view_module_version": "1.2.0",
            "_model_module": "@jupyter-widgets/controls"
          }
        },
        "90ce1a7b068043daa4603d2f43d05f5d": {
          "model_module": "@jupyter-widgets/base",
          "model_name": "LayoutModel",
          "state": {
            "_view_name": "LayoutView",
            "grid_template_rows": null,
            "right": null,
            "justify_content": null,
            "_view_module": "@jupyter-widgets/base",
            "overflow": null,
            "_model_module_version": "1.2.0",
            "_view_count": null,
            "flex_flow": null,
            "width": null,
            "min_width": null,
            "border": null,
            "align_items": null,
            "bottom": null,
            "_model_module": "@jupyter-widgets/base",
            "top": null,
            "grid_column": null,
            "overflow_y": null,
            "overflow_x": null,
            "grid_auto_flow": null,
            "grid_area": null,
            "grid_template_columns": null,
            "flex": null,
            "_model_name": "LayoutModel",
            "justify_items": null,
            "grid_row": null,
            "max_height": null,
            "align_content": null,
            "visibility": null,
            "align_self": null,
            "height": null,
            "min_height": null,
            "padding": null,
            "grid_auto_rows": null,
            "grid_gap": null,
            "max_width": null,
            "order": null,
            "_view_module_version": "1.2.0",
            "grid_template_areas": null,
            "object_position": null,
            "object_fit": null,
            "grid_auto_columns": null,
            "margin": null,
            "display": null,
            "left": null
          }
        },
        "26d2ef1bf8b14077b8b45f352a62741c": {
          "model_module": "@jupyter-widgets/controls",
          "model_name": "HBoxModel",
          "state": {
            "_view_name": "HBoxView",
            "_dom_classes": [],
            "_model_name": "HBoxModel",
            "_view_module": "@jupyter-widgets/controls",
            "_model_module_version": "1.5.0",
            "_view_count": null,
            "_view_module_version": "1.5.0",
            "box_style": "",
            "layout": "IPY_MODEL_fb0121b858984f25b08defdae8547fb9",
            "_model_module": "@jupyter-widgets/controls",
            "children": [
              "IPY_MODEL_81a49be798dd4130b04f3b4738631a1b",
              "IPY_MODEL_d1368c870f1942a69fe8a220ea8313b4"
            ]
          }
        },
        "fb0121b858984f25b08defdae8547fb9": {
          "model_module": "@jupyter-widgets/base",
          "model_name": "LayoutModel",
          "state": {
            "_view_name": "LayoutView",
            "grid_template_rows": null,
            "right": null,
            "justify_content": null,
            "_view_module": "@jupyter-widgets/base",
            "overflow": null,
            "_model_module_version": "1.2.0",
            "_view_count": null,
            "flex_flow": null,
            "width": null,
            "min_width": null,
            "border": null,
            "align_items": null,
            "bottom": null,
            "_model_module": "@jupyter-widgets/base",
            "top": null,
            "grid_column": null,
            "overflow_y": null,
            "overflow_x": null,
            "grid_auto_flow": null,
            "grid_area": null,
            "grid_template_columns": null,
            "flex": null,
            "_model_name": "LayoutModel",
            "justify_items": null,
            "grid_row": null,
            "max_height": null,
            "align_content": null,
            "visibility": null,
            "align_self": null,
            "height": null,
            "min_height": null,
            "padding": null,
            "grid_auto_rows": null,
            "grid_gap": null,
            "max_width": null,
            "order": null,
            "_view_module_version": "1.2.0",
            "grid_template_areas": null,
            "object_position": null,
            "object_fit": null,
            "grid_auto_columns": null,
            "margin": null,
            "display": null,
            "left": null
          }
        },
        "81a49be798dd4130b04f3b4738631a1b": {
          "model_module": "@jupyter-widgets/controls",
          "model_name": "FloatProgressModel",
          "state": {
            "_view_name": "ProgressView",
            "style": "IPY_MODEL_41c7f5f0c0184ddcbc98876c019fa311",
            "_dom_classes": [],
            "description": "",
            "_model_name": "FloatProgressModel",
            "bar_style": "success",
            "max": 1,
            "_view_module": "@jupyter-widgets/controls",
            "_model_module_version": "1.5.0",
            "value": 1,
            "_view_count": null,
            "_view_module_version": "1.5.0",
            "orientation": "horizontal",
            "min": 0,
            "description_tooltip": null,
            "_model_module": "@jupyter-widgets/controls",
            "layout": "IPY_MODEL_2dc1025743ae4b13855da89400a7711c"
          }
        },
        "d1368c870f1942a69fe8a220ea8313b4": {
          "model_module": "@jupyter-widgets/controls",
          "model_name": "HTMLModel",
          "state": {
            "_view_name": "HTMLView",
            "style": "IPY_MODEL_0f437fe2df534e68897885c29ea591f2",
            "_dom_classes": [],
            "description": "",
            "_model_name": "HTMLModel",
            "placeholder": "​",
            "_view_module": "@jupyter-widgets/controls",
            "_model_module_version": "1.5.0",
            "value": " 61/? [00:27&lt;00:00,  2.25it/s]",
            "_view_count": null,
            "_view_module_version": "1.5.0",
            "description_tooltip": null,
            "_model_module": "@jupyter-widgets/controls",
            "layout": "IPY_MODEL_5e5f771d7ccd4d76949090aaa033f006"
          }
        },
        "41c7f5f0c0184ddcbc98876c019fa311": {
          "model_module": "@jupyter-widgets/controls",
          "model_name": "ProgressStyleModel",
          "state": {
            "_view_name": "StyleView",
            "_model_name": "ProgressStyleModel",
            "description_width": "initial",
            "_view_module": "@jupyter-widgets/base",
            "_model_module_version": "1.5.0",
            "_view_count": null,
            "_view_module_version": "1.2.0",
            "bar_color": null,
            "_model_module": "@jupyter-widgets/controls"
          }
        },
        "2dc1025743ae4b13855da89400a7711c": {
          "model_module": "@jupyter-widgets/base",
          "model_name": "LayoutModel",
          "state": {
            "_view_name": "LayoutView",
            "grid_template_rows": null,
            "right": null,
            "justify_content": null,
            "_view_module": "@jupyter-widgets/base",
            "overflow": null,
            "_model_module_version": "1.2.0",
            "_view_count": null,
            "flex_flow": null,
            "width": null,
            "min_width": null,
            "border": null,
            "align_items": null,
            "bottom": null,
            "_model_module": "@jupyter-widgets/base",
            "top": null,
            "grid_column": null,
            "overflow_y": null,
            "overflow_x": null,
            "grid_auto_flow": null,
            "grid_area": null,
            "grid_template_columns": null,
            "flex": null,
            "_model_name": "LayoutModel",
            "justify_items": null,
            "grid_row": null,
            "max_height": null,
            "align_content": null,
            "visibility": null,
            "align_self": null,
            "height": null,
            "min_height": null,
            "padding": null,
            "grid_auto_rows": null,
            "grid_gap": null,
            "max_width": null,
            "order": null,
            "_view_module_version": "1.2.0",
            "grid_template_areas": null,
            "object_position": null,
            "object_fit": null,
            "grid_auto_columns": null,
            "margin": null,
            "display": null,
            "left": null
          }
        },
        "0f437fe2df534e68897885c29ea591f2": {
          "model_module": "@jupyter-widgets/controls",
          "model_name": "DescriptionStyleModel",
          "state": {
            "_view_name": "StyleView",
            "_model_name": "DescriptionStyleModel",
            "description_width": "",
            "_view_module": "@jupyter-widgets/base",
            "_model_module_version": "1.5.0",
            "_view_count": null,
            "_view_module_version": "1.2.0",
            "_model_module": "@jupyter-widgets/controls"
          }
        },
        "5e5f771d7ccd4d76949090aaa033f006": {
          "model_module": "@jupyter-widgets/base",
          "model_name": "LayoutModel",
          "state": {
            "_view_name": "LayoutView",
            "grid_template_rows": null,
            "right": null,
            "justify_content": null,
            "_view_module": "@jupyter-widgets/base",
            "overflow": null,
            "_model_module_version": "1.2.0",
            "_view_count": null,
            "flex_flow": null,
            "width": null,
            "min_width": null,
            "border": null,
            "align_items": null,
            "bottom": null,
            "_model_module": "@jupyter-widgets/base",
            "top": null,
            "grid_column": null,
            "overflow_y": null,
            "overflow_x": null,
            "grid_auto_flow": null,
            "grid_area": null,
            "grid_template_columns": null,
            "flex": null,
            "_model_name": "LayoutModel",
            "justify_items": null,
            "grid_row": null,
            "max_height": null,
            "align_content": null,
            "visibility": null,
            "align_self": null,
            "height": null,
            "min_height": null,
            "padding": null,
            "grid_auto_rows": null,
            "grid_gap": null,
            "max_width": null,
            "order": null,
            "_view_module_version": "1.2.0",
            "grid_template_areas": null,
            "object_position": null,
            "object_fit": null,
            "grid_auto_columns": null,
            "margin": null,
            "display": null,
            "left": null
          }
        },
        "29e800b813d248d4854315ec03e64dfb": {
          "model_module": "@jupyter-widgets/controls",
          "model_name": "HBoxModel",
          "state": {
            "_view_name": "HBoxView",
            "_dom_classes": [],
            "_model_name": "HBoxModel",
            "_view_module": "@jupyter-widgets/controls",
            "_model_module_version": "1.5.0",
            "_view_count": null,
            "_view_module_version": "1.5.0",
            "box_style": "",
            "layout": "IPY_MODEL_c8b5893cf509481da3cfaca529316aaf",
            "_model_module": "@jupyter-widgets/controls",
            "children": [
              "IPY_MODEL_a0a6235ed064446a9319ede3665ad646",
              "IPY_MODEL_b11f951b6406429f9fd797bf99ab037b"
            ]
          }
        },
        "c8b5893cf509481da3cfaca529316aaf": {
          "model_module": "@jupyter-widgets/base",
          "model_name": "LayoutModel",
          "state": {
            "_view_name": "LayoutView",
            "grid_template_rows": null,
            "right": null,
            "justify_content": null,
            "_view_module": "@jupyter-widgets/base",
            "overflow": null,
            "_model_module_version": "1.2.0",
            "_view_count": null,
            "flex_flow": null,
            "width": null,
            "min_width": null,
            "border": null,
            "align_items": null,
            "bottom": null,
            "_model_module": "@jupyter-widgets/base",
            "top": null,
            "grid_column": null,
            "overflow_y": null,
            "overflow_x": null,
            "grid_auto_flow": null,
            "grid_area": null,
            "grid_template_columns": null,
            "flex": null,
            "_model_name": "LayoutModel",
            "justify_items": null,
            "grid_row": null,
            "max_height": null,
            "align_content": null,
            "visibility": null,
            "align_self": null,
            "height": null,
            "min_height": null,
            "padding": null,
            "grid_auto_rows": null,
            "grid_gap": null,
            "max_width": null,
            "order": null,
            "_view_module_version": "1.2.0",
            "grid_template_areas": null,
            "object_position": null,
            "object_fit": null,
            "grid_auto_columns": null,
            "margin": null,
            "display": null,
            "left": null
          }
        },
        "a0a6235ed064446a9319ede3665ad646": {
          "model_module": "@jupyter-widgets/controls",
          "model_name": "FloatProgressModel",
          "state": {
            "_view_name": "ProgressView",
            "style": "IPY_MODEL_83eeda13496b44c795502d346b86badc",
            "_dom_classes": [],
            "description": "100%",
            "_model_name": "FloatProgressModel",
            "bar_style": "success",
            "max": 16,
            "_view_module": "@jupyter-widgets/controls",
            "_model_module_version": "1.5.0",
            "value": 16,
            "_view_count": null,
            "_view_module_version": "1.5.0",
            "orientation": "horizontal",
            "min": 0,
            "description_tooltip": null,
            "_model_module": "@jupyter-widgets/controls",
            "layout": "IPY_MODEL_bd0e03a3856646bab35f1ab2e9812826"
          }
        },
        "b11f951b6406429f9fd797bf99ab037b": {
          "model_module": "@jupyter-widgets/controls",
          "model_name": "HTMLModel",
          "state": {
            "_view_name": "HTMLView",
            "style": "IPY_MODEL_6fc8d8ed09354b7c9df4652382830688",
            "_dom_classes": [],
            "description": "",
            "_model_name": "HTMLModel",
            "placeholder": "​",
            "_view_module": "@jupyter-widgets/controls",
            "_model_module_version": "1.5.0",
            "value": " 16/16 [01:24&lt;00:00,  5.27s/it]",
            "_view_count": null,
            "_view_module_version": "1.5.0",
            "description_tooltip": null,
            "_model_module": "@jupyter-widgets/controls",
            "layout": "IPY_MODEL_73dd32a304a74aa3871b33c93c1e6a1e"
          }
        },
        "83eeda13496b44c795502d346b86badc": {
          "model_module": "@jupyter-widgets/controls",
          "model_name": "ProgressStyleModel",
          "state": {
            "_view_name": "StyleView",
            "_model_name": "ProgressStyleModel",
            "description_width": "initial",
            "_view_module": "@jupyter-widgets/base",
            "_model_module_version": "1.5.0",
            "_view_count": null,
            "_view_module_version": "1.2.0",
            "bar_color": null,
            "_model_module": "@jupyter-widgets/controls"
          }
        },
        "bd0e03a3856646bab35f1ab2e9812826": {
          "model_module": "@jupyter-widgets/base",
          "model_name": "LayoutModel",
          "state": {
            "_view_name": "LayoutView",
            "grid_template_rows": null,
            "right": null,
            "justify_content": null,
            "_view_module": "@jupyter-widgets/base",
            "overflow": null,
            "_model_module_version": "1.2.0",
            "_view_count": null,
            "flex_flow": null,
            "width": null,
            "min_width": null,
            "border": null,
            "align_items": null,
            "bottom": null,
            "_model_module": "@jupyter-widgets/base",
            "top": null,
            "grid_column": null,
            "overflow_y": null,
            "overflow_x": null,
            "grid_auto_flow": null,
            "grid_area": null,
            "grid_template_columns": null,
            "flex": null,
            "_model_name": "LayoutModel",
            "justify_items": null,
            "grid_row": null,
            "max_height": null,
            "align_content": null,
            "visibility": null,
            "align_self": null,
            "height": null,
            "min_height": null,
            "padding": null,
            "grid_auto_rows": null,
            "grid_gap": null,
            "max_width": null,
            "order": null,
            "_view_module_version": "1.2.0",
            "grid_template_areas": null,
            "object_position": null,
            "object_fit": null,
            "grid_auto_columns": null,
            "margin": null,
            "display": null,
            "left": null
          }
        },
        "6fc8d8ed09354b7c9df4652382830688": {
          "model_module": "@jupyter-widgets/controls",
          "model_name": "DescriptionStyleModel",
          "state": {
            "_view_name": "StyleView",
            "_model_name": "DescriptionStyleModel",
            "description_width": "",
            "_view_module": "@jupyter-widgets/base",
            "_model_module_version": "1.5.0",
            "_view_count": null,
            "_view_module_version": "1.2.0",
            "_model_module": "@jupyter-widgets/controls"
          }
        },
        "73dd32a304a74aa3871b33c93c1e6a1e": {
          "model_module": "@jupyter-widgets/base",
          "model_name": "LayoutModel",
          "state": {
            "_view_name": "LayoutView",
            "grid_template_rows": null,
            "right": null,
            "justify_content": null,
            "_view_module": "@jupyter-widgets/base",
            "overflow": null,
            "_model_module_version": "1.2.0",
            "_view_count": null,
            "flex_flow": null,
            "width": null,
            "min_width": null,
            "border": null,
            "align_items": null,
            "bottom": null,
            "_model_module": "@jupyter-widgets/base",
            "top": null,
            "grid_column": null,
            "overflow_y": null,
            "overflow_x": null,
            "grid_auto_flow": null,
            "grid_area": null,
            "grid_template_columns": null,
            "flex": null,
            "_model_name": "LayoutModel",
            "justify_items": null,
            "grid_row": null,
            "max_height": null,
            "align_content": null,
            "visibility": null,
            "align_self": null,
            "height": null,
            "min_height": null,
            "padding": null,
            "grid_auto_rows": null,
            "grid_gap": null,
            "max_width": null,
            "order": null,
            "_view_module_version": "1.2.0",
            "grid_template_areas": null,
            "object_position": null,
            "object_fit": null,
            "grid_auto_columns": null,
            "margin": null,
            "display": null,
            "left": null
          }
        },
        "247cb9d90241407cb1c879f47cea7942": {
          "model_module": "@jupyter-widgets/controls",
          "model_name": "HBoxModel",
          "state": {
            "_view_name": "HBoxView",
            "_dom_classes": [],
            "_model_name": "HBoxModel",
            "_view_module": "@jupyter-widgets/controls",
            "_model_module_version": "1.5.0",
            "_view_count": null,
            "_view_module_version": "1.5.0",
            "box_style": "",
            "layout": "IPY_MODEL_22104277920145058e9f86230f472be4",
            "_model_module": "@jupyter-widgets/controls",
            "children": [
              "IPY_MODEL_c60d584603854e3291a8e810c2540e42",
              "IPY_MODEL_522d3a0d188246eda146ef8b42ba147a"
            ]
          }
        },
        "22104277920145058e9f86230f472be4": {
          "model_module": "@jupyter-widgets/base",
          "model_name": "LayoutModel",
          "state": {
            "_view_name": "LayoutView",
            "grid_template_rows": null,
            "right": null,
            "justify_content": null,
            "_view_module": "@jupyter-widgets/base",
            "overflow": null,
            "_model_module_version": "1.2.0",
            "_view_count": null,
            "flex_flow": null,
            "width": null,
            "min_width": null,
            "border": null,
            "align_items": null,
            "bottom": null,
            "_model_module": "@jupyter-widgets/base",
            "top": null,
            "grid_column": null,
            "overflow_y": null,
            "overflow_x": null,
            "grid_auto_flow": null,
            "grid_area": null,
            "grid_template_columns": null,
            "flex": null,
            "_model_name": "LayoutModel",
            "justify_items": null,
            "grid_row": null,
            "max_height": null,
            "align_content": null,
            "visibility": null,
            "align_self": null,
            "height": null,
            "min_height": null,
            "padding": null,
            "grid_auto_rows": null,
            "grid_gap": null,
            "max_width": null,
            "order": null,
            "_view_module_version": "1.2.0",
            "grid_template_areas": null,
            "object_position": null,
            "object_fit": null,
            "grid_auto_columns": null,
            "margin": null,
            "display": null,
            "left": null
          }
        },
        "c60d584603854e3291a8e810c2540e42": {
          "model_module": "@jupyter-widgets/controls",
          "model_name": "FloatProgressModel",
          "state": {
            "_view_name": "ProgressView",
            "style": "IPY_MODEL_d90b988d31004ebc90cc955f4672ea8b",
            "_dom_classes": [],
            "description": "",
            "_model_name": "FloatProgressModel",
            "bar_style": "success",
            "max": 1,
            "_view_module": "@jupyter-widgets/controls",
            "_model_module_version": "1.5.0",
            "value": 1,
            "_view_count": null,
            "_view_module_version": "1.5.0",
            "orientation": "horizontal",
            "min": 0,
            "description_tooltip": null,
            "_model_module": "@jupyter-widgets/controls",
            "layout": "IPY_MODEL_e94ec6d616da4867a5c44c2cb9b36fcd"
          }
        },
        "522d3a0d188246eda146ef8b42ba147a": {
          "model_module": "@jupyter-widgets/controls",
          "model_name": "HTMLModel",
          "state": {
            "_view_name": "HTMLView",
            "style": "IPY_MODEL_65477990857c45d197af445f6f38c7f2",
            "_dom_classes": [],
            "description": "",
            "_model_name": "HTMLModel",
            "placeholder": "​",
            "_view_module": "@jupyter-widgets/controls",
            "_model_module_version": "1.5.0",
            "value": " 61/? [00:27&lt;00:00,  2.22it/s]",
            "_view_count": null,
            "_view_module_version": "1.5.0",
            "description_tooltip": null,
            "_model_module": "@jupyter-widgets/controls",
            "layout": "IPY_MODEL_1a49b33b97be4abea3ae87cf4df6c8f3"
          }
        },
        "d90b988d31004ebc90cc955f4672ea8b": {
          "model_module": "@jupyter-widgets/controls",
          "model_name": "ProgressStyleModel",
          "state": {
            "_view_name": "StyleView",
            "_model_name": "ProgressStyleModel",
            "description_width": "initial",
            "_view_module": "@jupyter-widgets/base",
            "_model_module_version": "1.5.0",
            "_view_count": null,
            "_view_module_version": "1.2.0",
            "bar_color": null,
            "_model_module": "@jupyter-widgets/controls"
          }
        },
        "e94ec6d616da4867a5c44c2cb9b36fcd": {
          "model_module": "@jupyter-widgets/base",
          "model_name": "LayoutModel",
          "state": {
            "_view_name": "LayoutView",
            "grid_template_rows": null,
            "right": null,
            "justify_content": null,
            "_view_module": "@jupyter-widgets/base",
            "overflow": null,
            "_model_module_version": "1.2.0",
            "_view_count": null,
            "flex_flow": null,
            "width": null,
            "min_width": null,
            "border": null,
            "align_items": null,
            "bottom": null,
            "_model_module": "@jupyter-widgets/base",
            "top": null,
            "grid_column": null,
            "overflow_y": null,
            "overflow_x": null,
            "grid_auto_flow": null,
            "grid_area": null,
            "grid_template_columns": null,
            "flex": null,
            "_model_name": "LayoutModel",
            "justify_items": null,
            "grid_row": null,
            "max_height": null,
            "align_content": null,
            "visibility": null,
            "align_self": null,
            "height": null,
            "min_height": null,
            "padding": null,
            "grid_auto_rows": null,
            "grid_gap": null,
            "max_width": null,
            "order": null,
            "_view_module_version": "1.2.0",
            "grid_template_areas": null,
            "object_position": null,
            "object_fit": null,
            "grid_auto_columns": null,
            "margin": null,
            "display": null,
            "left": null
          }
        },
        "65477990857c45d197af445f6f38c7f2": {
          "model_module": "@jupyter-widgets/controls",
          "model_name": "DescriptionStyleModel",
          "state": {
            "_view_name": "StyleView",
            "_model_name": "DescriptionStyleModel",
            "description_width": "",
            "_view_module": "@jupyter-widgets/base",
            "_model_module_version": "1.5.0",
            "_view_count": null,
            "_view_module_version": "1.2.0",
            "_model_module": "@jupyter-widgets/controls"
          }
        },
        "1a49b33b97be4abea3ae87cf4df6c8f3": {
          "model_module": "@jupyter-widgets/base",
          "model_name": "LayoutModel",
          "state": {
            "_view_name": "LayoutView",
            "grid_template_rows": null,
            "right": null,
            "justify_content": null,
            "_view_module": "@jupyter-widgets/base",
            "overflow": null,
            "_model_module_version": "1.2.0",
            "_view_count": null,
            "flex_flow": null,
            "width": null,
            "min_width": null,
            "border": null,
            "align_items": null,
            "bottom": null,
            "_model_module": "@jupyter-widgets/base",
            "top": null,
            "grid_column": null,
            "overflow_y": null,
            "overflow_x": null,
            "grid_auto_flow": null,
            "grid_area": null,
            "grid_template_columns": null,
            "flex": null,
            "_model_name": "LayoutModel",
            "justify_items": null,
            "grid_row": null,
            "max_height": null,
            "align_content": null,
            "visibility": null,
            "align_self": null,
            "height": null,
            "min_height": null,
            "padding": null,
            "grid_auto_rows": null,
            "grid_gap": null,
            "max_width": null,
            "order": null,
            "_view_module_version": "1.2.0",
            "grid_template_areas": null,
            "object_position": null,
            "object_fit": null,
            "grid_auto_columns": null,
            "margin": null,
            "display": null,
            "left": null
          }
        },
        "a0aeb375451b433091ad70362bcb6d2d": {
          "model_module": "@jupyter-widgets/controls",
          "model_name": "HBoxModel",
          "state": {
            "_view_name": "HBoxView",
            "_dom_classes": [],
            "_model_name": "HBoxModel",
            "_view_module": "@jupyter-widgets/controls",
            "_model_module_version": "1.5.0",
            "_view_count": null,
            "_view_module_version": "1.5.0",
            "box_style": "",
            "layout": "IPY_MODEL_db2b7c91771a4ff3817986a090289547",
            "_model_module": "@jupyter-widgets/controls",
            "children": [
              "IPY_MODEL_39b6a9dbc14b4ee78e6e118a91bcf4a3",
              "IPY_MODEL_9e2fa4af75854edfbbb76583e3c1f5a4"
            ]
          }
        },
        "db2b7c91771a4ff3817986a090289547": {
          "model_module": "@jupyter-widgets/base",
          "model_name": "LayoutModel",
          "state": {
            "_view_name": "LayoutView",
            "grid_template_rows": null,
            "right": null,
            "justify_content": null,
            "_view_module": "@jupyter-widgets/base",
            "overflow": null,
            "_model_module_version": "1.2.0",
            "_view_count": null,
            "flex_flow": null,
            "width": null,
            "min_width": null,
            "border": null,
            "align_items": null,
            "bottom": null,
            "_model_module": "@jupyter-widgets/base",
            "top": null,
            "grid_column": null,
            "overflow_y": null,
            "overflow_x": null,
            "grid_auto_flow": null,
            "grid_area": null,
            "grid_template_columns": null,
            "flex": null,
            "_model_name": "LayoutModel",
            "justify_items": null,
            "grid_row": null,
            "max_height": null,
            "align_content": null,
            "visibility": null,
            "align_self": null,
            "height": null,
            "min_height": null,
            "padding": null,
            "grid_auto_rows": null,
            "grid_gap": null,
            "max_width": null,
            "order": null,
            "_view_module_version": "1.2.0",
            "grid_template_areas": null,
            "object_position": null,
            "object_fit": null,
            "grid_auto_columns": null,
            "margin": null,
            "display": null,
            "left": null
          }
        },
        "39b6a9dbc14b4ee78e6e118a91bcf4a3": {
          "model_module": "@jupyter-widgets/controls",
          "model_name": "FloatProgressModel",
          "state": {
            "_view_name": "ProgressView",
            "style": "IPY_MODEL_21bb725d47d940fb88874996a116027a",
            "_dom_classes": [],
            "description": "100%",
            "_model_name": "FloatProgressModel",
            "bar_style": "success",
            "max": 16,
            "_view_module": "@jupyter-widgets/controls",
            "_model_module_version": "1.5.0",
            "value": 16,
            "_view_count": null,
            "_view_module_version": "1.5.0",
            "orientation": "horizontal",
            "min": 0,
            "description_tooltip": null,
            "_model_module": "@jupyter-widgets/controls",
            "layout": "IPY_MODEL_f4352ce5041b4519b8795c91963864ce"
          }
        },
        "9e2fa4af75854edfbbb76583e3c1f5a4": {
          "model_module": "@jupyter-widgets/controls",
          "model_name": "HTMLModel",
          "state": {
            "_view_name": "HTMLView",
            "style": "IPY_MODEL_811e97a34eb44c3f8a8ed55bfffb5185",
            "_dom_classes": [],
            "description": "",
            "_model_name": "HTMLModel",
            "placeholder": "​",
            "_view_module": "@jupyter-widgets/controls",
            "_model_module_version": "1.5.0",
            "value": " 16/16 [00:01&lt;00:00,  8.10it/s]",
            "_view_count": null,
            "_view_module_version": "1.5.0",
            "description_tooltip": null,
            "_model_module": "@jupyter-widgets/controls",
            "layout": "IPY_MODEL_feb4eb37d4b549328350b416f4633e38"
          }
        },
        "21bb725d47d940fb88874996a116027a": {
          "model_module": "@jupyter-widgets/controls",
          "model_name": "ProgressStyleModel",
          "state": {
            "_view_name": "StyleView",
            "_model_name": "ProgressStyleModel",
            "description_width": "initial",
            "_view_module": "@jupyter-widgets/base",
            "_model_module_version": "1.5.0",
            "_view_count": null,
            "_view_module_version": "1.2.0",
            "bar_color": null,
            "_model_module": "@jupyter-widgets/controls"
          }
        },
        "f4352ce5041b4519b8795c91963864ce": {
          "model_module": "@jupyter-widgets/base",
          "model_name": "LayoutModel",
          "state": {
            "_view_name": "LayoutView",
            "grid_template_rows": null,
            "right": null,
            "justify_content": null,
            "_view_module": "@jupyter-widgets/base",
            "overflow": null,
            "_model_module_version": "1.2.0",
            "_view_count": null,
            "flex_flow": null,
            "width": null,
            "min_width": null,
            "border": null,
            "align_items": null,
            "bottom": null,
            "_model_module": "@jupyter-widgets/base",
            "top": null,
            "grid_column": null,
            "overflow_y": null,
            "overflow_x": null,
            "grid_auto_flow": null,
            "grid_area": null,
            "grid_template_columns": null,
            "flex": null,
            "_model_name": "LayoutModel",
            "justify_items": null,
            "grid_row": null,
            "max_height": null,
            "align_content": null,
            "visibility": null,
            "align_self": null,
            "height": null,
            "min_height": null,
            "padding": null,
            "grid_auto_rows": null,
            "grid_gap": null,
            "max_width": null,
            "order": null,
            "_view_module_version": "1.2.0",
            "grid_template_areas": null,
            "object_position": null,
            "object_fit": null,
            "grid_auto_columns": null,
            "margin": null,
            "display": null,
            "left": null
          }
        },
        "811e97a34eb44c3f8a8ed55bfffb5185": {
          "model_module": "@jupyter-widgets/controls",
          "model_name": "DescriptionStyleModel",
          "state": {
            "_view_name": "StyleView",
            "_model_name": "DescriptionStyleModel",
            "description_width": "",
            "_view_module": "@jupyter-widgets/base",
            "_model_module_version": "1.5.0",
            "_view_count": null,
            "_view_module_version": "1.2.0",
            "_model_module": "@jupyter-widgets/controls"
          }
        },
        "feb4eb37d4b549328350b416f4633e38": {
          "model_module": "@jupyter-widgets/base",
          "model_name": "LayoutModel",
          "state": {
            "_view_name": "LayoutView",
            "grid_template_rows": null,
            "right": null,
            "justify_content": null,
            "_view_module": "@jupyter-widgets/base",
            "overflow": null,
            "_model_module_version": "1.2.0",
            "_view_count": null,
            "flex_flow": null,
            "width": null,
            "min_width": null,
            "border": null,
            "align_items": null,
            "bottom": null,
            "_model_module": "@jupyter-widgets/base",
            "top": null,
            "grid_column": null,
            "overflow_y": null,
            "overflow_x": null,
            "grid_auto_flow": null,
            "grid_area": null,
            "grid_template_columns": null,
            "flex": null,
            "_model_name": "LayoutModel",
            "justify_items": null,
            "grid_row": null,
            "max_height": null,
            "align_content": null,
            "visibility": null,
            "align_self": null,
            "height": null,
            "min_height": null,
            "padding": null,
            "grid_auto_rows": null,
            "grid_gap": null,
            "max_width": null,
            "order": null,
            "_view_module_version": "1.2.0",
            "grid_template_areas": null,
            "object_position": null,
            "object_fit": null,
            "grid_auto_columns": null,
            "margin": null,
            "display": null,
            "left": null
          }
        },
        "20671b1cec144bab876092ec9984a7ea": {
          "model_module": "@jupyter-widgets/controls",
          "model_name": "HBoxModel",
          "state": {
            "_view_name": "HBoxView",
            "_dom_classes": [],
            "_model_name": "HBoxModel",
            "_view_module": "@jupyter-widgets/controls",
            "_model_module_version": "1.5.0",
            "_view_count": null,
            "_view_module_version": "1.5.0",
            "box_style": "",
            "layout": "IPY_MODEL_69a12e6e063d489cb9f17967c96542f8",
            "_model_module": "@jupyter-widgets/controls",
            "children": [
              "IPY_MODEL_d721bad5fb714110aafd60eed91dd7f3",
              "IPY_MODEL_81b16eb847d445379753f582b30b1e06"
            ]
          }
        },
        "69a12e6e063d489cb9f17967c96542f8": {
          "model_module": "@jupyter-widgets/base",
          "model_name": "LayoutModel",
          "state": {
            "_view_name": "LayoutView",
            "grid_template_rows": null,
            "right": null,
            "justify_content": null,
            "_view_module": "@jupyter-widgets/base",
            "overflow": null,
            "_model_module_version": "1.2.0",
            "_view_count": null,
            "flex_flow": null,
            "width": null,
            "min_width": null,
            "border": null,
            "align_items": null,
            "bottom": null,
            "_model_module": "@jupyter-widgets/base",
            "top": null,
            "grid_column": null,
            "overflow_y": null,
            "overflow_x": null,
            "grid_auto_flow": null,
            "grid_area": null,
            "grid_template_columns": null,
            "flex": null,
            "_model_name": "LayoutModel",
            "justify_items": null,
            "grid_row": null,
            "max_height": null,
            "align_content": null,
            "visibility": null,
            "align_self": null,
            "height": null,
            "min_height": null,
            "padding": null,
            "grid_auto_rows": null,
            "grid_gap": null,
            "max_width": null,
            "order": null,
            "_view_module_version": "1.2.0",
            "grid_template_areas": null,
            "object_position": null,
            "object_fit": null,
            "grid_auto_columns": null,
            "margin": null,
            "display": null,
            "left": null
          }
        },
        "d721bad5fb714110aafd60eed91dd7f3": {
          "model_module": "@jupyter-widgets/controls",
          "model_name": "FloatProgressModel",
          "state": {
            "_view_name": "ProgressView",
            "style": "IPY_MODEL_74cc1a4afb5a4f248393320d49d6dd3f",
            "_dom_classes": [],
            "description": "",
            "_model_name": "FloatProgressModel",
            "bar_style": "success",
            "max": 1,
            "_view_module": "@jupyter-widgets/controls",
            "_model_module_version": "1.5.0",
            "value": 1,
            "_view_count": null,
            "_view_module_version": "1.5.0",
            "orientation": "horizontal",
            "min": 0,
            "description_tooltip": null,
            "_model_module": "@jupyter-widgets/controls",
            "layout": "IPY_MODEL_d182b2579cd04147998ba94a0746dfb0"
          }
        },
        "81b16eb847d445379753f582b30b1e06": {
          "model_module": "@jupyter-widgets/controls",
          "model_name": "HTMLModel",
          "state": {
            "_view_name": "HTMLView",
            "style": "IPY_MODEL_07e2052449e5448e913d8001ce477d12",
            "_dom_classes": [],
            "description": "",
            "_model_name": "HTMLModel",
            "placeholder": "​",
            "_view_module": "@jupyter-widgets/controls",
            "_model_module_version": "1.5.0",
            "value": " 61/? [00:54&lt;00:00,  1.11it/s]",
            "_view_count": null,
            "_view_module_version": "1.5.0",
            "description_tooltip": null,
            "_model_module": "@jupyter-widgets/controls",
            "layout": "IPY_MODEL_c0dabebc10db411db143457769a06bc5"
          }
        },
        "74cc1a4afb5a4f248393320d49d6dd3f": {
          "model_module": "@jupyter-widgets/controls",
          "model_name": "ProgressStyleModel",
          "state": {
            "_view_name": "StyleView",
            "_model_name": "ProgressStyleModel",
            "description_width": "initial",
            "_view_module": "@jupyter-widgets/base",
            "_model_module_version": "1.5.0",
            "_view_count": null,
            "_view_module_version": "1.2.0",
            "bar_color": null,
            "_model_module": "@jupyter-widgets/controls"
          }
        },
        "d182b2579cd04147998ba94a0746dfb0": {
          "model_module": "@jupyter-widgets/base",
          "model_name": "LayoutModel",
          "state": {
            "_view_name": "LayoutView",
            "grid_template_rows": null,
            "right": null,
            "justify_content": null,
            "_view_module": "@jupyter-widgets/base",
            "overflow": null,
            "_model_module_version": "1.2.0",
            "_view_count": null,
            "flex_flow": null,
            "width": null,
            "min_width": null,
            "border": null,
            "align_items": null,
            "bottom": null,
            "_model_module": "@jupyter-widgets/base",
            "top": null,
            "grid_column": null,
            "overflow_y": null,
            "overflow_x": null,
            "grid_auto_flow": null,
            "grid_area": null,
            "grid_template_columns": null,
            "flex": null,
            "_model_name": "LayoutModel",
            "justify_items": null,
            "grid_row": null,
            "max_height": null,
            "align_content": null,
            "visibility": null,
            "align_self": null,
            "height": null,
            "min_height": null,
            "padding": null,
            "grid_auto_rows": null,
            "grid_gap": null,
            "max_width": null,
            "order": null,
            "_view_module_version": "1.2.0",
            "grid_template_areas": null,
            "object_position": null,
            "object_fit": null,
            "grid_auto_columns": null,
            "margin": null,
            "display": null,
            "left": null
          }
        },
        "07e2052449e5448e913d8001ce477d12": {
          "model_module": "@jupyter-widgets/controls",
          "model_name": "DescriptionStyleModel",
          "state": {
            "_view_name": "StyleView",
            "_model_name": "DescriptionStyleModel",
            "description_width": "",
            "_view_module": "@jupyter-widgets/base",
            "_model_module_version": "1.5.0",
            "_view_count": null,
            "_view_module_version": "1.2.0",
            "_model_module": "@jupyter-widgets/controls"
          }
        },
        "c0dabebc10db411db143457769a06bc5": {
          "model_module": "@jupyter-widgets/base",
          "model_name": "LayoutModel",
          "state": {
            "_view_name": "LayoutView",
            "grid_template_rows": null,
            "right": null,
            "justify_content": null,
            "_view_module": "@jupyter-widgets/base",
            "overflow": null,
            "_model_module_version": "1.2.0",
            "_view_count": null,
            "flex_flow": null,
            "width": null,
            "min_width": null,
            "border": null,
            "align_items": null,
            "bottom": null,
            "_model_module": "@jupyter-widgets/base",
            "top": null,
            "grid_column": null,
            "overflow_y": null,
            "overflow_x": null,
            "grid_auto_flow": null,
            "grid_area": null,
            "grid_template_columns": null,
            "flex": null,
            "_model_name": "LayoutModel",
            "justify_items": null,
            "grid_row": null,
            "max_height": null,
            "align_content": null,
            "visibility": null,
            "align_self": null,
            "height": null,
            "min_height": null,
            "padding": null,
            "grid_auto_rows": null,
            "grid_gap": null,
            "max_width": null,
            "order": null,
            "_view_module_version": "1.2.0",
            "grid_template_areas": null,
            "object_position": null,
            "object_fit": null,
            "grid_auto_columns": null,
            "margin": null,
            "display": null,
            "left": null
          }
        },
        "eb4b242877fb4dbb9a5cb6b7d70154b3": {
          "model_module": "@jupyter-widgets/controls",
          "model_name": "HBoxModel",
          "state": {
            "_view_name": "HBoxView",
            "_dom_classes": [],
            "_model_name": "HBoxModel",
            "_view_module": "@jupyter-widgets/controls",
            "_model_module_version": "1.5.0",
            "_view_count": null,
            "_view_module_version": "1.5.0",
            "box_style": "",
            "layout": "IPY_MODEL_1c966d9fb4304652b26183a9aa740a19",
            "_model_module": "@jupyter-widgets/controls",
            "children": [
              "IPY_MODEL_25ccc06e4d5742b1b960a32dfde718d3",
              "IPY_MODEL_b4b48b30318a443ab5d2adeb0e9cd507"
            ]
          }
        },
        "1c966d9fb4304652b26183a9aa740a19": {
          "model_module": "@jupyter-widgets/base",
          "model_name": "LayoutModel",
          "state": {
            "_view_name": "LayoutView",
            "grid_template_rows": null,
            "right": null,
            "justify_content": null,
            "_view_module": "@jupyter-widgets/base",
            "overflow": null,
            "_model_module_version": "1.2.0",
            "_view_count": null,
            "flex_flow": null,
            "width": null,
            "min_width": null,
            "border": null,
            "align_items": null,
            "bottom": null,
            "_model_module": "@jupyter-widgets/base",
            "top": null,
            "grid_column": null,
            "overflow_y": null,
            "overflow_x": null,
            "grid_auto_flow": null,
            "grid_area": null,
            "grid_template_columns": null,
            "flex": null,
            "_model_name": "LayoutModel",
            "justify_items": null,
            "grid_row": null,
            "max_height": null,
            "align_content": null,
            "visibility": null,
            "align_self": null,
            "height": null,
            "min_height": null,
            "padding": null,
            "grid_auto_rows": null,
            "grid_gap": null,
            "max_width": null,
            "order": null,
            "_view_module_version": "1.2.0",
            "grid_template_areas": null,
            "object_position": null,
            "object_fit": null,
            "grid_auto_columns": null,
            "margin": null,
            "display": null,
            "left": null
          }
        },
        "25ccc06e4d5742b1b960a32dfde718d3": {
          "model_module": "@jupyter-widgets/controls",
          "model_name": "FloatProgressModel",
          "state": {
            "_view_name": "ProgressView",
            "style": "IPY_MODEL_e4d5319f7c254ce59bd3bef72798be00",
            "_dom_classes": [],
            "description": "100%",
            "_model_name": "FloatProgressModel",
            "bar_style": "success",
            "max": 16,
            "_view_module": "@jupyter-widgets/controls",
            "_model_module_version": "1.5.0",
            "value": 16,
            "_view_count": null,
            "_view_module_version": "1.5.0",
            "orientation": "horizontal",
            "min": 0,
            "description_tooltip": null,
            "_model_module": "@jupyter-widgets/controls",
            "layout": "IPY_MODEL_a360b36a1b3b4f7ca938d2fc8d680254"
          }
        },
        "b4b48b30318a443ab5d2adeb0e9cd507": {
          "model_module": "@jupyter-widgets/controls",
          "model_name": "HTMLModel",
          "state": {
            "_view_name": "HTMLView",
            "style": "IPY_MODEL_26f0ccbf53214653b52189c3a4dac5dc",
            "_dom_classes": [],
            "description": "",
            "_model_name": "HTMLModel",
            "placeholder": "​",
            "_view_module": "@jupyter-widgets/controls",
            "_model_module_version": "1.5.0",
            "value": " 16/16 [00:12&lt;00:00,  1.33it/s]",
            "_view_count": null,
            "_view_module_version": "1.5.0",
            "description_tooltip": null,
            "_model_module": "@jupyter-widgets/controls",
            "layout": "IPY_MODEL_95a0d395182a4579836c854136304453"
          }
        },
        "e4d5319f7c254ce59bd3bef72798be00": {
          "model_module": "@jupyter-widgets/controls",
          "model_name": "ProgressStyleModel",
          "state": {
            "_view_name": "StyleView",
            "_model_name": "ProgressStyleModel",
            "description_width": "initial",
            "_view_module": "@jupyter-widgets/base",
            "_model_module_version": "1.5.0",
            "_view_count": null,
            "_view_module_version": "1.2.0",
            "bar_color": null,
            "_model_module": "@jupyter-widgets/controls"
          }
        },
        "a360b36a1b3b4f7ca938d2fc8d680254": {
          "model_module": "@jupyter-widgets/base",
          "model_name": "LayoutModel",
          "state": {
            "_view_name": "LayoutView",
            "grid_template_rows": null,
            "right": null,
            "justify_content": null,
            "_view_module": "@jupyter-widgets/base",
            "overflow": null,
            "_model_module_version": "1.2.0",
            "_view_count": null,
            "flex_flow": null,
            "width": null,
            "min_width": null,
            "border": null,
            "align_items": null,
            "bottom": null,
            "_model_module": "@jupyter-widgets/base",
            "top": null,
            "grid_column": null,
            "overflow_y": null,
            "overflow_x": null,
            "grid_auto_flow": null,
            "grid_area": null,
            "grid_template_columns": null,
            "flex": null,
            "_model_name": "LayoutModel",
            "justify_items": null,
            "grid_row": null,
            "max_height": null,
            "align_content": null,
            "visibility": null,
            "align_self": null,
            "height": null,
            "min_height": null,
            "padding": null,
            "grid_auto_rows": null,
            "grid_gap": null,
            "max_width": null,
            "order": null,
            "_view_module_version": "1.2.0",
            "grid_template_areas": null,
            "object_position": null,
            "object_fit": null,
            "grid_auto_columns": null,
            "margin": null,
            "display": null,
            "left": null
          }
        },
        "26f0ccbf53214653b52189c3a4dac5dc": {
          "model_module": "@jupyter-widgets/controls",
          "model_name": "DescriptionStyleModel",
          "state": {
            "_view_name": "StyleView",
            "_model_name": "DescriptionStyleModel",
            "description_width": "",
            "_view_module": "@jupyter-widgets/base",
            "_model_module_version": "1.5.0",
            "_view_count": null,
            "_view_module_version": "1.2.0",
            "_model_module": "@jupyter-widgets/controls"
          }
        },
        "95a0d395182a4579836c854136304453": {
          "model_module": "@jupyter-widgets/base",
          "model_name": "LayoutModel",
          "state": {
            "_view_name": "LayoutView",
            "grid_template_rows": null,
            "right": null,
            "justify_content": null,
            "_view_module": "@jupyter-widgets/base",
            "overflow": null,
            "_model_module_version": "1.2.0",
            "_view_count": null,
            "flex_flow": null,
            "width": null,
            "min_width": null,
            "border": null,
            "align_items": null,
            "bottom": null,
            "_model_module": "@jupyter-widgets/base",
            "top": null,
            "grid_column": null,
            "overflow_y": null,
            "overflow_x": null,
            "grid_auto_flow": null,
            "grid_area": null,
            "grid_template_columns": null,
            "flex": null,
            "_model_name": "LayoutModel",
            "justify_items": null,
            "grid_row": null,
            "max_height": null,
            "align_content": null,
            "visibility": null,
            "align_self": null,
            "height": null,
            "min_height": null,
            "padding": null,
            "grid_auto_rows": null,
            "grid_gap": null,
            "max_width": null,
            "order": null,
            "_view_module_version": "1.2.0",
            "grid_template_areas": null,
            "object_position": null,
            "object_fit": null,
            "grid_auto_columns": null,
            "margin": null,
            "display": null,
            "left": null
          }
        },
        "54f6d80abd244148ab21d7d5c0de5cd2": {
          "model_module": "@jupyter-widgets/controls",
          "model_name": "HBoxModel",
          "state": {
            "_view_name": "HBoxView",
            "_dom_classes": [],
            "_model_name": "HBoxModel",
            "_view_module": "@jupyter-widgets/controls",
            "_model_module_version": "1.5.0",
            "_view_count": null,
            "_view_module_version": "1.5.0",
            "box_style": "",
            "layout": "IPY_MODEL_aba2dea3fd0a40a2bc8f9e66897f6202",
            "_model_module": "@jupyter-widgets/controls",
            "children": [
              "IPY_MODEL_e71751e0080849b8837afdcaba410280",
              "IPY_MODEL_ba678cad5f994023900678ef35cc7e94"
            ]
          }
        },
        "aba2dea3fd0a40a2bc8f9e66897f6202": {
          "model_module": "@jupyter-widgets/base",
          "model_name": "LayoutModel",
          "state": {
            "_view_name": "LayoutView",
            "grid_template_rows": null,
            "right": null,
            "justify_content": null,
            "_view_module": "@jupyter-widgets/base",
            "overflow": null,
            "_model_module_version": "1.2.0",
            "_view_count": null,
            "flex_flow": null,
            "width": null,
            "min_width": null,
            "border": null,
            "align_items": null,
            "bottom": null,
            "_model_module": "@jupyter-widgets/base",
            "top": null,
            "grid_column": null,
            "overflow_y": null,
            "overflow_x": null,
            "grid_auto_flow": null,
            "grid_area": null,
            "grid_template_columns": null,
            "flex": null,
            "_model_name": "LayoutModel",
            "justify_items": null,
            "grid_row": null,
            "max_height": null,
            "align_content": null,
            "visibility": null,
            "align_self": null,
            "height": null,
            "min_height": null,
            "padding": null,
            "grid_auto_rows": null,
            "grid_gap": null,
            "max_width": null,
            "order": null,
            "_view_module_version": "1.2.0",
            "grid_template_areas": null,
            "object_position": null,
            "object_fit": null,
            "grid_auto_columns": null,
            "margin": null,
            "display": null,
            "left": null
          }
        },
        "e71751e0080849b8837afdcaba410280": {
          "model_module": "@jupyter-widgets/controls",
          "model_name": "FloatProgressModel",
          "state": {
            "_view_name": "ProgressView",
            "style": "IPY_MODEL_8402c221971a4b1d8bb1123e77e1a99a",
            "_dom_classes": [],
            "description": "",
            "_model_name": "FloatProgressModel",
            "bar_style": "success",
            "max": 1,
            "_view_module": "@jupyter-widgets/controls",
            "_model_module_version": "1.5.0",
            "value": 1,
            "_view_count": null,
            "_view_module_version": "1.5.0",
            "orientation": "horizontal",
            "min": 0,
            "description_tooltip": null,
            "_model_module": "@jupyter-widgets/controls",
            "layout": "IPY_MODEL_7180a5013052409488733e4fb8f09a84"
          }
        },
        "ba678cad5f994023900678ef35cc7e94": {
          "model_module": "@jupyter-widgets/controls",
          "model_name": "HTMLModel",
          "state": {
            "_view_name": "HTMLView",
            "style": "IPY_MODEL_e82e052382b44718915eb2fd17fa6788",
            "_dom_classes": [],
            "description": "",
            "_model_name": "HTMLModel",
            "placeholder": "​",
            "_view_module": "@jupyter-widgets/controls",
            "_model_module_version": "1.5.0",
            "value": " 61/? [00:27&lt;00:00,  2.22it/s]",
            "_view_count": null,
            "_view_module_version": "1.5.0",
            "description_tooltip": null,
            "_model_module": "@jupyter-widgets/controls",
            "layout": "IPY_MODEL_7acf0c7c710342908534fab890c03fa7"
          }
        },
        "8402c221971a4b1d8bb1123e77e1a99a": {
          "model_module": "@jupyter-widgets/controls",
          "model_name": "ProgressStyleModel",
          "state": {
            "_view_name": "StyleView",
            "_model_name": "ProgressStyleModel",
            "description_width": "initial",
            "_view_module": "@jupyter-widgets/base",
            "_model_module_version": "1.5.0",
            "_view_count": null,
            "_view_module_version": "1.2.0",
            "bar_color": null,
            "_model_module": "@jupyter-widgets/controls"
          }
        },
        "7180a5013052409488733e4fb8f09a84": {
          "model_module": "@jupyter-widgets/base",
          "model_name": "LayoutModel",
          "state": {
            "_view_name": "LayoutView",
            "grid_template_rows": null,
            "right": null,
            "justify_content": null,
            "_view_module": "@jupyter-widgets/base",
            "overflow": null,
            "_model_module_version": "1.2.0",
            "_view_count": null,
            "flex_flow": null,
            "width": null,
            "min_width": null,
            "border": null,
            "align_items": null,
            "bottom": null,
            "_model_module": "@jupyter-widgets/base",
            "top": null,
            "grid_column": null,
            "overflow_y": null,
            "overflow_x": null,
            "grid_auto_flow": null,
            "grid_area": null,
            "grid_template_columns": null,
            "flex": null,
            "_model_name": "LayoutModel",
            "justify_items": null,
            "grid_row": null,
            "max_height": null,
            "align_content": null,
            "visibility": null,
            "align_self": null,
            "height": null,
            "min_height": null,
            "padding": null,
            "grid_auto_rows": null,
            "grid_gap": null,
            "max_width": null,
            "order": null,
            "_view_module_version": "1.2.0",
            "grid_template_areas": null,
            "object_position": null,
            "object_fit": null,
            "grid_auto_columns": null,
            "margin": null,
            "display": null,
            "left": null
          }
        },
        "e82e052382b44718915eb2fd17fa6788": {
          "model_module": "@jupyter-widgets/controls",
          "model_name": "DescriptionStyleModel",
          "state": {
            "_view_name": "StyleView",
            "_model_name": "DescriptionStyleModel",
            "description_width": "",
            "_view_module": "@jupyter-widgets/base",
            "_model_module_version": "1.5.0",
            "_view_count": null,
            "_view_module_version": "1.2.0",
            "_model_module": "@jupyter-widgets/controls"
          }
        },
        "7acf0c7c710342908534fab890c03fa7": {
          "model_module": "@jupyter-widgets/base",
          "model_name": "LayoutModel",
          "state": {
            "_view_name": "LayoutView",
            "grid_template_rows": null,
            "right": null,
            "justify_content": null,
            "_view_module": "@jupyter-widgets/base",
            "overflow": null,
            "_model_module_version": "1.2.0",
            "_view_count": null,
            "flex_flow": null,
            "width": null,
            "min_width": null,
            "border": null,
            "align_items": null,
            "bottom": null,
            "_model_module": "@jupyter-widgets/base",
            "top": null,
            "grid_column": null,
            "overflow_y": null,
            "overflow_x": null,
            "grid_auto_flow": null,
            "grid_area": null,
            "grid_template_columns": null,
            "flex": null,
            "_model_name": "LayoutModel",
            "justify_items": null,
            "grid_row": null,
            "max_height": null,
            "align_content": null,
            "visibility": null,
            "align_self": null,
            "height": null,
            "min_height": null,
            "padding": null,
            "grid_auto_rows": null,
            "grid_gap": null,
            "max_width": null,
            "order": null,
            "_view_module_version": "1.2.0",
            "grid_template_areas": null,
            "object_position": null,
            "object_fit": null,
            "grid_auto_columns": null,
            "margin": null,
            "display": null,
            "left": null
          }
        },
        "633b885347df4323bda94a7f14590dca": {
          "model_module": "@jupyter-widgets/controls",
          "model_name": "HBoxModel",
          "state": {
            "_view_name": "HBoxView",
            "_dom_classes": [],
            "_model_name": "HBoxModel",
            "_view_module": "@jupyter-widgets/controls",
            "_model_module_version": "1.5.0",
            "_view_count": null,
            "_view_module_version": "1.5.0",
            "box_style": "",
            "layout": "IPY_MODEL_a72701345f4540e3a871fd1ef1874d6f",
            "_model_module": "@jupyter-widgets/controls",
            "children": [
              "IPY_MODEL_e5b76dae86fe4bc2a8a1598ab9583ac4",
              "IPY_MODEL_c789050e037846b7b1bf739e50bb0c93"
            ]
          }
        },
        "a72701345f4540e3a871fd1ef1874d6f": {
          "model_module": "@jupyter-widgets/base",
          "model_name": "LayoutModel",
          "state": {
            "_view_name": "LayoutView",
            "grid_template_rows": null,
            "right": null,
            "justify_content": null,
            "_view_module": "@jupyter-widgets/base",
            "overflow": null,
            "_model_module_version": "1.2.0",
            "_view_count": null,
            "flex_flow": null,
            "width": null,
            "min_width": null,
            "border": null,
            "align_items": null,
            "bottom": null,
            "_model_module": "@jupyter-widgets/base",
            "top": null,
            "grid_column": null,
            "overflow_y": null,
            "overflow_x": null,
            "grid_auto_flow": null,
            "grid_area": null,
            "grid_template_columns": null,
            "flex": null,
            "_model_name": "LayoutModel",
            "justify_items": null,
            "grid_row": null,
            "max_height": null,
            "align_content": null,
            "visibility": null,
            "align_self": null,
            "height": null,
            "min_height": null,
            "padding": null,
            "grid_auto_rows": null,
            "grid_gap": null,
            "max_width": null,
            "order": null,
            "_view_module_version": "1.2.0",
            "grid_template_areas": null,
            "object_position": null,
            "object_fit": null,
            "grid_auto_columns": null,
            "margin": null,
            "display": null,
            "left": null
          }
        },
        "e5b76dae86fe4bc2a8a1598ab9583ac4": {
          "model_module": "@jupyter-widgets/controls",
          "model_name": "FloatProgressModel",
          "state": {
            "_view_name": "ProgressView",
            "style": "IPY_MODEL_8696d896f8864db6bea1e30aacee705c",
            "_dom_classes": [],
            "description": "100%",
            "_model_name": "FloatProgressModel",
            "bar_style": "success",
            "max": 16,
            "_view_module": "@jupyter-widgets/controls",
            "_model_module_version": "1.5.0",
            "value": 16,
            "_view_count": null,
            "_view_module_version": "1.5.0",
            "orientation": "horizontal",
            "min": 0,
            "description_tooltip": null,
            "_model_module": "@jupyter-widgets/controls",
            "layout": "IPY_MODEL_c0fb63bdb7d547b59bbaa8ea787907e4"
          }
        },
        "c789050e037846b7b1bf739e50bb0c93": {
          "model_module": "@jupyter-widgets/controls",
          "model_name": "HTMLModel",
          "state": {
            "_view_name": "HTMLView",
            "style": "IPY_MODEL_067a3140c63d491ca1e23dab43d5369d",
            "_dom_classes": [],
            "description": "",
            "_model_name": "HTMLModel",
            "placeholder": "​",
            "_view_module": "@jupyter-widgets/controls",
            "_model_module_version": "1.5.0",
            "value": " 16/16 [00:01&lt;00:00,  8.04it/s]",
            "_view_count": null,
            "_view_module_version": "1.5.0",
            "description_tooltip": null,
            "_model_module": "@jupyter-widgets/controls",
            "layout": "IPY_MODEL_4315a2262b5247c6bbd52d43f30862f5"
          }
        },
        "8696d896f8864db6bea1e30aacee705c": {
          "model_module": "@jupyter-widgets/controls",
          "model_name": "ProgressStyleModel",
          "state": {
            "_view_name": "StyleView",
            "_model_name": "ProgressStyleModel",
            "description_width": "initial",
            "_view_module": "@jupyter-widgets/base",
            "_model_module_version": "1.5.0",
            "_view_count": null,
            "_view_module_version": "1.2.0",
            "bar_color": null,
            "_model_module": "@jupyter-widgets/controls"
          }
        },
        "c0fb63bdb7d547b59bbaa8ea787907e4": {
          "model_module": "@jupyter-widgets/base",
          "model_name": "LayoutModel",
          "state": {
            "_view_name": "LayoutView",
            "grid_template_rows": null,
            "right": null,
            "justify_content": null,
            "_view_module": "@jupyter-widgets/base",
            "overflow": null,
            "_model_module_version": "1.2.0",
            "_view_count": null,
            "flex_flow": null,
            "width": null,
            "min_width": null,
            "border": null,
            "align_items": null,
            "bottom": null,
            "_model_module": "@jupyter-widgets/base",
            "top": null,
            "grid_column": null,
            "overflow_y": null,
            "overflow_x": null,
            "grid_auto_flow": null,
            "grid_area": null,
            "grid_template_columns": null,
            "flex": null,
            "_model_name": "LayoutModel",
            "justify_items": null,
            "grid_row": null,
            "max_height": null,
            "align_content": null,
            "visibility": null,
            "align_self": null,
            "height": null,
            "min_height": null,
            "padding": null,
            "grid_auto_rows": null,
            "grid_gap": null,
            "max_width": null,
            "order": null,
            "_view_module_version": "1.2.0",
            "grid_template_areas": null,
            "object_position": null,
            "object_fit": null,
            "grid_auto_columns": null,
            "margin": null,
            "display": null,
            "left": null
          }
        },
        "067a3140c63d491ca1e23dab43d5369d": {
          "model_module": "@jupyter-widgets/controls",
          "model_name": "DescriptionStyleModel",
          "state": {
            "_view_name": "StyleView",
            "_model_name": "DescriptionStyleModel",
            "description_width": "",
            "_view_module": "@jupyter-widgets/base",
            "_model_module_version": "1.5.0",
            "_view_count": null,
            "_view_module_version": "1.2.0",
            "_model_module": "@jupyter-widgets/controls"
          }
        },
        "4315a2262b5247c6bbd52d43f30862f5": {
          "model_module": "@jupyter-widgets/base",
          "model_name": "LayoutModel",
          "state": {
            "_view_name": "LayoutView",
            "grid_template_rows": null,
            "right": null,
            "justify_content": null,
            "_view_module": "@jupyter-widgets/base",
            "overflow": null,
            "_model_module_version": "1.2.0",
            "_view_count": null,
            "flex_flow": null,
            "width": null,
            "min_width": null,
            "border": null,
            "align_items": null,
            "bottom": null,
            "_model_module": "@jupyter-widgets/base",
            "top": null,
            "grid_column": null,
            "overflow_y": null,
            "overflow_x": null,
            "grid_auto_flow": null,
            "grid_area": null,
            "grid_template_columns": null,
            "flex": null,
            "_model_name": "LayoutModel",
            "justify_items": null,
            "grid_row": null,
            "max_height": null,
            "align_content": null,
            "visibility": null,
            "align_self": null,
            "height": null,
            "min_height": null,
            "padding": null,
            "grid_auto_rows": null,
            "grid_gap": null,
            "max_width": null,
            "order": null,
            "_view_module_version": "1.2.0",
            "grid_template_areas": null,
            "object_position": null,
            "object_fit": null,
            "grid_auto_columns": null,
            "margin": null,
            "display": null,
            "left": null
          }
        }
      }
    }
  },
  "cells": [
    {
      "cell_type": "markdown",
      "metadata": {
        "id": "view-in-github",
        "colab_type": "text"
      },
      "source": [
        "<a href=\"https://colab.research.google.com/github/Sophie1218/HMTK_DS102.L11.CNCL/blob/main/Code_RunModel.ipynb\" target=\"_parent\"><img src=\"https://colab.research.google.com/assets/colab-badge.svg\" alt=\"Open In Colab\"/></a>"
      ]
    },
    {
      "cell_type": "markdown",
      "metadata": {
        "id": "T6ABvX1W0RrC"
      },
      "source": [
        "# Import and Install libraries"
      ]
    },
    {
      "cell_type": "code",
      "metadata": {
        "colab": {
          "base_uri": "https://localhost:8080/"
        },
        "id": "wkENM8IwiyZ3",
        "outputId": "daf54999-f486-4269-ca45-bce73fb0e1da"
      },
      "source": [
        "from google.colab import drive\n",
        "drive.mount('/content/drive')"
      ],
      "execution_count": 1,
      "outputs": [
        {
          "output_type": "stream",
          "text": [
            "Drive already mounted at /content/drive; to attempt to forcibly remount, call drive.mount(\"/content/drive\", force_remount=True).\n"
          ],
          "name": "stdout"
        }
      ]
    },
    {
      "cell_type": "code",
      "metadata": {
        "id": "EPhu2RUBJk_r"
      },
      "source": [
        "import warnings \r\n",
        "  \r\n",
        "warnings.filterwarnings(action = 'ignore') "
      ],
      "execution_count": 2,
      "outputs": []
    },
    {
      "cell_type": "code",
      "metadata": {
        "id": "ybfXEhCVJwmJ"
      },
      "source": [
        "import os\r\n",
        "import time\r\n",
        "import string\r\n",
        "import random\r\n",
        "import wordcloud\r\n",
        "import seaborn as sns\r\n",
        "import pandas as pd\r\n",
        "import numpy as np\r\n",
        "import numpy as np\r\n",
        "import matplotlib\r\n",
        "import regex as re\r\n",
        "import matplotlib.pyplot as plt\r\n",
        "\r\n",
        "import torch\r\n",
        "from tqdm import tqdm_notebook\r\n",
        "from sklearn.metrics import classification_report\r\n",
        "from sklearn import model_selection\r\n",
        "from sklearn.model_selection import train_test_split\r\n",
        "from sklearn.feature_extraction.text import TfidfVectorizer\r\n",
        "from sklearn.metrics import confusion_matrix\r\n",
        "from sklearn.model_selection import cross_val_predict\r\n",
        "from sklearn.model_selection import ShuffleSplit\r\n",
        "from sklearn.model_selection import cross_val_score\r\n",
        "from sklearn.metrics import accuracy_score, f1_score\r\n",
        "from sklearn.model_selection import StratifiedKFold\r\n",
        "\r\n",
        "from sklearn.preprocessing import StandardScaler\r\n",
        "from sklearn.linear_model import LogisticRegression\r\n",
        "from sklearn.svm import SVC\r\n",
        "from sklearn.tree import DecisionTreeClassifier\r\n",
        "from sklearn.ensemble import RandomForestClassifier\r\n",
        "from sklearn.neighbors import KNeighborsClassifier\r\n",
        "from sklearn.naive_bayes import GaussianNB\r\n",
        "\r\n",
        "from tensorflow.keras.preprocessing.sequence import pad_sequences\r\n",
        "from torch.utils.data import TensorDataset, DataLoader, RandomSampler, SequentialSampler"
      ],
      "execution_count": 3,
      "outputs": []
    },
    {
      "cell_type": "code",
      "metadata": {
        "id": "DH-mzfBpZPei"
      },
      "source": [
        "import os\n",
        "os.chdir('/content/drive/MyDrive/Colab Notebooks/Bert_Complaint')"
      ],
      "execution_count": 4,
      "outputs": []
    },
    {
      "cell_type": "code",
      "metadata": {
        "colab": {
          "base_uri": "https://localhost:8080/"
        },
        "id": "j5qfwX3jZddL",
        "outputId": "1352347b-e0c5-460a-efe2-1a71fb0d48ef"
      },
      "source": [
        "!nvidia-smi"
      ],
      "execution_count": 5,
      "outputs": [
        {
          "output_type": "stream",
          "text": [
            "Mon Dec 14 01:24:37 2020       \n",
            "+-----------------------------------------------------------------------------+\n",
            "| NVIDIA-SMI 455.45.01    Driver Version: 418.67       CUDA Version: 10.1     |\n",
            "|-------------------------------+----------------------+----------------------+\n",
            "| GPU  Name        Persistence-M| Bus-Id        Disp.A | Volatile Uncorr. ECC |\n",
            "| Fan  Temp  Perf  Pwr:Usage/Cap|         Memory-Usage | GPU-Util  Compute M. |\n",
            "|                               |                      |               MIG M. |\n",
            "|===============================+======================+======================|\n",
            "|   0  Tesla P100-PCIE...  Off  | 00000000:00:04.0 Off |                    0 |\n",
            "| N/A   54C    P0    29W / 250W |      0MiB / 16280MiB |      0%      Default |\n",
            "|                               |                      |                 ERR! |\n",
            "+-------------------------------+----------------------+----------------------+\n",
            "                                                                               \n",
            "+-----------------------------------------------------------------------------+\n",
            "| Processes:                                                                  |\n",
            "|  GPU   GI   CI        PID   Type   Process name                  GPU Memory |\n",
            "|        ID   ID                                                   Usage      |\n",
            "|=============================================================================|\n",
            "|  No running processes found                                                 |\n",
            "+-----------------------------------------------------------------------------+\n"
          ],
          "name": "stdout"
        }
      ]
    },
    {
      "cell_type": "code",
      "metadata": {
        "colab": {
          "base_uri": "https://localhost:8080/"
        },
        "id": "4_6sYt9vZfP4",
        "outputId": "8161875a-fe65-4a37-a43c-7aa441a7672c"
      },
      "source": [
        "!pip install transformers"
      ],
      "execution_count": 6,
      "outputs": [
        {
          "output_type": "stream",
          "text": [
            "Requirement already satisfied: transformers in /usr/local/lib/python3.6/dist-packages (4.0.1)\n",
            "Collecting tokenizers==0.9.4\n",
            "  Using cached https://files.pythonhosted.org/packages/0f/1c/e789a8b12e28be5bc1ce2156cf87cb522b379be9cadc7ad8091a4cc107c4/tokenizers-0.9.4-cp36-cp36m-manylinux2010_x86_64.whl\n",
            "Requirement already satisfied: tqdm>=4.27 in /usr/local/lib/python3.6/dist-packages (from transformers) (4.41.1)\n",
            "Requirement already satisfied: numpy in /usr/local/lib/python3.6/dist-packages (from transformers) (1.18.5)\n",
            "Requirement already satisfied: filelock in /usr/local/lib/python3.6/dist-packages (from transformers) (3.0.12)\n",
            "Requirement already satisfied: regex!=2019.12.17 in /usr/local/lib/python3.6/dist-packages (from transformers) (2019.12.20)\n",
            "Requirement already satisfied: packaging in /usr/local/lib/python3.6/dist-packages (from transformers) (20.7)\n",
            "Requirement already satisfied: dataclasses; python_version < \"3.7\" in /usr/local/lib/python3.6/dist-packages (from transformers) (0.8)\n",
            "Requirement already satisfied: requests in /usr/local/lib/python3.6/dist-packages (from transformers) (2.23.0)\n",
            "Requirement already satisfied: sacremoses in /usr/local/lib/python3.6/dist-packages (from transformers) (0.0.43)\n",
            "Requirement already satisfied: pyparsing>=2.0.2 in /usr/local/lib/python3.6/dist-packages (from packaging->transformers) (2.4.7)\n",
            "Requirement already satisfied: urllib3!=1.25.0,!=1.25.1,<1.26,>=1.21.1 in /usr/local/lib/python3.6/dist-packages (from requests->transformers) (1.24.3)\n",
            "Requirement already satisfied: chardet<4,>=3.0.2 in /usr/local/lib/python3.6/dist-packages (from requests->transformers) (3.0.4)\n",
            "Requirement already satisfied: idna<3,>=2.5 in /usr/local/lib/python3.6/dist-packages (from requests->transformers) (2.10)\n",
            "Requirement already satisfied: certifi>=2017.4.17 in /usr/local/lib/python3.6/dist-packages (from requests->transformers) (2020.12.5)\n",
            "Requirement already satisfied: six in /usr/local/lib/python3.6/dist-packages (from sacremoses->transformers) (1.15.0)\n",
            "Requirement already satisfied: click in /usr/local/lib/python3.6/dist-packages (from sacremoses->transformers) (7.1.2)\n",
            "Requirement already satisfied: joblib in /usr/local/lib/python3.6/dist-packages (from sacremoses->transformers) (0.17.0)\n",
            "\u001b[31mERROR: transformers-phobert 3.1.2 has requirement tokenizers==0.8.1.rc2, but you'll have tokenizers 0.9.4 which is incompatible.\u001b[0m\n",
            "Installing collected packages: tokenizers\n",
            "  Found existing installation: tokenizers 0.8.1rc2\n",
            "    Uninstalling tokenizers-0.8.1rc2:\n",
            "      Successfully uninstalled tokenizers-0.8.1rc2\n",
            "Successfully installed tokenizers-0.9.4\n"
          ],
          "name": "stdout"
        }
      ]
    },
    {
      "cell_type": "code",
      "metadata": {
        "colab": {
          "base_uri": "https://localhost:8080/"
        },
        "id": "55eWPg5TZphI",
        "outputId": "7ad53987-de1d-4e7f-f0a0-7c694347d790"
      },
      "source": [
        "!pip install fastBPE\n",
        "!pip install fairseq"
      ],
      "execution_count": 7,
      "outputs": [
        {
          "output_type": "stream",
          "text": [
            "Requirement already satisfied: fastBPE in /usr/local/lib/python3.6/dist-packages (0.1.0)\n",
            "Requirement already satisfied: fairseq in /usr/local/lib/python3.6/dist-packages (0.10.1)\n",
            "Requirement already satisfied: cffi in /usr/local/lib/python3.6/dist-packages (from fairseq) (1.14.4)\n",
            "Requirement already satisfied: tqdm in /usr/local/lib/python3.6/dist-packages (from fairseq) (4.41.1)\n",
            "Requirement already satisfied: torch in /usr/local/lib/python3.6/dist-packages (from fairseq) (1.7.0+cu101)\n",
            "Requirement already satisfied: regex in /usr/local/lib/python3.6/dist-packages (from fairseq) (2019.12.20)\n",
            "Requirement already satisfied: sacrebleu>=1.4.12 in /usr/local/lib/python3.6/dist-packages (from fairseq) (1.4.14)\n",
            "Requirement already satisfied: cython in /usr/local/lib/python3.6/dist-packages (from fairseq) (0.29.21)\n",
            "Requirement already satisfied: hydra-core in /usr/local/lib/python3.6/dist-packages (from fairseq) (1.0.4)\n",
            "Requirement already satisfied: numpy in /usr/local/lib/python3.6/dist-packages (from fairseq) (1.18.5)\n",
            "Requirement already satisfied: dataclasses in /usr/local/lib/python3.6/dist-packages (from fairseq) (0.8)\n",
            "Requirement already satisfied: pycparser in /usr/local/lib/python3.6/dist-packages (from cffi->fairseq) (2.20)\n",
            "Requirement already satisfied: typing-extensions in /usr/local/lib/python3.6/dist-packages (from torch->fairseq) (3.7.4.3)\n",
            "Requirement already satisfied: future in /usr/local/lib/python3.6/dist-packages (from torch->fairseq) (0.16.0)\n",
            "Requirement already satisfied: portalocker in /usr/local/lib/python3.6/dist-packages (from sacrebleu>=1.4.12->fairseq) (2.0.0)\n",
            "Requirement already satisfied: importlib-resources; python_version < \"3.9\" in /usr/local/lib/python3.6/dist-packages (from hydra-core->fairseq) (3.3.0)\n",
            "Requirement already satisfied: antlr4-python3-runtime==4.8 in /usr/local/lib/python3.6/dist-packages (from hydra-core->fairseq) (4.8)\n",
            "Requirement already satisfied: omegaconf>=2.0.5 in /usr/local/lib/python3.6/dist-packages (from hydra-core->fairseq) (2.0.5)\n",
            "Requirement already satisfied: zipp>=0.4; python_version < \"3.8\" in /usr/local/lib/python3.6/dist-packages (from importlib-resources; python_version < \"3.9\"->hydra-core->fairseq) (3.4.0)\n",
            "Requirement already satisfied: PyYAML>=5.1.* in /usr/local/lib/python3.6/dist-packages (from omegaconf>=2.0.5->hydra-core->fairseq) (5.3.1)\n"
          ],
          "name": "stdout"
        }
      ]
    },
    {
      "cell_type": "code",
      "metadata": {
        "colab": {
          "base_uri": "https://localhost:8080/"
        },
        "id": "luFpfmBVZ8u3",
        "outputId": "a88101ed-d784-4405-bd90-ecb0c9028227"
      },
      "source": [
        "!pip install vncorenlp"
      ],
      "execution_count": 8,
      "outputs": [
        {
          "output_type": "stream",
          "text": [
            "Requirement already satisfied: vncorenlp in /usr/local/lib/python3.6/dist-packages (1.0.3)\n",
            "Requirement already satisfied: requests in /usr/local/lib/python3.6/dist-packages (from vncorenlp) (2.23.0)\n",
            "Requirement already satisfied: certifi>=2017.4.17 in /usr/local/lib/python3.6/dist-packages (from requests->vncorenlp) (2020.12.5)\n",
            "Requirement already satisfied: idna<3,>=2.5 in /usr/local/lib/python3.6/dist-packages (from requests->vncorenlp) (2.10)\n",
            "Requirement already satisfied: urllib3!=1.25.0,!=1.25.1,<1.26,>=1.21.1 in /usr/local/lib/python3.6/dist-packages (from requests->vncorenlp) (1.24.3)\n",
            "Requirement already satisfied: chardet<4,>=3.0.2 in /usr/local/lib/python3.6/dist-packages (from requests->vncorenlp) (3.0.4)\n"
          ],
          "name": "stdout"
        }
      ]
    },
    {
      "cell_type": "code",
      "metadata": {
        "colab": {
          "base_uri": "https://localhost:8080/"
        },
        "id": "dV9S87S1pUSp",
        "outputId": "39c2d5c6-0e0f-421d-94a1-addabff54f68"
      },
      "source": [
        "!pip install transformers-phobert"
      ],
      "execution_count": 9,
      "outputs": [
        {
          "output_type": "stream",
          "text": [
            "Requirement already satisfied: transformers-phobert in /usr/local/lib/python3.6/dist-packages (3.1.2)\n",
            "Requirement already satisfied: sacremoses in /usr/local/lib/python3.6/dist-packages (from transformers-phobert) (0.0.43)\n",
            "Requirement already satisfied: packaging in /usr/local/lib/python3.6/dist-packages (from transformers-phobert) (20.7)\n",
            "Requirement already satisfied: filelock in /usr/local/lib/python3.6/dist-packages (from transformers-phobert) (3.0.12)\n",
            "Requirement already satisfied: requests in /usr/local/lib/python3.6/dist-packages (from transformers-phobert) (2.23.0)\n",
            "Requirement already satisfied: numpy in /usr/local/lib/python3.6/dist-packages (from transformers-phobert) (1.18.5)\n",
            "Requirement already satisfied: dataclasses; python_version < \"3.7\" in /usr/local/lib/python3.6/dist-packages (from transformers-phobert) (0.8)\n",
            "Collecting tokenizers==0.8.1.rc2\n",
            "  Using cached https://files.pythonhosted.org/packages/80/83/8b9fccb9e48eeb575ee19179e2bdde0ee9a1904f97de5f02d19016b8804f/tokenizers-0.8.1rc2-cp36-cp36m-manylinux1_x86_64.whl\n",
            "Requirement already satisfied: sentencepiece!=0.1.92 in /usr/local/lib/python3.6/dist-packages (from transformers-phobert) (0.1.94)\n",
            "Requirement already satisfied: regex!=2019.12.17 in /usr/local/lib/python3.6/dist-packages (from transformers-phobert) (2019.12.20)\n",
            "Requirement already satisfied: tqdm>=4.27 in /usr/local/lib/python3.6/dist-packages (from transformers-phobert) (4.41.1)\n",
            "Requirement already satisfied: joblib in /usr/local/lib/python3.6/dist-packages (from sacremoses->transformers-phobert) (0.17.0)\n",
            "Requirement already satisfied: click in /usr/local/lib/python3.6/dist-packages (from sacremoses->transformers-phobert) (7.1.2)\n",
            "Requirement already satisfied: six in /usr/local/lib/python3.6/dist-packages (from sacremoses->transformers-phobert) (1.15.0)\n",
            "Requirement already satisfied: pyparsing>=2.0.2 in /usr/local/lib/python3.6/dist-packages (from packaging->transformers-phobert) (2.4.7)\n",
            "Requirement already satisfied: chardet<4,>=3.0.2 in /usr/local/lib/python3.6/dist-packages (from requests->transformers-phobert) (3.0.4)\n",
            "Requirement already satisfied: idna<3,>=2.5 in /usr/local/lib/python3.6/dist-packages (from requests->transformers-phobert) (2.10)\n",
            "Requirement already satisfied: certifi>=2017.4.17 in /usr/local/lib/python3.6/dist-packages (from requests->transformers-phobert) (2020.12.5)\n",
            "Requirement already satisfied: urllib3!=1.25.0,!=1.25.1,<1.26,>=1.21.1 in /usr/local/lib/python3.6/dist-packages (from requests->transformers-phobert) (1.24.3)\n",
            "\u001b[31mERROR: transformers 4.0.1 has requirement tokenizers==0.9.4, but you'll have tokenizers 0.8.1rc2 which is incompatible.\u001b[0m\n",
            "Installing collected packages: tokenizers\n",
            "  Found existing installation: tokenizers 0.9.4\n",
            "    Uninstalling tokenizers-0.9.4:\n",
            "      Successfully uninstalled tokenizers-0.9.4\n",
            "Successfully installed tokenizers-0.8.1rc2\n"
          ],
          "name": "stdout"
        }
      ]
    },
    {
      "cell_type": "code",
      "metadata": {
        "id": "5sGcfSblZrgq"
      },
      "source": [
        "from vncorenlp import VnCoreNLP\n",
        "rdrsegmenter = VnCoreNLP(\"/content/drive/MyDrive/Colab Notebooks/VnCoreNLP-master/VnCoreNLP-1.1.1.jar\", annotators=\"wseg\", max_heap_size='-Xmx500m') "
      ],
      "execution_count": 10,
      "outputs": []
    },
    {
      "cell_type": "code",
      "metadata": {
        "id": "AKZNsDOUZuT9"
      },
      "source": [
        "from fairseq.data.encoders.fastbpe import fastBPE\n",
        "from fairseq.data import Dictionary\n",
        "import argparse\n",
        "\n",
        "parser = argparse.ArgumentParser()\n",
        "parser.add_argument('--bpe-codes', \n",
        "    default=\"/content/drive/MyDrive/Colab Notebooks/PhoBERT_base_transformers/PhoBERT_base_transformers/bpe.codes\",\n",
        "    required=False,\n",
        "    type=str,\n",
        "    help='path to fastBPE BPE'\n",
        ")\n",
        "args, unknown = parser.parse_known_args()\n",
        "bpe = fastBPE(args)\n",
        "\n",
        "# Load the dictionary\n",
        "vocab = Dictionary()\n",
        "vocab.add_from_file(\"/content/drive/MyDrive/Colab Notebooks/PhoBERT_base_transformers/PhoBERT_base_transformers/dict.txt\")"
      ],
      "execution_count": 11,
      "outputs": []
    },
    {
      "cell_type": "code",
      "metadata": {
        "colab": {
          "base_uri": "https://localhost:8080/",
          "height": 204
        },
        "id": "wj4Csu7ccRS2",
        "outputId": "0b9442ff-535b-47c5-bb34-7dc0e3b925cb"
      },
      "source": [
        "df = pd.read_csv('/content/drive/MyDrive/Colab Notebooks/Bert_Complaint/Dataset_DL.csv')\n",
        "df.head()"
      ],
      "execution_count": 12,
      "outputs": [
        {
          "output_type": "execute_result",
          "data": {
            "text/html": [
              "<div>\n",
              "<style scoped>\n",
              "    .dataframe tbody tr th:only-of-type {\n",
              "        vertical-align: middle;\n",
              "    }\n",
              "\n",
              "    .dataframe tbody tr th {\n",
              "        vertical-align: top;\n",
              "    }\n",
              "\n",
              "    .dataframe thead th {\n",
              "        text-align: right;\n",
              "    }\n",
              "</style>\n",
              "<table border=\"1\" class=\"dataframe\">\n",
              "  <thead>\n",
              "    <tr style=\"text-align: right;\">\n",
              "      <th></th>\n",
              "      <th>ID</th>\n",
              "      <th>Comment</th>\n",
              "      <th>Label</th>\n",
              "      <th>Domain</th>\n",
              "    </tr>\n",
              "  </thead>\n",
              "  <tbody>\n",
              "    <tr>\n",
              "      <th>0</th>\n",
              "      <td>1117661425258766_1117711878587054</td>\n",
              "      <td>Tắt Ai tự động nhận diện ảnh kiểu gì ak</td>\n",
              "      <td>0</td>\n",
              "      <td>Điện thoại</td>\n",
              "    </tr>\n",
              "    <tr>\n",
              "      <th>1</th>\n",
              "      <td>1117661425258766_1117711881920387</td>\n",
              "      <td>So sánh với Nokia 8.1</td>\n",
              "      <td>0</td>\n",
              "      <td>Điện thoại</td>\n",
              "    </tr>\n",
              "    <tr>\n",
              "      <th>2</th>\n",
              "      <td>1117661425258766_1117712271920348</td>\n",
              "      <td>A51 vs reno 2F máy nào tốt hơn a</td>\n",
              "      <td>0</td>\n",
              "      <td>Điện thoại</td>\n",
              "    </tr>\n",
              "    <tr>\n",
              "      <th>3</th>\n",
              "      <td>1117661425258766_1117712698586972</td>\n",
              "      <td>Giật nhỉ :))</td>\n",
              "      <td>1</td>\n",
              "      <td>Điện thoại</td>\n",
              "    </tr>\n",
              "    <tr>\n",
              "      <th>4</th>\n",
              "      <td>1117661425258766_1117712938586948</td>\n",
              "      <td>Mới toang con 7plus,hôm qua ra làm luôn con nà...</td>\n",
              "      <td>1</td>\n",
              "      <td>Điện thoại</td>\n",
              "    </tr>\n",
              "  </tbody>\n",
              "</table>\n",
              "</div>"
            ],
            "text/plain": [
              "                                  ID  ...      Domain\n",
              "0  1117661425258766_1117711878587054  ...  Điện thoại\n",
              "1  1117661425258766_1117711881920387  ...  Điện thoại\n",
              "2  1117661425258766_1117712271920348  ...  Điện thoại\n",
              "3  1117661425258766_1117712698586972  ...  Điện thoại\n",
              "4  1117661425258766_1117712938586948  ...  Điện thoại\n",
              "\n",
              "[5 rows x 4 columns]"
            ]
          },
          "metadata": {
            "tags": []
          },
          "execution_count": 12
        }
      ]
    },
    {
      "cell_type": "markdown",
      "metadata": {
        "id": "OG3KjpqR0hVT"
      },
      "source": [
        "\r\n",
        "# Preprocess data"
      ]
    },
    {
      "cell_type": "code",
      "metadata": {
        "id": "YMC8PPnsep0n"
      },
      "source": [
        "uniChars = \"àáảãạâầấẩẫậăằắẳẵặèéẻẽẹêềếểễệđìíỉĩịòóỏõọôồốổỗộơờớởỡợùúủũụưừứửữựỳýỷỹỵÀÁẢÃẠÂẦẤẨẪẬĂẰẮẲẴẶÈÉẺẼẸÊỀẾỂỄỆĐÌÍỈĨỊÒÓỎÕỌÔỒỐỔỖỘƠỜỚỞỠỢÙÚỦŨỤƯỪỨỬỮỰỲÝỶỸỴÂĂĐÔƠƯ\"\n",
        "unsignChars = \"aaaaaaaaaaaaaaaaaeeeeeeeeeeediiiiiooooooooooooooooouuuuuuuuuuuyyyyyAAAAAAAAAAAAAAAAAEEEEEEEEEEEDIIIOOOOOOOOOOOOOOOOOOOUUUUUUUUUUUYYYYYAADOOU\"\n",
        " \n",
        "def loaddicchar():\n",
        "    dic = {}\n",
        "    char1252 = 'à|á|ả|ã|ạ|ầ|ấ|ẩ|ẫ|ậ|ằ|ắ|ẳ|ẵ|ặ|è|é|ẻ|ẽ|ẹ|ề|ế|ể|ễ|ệ|ì|í|ỉ|ĩ|ị|ò|ó|ỏ|õ|ọ|ồ|ố|ổ|ỗ|ộ|ờ|ớ|ở|ỡ|ợ|ù|ú|ủ|ũ|ụ|ừ|ứ|ử|ữ|ự|ỳ|ý|ỷ|ỹ|ỵ|À|Á|Ả|Ã|Ạ|Ầ|Ấ|Ẩ|Ẫ|Ậ|Ằ|Ắ|Ẳ|Ẵ|Ặ|È|É|Ẻ|Ẽ|Ẹ|Ề|Ế|Ể|Ễ|Ệ|Ì|Í|Ỉ|Ĩ|Ị|Ò|Ó|Ỏ|Õ|Ọ|Ồ|Ố|Ổ|Ỗ|Ộ|Ờ|Ớ|Ở|Ỡ|Ợ|Ù|Ú|Ủ|Ũ|Ụ|Ừ|Ứ|Ử|Ữ|Ự|Ỳ|Ý|Ỷ|Ỹ|Ỵ'.split(\n",
        "        '|')\n",
        "    charutf8 = \"à|á|ả|ã|ạ|ầ|ấ|ẩ|ẫ|ậ|ằ|ắ|ẳ|ẵ|ặ|è|é|ẻ|ẽ|ẹ|ề|ế|ể|ễ|ệ|ì|í|ỉ|ĩ|ị|ò|ó|ỏ|õ|ọ|ồ|ố|ổ|ỗ|ộ|ờ|ớ|ở|ỡ|ợ|ù|ú|ủ|ũ|ụ|ừ|ứ|ử|ữ|ự|ỳ|ý|ỷ|ỹ|ỵ|À|Á|Ả|Ã|Ạ|Ầ|Ấ|Ẩ|Ẫ|Ậ|Ằ|Ắ|Ẳ|Ẵ|Ặ|È|É|Ẻ|Ẽ|Ẹ|Ề|Ế|Ể|Ễ|Ệ|Ì|Í|Ỉ|Ĩ|Ị|Ò|Ó|Ỏ|Õ|Ọ|Ồ|Ố|Ổ|Ỗ|Ộ|Ờ|Ớ|Ở|Ỡ|Ợ|Ù|Ú|Ủ|Ũ|Ụ|Ừ|Ứ|Ử|Ữ|Ự|Ỳ|Ý|Ỷ|Ỹ|Ỵ\".split(\n",
        "        '|')\n",
        "    for i in range(len(char1252)):\n",
        "        dic[char1252[i]] = charutf8[i]\n",
        "    return dic\n",
        "dicchar = loaddicchar()\n",
        "\n",
        "def convert_unicode(txt):\n",
        "    return re.sub(\n",
        "        r'à|á|ả|ã|ạ|ầ|ấ|ẩ|ẫ|ậ|ằ|ắ|ẳ|ẵ|ặ|è|é|ẻ|ẽ|ẹ|ề|ế|ể|ễ|ệ|ì|í|ỉ|ĩ|ị|ò|ó|ỏ|õ|ọ|ồ|ố|ổ|ỗ|ộ|ờ|ớ|ở|ỡ|ợ|ù|ú|ủ|ũ|ụ|ừ|ứ|ử|ữ|ự|ỳ|ý|ỷ|ỹ|ỵ|À|Á|Ả|Ã|Ạ|Ầ|Ấ|Ẩ|Ẫ|Ậ|Ằ|Ắ|Ẳ|Ẵ|Ặ|È|É|Ẻ|Ẽ|Ẹ|Ề|Ế|Ể|Ễ|Ệ|Ì|Í|Ỉ|Ĩ|Ị|Ò|Ó|Ỏ|Õ|Ọ|Ồ|Ố|Ổ|Ỗ|Ộ|Ờ|Ớ|Ở|Ỡ|Ợ|Ù|Ú|Ủ|Ũ|Ụ|Ừ|Ứ|Ử|Ữ|Ự|Ỳ|Ý|Ỷ|Ỹ|Ỵ',\n",
        "        lambda x: dicchar[x.group()], txt)\n",
        "\n",
        "bang_nguyen_am = [['a', 'à', 'á', 'ả', 'ã', 'ạ', 'a'],\n",
        "                  ['ă', 'ằ', 'ắ', 'ẳ', 'ẵ', 'ặ', 'aw'],\n",
        "                  ['â', 'ầ', 'ấ', 'ẩ', 'ẫ', 'ậ', 'aa'],\n",
        "                  ['e', 'è', 'é', 'ẻ', 'ẽ', 'ẹ', 'e'],\n",
        "                  ['ê', 'ề', 'ế', 'ể', 'ễ', 'ệ', 'ee'],\n",
        "                  ['i', 'ì', 'í', 'ỉ', 'ĩ', 'ị', 'i'],\n",
        "                  ['o', 'ò', 'ó', 'ỏ', 'õ', 'ọ', 'o'],\n",
        "                  ['ô', 'ồ', 'ố', 'ổ', 'ỗ', 'ộ', 'oo'],\n",
        "                  ['ơ', 'ờ', 'ớ', 'ở', 'ỡ', 'ợ', 'ow'],\n",
        "                  ['u', 'ù', 'ú', 'ủ', 'ũ', 'ụ', 'u'],\n",
        "                  ['ư', 'ừ', 'ứ', 'ử', 'ữ', 'ự', 'uw'],\n",
        "                  ['y', 'ỳ', 'ý', 'ỷ', 'ỹ', 'ỵ', 'y']]\n",
        "bang_ky_tu_dau = ['', 'f', 's', 'r', 'x', 'j']\n",
        "\n",
        "nguyen_am_to_ids = {}\n",
        "\n",
        "for i in range(len(bang_nguyen_am)):\n",
        "    for j in range(len(bang_nguyen_am[i]) - 1):\n",
        "        nguyen_am_to_ids[bang_nguyen_am[i][j]] = (i, j)\n",
        "\n",
        "def chuan_hoa_dau_tu_tieng_viet(word):\n",
        "    if not is_valid_vietnam_word(word):\n",
        "        return word\n",
        "\n",
        "    chars = list(word)\n",
        "    dau_cau = 0\n",
        "    nguyen_am_index = []\n",
        "    qu_or_gi = False\n",
        "    for index, char in enumerate(chars):\n",
        "        x, y = nguyen_am_to_ids.get(char, (-1, -1))\n",
        "        if x == -1:\n",
        "            continue\n",
        "        elif x == 9:  # check qu\n",
        "            if index != 0 and chars[index - 1] == 'q':\n",
        "                chars[index] = 'u'\n",
        "                qu_or_gi = True\n",
        "        elif x == 5:  # check gi\n",
        "            if index != 0 and chars[index - 1] == 'g':\n",
        "                chars[index] = 'i'\n",
        "                qu_or_gi = True\n",
        "        if y != 0:\n",
        "            dau_cau = y\n",
        "            chars[index] = bang_nguyen_am[x][0]\n",
        "        if not qu_or_gi or index != 1:\n",
        "            nguyen_am_index.append(index)\n",
        "    if len(nguyen_am_index) < 2:\n",
        "        if qu_or_gi:\n",
        "            if len(chars) == 2:\n",
        "                x, y = nguyen_am_to_ids.get(chars[1])\n",
        "                chars[1] = bang_nguyen_am[x][dau_cau]\n",
        "            else:\n",
        "                x, y = nguyen_am_to_ids.get(chars[2], (-1, -1))\n",
        "                if x != -1:\n",
        "                    chars[2] = bang_nguyen_am[x][dau_cau]\n",
        "                else:\n",
        "                    chars[1] = bang_nguyen_am[5][dau_cau] if chars[1] == 'i' else bang_nguyen_am[9][dau_cau]\n",
        "            return ''.join(chars)\n",
        "        return word\n",
        "\n",
        "    for index in nguyen_am_index:\n",
        "        x, y = nguyen_am_to_ids[chars[index]]\n",
        "        if x == 4 or x == 8:  # ê, ơ\n",
        "            chars[index] = bang_nguyen_am[x][dau_cau]\n",
        "            # for index2 in nguyen_am_index:\n",
        "            #     if index2 != index:\n",
        "            #         x, y = nguyen_am_to_ids[chars[index]]\n",
        "            #         chars[index2] = bang_nguyen_am[x][0]\n",
        "            return ''.join(chars)\n",
        "\n",
        "    if len(nguyen_am_index) == 2:\n",
        "        if nguyen_am_index[-1] == len(chars) - 1:\n",
        "            x, y = nguyen_am_to_ids[chars[nguyen_am_index[0]]]\n",
        "            chars[nguyen_am_index[0]] = bang_nguyen_am[x][dau_cau]\n",
        "            # x, y = nguyen_am_to_ids[chars[nguyen_am_index[1]]]\n",
        "            # chars[nguyen_am_index[1]] = bang_nguyen_am[x][0]\n",
        "        else:\n",
        "            # x, y = nguyen_am_to_ids[chars[nguyen_am_index[0]]]\n",
        "            # chars[nguyen_am_index[0]] = bang_nguyen_am[x][0]\n",
        "            x, y = nguyen_am_to_ids[chars[nguyen_am_index[1]]]\n",
        "            chars[nguyen_am_index[1]] = bang_nguyen_am[x][dau_cau]\n",
        "    else:\n",
        "        # x, y = nguyen_am_to_ids[chars[nguyen_am_index[0]]]\n",
        "        # chars[nguyen_am_index[0]] = bang_nguyen_am[x][0]\n",
        "        x, y = nguyen_am_to_ids[chars[nguyen_am_index[1]]]\n",
        "        chars[nguyen_am_index[1]] = bang_nguyen_am[x][dau_cau]\n",
        "        # x, y = nguyen_am_to_ids[chars[nguyen_am_index[2]]]\n",
        "        # chars[nguyen_am_index[2]] = bang_nguyen_am[x][0]\n",
        "    return ''.join(chars)\n",
        "\n",
        "\n",
        "def is_valid_vietnam_word(word):\n",
        "    chars = list(word)\n",
        "    nguyen_am_index = -1\n",
        "    for index, char in enumerate(chars):\n",
        "        x, y = nguyen_am_to_ids.get(char, (-1, -1))\n",
        "        if x != -1:\n",
        "            if nguyen_am_index == -1:\n",
        "                nguyen_am_index = index\n",
        "            else:\n",
        "                if index - nguyen_am_index != 1:\n",
        "                    return False\n",
        "                nguyen_am_index = index\n",
        "    return True\n",
        "\n",
        "\n",
        "def chuan_hoa_dau_cau_tieng_viet(sentence):\n",
        "    \"\"\"\n",
        "        Chuyển câu tiếng việt về chuẩn gõ dấu kiểu cũ.\n",
        "        :param sentence:\n",
        "        :return:\n",
        "        \"\"\"\n",
        "    sentence = sentence.lower()\n",
        "    words = sentence.split()\n",
        "    for index, word in enumerate(words):\n",
        "        cw = re.sub(r'(^\\p{P}*)([p{L}.]*\\p{L}+)(\\p{P}*$)', r'\\1/\\2/\\3', word).split('/')\n",
        "        # print(cw)\n",
        "        if len(cw) == 3:\n",
        "            cw[1] = chuan_hoa_dau_tu_tieng_viet(cw[1])\n",
        "        words[index] = ''.join(cw)\n",
        "    return ' '.join(words)\n",
        "\n",
        "def remove_html(txt):\n",
        "    return re.sub(r'<[^>]*>', '', txt)"
      ],
      "execution_count": 13,
      "outputs": []
    },
    {
      "cell_type": "code",
      "metadata": {
        "id": "A_lXbaCIfer8"
      },
      "source": [
        "def text_preprocess(document):\n",
        "    # delete html code\n",
        "    document = remove_html(document)\n",
        "    # standardized unicode\n",
        "    document = convert_unicode(document)\n",
        "    # standardized typing Vietnamese accents\n",
        "    document = chuan_hoa_dau_cau_tieng_viet(document)\n",
        "    # lower\n",
        "    document = document.lower()\n",
        "    # delete unnecessary characters \n",
        "    document = re.sub(r'[^\\s\\wáàảãạăắằẳẵặâấầẩẫậéèẻẽẹêếềểễệóòỏõọôốồổỗộơớờởỡợíìỉĩịúùủũụưứừửữựýỳỷỹỵđ_]',' ',document)\n",
        "    # delete extra spaces\n",
        "    document = re.sub(r'\\s+', ' ', document).strip()\n",
        "    return document"
      ],
      "execution_count": 14,
      "outputs": []
    },
    {
      "cell_type": "code",
      "metadata": {
        "id": "VTUkNwHsfpS5"
      },
      "source": [
        "df[\"Comment\"] = df[\"Comment\"].apply(text_preprocess)"
      ],
      "execution_count": 15,
      "outputs": []
    },
    {
      "cell_type": "code",
      "metadata": {
        "id": "_2K3_RQ9hozP"
      },
      "source": [
        "\n",
        "abbr_dict={'k':'không','t':'tôi','fb':'facebook','mess':'messenger','mn':'mọi người','gr':'group','dc':'được','ko':'không','mng':'mọi người','cty':'công ty','1':'một','ngta':'người ta','ng':'người','oki':'ok','thg':'thường','vn':'việt nam','tq':'trung quốc','insta':'instagram','connect':'kết nối','user':'người dùng','h':'giờ','nt':'nhắn tin','dth':'dễ thương','đt':'điện thoại','qc':'quảng cáo','pr':'quảng cáo','ae':'anh em','trung':'trung quốc','tk':'tài khoản','mị':'tôi','chăn rau':'gạ gẫm','ny':'người yêu','lq':'game','wa':'quá','ak':'á','í':'ý','ms':'mới','ip':'iphone','apple':'iphone','kh':'không','cùi':'tệ','dg':'đang','ms':'mới','vs':'với','lm':'làm','bik':'biết','tàu':'trung quốc','tn':'tin nhắn','comment':'bình luận','ng':'người','app':'ứng dụng','u.d':'ứng dụng','j':'gì','mk':'tôi','inb':'nhắn tin','nick':'tài khoản','cmt':'bình luận','update':'nâng cấp','hk':'hông','hoy':'thôi','xh':'xã hội','ntn':'như thế nào',\n",
        "'gr':'group','mxh':'mạng xã hội','đc':'được','ko':'không','fb':'facebook','zl':'zalo','tw':'twitter','tele':'telegram','t':'tôi','mng':'mọi người','ng':'người','nma':'nhưng mà','cty':'công ty','vidcall':'video call','acc':'account','tumblr':'tumbler',\n",
        "'mn':'mọi người','ngta':'người ta','hong':'không','vn':'Việt Nam','vl':'quá trời','cm':'chúng mày','tq':'Trung Quốc','thg':'thường','face':'facebook','hs':'Hoàng Sa','ts':'Trường Sa','vn':'Việt Nam','tq':'Trung Quốc','nn':'nước ngoài','dn':'doanh nghiệp',\n",
        "'fb':'facebook','bt':'biết','vs':'với','pr':'quảng cáo','dth':'dễ thương','sx':'sản xuất','vn':'Việt Nam','pỏn':'porn','ig':'instagram','klq':'không liên quan',\n",
        "'mobi':'mobile','ae':'anh em','ny':'người yêu','nhứt':'nhất','trc':'trước','zm':'zing me','n':'nhiều','mess':'messenger','tk':'tài khoản','r':'rồi','mị':'mình','ib':'inbox','nf':'new feed','nhug':'nhưng','sđ':'sử dụng','tung của':'Trung Quốc','mer':'mơ','cmt':'comment','j':'gì','4rum':'forum','nyc':'người yêu cũ','đc':'được','dùg':'dùng','dùngg':'dùng','trường cđ':'trường cao đẳng','cae':'cả anh em','Ms':'microsoft',\n",
        "'nhìu':'nhiều','sv':'sinh viên','hwa':'hôm qua','ae':'anh em','save':'lưu','bank':'ngân hàng','tgioi':'thế giới','méo':'không','ndung':'nội dung','e':'em','áh':'á',\n",
        "'nf':'new feed','xh':'xã hội','ak':'á','trc':'trước','đb':'đầu bùi','ad':'admin','k':'không','t':'tôi','fb':'facebook','mess':'messenger','mn':'mọi người','gr':'group','dc':'được','ko':'không','mng':'mọi người','cty':'công ty','1':'một','ngta':'người ta','ng':'người','oki':'ok','thg':'thường','vn':'việt nam','tq':'trung quốc','die':'chết','insta':'instagram','connect':'kết nối','user':'người dùng','h':'giờ','nt':'nhắn tin','dth':'dễ thương','đt':'điện thoại','qc':'quảng cáo','pr':'quảng cáo','ae':'anh em','trung':'trung quốc','tk':'tài khoản','mị':'tôi','chăn rau':'gạ gẫm','ny':'người yêu','lq':'game','wa':'quá','ak':'á','í':'ý','ms':'mới','ip':'iphone','apple':'iphone','kh':'không','cùi':'tệ','dg':'đang','ms':'mới','vs':'với','lm':'làm','bik':'biết','tàu':'trung quốc',\n",
        "'tn':'tin nhắn','comment':'bình luận','ng':'người','app':'ứng dụng','u.d':'ứng dụng','j':'gì','mk':'tôi','inb':'nhắn tin','nick':'tài khoản','cmt':'bình luận','update':'nâng cấp','hk':'hông','hoy':'thôi','xh':'xã hội','ntn':'như thế nào','b':'bạn','sp':'sản phẩm','oki':'ok','dùg':'dùng','hk':'không','nc': 'nước','í': 'ý','e':'em','srm': 'sữa rửa mặt','rv': 'review','kcn': 'kem chống nắng','ttrang': 'tẩy trang','bn':'bao nhiêu','r': 'rồi','ah':'ạ','m': 'mình','oke': 'ok','zới': 'với','rw': 'review','klq': 'không liên quan','sr': 'serum','mp': 'mỹ phẩm','cx':'cũng','cj': 'chị','c':'chị','ttbc': 'tẩy tế bào chết','ng':'người','v': 'vậy','ce': 'chị em','hok': 'không','lquan':'liên quan','nèe': 'nè','bạnn': 'bạn','sis': 'chị','pk': 'biết','sg':'sài gòn','ntn': 'như thế này','bit': 'biết','tnao': 'thế nào','okeee':'ok','ơu': 'ơi','xl': 'xin lỗi','bh': 'bây giờ','hh': 'hỗn hợp','cũngg': 'cũng','hjx': 'hic','tr': 'trời','ln': 'luôn','od': 'đặt hàng','thik': 'thích','ncl': 'nói chung là','ơii': 'ơi','n': 'nó','N':'nó','nhiêud': 'nhiều','ek': 'em','Mội': 'mọi','mjnh': 'mình','bth': 'bình thường','gù': 'gì','rww': 'bình luận','lq': 'liên quan','oie': 'ơi','okela': 'ok','mem': 'bạn','siu':'siêu','Vtm tree': 'nhãn_hiệu','gth': 'giới thiệu','yt': 'youtube','th': 'trường hợp','nhưg': 'nhưng','mrm': 'sữa rửa mặt','ci': 'chị','bt': 'biết','pai': 'phải','ngta': 'người ta','m.n': 'mọi người','ms': 'mới','cx': 'cũng','thíc':'thích','dg': 'đang','tt': 'tẩy trang','kb': 'không biết','hq':'Hàn Quốc','sd':'sử dụng','nc':'nước','lcl':'lỗ chân lông','b':'bạn','r':'rồi','mh':'mình','xog':'xong','nh':'nhiều','c':'chị','r':'rồi','m':'mình','auth':'chính hãng','ah':'ạ','sp':'sản phẩm','bn':'bạn','xg':'xong','mk':'mình','bth':'bình thường','or':'hoặc','m.n':'mọi người','v':'vậy','mrm':'sữa rửa mặt','sr':'serum','ngkhac':'người khác','vsinh':'vệ sinh','mn':'mặt nạ','kh':'không','lun':'luôn','hiu hiu':'khóc','bio':'bio','TO':'The Ordinary','td':'tẩy da','nek':'nè','mìk':'mình','ạk':'ạ','mog':'mong','lsao':'là sao','s':'sao','ak':'á','siu siu':'siêu siêu','cx':'cũng','kp':'không phải','bt':'bình thường','hhtd':'hỗn hợp thiên dầu','ord':'đặt hàng','đc':'được','ợ':'ạ','kp':'không phải','đk':'được','nta':'người ta','hời':'trời ơi','td':'tác dụng','sr':'xin lỗi','ui':'ôi','tt':'tẩy trang','oi':'ơi','kb':'không biết','z':'vậy','sis':'chị gái','nvay':'như vậy','vd':'ví dụ','hsinh':'hi sinh','mh':'mình','eee':'ê','a':'anh','hông':'không','bh':'bao giờ','qq':'quần què','gg':'google','mọi ng':'mọi người','ni':'này','hq':'hôm qua','òy':'rồi','rcm':'tư vấn','fai':'phải','vđ':'ví dụ','đg':'đang','ối':'trời ơi','èo':'eo ôi','cskh':'chăm sóc khách hàng','f':'phải','nầy':'này','nx':'nhận xét','zô':'vô','TG':'thế giới','ui':'ơi','hhtk':'hỗn hợp thiên khô','oki':'ok','ytb':'youtuber','ún':'uống','hs':'học sinh','sv':'sinh viên','nc':'nói chung','ng':'người','400k':'400 nghìn','tbc':'tế bào chết','vứiiii':'với','mđ':'mấy đứa','ts':'tới','bn':'bao nhiêu','tờ':'trộn','zs':'với','ch':'chưa','é':'á','okies':'ok','tphan':'thành phần','coa':'có','hk':'không','ttbc':'tẩy tế bào chết','dk':'được','nhma':'nhưng mà','mọe':'mẹ','rì':'nhận xét','dug':'đúng','ck':'chồng','tv':'tư vấn','tg':'thời gian','oy':'ơi','cd':'công dụng','bn':'bạn', 'bum':'bướm','búm':'bướm','nhg':'nhưng','hok':'không','ks':'không sao','qtrong':'quan trọng','tgian':'thời gian','tr':'trời','tnao':'thế nào','hôg':'không','kbt':'không biết sao','body':'cơ thể','review':'bình luận','toner':'nước_dưỡng','naruko':'nhãn_hiệu','saem':'nhãn_hiệu','aztec':'nhãn_hiệu','lotion':'sữa_dưỡng','khoing':'không','skincare':'sp_dưỡng_da','serum':'tinh chất','melano':'nhãn_hiệu','simple':'nhãn_hiệu','laroche':'nhãn_hiệu','senka':'nhãn_hiệu','acnes':'nhãn_hiệu','cerave':'nhãn_hiệu','silicon':'chất hại','liti':'li ti','từg':'từng','fake':'giả','makup':'trang điểm'\n",
        "}\n",
        "def find_replace(list_token, dictionary):\n",
        "    for idx, item in enumerate(list_token): \n",
        "        if item in dictionary.keys():\n",
        "            list_token[idx] = dictionary[item]            \n",
        "    return list_token \n"
      ],
      "execution_count": 16,
      "outputs": []
    },
    {
      "cell_type": "code",
      "metadata": {
        "id": "jWffmf8Un2nI"
      },
      "source": [
        "for i in range(len(df)):\n",
        "    df[\"Comment\"][i] = find_replace(df[\"Comment\"][i].split(' '), abbr_dict)\n",
        "#convert to string\n",
        "for i in range(len(df)):\n",
        "   df[\"Comment\"][i]= ' '.join(df[\"Comment\"][i])\n",
        "comments = df[\"Comment\"]"
      ],
      "execution_count": 17,
      "outputs": []
    },
    {
      "cell_type": "code",
      "metadata": {
        "id": "9PeUfS4w0ivD"
      },
      "source": [
        "for i in range(len(df)):\r\n",
        "  df[\"Comment\"][i] = rdrsegmenter.tokenize(df[\"Comment\"][i])\r\n",
        "  df[\"Comment\"][i] = ' '.join([' '.join(x) for x in df[\"Comment\"][i]])\r\n"
      ],
      "execution_count": 18,
      "outputs": []
    },
    {
      "cell_type": "code",
      "metadata": {
        "id": "TUjeIFv7hVEo"
      },
      "source": [
        "# Find the maximum length\r\n",
        "length = []\r\n",
        "for i in range(len(df)):\r\n",
        "  length.append(len(df[\"Comment\"][i]))"
      ],
      "execution_count": 19,
      "outputs": []
    },
    {
      "cell_type": "code",
      "metadata": {
        "colab": {
          "base_uri": "https://localhost:8080/",
          "height": 313
        },
        "id": "vCsNFBWLi_AS",
        "outputId": "2657c391-b9b4-4be4-b380-647ea28c8279"
      },
      "source": [
        "%matplotlib inline\r\n",
        "import matplotlib.pyplot as plt\r\n",
        "import seaborn as sns\r\n",
        "sns.distplot(length)\r\n",
        "plt.xlim([0, 500]);\r\n",
        "plt.xlabel('Token count')\r\n",
        " "
      ],
      "execution_count": 20,
      "outputs": [
        {
          "output_type": "stream",
          "text": [
            "2020-12-14 01:25:10 | INFO | numexpr.utils | NumExpr defaulting to 4 threads.\n"
          ],
          "name": "stderr"
        },
        {
          "output_type": "execute_result",
          "data": {
            "text/plain": [
              "Text(0.5, 0, 'Token count')"
            ]
          },
          "metadata": {
            "tags": []
          },
          "execution_count": 20
        },
        {
          "output_type": "display_data",
          "data": {
            "image/png": "[encoded data removed]",
            "text/plain": [
              "<Figure size 432x288 with 1 Axes>"
            ]
          },
          "metadata": {
            "tags": [],
            "needs_background": "light"
          }
        }
      ]
    },
    {
      "cell_type": "markdown",
      "metadata": {
        "id": "Lr4ughcjKxgb"
      },
      "source": [
        "# Split Train Set và Test Set"
      ]
    },
    {
      "cell_type": "code",
      "metadata": {
        "id": "50z0ozp8ozuC"
      },
      "source": [
        "X_train, X_test, y_train, y_test = train_test_split(df[\"Comment\"], df['Label'], test_size=0.2,random_state=42)"
      ],
      "execution_count": 21,
      "outputs": []
    },
    {
      "cell_type": "code",
      "metadata": {
        "colab": {
          "base_uri": "https://localhost:8080/"
        },
        "id": "HH2wq01f_Ko1",
        "outputId": "b6c03928-68ea-4d08-fb5e-ccb7053c364a"
      },
      "source": [
        "test = X_test.tolist()\r\n",
        "print('Train:\\n',y_train.value_counts(normalize=False))\r\n",
        "print('Test:\\n',y_test.value_counts(normalize=False))"
      ],
      "execution_count": 22,
      "outputs": [
        {
          "output_type": "stream",
          "text": [
            "Train:\n",
            " 0    1060\n",
            "1     872\n",
            "Name: Label, dtype: int64\n",
            "Test:\n",
            " 0    262\n",
            "1    221\n",
            "Name: Label, dtype: int64\n"
          ],
          "name": "stdout"
        }
      ]
    },
    {
      "cell_type": "markdown",
      "metadata": {
        "id": "jXxgwdIuLEVq"
      },
      "source": [
        "# Machine Learning"
      ]
    },
    {
      "cell_type": "markdown",
      "metadata": {
        "id": "ykiAy-y_NsTP"
      },
      "source": [
        "Vector hóa dữ liệu: TF-IDF"
      ]
    },
    {
      "cell_type": "code",
      "metadata": {
        "colab": {
          "base_uri": "https://localhost:8080/"
        },
        "id": "Y1f2lCvRQCfO",
        "outputId": "77e276a4-50c0-4c8b-c836-3535b6cd721e"
      },
      "source": [
        "from sklearn.feature_extraction.text import CountVectorizer\r\n",
        "cv = CountVectorizer()\r\n",
        "X_cv = cv.fit_transform(X_train)\r\n",
        "print(X_cv.shape[1])"
      ],
      "execution_count": 23,
      "outputs": [
        {
          "output_type": "stream",
          "text": [
            "3922\n"
          ],
          "name": "stdout"
        }
      ]
    },
    {
      "cell_type": "code",
      "metadata": {
        "id": "A1zuaKb4LaCh"
      },
      "source": [
        "tfidf = TfidfVectorizer(max_features= 3900)\r\n",
        "X_train_tfidf = tfidf.fit_transform(X_train.astype('U')).toarray()\r\n",
        "X_test_tfidf = tfidf.transform(X_test.astype('U')).toarray()"
      ],
      "execution_count": 24,
      "outputs": []
    },
    {
      "cell_type": "code",
      "metadata": {
        "colab": {
          "base_uri": "https://localhost:8080/"
        },
        "id": "B3AK7lKtSaVt",
        "outputId": "d1c4ee63-46ca-41c4-e96f-f3f7ccb802f5"
      },
      "source": [
        "X_train_tfidf.shape"
      ],
      "execution_count": 25,
      "outputs": [
        {
          "output_type": "execute_result",
          "data": {
            "text/plain": [
              "(1932, 3900)"
            ]
          },
          "metadata": {
            "tags": []
          },
          "execution_count": 25
        }
      ]
    },
    {
      "cell_type": "code",
      "metadata": {
        "id": "5vfUWRvoVXnV"
      },
      "source": [
        "# Standardize data\r\n",
        "sc = StandardScaler()\r\n",
        "X_train_tfidf = sc.fit_transform(X_train_tfidf)\r\n",
        "X_test_tfidf = sc.transform(X_test_tfidf)"
      ],
      "execution_count": 26,
      "outputs": []
    },
    {
      "cell_type": "code",
      "metadata": {
        "colab": {
          "base_uri": "https://localhost:8080/",
          "height": 430
        },
        "id": "Wiy5lbpSLaSB",
        "outputId": "fb41f4fc-076f-421e-a81c-9e5a2ea18931"
      },
      "source": [
        "%%time\r\n",
        "models = []\r\n",
        "models.append(('LR', LogisticRegression()))\r\n",
        "models.append(('KNN', KNeighborsClassifier()))\r\n",
        "models.append(('DTree', DecisionTreeClassifier()))\r\n",
        "models.append(('NB', GaussianNB()))\r\n",
        "models.append(('SVM', SVC()))\r\n",
        "models.append(('RF',RandomForestClassifier()))\r\n",
        "\r\n",
        "results = []\r\n",
        "names = []\r\n",
        "scoring='f1_macro'\r\n",
        "for name, model in models:\r\n",
        "\tkfold = model_selection.KFold(n_splits=5)\r\n",
        "\tcv_results = model_selection.cross_val_score(model, X_train_tfidf, y_train, cv=kfold, scoring=scoring)\r\n",
        "\tresults.append(cv_results)\r\n",
        "\tnames.append(name)\r\n",
        "\tmsg = \"%s: %f (%f)\" % (name, cv_results.mean(), cv_results.std())\r\n",
        "\tprint(msg)\r\n",
        "  \r\n",
        "fig = plt.figure()\r\n",
        "fig.suptitle('Algorithm Comparison')\r\n",
        "ax = fig.add_subplot(111)\r\n",
        "plt.boxplot(results)\r\n",
        "ax.set_xticklabels(names)\r\n",
        "\r\n",
        "plt.show()"
      ],
      "execution_count": 27,
      "outputs": [
        {
          "output_type": "stream",
          "text": [
            "LR: 0.713035 (0.022724)\n",
            "KNN: 0.598285 (0.036204)\n",
            "DTree: 0.681863 (0.028990)\n",
            "NB: 0.647142 (0.023572)\n",
            "SVM: 0.706924 (0.027245)\n",
            "RF: 0.741755 (0.020048)\n"
          ],
          "name": "stdout"
        },
        {
          "output_type": "display_data",
          "data": {
            "image/png": "[encoded data removed]",
            "text/plain": [
              "<Figure size 432x288 with 1 Axes>"
            ]
          },
          "metadata": {
            "tags": [],
            "needs_background": "light"
          }
        },
        {
          "output_type": "stream",
          "text": [
            "CPU times: user 1min 43s, sys: 1.79 s, total: 1min 45s\n",
            "Wall time: 1min 41s\n"
          ],
          "name": "stdout"
        }
      ]
    },
    {
      "cell_type": "code",
      "metadata": {
        "id": "0joYMNIxpLXd",
        "colab": {
          "base_uri": "https://localhost:8080/"
        },
        "outputId": "460e18cb-631e-4601-8124-a16f347d1ea1"
      },
      "source": [
        "%%time\r\n",
        "#Tuning hyparameters of Random Forest\r\n",
        "from sklearn.model_selection import GridSearchCV\r\n",
        "\r\n",
        "grid_param = {\r\n",
        "    'n_estimators': [100, 300, 500, 800, 1000],\r\n",
        "    'criterion': ['gini', 'entropy'],\r\n",
        "    'bootstrap': [True, False]\r\n",
        "}\r\n",
        "\r\n",
        "rf_grid = GridSearchCV(estimator=RandomForestClassifier(), param_grid=grid_param, cv= 5,scoring='f1_macro')\r\n",
        "\r\n",
        "rf_grid.fit(X_train_tfidf, y_train)\r\n",
        "\r\n",
        "print(rf_grid.best_params_)\r\n",
        "print(rf_grid.best_score_)\r\n"
      ],
      "execution_count": 28,
      "outputs": [
        {
          "output_type": "stream",
          "text": [
            "{'bootstrap': True, 'criterion': 'entropy', 'n_estimators': 1000}\n",
            "0.7544629394175344\n",
            "CPU times: user 17min 26s, sys: 884 ms, total: 17min 27s\n",
            "Wall time: 17min 27s\n"
          ],
          "name": "stdout"
        }
      ]
    },
    {
      "cell_type": "code",
      "metadata": {
        "id": "yRE5lGFo48Br",
        "colab": {
          "base_uri": "https://localhost:8080/"
        },
        "outputId": "6487168b-eaf5-4238-a94a-ee47efaf18b0"
      },
      "source": [
        "%%time\r\n",
        "#Tuning hyparameters of Logistic Regression\r\n",
        "grid_param = {\"C\": [0.001,0.01,0.1,1,10],\r\n",
        "\"penalty\" : ['l1', 'l2']\r\n",
        "}\r\n",
        "lr_grid = GridSearchCV(estimator=LogisticRegression(), param_grid=grid_param, cv= 5,scoring='f1_macro')\r\n",
        "\r\n",
        "lr_grid.fit(X_train_tfidf, y_train)\r\n",
        "\r\n",
        "print(lr_grid.best_params_)\r\n",
        "print(lr_grid.best_score_)"
      ],
      "execution_count": 29,
      "outputs": [
        {
          "output_type": "stream",
          "text": [
            "{'C': 0.01, 'penalty': 'l2'}\n",
            "0.7432500811479098\n",
            "CPU times: user 15.2 s, sys: 6.97 s, total: 22.1 s\n",
            "Wall time: 5.68 s\n"
          ],
          "name": "stdout"
        }
      ]
    },
    {
      "cell_type": "code",
      "metadata": {
        "id": "gouMzGm-5IYO",
        "colab": {
          "base_uri": "https://localhost:8080/"
        },
        "outputId": "248325dc-0c30-43a0-a874-72b1e2b6b782"
      },
      "source": [
        "%%time\r\n",
        "#Tuning hyparameters of Decison Tree\r\n",
        "\r\n",
        "grid_param = {'criterion': ['gini', 'entropy'],\r\n",
        "             'max_depth': [1, 2, 3, 4, 5, 6, 7, 8],\r\n",
        "             'min_samples_split': [2, 3]}\r\n",
        "\r\n",
        "DT_grid = GridSearchCV(estimator=DecisionTreeClassifier(), \r\n",
        "                     param_grid=grid_param, \r\n",
        "                     cv=5, \r\n",
        "                     scoring='f1_macro')\r\n",
        "\r\n",
        "DT_grid.fit(X_train_tfidf, y_train);\r\n",
        "\r\n",
        "print(DT_grid.best_params_)\r\n",
        "\r\n",
        "print(DT_grid.best_score_)"
      ],
      "execution_count": 30,
      "outputs": [
        {
          "output_type": "stream",
          "text": [
            "{'criterion': 'gini', 'max_depth': 6, 'min_samples_split': 2}\n",
            "0.6000249671134593\n",
            "CPU times: user 29.9 s, sys: 293 ms, total: 30.2 s\n",
            "Wall time: 29.9 s\n"
          ],
          "name": "stdout"
        }
      ]
    },
    {
      "cell_type": "code",
      "metadata": {
        "colab": {
          "base_uri": "https://localhost:8080/"
        },
        "id": "XdqAv6gP_sKg",
        "outputId": "6db93b94-cde0-4d4c-cb55-30c38f60e071"
      },
      "source": [
        "%%time\r\n",
        "#Tuning hyparameters of SVM\r\n",
        "grid_param = {'C': [0.0001,0.01,0.1,1,10,100,1000],\r\n",
        "             'gamma': [1, 0.1, 0.001, 0.0001],\r\n",
        "             'kernel': ['linear', 'rbf']}\r\n",
        "\r\n",
        "SVM_grid = GridSearchCV(estimator=SVC(), \r\n",
        "                     param_grid=grid_param, \r\n",
        "                     cv=5, \r\n",
        "                     scoring='f1_macro')\r\n",
        "\r\n",
        "SVM_grid.fit(X_train_tfidf, y_train);\r\n",
        "\r\n",
        "print(SVM_grid.best_params_)\r\n",
        "\r\n",
        "print(SVM_grid.best_score_)"
      ],
      "execution_count": 31,
      "outputs": [
        {
          "output_type": "stream",
          "text": [
            "{'C': 10, 'gamma': 0.0001, 'kernel': 'rbf'}\n",
            "0.7473330560935201\n",
            "CPU times: user 1h 43s, sys: 199 ms, total: 1h 43s\n",
            "Wall time: 1h 43s\n"
          ],
          "name": "stdout"
        }
      ]
    },
    {
      "cell_type": "code",
      "metadata": {
        "id": "klcQ_de7C4w-",
        "colab": {
          "base_uri": "https://localhost:8080/"
        },
        "outputId": "cc3c33c0-ac78-4928-fd36-620eeb2838d2"
      },
      "source": [
        "%%time\r\n",
        "# Final Results in Test Set\r\n",
        "models = []\r\n",
        "models.append(SVM_grid.best_estimator_)\r\n",
        "models.append(rf_grid.best_estimator_)\r\n",
        "models.append(lr_grid.best_estimator_)\r\n",
        "models.append(DT_grid.best_estimator_)\r\n",
        "\r\n",
        "for model in models:\r\n",
        "  y_pred = model.predict(X_test_tfidf)\r\n",
        "  print(classification_report(y_test, y_pred,digits=4))"
      ],
      "execution_count": 32,
      "outputs": [
        {
          "output_type": "stream",
          "text": [
            "              precision    recall  f1-score   support\n",
            "\n",
            "           0     0.8027    0.6832    0.7381       262\n",
            "           1     0.6808    0.8009    0.7360       221\n",
            "\n",
            "    accuracy                         0.7371       483\n",
            "   macro avg     0.7417    0.7421    0.7371       483\n",
            "weighted avg     0.7469    0.7371    0.7371       483\n",
            "\n",
            "              precision    recall  f1-score   support\n",
            "\n",
            "           0     0.7500    0.7901    0.7695       262\n",
            "           1     0.7343    0.6878    0.7103       221\n",
            "\n",
            "    accuracy                         0.7433       483\n",
            "   macro avg     0.7421    0.7389    0.7399       483\n",
            "weighted avg     0.7428    0.7433    0.7424       483\n",
            "\n",
            "              precision    recall  f1-score   support\n",
            "\n",
            "           0     0.7913    0.7672    0.7791       262\n",
            "           1     0.7336    0.7602    0.7467       221\n",
            "\n",
            "    accuracy                         0.7640       483\n",
            "   macro avg     0.7625    0.7637    0.7629       483\n",
            "weighted avg     0.7649    0.7640    0.7642       483\n",
            "\n",
            "              precision    recall  f1-score   support\n",
            "\n",
            "           0     0.7958    0.4313    0.5594       262\n",
            "           1     0.5630    0.8688    0.6833       221\n",
            "\n",
            "    accuracy                         0.6315       483\n",
            "   macro avg     0.6794    0.6500    0.6213       483\n",
            "weighted avg     0.6893    0.6315    0.6161       483\n",
            "\n",
            "CPU times: user 4.09 s, sys: 41 ms, total: 4.13 s\n",
            "Wall time: 4.07 s\n"
          ],
          "name": "stdout"
        }
      ]
    },
    {
      "cell_type": "markdown",
      "metadata": {
        "id": "TBPMS_wqLB0D"
      },
      "source": [
        "# Bert"
      ]
    },
    {
      "cell_type": "code",
      "metadata": {
        "id": "8xyLNZxIo0X3"
      },
      "source": [
        "\n",
        "MAX_LEN = 125\n",
        "\n",
        "train_ids = []\n",
        "for sent in X_train:\n",
        "    subwords = '<s> ' + bpe.encode(sent) + ' </s>'\n",
        "    encoded_sent = vocab.encode_line(subwords, append_eos=True, add_if_not_exist=False).long().tolist()\n",
        "    train_ids.append(encoded_sent)\n",
        "\n",
        "test_ids = []\n",
        "for sent in X_test:\n",
        "    subwords = '<s> ' + bpe.encode(sent) + ' </s>'\n",
        "    encoded_sent = vocab.encode_line(subwords, append_eos=True, add_if_not_exist=False).long().tolist()\n",
        "    test_ids.append(encoded_sent)\n",
        "    \n",
        "train_ids = pad_sequences(train_ids, maxlen=MAX_LEN, dtype=\"long\", value=0, truncating=\"post\", padding=\"post\")\n",
        "test_ids = pad_sequences(test_ids, maxlen=MAX_LEN, dtype=\"long\", value=0, truncating=\"post\", padding=\"post\")"
      ],
      "execution_count": 33,
      "outputs": []
    },
    {
      "cell_type": "code",
      "metadata": {
        "id": "6t7cSUH_pP9p"
      },
      "source": [
        "train_masks = []\n",
        "for sent in train_ids:\n",
        "    mask = [int(token_id > 0) for token_id in sent]\n",
        "    train_masks.append(mask)\n",
        "\n",
        "test_masks = []\n",
        "for sent in test_ids:\n",
        "    mask = [int(token_id > 0) for token_id in sent]\n",
        "\n",
        "    test_masks.append(mask)"
      ],
      "execution_count": 34,
      "outputs": []
    },
    {
      "cell_type": "code",
      "metadata": {
        "id": "mVAly4LvpScC"
      },
      "source": [
        "train_inputs = torch.tensor(train_ids)\n",
        "test_inputs = torch.tensor(test_ids)\n",
        "y_train = torch.tensor((y_train.tolist()).copy())\n",
        "y_test = torch.tensor((y_test.tolist()).copy())\n",
        "train_masks = torch.tensor(train_masks)\n",
        "test_masks = torch.tensor(test_masks)\n",
        "\n",
        "train_data = TensorDataset(train_inputs, train_masks, y_train)\n",
        "train_sampler = SequentialSampler(train_data)\n",
        "train_dataloader = DataLoader(train_data, sampler=train_sampler, batch_size=32)\n",
        "\n",
        "test_data = TensorDataset(test_inputs, test_masks, y_test)\n",
        "test_sampler = SequentialSampler(test_data)\n",
        "test_dataloader = DataLoader(test_data, sampler=test_sampler, batch_size=32)"
      ],
      "execution_count": 35,
      "outputs": []
    },
    {
      "cell_type": "code",
      "metadata": {
        "colab": {
          "base_uri": "https://localhost:8080/"
        },
        "id": "KpSc7CYGrhA9",
        "outputId": "6012727c-d376-4a98-fb50-8f0883b3f7cf"
      },
      "source": [
        "from transformers import RobertaForSequenceClassification, RobertaConfig, AdamW\n",
        "\n",
        "config = RobertaConfig.from_pretrained(\n",
        "    \"/content/drive/MyDrive/Colab Notebooks/PhoBERT_base_transformers/PhoBERT_base_transformers/config.json\", from_tf=False, num_labels = 2, output_hidden_states=False,\n",
        ")\n",
        "BERT = RobertaForSequenceClassification.from_pretrained(\n",
        "    \"/content/drive/MyDrive/Colab Notebooks/PhoBERT_base_transformers/PhoBERT_base_transformers/model.bin\",\n",
        "    config=config\n",
        ")"
      ],
      "execution_count": 36,
      "outputs": [
        {
          "output_type": "stream",
          "text": [
            "Some weights of the model checkpoint at /content/drive/MyDrive/Colab Notebooks/PhoBERT_base_transformers/PhoBERT_base_transformers/model.bin were not used when initializing RobertaForSequenceClassification: ['lm_head.bias', 'lm_head.dense.weight', 'lm_head.dense.bias', 'lm_head.layer_norm.weight', 'lm_head.layer_norm.bias', 'lm_head.decoder.weight', 'lm_head.decoder.bias']\n",
            "- This IS expected if you are initializing RobertaForSequenceClassification from the checkpoint of a model trained on another task or with another architecture (e.g. initializing a BertForSequenceClassification model from a BertForPretraining model).\n",
            "- This IS NOT expected if you are initializing RobertaForSequenceClassification from the checkpoint of a model that you expect to be exactly identical (initializing a BertForSequenceClassification model from a BertForSequenceClassification model).\n",
            "Some weights of RobertaForSequenceClassification were not initialized from the model checkpoint at /content/drive/MyDrive/Colab Notebooks/PhoBERT_base_transformers/PhoBERT_base_transformers/model.bin and are newly initialized: ['classifier.dense.weight', 'classifier.dense.bias', 'classifier.out_proj.weight', 'classifier.out_proj.bias']\n",
            "You should probably TRAIN this model on a down-stream task to be able to use it for predictions and inference.\n"
          ],
          "name": "stderr"
        }
      ]
    },
    {
      "cell_type": "code",
      "metadata": {
        "colab": {
          "base_uri": "https://localhost:8080/"
        },
        "id": "TeUopsaJuPjO",
        "outputId": "123d1033-1412-4d8d-a8dc-97814cc79c18"
      },
      "source": [
        "BERT.cuda()\r\n",
        "print('Done')"
      ],
      "execution_count": 37,
      "outputs": [
        {
          "output_type": "stream",
          "text": [
            "Done\n"
          ],
          "name": "stdout"
        }
      ]
    },
    {
      "cell_type": "code",
      "metadata": {
        "id": "94nXDdoyqHEQ"
      },
      "source": [
        "def flat_accuracy(preds, labels):\n",
        "    pred_flat = np.argmax(preds, axis=1).flatten()\n",
        "    labels_flat = labels.flatten()\n",
        "    \n",
        "    F1_score = f1_score(pred_flat, labels_flat, average='macro')\n",
        "    \n",
        "    return accuracy_score(pred_flat, labels_flat), F1_score"
      ],
      "execution_count": 38,
      "outputs": []
    },
    {
      "cell_type": "code",
      "metadata": {
        "colab": {
          "base_uri": "https://localhost:8080/",
          "height": 1000,
          "referenced_widgets": [
            "ae3d9fbf32da4feebcee7057009d9e3d",
            "fcf7b74c6e59437590ae115ca4c8caf2",
            "ef5a8f5a163b410da2b98b785a7f3e2e",
            "ded41252db9642f7bc4c8bafc9e497bf",
            "bc126f7c22384145b1794ac0b101bec2",
            "fc8a52baaa304391a0638a6906500215",
            "982b9c70e3aa414d9ca1bb7bf9189a72",
            "3646f2e7bb5144aca0ec7aed8bab79d2",
            "eb840662626a4145979b964672228939",
            "deaa25e0ca9e4d0b89b42bac2aa2201e",
            "bb932ddba05f4c8288c221dea8926d71",
            "420dd942d5cf421197afce9d235923f3",
            "1644c2ad9f5842739ca767c761e3fd5b",
            "d807d9b379f34f42a48209f228e68fcc",
            "ab0955af7a674341a38bc0a7bb641db8",
            "90ce1a7b068043daa4603d2f43d05f5d",
            "26d2ef1bf8b14077b8b45f352a62741c",
            "fb0121b858984f25b08defdae8547fb9",
            "81a49be798dd4130b04f3b4738631a1b",
            "d1368c870f1942a69fe8a220ea8313b4",
            "41c7f5f0c0184ddcbc98876c019fa311",
            "2dc1025743ae4b13855da89400a7711c",
            "0f437fe2df534e68897885c29ea591f2",
            "5e5f771d7ccd4d76949090aaa033f006",
            "29e800b813d248d4854315ec03e64dfb",
            "c8b5893cf509481da3cfaca529316aaf",
            "a0a6235ed064446a9319ede3665ad646",
            "b11f951b6406429f9fd797bf99ab037b",
            "83eeda13496b44c795502d346b86badc",
            "bd0e03a3856646bab35f1ab2e9812826",
            "6fc8d8ed09354b7c9df4652382830688",
            "73dd32a304a74aa3871b33c93c1e6a1e",
            "247cb9d90241407cb1c879f47cea7942",
            "22104277920145058e9f86230f472be4",
            "c60d584603854e3291a8e810c2540e42",
            "522d3a0d188246eda146ef8b42ba147a",
            "d90b988d31004ebc90cc955f4672ea8b",
            "e94ec6d616da4867a5c44c2cb9b36fcd",
            "65477990857c45d197af445f6f38c7f2",
            "1a49b33b97be4abea3ae87cf4df6c8f3",
            "a0aeb375451b433091ad70362bcb6d2d",
            "db2b7c91771a4ff3817986a090289547",
            "39b6a9dbc14b4ee78e6e118a91bcf4a3",
            "9e2fa4af75854edfbbb76583e3c1f5a4",
            "21bb725d47d940fb88874996a116027a",
            "f4352ce5041b4519b8795c91963864ce",
            "811e97a34eb44c3f8a8ed55bfffb5185",
            "feb4eb37d4b549328350b416f4633e38",
            "20671b1cec144bab876092ec9984a7ea",
            "69a12e6e063d489cb9f17967c96542f8",
            "d721bad5fb714110aafd60eed91dd7f3",
            "81b16eb847d445379753f582b30b1e06",
            "74cc1a4afb5a4f248393320d49d6dd3f",
            "d182b2579cd04147998ba94a0746dfb0",
            "07e2052449e5448e913d8001ce477d12",
            "c0dabebc10db411db143457769a06bc5",
            "eb4b242877fb4dbb9a5cb6b7d70154b3",
            "1c966d9fb4304652b26183a9aa740a19",
            "25ccc06e4d5742b1b960a32dfde718d3",
            "b4b48b30318a443ab5d2adeb0e9cd507",
            "e4d5319f7c254ce59bd3bef72798be00",
            "a360b36a1b3b4f7ca938d2fc8d680254",
            "26f0ccbf53214653b52189c3a4dac5dc",
            "95a0d395182a4579836c854136304453",
            "54f6d80abd244148ab21d7d5c0de5cd2",
            "aba2dea3fd0a40a2bc8f9e66897f6202",
            "e71751e0080849b8837afdcaba410280",
            "ba678cad5f994023900678ef35cc7e94",
            "8402c221971a4b1d8bb1123e77e1a99a",
            "7180a5013052409488733e4fb8f09a84",
            "e82e052382b44718915eb2fd17fa6788",
            "7acf0c7c710342908534fab890c03fa7",
            "633b885347df4323bda94a7f14590dca",
            "a72701345f4540e3a871fd1ef1874d6f",
            "e5b76dae86fe4bc2a8a1598ab9583ac4",
            "c789050e037846b7b1bf739e50bb0c93",
            "8696d896f8864db6bea1e30aacee705c",
            "c0fb63bdb7d547b59bbaa8ea787907e4",
            "067a3140c63d491ca1e23dab43d5369d",
            "4315a2262b5247c6bbd52d43f30862f5"
          ]
        },
        "id": "SHcvhGnGru9M",
        "outputId": "62d91ddc-044c-42d8-cf97-61ee11e1ff2a"
      },
      "source": [
        "device = 'cuda'\n",
        "epochs = 5\n",
        "\n",
        "param_optimizer = list(BERT.named_parameters())\n",
        "no_decay = ['bias', 'LayerNorm.bias', 'LayerNorm.weight']\n",
        "optimizer_grouped_parameters = [\n",
        "    {'params': [p for n, p in param_optimizer if not any(nd in n for nd in no_decay)], 'weight_decay': 0.01},\n",
        "    {'params': [p for n, p in param_optimizer if any(nd in n for nd in no_decay)], 'weight_decay': 0.0}\n",
        "]\n",
        "\n",
        "optimizer = AdamW(optimizer_grouped_parameters, lr=1e-5, correct_bias=False)\n",
        "\n",
        "\n",
        "for epoch_i in range(0, epochs):\n",
        "    print('======== Epoch {:} / {:} ========'.format(epoch_i + 1, epochs))\n",
        "    print('Training...')\n",
        "\n",
        "    total_loss = 0\n",
        "    BERT.train()\n",
        "    train_accuracy = 0\n",
        "    nb_train_steps = 0\n",
        "    train_f1 = 0\n",
        "    \n",
        "    for step, batch in tqdm_notebook(enumerate(train_dataloader)):\n",
        "        b_input_ids = batch[0].to(device)\n",
        "        b_input_mask = batch[1].to(device)\n",
        "        b_labels = batch[2].to(device)\n",
        "\n",
        "        BERT.zero_grad()\n",
        "        outputs = BERT(b_input_ids, \n",
        "            token_type_ids=None, \n",
        "            attention_mask=b_input_mask, \n",
        "            labels=b_labels)\n",
        "        loss = outputs[0]\n",
        "        total_loss += loss.item()\n",
        "        \n",
        "        logits = outputs[1].detach().cpu().numpy()\n",
        "        label_ids = b_labels.to('cpu').numpy()\n",
        "        tmp_train_accuracy, tmp_train_f1 = flat_accuracy(logits, label_ids)\n",
        "        train_accuracy += tmp_train_accuracy\n",
        "        train_f1 += tmp_train_f1\n",
        "        nb_train_steps += 1\n",
        "        \n",
        "        loss.backward()\n",
        "        torch.nn.utils.clip_grad_norm_(BERT.parameters(), 1.0)\n",
        "        optimizer.step()\n",
        "        \n",
        "    avg_train_loss = total_loss / len(train_dataloader)\n",
        "    print(\" Accuracy: {0:.4f}\".format(train_accuracy/nb_train_steps))\n",
        "    print(\" F1 score: {0:.4f}\".format(train_f1/nb_train_steps))\n",
        "    print(\" Average training loss: {0:.4f}\".format(avg_train_loss))\n",
        "\n",
        "    print(\"Running Test...\")\n",
        "    BERT.eval()\n",
        "    eval_loss, eval_accuracy = 0, 0\n",
        "    nb_eval_steps, nb_eval_examples = 0, 0\n",
        "    eval_f1 = 0\n",
        "    y_pred = []\n",
        "    for batch in tqdm_notebook(test_dataloader):\n",
        "\n",
        "        batch = tuple(t.to(device) for t in batch)\n",
        "\n",
        "        b_input_ids, b_input_mask, b_labels = batch\n",
        "\n",
        "        with torch.no_grad():\n",
        "            outputs = BERT(b_input_ids, \n",
        "            token_type_ids=None, \n",
        "            attention_mask=b_input_mask)\n",
        "            logits = outputs[0]\n",
        "            \n",
        "            logits = logits.detach().cpu().numpy()\n",
        "            label_ids = b_labels.to('cpu').numpy()\n",
        "            pred_flat = np.argmax(logits, axis=1).flatten()\n",
        "            for i in pred_flat:\n",
        "              y_pred.append(i)\n",
        "\n",
        "            tmp_eval_accuracy, tmp_eval_f1 = flat_accuracy(logits, label_ids)\n",
        "\n",
        "            eval_accuracy += tmp_eval_accuracy\n",
        "            eval_f1 += tmp_eval_f1\n",
        "            nb_eval_steps += 1\n",
        "    print(\" Accuracy: {0:.4f}\".format(eval_accuracy/nb_eval_steps))\n",
        "    print(\" F1 score: {0:.4f}\".format(eval_f1/nb_eval_steps))\n",
        "print(\"Training complete!\")"
      ],
      "execution_count": 39,
      "outputs": [
        {
          "output_type": "stream",
          "text": [
            "======== Epoch 1 / 5 ========\n",
            "Training...\n"
          ],
          "name": "stdout"
        },
        {
          "output_type": "display_data",
          "data": {
            "application/vnd.jupyter.widget-view+json": {
              "model_id": "ae3d9fbf32da4feebcee7057009d9e3d",
              "version_minor": 0,
              "version_major": 2
            },
            "text/plain": [
              "HBox(children=(FloatProgress(value=1.0, bar_style='info', max=1.0), HTML(value='')))"
            ]
          },
          "metadata": {
            "tags": []
          }
        },
        {
          "output_type": "stream",
          "text": [
            "\n",
            " Accuracy: 0.6964\n",
            " F1 score: 0.6558\n",
            " Average training loss: 0.5616\n",
            "Running Test...\n"
          ],
          "name": "stdout"
        },
        {
          "output_type": "display_data",
          "data": {
            "application/vnd.jupyter.widget-view+json": {
              "model_id": "eb840662626a4145979b964672228939",
              "version_minor": 0,
              "version_major": 2
            },
            "text/plain": [
              "HBox(children=(FloatProgress(value=0.0, max=16.0), HTML(value='')))"
            ]
          },
          "metadata": {
            "tags": []
          }
        },
        {
          "output_type": "stream",
          "text": [
            "\n",
            " Accuracy: 0.8203\n",
            " F1 score: 0.8128\n",
            "======== Epoch 2 / 5 ========\n",
            "Training...\n"
          ],
          "name": "stdout"
        },
        {
          "output_type": "display_data",
          "data": {
            "application/vnd.jupyter.widget-view+json": {
              "model_id": "26d2ef1bf8b14077b8b45f352a62741c",
              "version_minor": 0,
              "version_major": 2
            },
            "text/plain": [
              "HBox(children=(FloatProgress(value=1.0, bar_style='info', max=1.0), HTML(value='')))"
            ]
          },
          "metadata": {
            "tags": []
          }
        },
        {
          "output_type": "stream",
          "text": [
            "\n",
            " Accuracy: 0.8330\n",
            " F1 score: 0.8243\n",
            " Average training loss: 0.3699\n",
            "Running Test...\n"
          ],
          "name": "stdout"
        },
        {
          "output_type": "display_data",
          "data": {
            "application/vnd.jupyter.widget-view+json": {
              "model_id": "29e800b813d248d4854315ec03e64dfb",
              "version_minor": 0,
              "version_major": 2
            },
            "text/plain": [
              "HBox(children=(FloatProgress(value=0.0, max=16.0), HTML(value='')))"
            ]
          },
          "metadata": {
            "tags": []
          }
        },
        {
          "output_type": "stream",
          "text": [
            "\n",
            " Accuracy: 0.8398\n",
            " F1 score: 0.8343\n",
            "======== Epoch 3 / 5 ========\n",
            "Training...\n"
          ],
          "name": "stdout"
        },
        {
          "output_type": "display_data",
          "data": {
            "application/vnd.jupyter.widget-view+json": {
              "model_id": "247cb9d90241407cb1c879f47cea7942",
              "version_minor": 0,
              "version_major": 2
            },
            "text/plain": [
              "HBox(children=(FloatProgress(value=1.0, bar_style='info', max=1.0), HTML(value='')))"
            ]
          },
          "metadata": {
            "tags": []
          }
        },
        {
          "output_type": "stream",
          "text": [
            "\n",
            " Accuracy: 0.9011\n",
            " F1 score: 0.8951\n",
            " Average training loss: 0.2506\n",
            "Running Test...\n"
          ],
          "name": "stdout"
        },
        {
          "output_type": "display_data",
          "data": {
            "application/vnd.jupyter.widget-view+json": {
              "model_id": "a0aeb375451b433091ad70362bcb6d2d",
              "version_minor": 0,
              "version_major": 2
            },
            "text/plain": [
              "HBox(children=(FloatProgress(value=0.0, max=16.0), HTML(value='')))"
            ]
          },
          "metadata": {
            "tags": []
          }
        },
        {
          "output_type": "stream",
          "text": [
            "\n",
            " Accuracy: 0.8379\n",
            " F1 score: 0.8341\n",
            "======== Epoch 4 / 5 ========\n",
            "Training...\n"
          ],
          "name": "stdout"
        },
        {
          "output_type": "display_data",
          "data": {
            "application/vnd.jupyter.widget-view+json": {
              "model_id": "20671b1cec144bab876092ec9984a7ea",
              "version_minor": 0,
              "version_major": 2
            },
            "text/plain": [
              "HBox(children=(FloatProgress(value=1.0, bar_style='info', max=1.0), HTML(value='')))"
            ]
          },
          "metadata": {
            "tags": []
          }
        },
        {
          "output_type": "stream",
          "text": [
            "\n",
            " Accuracy: 0.9416\n",
            " F1 score: 0.9388\n",
            " Average training loss: 0.1728\n",
            "Running Test...\n"
          ],
          "name": "stdout"
        },
        {
          "output_type": "display_data",
          "data": {
            "application/vnd.jupyter.widget-view+json": {
              "model_id": "eb4b242877fb4dbb9a5cb6b7d70154b3",
              "version_minor": 0,
              "version_major": 2
            },
            "text/plain": [
              "HBox(children=(FloatProgress(value=0.0, max=16.0), HTML(value='')))"
            ]
          },
          "metadata": {
            "tags": []
          }
        },
        {
          "output_type": "stream",
          "text": [
            "\n",
            " Accuracy: 0.8555\n",
            " F1 score: 0.8529\n",
            "======== Epoch 5 / 5 ========\n",
            "Training...\n"
          ],
          "name": "stdout"
        },
        {
          "output_type": "display_data",
          "data": {
            "application/vnd.jupyter.widget-view+json": {
              "model_id": "54f6d80abd244148ab21d7d5c0de5cd2",
              "version_minor": 0,
              "version_major": 2
            },
            "text/plain": [
              "HBox(children=(FloatProgress(value=1.0, bar_style='info', max=1.0), HTML(value='')))"
            ]
          },
          "metadata": {
            "tags": []
          }
        },
        {
          "output_type": "stream",
          "text": [
            "\n",
            " Accuracy: 0.9442\n",
            " F1 score: 0.9418\n",
            " Average training loss: 0.1477\n",
            "Running Test...\n"
          ],
          "name": "stdout"
        },
        {
          "output_type": "display_data",
          "data": {
            "application/vnd.jupyter.widget-view+json": {
              "model_id": "633b885347df4323bda94a7f14590dca",
              "version_minor": 0,
              "version_major": 2
            },
            "text/plain": [
              "HBox(children=(FloatProgress(value=0.0, max=16.0), HTML(value='')))"
            ]
          },
          "metadata": {
            "tags": []
          }
        },
        {
          "output_type": "stream",
          "text": [
            "\n",
            " Accuracy: 0.8574\n",
            " F1 score: 0.8533\n",
            "Training complete!\n"
          ],
          "name": "stdout"
        }
      ]
    },
    {
      "cell_type": "code",
      "metadata": {
        "colab": {
          "base_uri": "https://localhost:8080/",
          "height": 320
        },
        "id": "ryzVXRPGsf9f",
        "outputId": "9fc9a592-dcb9-4bf7-be82-7f91d7333985"
      },
      "source": [
        "from sklearn.metrics import confusion_matrix\r\n",
        "def show_confusion_matrix(confusion_matrix):\r\n",
        "  hmap = sns.heatmap(confusion_matrix, annot=True, fmt=\"d\", cmap=\"Blues\")\r\n",
        "  hmap.yaxis.set_ticklabels(hmap.yaxis.get_ticklabels(), rotation=0, ha='right')\r\n",
        "  hmap.xaxis.set_ticklabels(hmap.xaxis.get_ticklabels(), rotation=30, ha='right')\r\n",
        "  plt.ylabel('True Complaint')\r\n",
        "  plt.xlabel('Predicted Complaint');\r\n",
        "cm = confusion_matrix(y_test, y_pred)\r\n",
        "df_cm = pd.DataFrame(cm, index=['Non_Complaint','Complaint'], columns=['Non_Complaint','Complaint'])\r\n",
        "\r\n",
        "show_confusion_matrix(df_cm)"
      ],
      "execution_count": 40,
      "outputs": [
        {
          "output_type": "display_data",
          "data": {
            "image/png": "[encoded data removed]",
            "text/plain": [
              "<Figure size 432x288 with 2 Axes>"
            ]
          },
          "metadata": {
            "tags": [],
            "needs_background": "light"
          }
        }
      ]
    },
    {
      "cell_type": "code",
      "metadata": {
        "colab": {
          "base_uri": "https://localhost:8080/"
        },
        "id": "9GhMVsuQ3PS2",
        "outputId": "8b1129d9-7527-40a8-c6e5-666a61e913fe"
      },
      "source": [
        "#  print('Câu bình luận không phàn nàn bị nhận nhầm:')\r\n",
        "index_Non_False = []\r\n",
        "for i in range(len(y_test)):\r\n",
        "  if (y_test[i] == 0) and (y_pred[i] == 1):\r\n",
        "    index_Non_False.append(i)\r\n",
        "for i in index_Non_False:\r\n",
        "  print(test[i])"
      ],
      "execution_count": 41,
      "outputs": [
        {
          "output_type": "stream",
          "text": [
            "đang dài mới biết được trụ được một 2 trận thì không thể_hiện được\n",
            "vừa định đặt mua mà nghe nói cũng sợ sợ mình da_dầu mụn ẩn\n",
            "zalo nó chỉ là ứng_dụng nhắn_tin này_nọ chứ chưa được tính là mạng xã_hội mà chưa kể nó bảo_mật được tin nhắn thông_tin tốt thì có gì đâu đã muốn cắm_sừng thì shopee ứng_dụng ngân_hàng nó còn cắm được nói gì zalo\n",
            "hic mấy năm nay mình toàn nhãn _ hiệu thấy cũng khá ổn cơ_mà hóng thấy bảo có cồn vậy không biết mình nên dùng loại nào ạ mong cao_nhân nào chỉ giúp mình với\n",
            "bạn nên đổi sữa rửa mặt mình nghĩ do sữa rửa mặt kg hợp á\n",
            "mới đặt mua hàng chưa về mà các chị làm em hoang_mang quá\n",
            "sau 15phut gánh team mà pin tụt có 4 quá ngầu\n",
            "kiềm dầu tốt lắm bạn ơi không có lên mụn không bí đâu nhớ tẩy_trang kĩ nha nâng tone ban_đầu sẽ thấy trắng quá mức ý nhưng đừng lo khi mà nó xuống tone ý nó sẽ tự_nhiên gần với màu_da thật của mình luôn\n",
            "máy mình lla để qua đêm không sụt tí nào\n",
            "cũng số tiền đó có_thể mua được chiếc iphone có suất xứ tại châu_âu nhưng đa_phần mọi người mua iphone dành cho thị_trường châu_á với tôi đó là một sai_lầm\n",
            "hàng công_nghệ mà vẫn có tỉ_lệ lỗi nhất_định và iphone đã lược bớt phần kiểm_tra sản_phẩm để giảm chi_phí và đem công_việc kiểm_tra ấy cho khách_hàng có_khi mua iphone cũ lại hay cái người bán kiểm_tra mệt_nghỉ mới giám bán ra cho mình vừa giá rẻ hơn có lỗi cũng đổi trả dễ hơn\n",
            "fnews collection admin ơi em viết bài dài với không có trùng bài này mà không được duyệt huhu\n",
            "mấy ông_bà trung_quốc niên khoái dùng zalo để cắm_sừng vợ_chồng ở nhà\n",
            "mạng xã_hội thuần việt thì bọn phản_động nó không dùng đâu\n",
            "mấy bạn dùng v7 lên mụn thường là không biết xài với v7 bôi ban_ngày nâng tone với dưỡng ẩm thì ok chứ để dưỡng trắng thì không hiệu_quả lắm\n",
            "ai cho em mã zoom troll thầy_cô phát\n",
            "3 nhà mình gần cái công_ty tên là lotus này cơ_mà vẫn không biết lotus làm cái gì\n",
            "mẹ em cũng đang sài không biết sao nữa\n",
            "dùng ổn nhé nhưng cần tẩy_trang và rửa sạch mặt trước nếu không thì khá bí và lên mụn đấy khi dùng cũng_nên tap đến khi thấm hoàn_toàn nữa\n",
            "không hợp thì ngưng đi em\n",
            "trị mụn ẩn\n",
            "tại_sao p60 lại max setting liên_quân được vậy anh_em sao nói 730g lại không bật được ta\n",
            "mình dùng facebook ảnh và chữ bị out nét thì phải làm_sao có ai bị như_vậy không\n",
            "pin khoẻ không ý_anh\n",
            "mình đang dùng thấy ỗn nhưng nghe mặt_nạ nói em lo quá\n",
            "cho em hỏi máy bị mở_màn với lưng có sao không á\n",
            "ngày_xưa có account game trên zing khủng vc mà nó lại xoá\n",
            "đừng nói mạng xã_hội khi facebook twitter đã quá phổ_biến ngày_trước thời_đại hoàng_kim của văn_hoá forum còn chết gần sạch truongton vnsharing yumei mấy web như voz webtretho được đúc tiền mà hoạt_động còn chả bằng 110 ngày trước\n",
            "cho em xin bình_luận em này với ạ thấy bà bán thuốc bảo hiệu_quả mà em chưa dám mua\n",
            "gapo có_vẻ không ai ngó_ngàng nhỉ\n",
            "chuyển qua dùng chai màu xanh lá ý mình dùng thấy ok cũng bớt mụn ý còn không thì bạn đổi sang sữa rửa mặt dịu nhẹ như centaphil thì sẽ bớt căng da hơn nhãn _ hiệu nhiều á mà mặt bạn mình thấy như bị mụn nội_tiết ý nên điều_chế lại chế đôn sinh_hoạt cách ăn_uống rồi tham_khảo thêm các bước đặc_trị mụn cho mau hết nhaa\n",
            "thấy mọi người nói nước _ dưỡng có vấn_đề nhưng mình xài thấy ok mà ta cấp ẩm ok nhẹ_nhàng mát nữa\n",
            "cái này mới cho da mụn không hương_liệu nè chị còn cái chị dùng là cho da_dầu thường hay sao ý có hương_liệu\n",
            "lên lúc đầu một_chút thôi sau đó sẽ ổn nha bạn lúc đầu cảm_giác da bị co lại mình nhìn thây rõ những vết rỗ nhẹ trước giờ chưa từng thấy sau lại căng ra cảm_giác mấy vết đó nó đầy luôn mình vẫn đang dùng thấy ok\n",
            "gapo ổn nè mọi người ơi mình đã tải lúc nó mới ra thì hầu_như lúc đó rất ít người sử_dụng bây_giờ thì có tiến_triển rất tốt rồi nha ai bảo chán không hề các page ở facebook cũng dần chuyển qua đấy rồi lost bird cũng có rồi nhé lượt tương_tác các bài viết cũng từ_từ được cải_thiện vì người dùng ngày nhiều hơn\n",
            "nói thật chứ máy gì mà chả có lỗi\n"
          ],
          "name": "stdout"
        }
      ]
    },
    {
      "cell_type": "code",
      "metadata": {
        "colab": {
          "base_uri": "https://localhost:8080/"
        },
        "id": "cqk32OcBuAcx",
        "outputId": "f74d5303-8489-469b-a540-56421248f730"
      },
      "source": [
        "#print('Câu bình luận phàn nàn bị nhận nhầm:')\r\n",
        "index_Com_False = []\r\n",
        "for i in range(len(y_test)):\r\n",
        "  if (y_test[i] == 1) and (y_pred[i] == 0):\r\n",
        "    index_Com_False.append(i)\r\n",
        "for i in index_Com_False:\r\n",
        "  print(test[i])"
      ],
      "execution_count": 42,
      "outputs": [
        {
          "output_type": "stream",
          "text": [
            "vừa đăng về lịch_sử buổi sáng buổi chiều khoá hoàn_toàn chức_năng hiểu mục_đích rồi chứ\n",
            "ok lam nhung toi rat mong cac anh ra phan bạn moi hon sang tao hon va ok hon khac phuc loi va khieu nai ve phan bạn cu von da loi_thoi nay chi su dung một so diwn thoai con một so khac không su dung duoc neu dung luong phien ban sao ich hon thi cang duoc danh_gia cao hon rat mong ben phia cac nha sang bài đánh_giá đầy đuỏk lam nhung toi rat mong cac anh ra phan bạn moi hon sang tao hon va ok hon khac phuc loi va khieu nai ve phan bạn cu von da loi_thoi nay chi su dung một so diwn thoai con một so khac không su dung duoc neu dung luong phien ban sao ich hon thi cang duoc danh_gia cao hon rat mong ben phia cac nha sang tao nhin thay y kien cua toi rat cam on\n",
            "da mình cũng dầu mụn dùng em này mặt như chảo dầu luôn\n",
            "nếu bạn thích tăng độ khó cho game thì cứ dùng\n",
            "mạng xã_hội việt_nam thì trước_hết cái tên phải việt_nam\n",
            "kem của neu thì dòng water gel có huong liệu\n",
            "kem này có chất nghiện kem\n",
            "nhìn vỏ hộp phèn là biết nó trộn òi mấy chị\n",
            "bạn dùng water gel lên mụn là đúng ùi mình dùng loại gel cream thích lắm\n",
            "vui_lòng sửa cập_nhật giúp chúng_tôi sau khi cập_nhật ngày 16 11 2018 vào chat với khách thì giao_diện đã khác cụ_thể ứng_dụng đã bổ_sung tính_năng chat với khách với tư_cách là tài_khoản cá_nhân của người đang chat với khách trên fanapge ghi_chú với tư_cách trang trên từng tài_khoản của khách cũng đã thay_đổi vị bài đánh_giá đầy đủvui lòng sửa cập_nhật giúp chúng_tôi sau khi cập_nhật ngày 16 11 2018 vào chat với khách thì giao_diện đã khác cụ_thể ứng_dụng đã bổ_sung tính_năng chat với khách với tư_cách là tài_khoản cá_nhân của người đang chat với khách trên fanapge ghi_chú với tư_cách trang trên từng tài_khoản của khách cũng đã thay_đổi vị_trí mở ra ghi_chú bằng cách bấm vào avatar của khách trong đoạn chat thanks cập_nhật rất tốt\n",
            "siêu lên mụn ẩn nhé bạn\n",
            "dòng này dễ lên mụn ẩn còn một dòng màu trắng xanh nhạt hơn cho da nhạy_cảm thì phải\n",
            "em nghĩ là chị nên đổi sữa rửa mặt đi ạ\n",
            "không thích lắm\n",
            "chi co điều gia qua max\n",
            "hàng mix thôi chứ không trộn\n",
            "mua về tẩy thâm mông cũng được á vì da mông dày nhất rồi\n",
            "kem trộn nha bạn\n",
            "cho mình hỏi gapo có chat group được không nhở hôm_nay mình kêu_gọi mấy bạn thân sang xài cái này nhưng tìm mãi không có chat group để bọn mình tiện chat với nhau nếu không có thì chắc ghé qua zalo để chat nhóm thôi nhỉ\n",
            "cứ tối nào tuii xài cái này là sáng_mai da tuii đổ dầu á\n",
            "mua máy chơi game thi nên từ_bỏ ý_định mua sam sung đi\n",
            "có ai sử_dụng mask miung lab chưa ạ cho em xin bình_luận với thấy nhiều người bảo tốt với giá_thành cũng rất đắt\n",
            "với số tiền bỏ ra mua thứ hàng trộn xa_xỉ này thì mua được cả tá mĩ_phẩm hẳn_hoi rồi\n",
            "trộn đẹp\n",
            "minh dung iphone xsmax gan 2 thang thi van thay ok muot ma co thay ji dau chi co cai nang cấp he điều hanh ios 12 một 4 thi tục that loi liên_tục con may van hoạt dong bình_thường ma iphone minh dang dung la hang vna\n",
            "tui kị neu cực_kỳ\n",
            "mới dùng số điện_thoại đăng_ký vài ngày sau có bên bảo_hiểm tua du_lịch điện vào số mình liền hay một cái là biết tên mình luôn\n",
            "lotus web tạch rồi\n",
            "nhìn là biết trộn rồi\n",
            "nhà mình cũng có một hủ nè nhìn mấy dòng trên nắp hủ mà tôi ứa gan mà kem trộn này có giá lắm nhaaa được bán tận bên chợ cali ở mỹ người_thân mình mua ở bển đem về vì nghe giới_thiệu trị mụn ok lắm\n",
            "dt 9tr và con chạy con helio p70 chán\n",
            "thế_thì cấm online luôn đi cho nhanh xác_định bây_giờ đã online thì chả có cái nào không lộ thông_tin cả từ cái điện_thoại nó đã ăn_cắp thông_tin của mình rồi chưa cần ứng_dụng hay web gì cả anh_em\n",
            "đổi nước _ dưỡng đi chị uiii\n",
            "nếu_như không phải dùng để liên_lạc bạn_bè với học_tập thì tôi đã xoá messenger để chuyển sang dùng zalo rồi\n",
            "vâng chơi không tệ nhưng sài chỉ được một năm thôi với con chip rẻ đó đòi năm thứ 2 3 là éo nổi tầm đó 730 là sài 2 năm dư sức\n",
            "loại kem chống nắng the nhãn _ hiệu này mình dùng nên bôi lớp mỏng thôi ạ bôi lớp quá dày sẽ gây bí và đó là lý_do bị nổi mụn ẩn ạ chứ không phải cứ dùng là bị mụn ẩn đâu ạ\n",
            "9830 còn như cứt nữa là tuổi tôm với snap\n"
          ],
          "name": "stdout"
        }
      ]
    },
    {
      "cell_type": "code",
      "metadata": {
        "id": "o198syo35d7z"
      },
      "source": [
        ""
      ],
      "execution_count": 42,
      "outputs": []
    },
    {
      "cell_type": "code",
      "metadata": {
        "id": "oGaHWD9VFUYk"
      },
      "source": [
        ""
      ],
      "execution_count": 42,
      "outputs": []
    }
  ]
}