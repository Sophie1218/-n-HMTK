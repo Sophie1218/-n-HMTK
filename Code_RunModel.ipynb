{
  "nbformat": 4,
  "nbformat_minor": 0,
  "metadata": {
    "accelerator": "GPU",
    "colab": {
      "name": "Code_RunModel.ipynb",
      "provenance": [],
      "collapsed_sections": [],
      "machine_shape": "hm",
      "include_colab_link": true
    },
    "kernelspec": {
      "display_name": "Python 3",
      "name": "python3"
    },
    "widgets": {
      "application/vnd.jupyter.widget-state+json": {
        "5efcd9f6816a4a2bad73bb0e83dbf27d": {
          "model_module": "@jupyter-widgets/controls",
          "model_name": "HBoxModel",
          "state": {
            "_view_name": "HBoxView",
            "_dom_classes": [],
            "_model_name": "HBoxModel",
            "_view_module": "@jupyter-widgets/controls",
            "_model_module_version": "1.5.0",
            "_view_count": null,
            "_view_module_version": "1.5.0",
            "box_style": "",
            "layout": "IPY_MODEL_e138a487ce30498d827f3a2d0a930d1a",
            "_model_module": "@jupyter-widgets/controls",
            "children": [
              "IPY_MODEL_96b2c8b53a264519b97f7ce8be6bf5d0",
              "IPY_MODEL_bc88733c196845afba3e4bbd52143988"
            ]
          }
        },
        "e138a487ce30498d827f3a2d0a930d1a": {
          "model_module": "@jupyter-widgets/base",
          "model_name": "LayoutModel",
          "state": {
            "_view_name": "LayoutView",
            "grid_template_rows": null,
            "right": null,
            "justify_content": null,
            "_view_module": "@jupyter-widgets/base",
            "overflow": null,
            "_model_module_version": "1.2.0",
            "_view_count": null,
            "flex_flow": null,
            "width": null,
            "min_width": null,
            "border": null,
            "align_items": null,
            "bottom": null,
            "_model_module": "@jupyter-widgets/base",
            "top": null,
            "grid_column": null,
            "overflow_y": null,
            "overflow_x": null,
            "grid_auto_flow": null,
            "grid_area": null,
            "grid_template_columns": null,
            "flex": null,
            "_model_name": "LayoutModel",
            "justify_items": null,
            "grid_row": null,
            "max_height": null,
            "align_content": null,
            "visibility": null,
            "align_self": null,
            "height": null,
            "min_height": null,
            "padding": null,
            "grid_auto_rows": null,
            "grid_gap": null,
            "max_width": null,
            "order": null,
            "_view_module_version": "1.2.0",
            "grid_template_areas": null,
            "object_position": null,
            "object_fit": null,
            "grid_auto_columns": null,
            "margin": null,
            "display": null,
            "left": null
          }
        },
        "96b2c8b53a264519b97f7ce8be6bf5d0": {
          "model_module": "@jupyter-widgets/controls",
          "model_name": "FloatProgressModel",
          "state": {
            "_view_name": "ProgressView",
            "style": "IPY_MODEL_34df10d2f5b844848497521c59e57ab1",
            "_dom_classes": [],
            "description": "",
            "_model_name": "FloatProgressModel",
            "bar_style": "success",
            "max": 1,
            "_view_module": "@jupyter-widgets/controls",
            "_model_module_version": "1.5.0",
            "value": 1,
            "_view_count": null,
            "_view_module_version": "1.5.0",
            "orientation": "horizontal",
            "min": 0,
            "description_tooltip": null,
            "_model_module": "@jupyter-widgets/controls",
            "layout": "IPY_MODEL_12599a5ecd1849649d9834241888fe03"
          }
        },
        "bc88733c196845afba3e4bbd52143988": {
          "model_module": "@jupyter-widgets/controls",
          "model_name": "HTMLModel",
          "state": {
            "_view_name": "HTMLView",
            "style": "IPY_MODEL_63e36be85f234078b4db6e95e63ba1cb",
            "_dom_classes": [],
            "description": "",
            "_model_name": "HTMLModel",
            "placeholder": "​",
            "_view_module": "@jupyter-widgets/controls",
            "_model_module_version": "1.5.0",
            "value": " 61/? [00:25&lt;00:00,  2.38it/s]",
            "_view_count": null,
            "_view_module_version": "1.5.0",
            "description_tooltip": null,
            "_model_module": "@jupyter-widgets/controls",
            "layout": "IPY_MODEL_0e2fd7ce2f0d4e139cca66bdd90db564"
          }
        },
        "34df10d2f5b844848497521c59e57ab1": {
          "model_module": "@jupyter-widgets/controls",
          "model_name": "ProgressStyleModel",
          "state": {
            "_view_name": "StyleView",
            "_model_name": "ProgressStyleModel",
            "description_width": "initial",
            "_view_module": "@jupyter-widgets/base",
            "_model_module_version": "1.5.0",
            "_view_count": null,
            "_view_module_version": "1.2.0",
            "bar_color": null,
            "_model_module": "@jupyter-widgets/controls"
          }
        },
        "12599a5ecd1849649d9834241888fe03": {
          "model_module": "@jupyter-widgets/base",
          "model_name": "LayoutModel",
          "state": {
            "_view_name": "LayoutView",
            "grid_template_rows": null,
            "right": null,
            "justify_content": null,
            "_view_module": "@jupyter-widgets/base",
            "overflow": null,
            "_model_module_version": "1.2.0",
            "_view_count": null,
            "flex_flow": null,
            "width": null,
            "min_width": null,
            "border": null,
            "align_items": null,
            "bottom": null,
            "_model_module": "@jupyter-widgets/base",
            "top": null,
            "grid_column": null,
            "overflow_y": null,
            "overflow_x": null,
            "grid_auto_flow": null,
            "grid_area": null,
            "grid_template_columns": null,
            "flex": null,
            "_model_name": "LayoutModel",
            "justify_items": null,
            "grid_row": null,
            "max_height": null,
            "align_content": null,
            "visibility": null,
            "align_self": null,
            "height": null,
            "min_height": null,
            "padding": null,
            "grid_auto_rows": null,
            "grid_gap": null,
            "max_width": null,
            "order": null,
            "_view_module_version": "1.2.0",
            "grid_template_areas": null,
            "object_position": null,
            "object_fit": null,
            "grid_auto_columns": null,
            "margin": null,
            "display": null,
            "left": null
          }
        },
        "63e36be85f234078b4db6e95e63ba1cb": {
          "model_module": "@jupyter-widgets/controls",
          "model_name": "DescriptionStyleModel",
          "state": {
            "_view_name": "StyleView",
            "_model_name": "DescriptionStyleModel",
            "description_width": "",
            "_view_module": "@jupyter-widgets/base",
            "_model_module_version": "1.5.0",
            "_view_count": null,
            "_view_module_version": "1.2.0",
            "_model_module": "@jupyter-widgets/controls"
          }
        },
        "0e2fd7ce2f0d4e139cca66bdd90db564": {
          "model_module": "@jupyter-widgets/base",
          "model_name": "LayoutModel",
          "state": {
            "_view_name": "LayoutView",
            "grid_template_rows": null,
            "right": null,
            "justify_content": null,
            "_view_module": "@jupyter-widgets/base",
            "overflow": null,
            "_model_module_version": "1.2.0",
            "_view_count": null,
            "flex_flow": null,
            "width": null,
            "min_width": null,
            "border": null,
            "align_items": null,
            "bottom": null,
            "_model_module": "@jupyter-widgets/base",
            "top": null,
            "grid_column": null,
            "overflow_y": null,
            "overflow_x": null,
            "grid_auto_flow": null,
            "grid_area": null,
            "grid_template_columns": null,
            "flex": null,
            "_model_name": "LayoutModel",
            "justify_items": null,
            "grid_row": null,
            "max_height": null,
            "align_content": null,
            "visibility": null,
            "align_self": null,
            "height": null,
            "min_height": null,
            "padding": null,
            "grid_auto_rows": null,
            "grid_gap": null,
            "max_width": null,
            "order": null,
            "_view_module_version": "1.2.0",
            "grid_template_areas": null,
            "object_position": null,
            "object_fit": null,
            "grid_auto_columns": null,
            "margin": null,
            "display": null,
            "left": null
          }
        },
        "891a127da8db42cf973ab98a3d81846e": {
          "model_module": "@jupyter-widgets/controls",
          "model_name": "HBoxModel",
          "state": {
            "_view_name": "HBoxView",
            "_dom_classes": [],
            "_model_name": "HBoxModel",
            "_view_module": "@jupyter-widgets/controls",
            "_model_module_version": "1.5.0",
            "_view_count": null,
            "_view_module_version": "1.5.0",
            "box_style": "",
            "layout": "IPY_MODEL_9fcb25f4de874744b10db5ae3f1fe507",
            "_model_module": "@jupyter-widgets/controls",
            "children": [
              "IPY_MODEL_7435df5850b84e308c78d8429addec5d",
              "IPY_MODEL_714fdcfcee7042b9b07b7eee3fc857c1"
            ]
          }
        },
        "9fcb25f4de874744b10db5ae3f1fe507": {
          "model_module": "@jupyter-widgets/base",
          "model_name": "LayoutModel",
          "state": {
            "_view_name": "LayoutView",
            "grid_template_rows": null,
            "right": null,
            "justify_content": null,
            "_view_module": "@jupyter-widgets/base",
            "overflow": null,
            "_model_module_version": "1.2.0",
            "_view_count": null,
            "flex_flow": null,
            "width": null,
            "min_width": null,
            "border": null,
            "align_items": null,
            "bottom": null,
            "_model_module": "@jupyter-widgets/base",
            "top": null,
            "grid_column": null,
            "overflow_y": null,
            "overflow_x": null,
            "grid_auto_flow": null,
            "grid_area": null,
            "grid_template_columns": null,
            "flex": null,
            "_model_name": "LayoutModel",
            "justify_items": null,
            "grid_row": null,
            "max_height": null,
            "align_content": null,
            "visibility": null,
            "align_self": null,
            "height": null,
            "min_height": null,
            "padding": null,
            "grid_auto_rows": null,
            "grid_gap": null,
            "max_width": null,
            "order": null,
            "_view_module_version": "1.2.0",
            "grid_template_areas": null,
            "object_position": null,
            "object_fit": null,
            "grid_auto_columns": null,
            "margin": null,
            "display": null,
            "left": null
          }
        },
        "7435df5850b84e308c78d8429addec5d": {
          "model_module": "@jupyter-widgets/controls",
          "model_name": "FloatProgressModel",
          "state": {
            "_view_name": "ProgressView",
            "style": "IPY_MODEL_59e90347aeb747d9889be0850ecf1223",
            "_dom_classes": [],
            "description": "100%",
            "_model_name": "FloatProgressModel",
            "bar_style": "success",
            "max": 16,
            "_view_module": "@jupyter-widgets/controls",
            "_model_module_version": "1.5.0",
            "value": 16,
            "_view_count": null,
            "_view_module_version": "1.5.0",
            "orientation": "horizontal",
            "min": 0,
            "description_tooltip": null,
            "_model_module": "@jupyter-widgets/controls",
            "layout": "IPY_MODEL_142e5d04ddbe433e8a8cea1d51619339"
          }
        },
        "714fdcfcee7042b9b07b7eee3fc857c1": {
          "model_module": "@jupyter-widgets/controls",
          "model_name": "HTMLModel",
          "state": {
            "_view_name": "HTMLView",
            "style": "IPY_MODEL_330b47efed054e98a2c584760d311283",
            "_dom_classes": [],
            "description": "",
            "_model_name": "HTMLModel",
            "placeholder": "​",
            "_view_module": "@jupyter-widgets/controls",
            "_model_module_version": "1.5.0",
            "value": " 16/16 [01:51&lt;00:00,  6.94s/it]",
            "_view_count": null,
            "_view_module_version": "1.5.0",
            "description_tooltip": null,
            "_model_module": "@jupyter-widgets/controls",
            "layout": "IPY_MODEL_6724d01df16640ea8e3a1d0ae3190f24"
          }
        },
        "59e90347aeb747d9889be0850ecf1223": {
          "model_module": "@jupyter-widgets/controls",
          "model_name": "ProgressStyleModel",
          "state": {
            "_view_name": "StyleView",
            "_model_name": "ProgressStyleModel",
            "description_width": "initial",
            "_view_module": "@jupyter-widgets/base",
            "_model_module_version": "1.5.0",
            "_view_count": null,
            "_view_module_version": "1.2.0",
            "bar_color": null,
            "_model_module": "@jupyter-widgets/controls"
          }
        },
        "142e5d04ddbe433e8a8cea1d51619339": {
          "model_module": "@jupyter-widgets/base",
          "model_name": "LayoutModel",
          "state": {
            "_view_name": "LayoutView",
            "grid_template_rows": null,
            "right": null,
            "justify_content": null,
            "_view_module": "@jupyter-widgets/base",
            "overflow": null,
            "_model_module_version": "1.2.0",
            "_view_count": null,
            "flex_flow": null,
            "width": null,
            "min_width": null,
            "border": null,
            "align_items": null,
            "bottom": null,
            "_model_module": "@jupyter-widgets/base",
            "top": null,
            "grid_column": null,
            "overflow_y": null,
            "overflow_x": null,
            "grid_auto_flow": null,
            "grid_area": null,
            "grid_template_columns": null,
            "flex": null,
            "_model_name": "LayoutModel",
            "justify_items": null,
            "grid_row": null,
            "max_height": null,
            "align_content": null,
            "visibility": null,
            "align_self": null,
            "height": null,
            "min_height": null,
            "padding": null,
            "grid_auto_rows": null,
            "grid_gap": null,
            "max_width": null,
            "order": null,
            "_view_module_version": "1.2.0",
            "grid_template_areas": null,
            "object_position": null,
            "object_fit": null,
            "grid_auto_columns": null,
            "margin": null,
            "display": null,
            "left": null
          }
        },
        "330b47efed054e98a2c584760d311283": {
          "model_module": "@jupyter-widgets/controls",
          "model_name": "DescriptionStyleModel",
          "state": {
            "_view_name": "StyleView",
            "_model_name": "DescriptionStyleModel",
            "description_width": "",
            "_view_module": "@jupyter-widgets/base",
            "_model_module_version": "1.5.0",
            "_view_count": null,
            "_view_module_version": "1.2.0",
            "_model_module": "@jupyter-widgets/controls"
          }
        },
        "6724d01df16640ea8e3a1d0ae3190f24": {
          "model_module": "@jupyter-widgets/base",
          "model_name": "LayoutModel",
          "state": {
            "_view_name": "LayoutView",
            "grid_template_rows": null,
            "right": null,
            "justify_content": null,
            "_view_module": "@jupyter-widgets/base",
            "overflow": null,
            "_model_module_version": "1.2.0",
            "_view_count": null,
            "flex_flow": null,
            "width": null,
            "min_width": null,
            "border": null,
            "align_items": null,
            "bottom": null,
            "_model_module": "@jupyter-widgets/base",
            "top": null,
            "grid_column": null,
            "overflow_y": null,
            "overflow_x": null,
            "grid_auto_flow": null,
            "grid_area": null,
            "grid_template_columns": null,
            "flex": null,
            "_model_name": "LayoutModel",
            "justify_items": null,
            "grid_row": null,
            "max_height": null,
            "align_content": null,
            "visibility": null,
            "align_self": null,
            "height": null,
            "min_height": null,
            "padding": null,
            "grid_auto_rows": null,
            "grid_gap": null,
            "max_width": null,
            "order": null,
            "_view_module_version": "1.2.0",
            "grid_template_areas": null,
            "object_position": null,
            "object_fit": null,
            "grid_auto_columns": null,
            "margin": null,
            "display": null,
            "left": null
          }
        },
        "e5e4facf4bb44e7f9dacf70ec526a99c": {
          "model_module": "@jupyter-widgets/controls",
          "model_name": "HBoxModel",
          "state": {
            "_view_name": "HBoxView",
            "_dom_classes": [],
            "_model_name": "HBoxModel",
            "_view_module": "@jupyter-widgets/controls",
            "_model_module_version": "1.5.0",
            "_view_count": null,
            "_view_module_version": "1.5.0",
            "box_style": "",
            "layout": "IPY_MODEL_0defe6bfff1547bb8cc187495291242a",
            "_model_module": "@jupyter-widgets/controls",
            "children": [
              "IPY_MODEL_1fabe40999404a319aa969a84ca13a42",
              "IPY_MODEL_440c6dba4bd14774b04b5b44e53655f4"
            ]
          }
        },
        "0defe6bfff1547bb8cc187495291242a": {
          "model_module": "@jupyter-widgets/base",
          "model_name": "LayoutModel",
          "state": {
            "_view_name": "LayoutView",
            "grid_template_rows": null,
            "right": null,
            "justify_content": null,
            "_view_module": "@jupyter-widgets/base",
            "overflow": null,
            "_model_module_version": "1.2.0",
            "_view_count": null,
            "flex_flow": null,
            "width": null,
            "min_width": null,
            "border": null,
            "align_items": null,
            "bottom": null,
            "_model_module": "@jupyter-widgets/base",
            "top": null,
            "grid_column": null,
            "overflow_y": null,
            "overflow_x": null,
            "grid_auto_flow": null,
            "grid_area": null,
            "grid_template_columns": null,
            "flex": null,
            "_model_name": "LayoutModel",
            "justify_items": null,
            "grid_row": null,
            "max_height": null,
            "align_content": null,
            "visibility": null,
            "align_self": null,
            "height": null,
            "min_height": null,
            "padding": null,
            "grid_auto_rows": null,
            "grid_gap": null,
            "max_width": null,
            "order": null,
            "_view_module_version": "1.2.0",
            "grid_template_areas": null,
            "object_position": null,
            "object_fit": null,
            "grid_auto_columns": null,
            "margin": null,
            "display": null,
            "left": null
          }
        },
        "1fabe40999404a319aa969a84ca13a42": {
          "model_module": "@jupyter-widgets/controls",
          "model_name": "FloatProgressModel",
          "state": {
            "_view_name": "ProgressView",
            "style": "IPY_MODEL_c3e50353e0744f5c9b0f43780d15dabe",
            "_dom_classes": [],
            "description": "",
            "_model_name": "FloatProgressModel",
            "bar_style": "success",
            "max": 1,
            "_view_module": "@jupyter-widgets/controls",
            "_model_module_version": "1.5.0",
            "value": 1,
            "_view_count": null,
            "_view_module_version": "1.5.0",
            "orientation": "horizontal",
            "min": 0,
            "description_tooltip": null,
            "_model_module": "@jupyter-widgets/controls",
            "layout": "IPY_MODEL_412bbc9cf4e14f888cec4779b18f805e"
          }
        },
        "440c6dba4bd14774b04b5b44e53655f4": {
          "model_module": "@jupyter-widgets/controls",
          "model_name": "HTMLModel",
          "state": {
            "_view_name": "HTMLView",
            "style": "IPY_MODEL_38396e9fadbe406a92ce6d42d669f6d8",
            "_dom_classes": [],
            "description": "",
            "_model_name": "HTMLModel",
            "placeholder": "​",
            "_view_module": "@jupyter-widgets/controls",
            "_model_module_version": "1.5.0",
            "value": " 61/? [00:27&lt;00:00,  2.24it/s]",
            "_view_count": null,
            "_view_module_version": "1.5.0",
            "description_tooltip": null,
            "_model_module": "@jupyter-widgets/controls",
            "layout": "IPY_MODEL_7797e5d2e11649598f40f70242287e25"
          }
        },
        "c3e50353e0744f5c9b0f43780d15dabe": {
          "model_module": "@jupyter-widgets/controls",
          "model_name": "ProgressStyleModel",
          "state": {
            "_view_name": "StyleView",
            "_model_name": "ProgressStyleModel",
            "description_width": "initial",
            "_view_module": "@jupyter-widgets/base",
            "_model_module_version": "1.5.0",
            "_view_count": null,
            "_view_module_version": "1.2.0",
            "bar_color": null,
            "_model_module": "@jupyter-widgets/controls"
          }
        },
        "412bbc9cf4e14f888cec4779b18f805e": {
          "model_module": "@jupyter-widgets/base",
          "model_name": "LayoutModel",
          "state": {
            "_view_name": "LayoutView",
            "grid_template_rows": null,
            "right": null,
            "justify_content": null,
            "_view_module": "@jupyter-widgets/base",
            "overflow": null,
            "_model_module_version": "1.2.0",
            "_view_count": null,
            "flex_flow": null,
            "width": null,
            "min_width": null,
            "border": null,
            "align_items": null,
            "bottom": null,
            "_model_module": "@jupyter-widgets/base",
            "top": null,
            "grid_column": null,
            "overflow_y": null,
            "overflow_x": null,
            "grid_auto_flow": null,
            "grid_area": null,
            "grid_template_columns": null,
            "flex": null,
            "_model_name": "LayoutModel",
            "justify_items": null,
            "grid_row": null,
            "max_height": null,
            "align_content": null,
            "visibility": null,
            "align_self": null,
            "height": null,
            "min_height": null,
            "padding": null,
            "grid_auto_rows": null,
            "grid_gap": null,
            "max_width": null,
            "order": null,
            "_view_module_version": "1.2.0",
            "grid_template_areas": null,
            "object_position": null,
            "object_fit": null,
            "grid_auto_columns": null,
            "margin": null,
            "display": null,
            "left": null
          }
        },
        "38396e9fadbe406a92ce6d42d669f6d8": {
          "model_module": "@jupyter-widgets/controls",
          "model_name": "DescriptionStyleModel",
          "state": {
            "_view_name": "StyleView",
            "_model_name": "DescriptionStyleModel",
            "description_width": "",
            "_view_module": "@jupyter-widgets/base",
            "_model_module_version": "1.5.0",
            "_view_count": null,
            "_view_module_version": "1.2.0",
            "_model_module": "@jupyter-widgets/controls"
          }
        },
        "7797e5d2e11649598f40f70242287e25": {
          "model_module": "@jupyter-widgets/base",
          "model_name": "LayoutModel",
          "state": {
            "_view_name": "LayoutView",
            "grid_template_rows": null,
            "right": null,
            "justify_content": null,
            "_view_module": "@jupyter-widgets/base",
            "overflow": null,
            "_model_module_version": "1.2.0",
            "_view_count": null,
            "flex_flow": null,
            "width": null,
            "min_width": null,
            "border": null,
            "align_items": null,
            "bottom": null,
            "_model_module": "@jupyter-widgets/base",
            "top": null,
            "grid_column": null,
            "overflow_y": null,
            "overflow_x": null,
            "grid_auto_flow": null,
            "grid_area": null,
            "grid_template_columns": null,
            "flex": null,
            "_model_name": "LayoutModel",
            "justify_items": null,
            "grid_row": null,
            "max_height": null,
            "align_content": null,
            "visibility": null,
            "align_self": null,
            "height": null,
            "min_height": null,
            "padding": null,
            "grid_auto_rows": null,
            "grid_gap": null,
            "max_width": null,
            "order": null,
            "_view_module_version": "1.2.0",
            "grid_template_areas": null,
            "object_position": null,
            "object_fit": null,
            "grid_auto_columns": null,
            "margin": null,
            "display": null,
            "left": null
          }
        },
        "90238f94105e49769ffdf53812e59769": {
          "model_module": "@jupyter-widgets/controls",
          "model_name": "HBoxModel",
          "state": {
            "_view_name": "HBoxView",
            "_dom_classes": [],
            "_model_name": "HBoxModel",
            "_view_module": "@jupyter-widgets/controls",
            "_model_module_version": "1.5.0",
            "_view_count": null,
            "_view_module_version": "1.5.0",
            "box_style": "",
            "layout": "IPY_MODEL_14bf3468e5f644ed9e8568967246c23b",
            "_model_module": "@jupyter-widgets/controls",
            "children": [
              "IPY_MODEL_c04e8457fdd145f4bd039ecba87050e6",
              "IPY_MODEL_e26eeb23a5ee4df7a9d12f1c81792a67"
            ]
          }
        },
        "14bf3468e5f644ed9e8568967246c23b": {
          "model_module": "@jupyter-widgets/base",
          "model_name": "LayoutModel",
          "state": {
            "_view_name": "LayoutView",
            "grid_template_rows": null,
            "right": null,
            "justify_content": null,
            "_view_module": "@jupyter-widgets/base",
            "overflow": null,
            "_model_module_version": "1.2.0",
            "_view_count": null,
            "flex_flow": null,
            "width": null,
            "min_width": null,
            "border": null,
            "align_items": null,
            "bottom": null,
            "_model_module": "@jupyter-widgets/base",
            "top": null,
            "grid_column": null,
            "overflow_y": null,
            "overflow_x": null,
            "grid_auto_flow": null,
            "grid_area": null,
            "grid_template_columns": null,
            "flex": null,
            "_model_name": "LayoutModel",
            "justify_items": null,
            "grid_row": null,
            "max_height": null,
            "align_content": null,
            "visibility": null,
            "align_self": null,
            "height": null,
            "min_height": null,
            "padding": null,
            "grid_auto_rows": null,
            "grid_gap": null,
            "max_width": null,
            "order": null,
            "_view_module_version": "1.2.0",
            "grid_template_areas": null,
            "object_position": null,
            "object_fit": null,
            "grid_auto_columns": null,
            "margin": null,
            "display": null,
            "left": null
          }
        },
        "c04e8457fdd145f4bd039ecba87050e6": {
          "model_module": "@jupyter-widgets/controls",
          "model_name": "FloatProgressModel",
          "state": {
            "_view_name": "ProgressView",
            "style": "IPY_MODEL_8a34769af5ad4f1ca049625717a48838",
            "_dom_classes": [],
            "description": "100%",
            "_model_name": "FloatProgressModel",
            "bar_style": "success",
            "max": 16,
            "_view_module": "@jupyter-widgets/controls",
            "_model_module_version": "1.5.0",
            "value": 16,
            "_view_count": null,
            "_view_module_version": "1.5.0",
            "orientation": "horizontal",
            "min": 0,
            "description_tooltip": null,
            "_model_module": "@jupyter-widgets/controls",
            "layout": "IPY_MODEL_89bd561e33664d2ab0e8e11d572ba85e"
          }
        },
        "e26eeb23a5ee4df7a9d12f1c81792a67": {
          "model_module": "@jupyter-widgets/controls",
          "model_name": "HTMLModel",
          "state": {
            "_view_name": "HTMLView",
            "style": "IPY_MODEL_938042e0c1e4458a92c4288470f3d977",
            "_dom_classes": [],
            "description": "",
            "_model_name": "HTMLModel",
            "placeholder": "​",
            "_view_module": "@jupyter-widgets/controls",
            "_model_module_version": "1.5.0",
            "value": " 16/16 [00:01&lt;00:00,  8.16it/s]",
            "_view_count": null,
            "_view_module_version": "1.5.0",
            "description_tooltip": null,
            "_model_module": "@jupyter-widgets/controls",
            "layout": "IPY_MODEL_4bf883d24e68423883941ae3a5334235"
          }
        },
        "8a34769af5ad4f1ca049625717a48838": {
          "model_module": "@jupyter-widgets/controls",
          "model_name": "ProgressStyleModel",
          "state": {
            "_view_name": "StyleView",
            "_model_name": "ProgressStyleModel",
            "description_width": "initial",
            "_view_module": "@jupyter-widgets/base",
            "_model_module_version": "1.5.0",
            "_view_count": null,
            "_view_module_version": "1.2.0",
            "bar_color": null,
            "_model_module": "@jupyter-widgets/controls"
          }
        },
        "89bd561e33664d2ab0e8e11d572ba85e": {
          "model_module": "@jupyter-widgets/base",
          "model_name": "LayoutModel",
          "state": {
            "_view_name": "LayoutView",
            "grid_template_rows": null,
            "right": null,
            "justify_content": null,
            "_view_module": "@jupyter-widgets/base",
            "overflow": null,
            "_model_module_version": "1.2.0",
            "_view_count": null,
            "flex_flow": null,
            "width": null,
            "min_width": null,
            "border": null,
            "align_items": null,
            "bottom": null,
            "_model_module": "@jupyter-widgets/base",
            "top": null,
            "grid_column": null,
            "overflow_y": null,
            "overflow_x": null,
            "grid_auto_flow": null,
            "grid_area": null,
            "grid_template_columns": null,
            "flex": null,
            "_model_name": "LayoutModel",
            "justify_items": null,
            "grid_row": null,
            "max_height": null,
            "align_content": null,
            "visibility": null,
            "align_self": null,
            "height": null,
            "min_height": null,
            "padding": null,
            "grid_auto_rows": null,
            "grid_gap": null,
            "max_width": null,
            "order": null,
            "_view_module_version": "1.2.0",
            "grid_template_areas": null,
            "object_position": null,
            "object_fit": null,
            "grid_auto_columns": null,
            "margin": null,
            "display": null,
            "left": null
          }
        },
        "938042e0c1e4458a92c4288470f3d977": {
          "model_module": "@jupyter-widgets/controls",
          "model_name": "DescriptionStyleModel",
          "state": {
            "_view_name": "StyleView",
            "_model_name": "DescriptionStyleModel",
            "description_width": "",
            "_view_module": "@jupyter-widgets/base",
            "_model_module_version": "1.5.0",
            "_view_count": null,
            "_view_module_version": "1.2.0",
            "_model_module": "@jupyter-widgets/controls"
          }
        },
        "4bf883d24e68423883941ae3a5334235": {
          "model_module": "@jupyter-widgets/base",
          "model_name": "LayoutModel",
          "state": {
            "_view_name": "LayoutView",
            "grid_template_rows": null,
            "right": null,
            "justify_content": null,
            "_view_module": "@jupyter-widgets/base",
            "overflow": null,
            "_model_module_version": "1.2.0",
            "_view_count": null,
            "flex_flow": null,
            "width": null,
            "min_width": null,
            "border": null,
            "align_items": null,
            "bottom": null,
            "_model_module": "@jupyter-widgets/base",
            "top": null,
            "grid_column": null,
            "overflow_y": null,
            "overflow_x": null,
            "grid_auto_flow": null,
            "grid_area": null,
            "grid_template_columns": null,
            "flex": null,
            "_model_name": "LayoutModel",
            "justify_items": null,
            "grid_row": null,
            "max_height": null,
            "align_content": null,
            "visibility": null,
            "align_self": null,
            "height": null,
            "min_height": null,
            "padding": null,
            "grid_auto_rows": null,
            "grid_gap": null,
            "max_width": null,
            "order": null,
            "_view_module_version": "1.2.0",
            "grid_template_areas": null,
            "object_position": null,
            "object_fit": null,
            "grid_auto_columns": null,
            "margin": null,
            "display": null,
            "left": null
          }
        },
        "f05330dba44e481f9b41113e6961f233": {
          "model_module": "@jupyter-widgets/controls",
          "model_name": "HBoxModel",
          "state": {
            "_view_name": "HBoxView",
            "_dom_classes": [],
            "_model_name": "HBoxModel",
            "_view_module": "@jupyter-widgets/controls",
            "_model_module_version": "1.5.0",
            "_view_count": null,
            "_view_module_version": "1.5.0",
            "box_style": "",
            "layout": "IPY_MODEL_5fbfe4b0bbfa4768b351facd2acfd352",
            "_model_module": "@jupyter-widgets/controls",
            "children": [
              "IPY_MODEL_a5d8875ca2a7462e8f88cc5eb379f2e2",
              "IPY_MODEL_ac4ed371985940779fb96d7bc9c2f5b1"
            ]
          }
        },
        "5fbfe4b0bbfa4768b351facd2acfd352": {
          "model_module": "@jupyter-widgets/base",
          "model_name": "LayoutModel",
          "state": {
            "_view_name": "LayoutView",
            "grid_template_rows": null,
            "right": null,
            "justify_content": null,
            "_view_module": "@jupyter-widgets/base",
            "overflow": null,
            "_model_module_version": "1.2.0",
            "_view_count": null,
            "flex_flow": null,
            "width": null,
            "min_width": null,
            "border": null,
            "align_items": null,
            "bottom": null,
            "_model_module": "@jupyter-widgets/base",
            "top": null,
            "grid_column": null,
            "overflow_y": null,
            "overflow_x": null,
            "grid_auto_flow": null,
            "grid_area": null,
            "grid_template_columns": null,
            "flex": null,
            "_model_name": "LayoutModel",
            "justify_items": null,
            "grid_row": null,
            "max_height": null,
            "align_content": null,
            "visibility": null,
            "align_self": null,
            "height": null,
            "min_height": null,
            "padding": null,
            "grid_auto_rows": null,
            "grid_gap": null,
            "max_width": null,
            "order": null,
            "_view_module_version": "1.2.0",
            "grid_template_areas": null,
            "object_position": null,
            "object_fit": null,
            "grid_auto_columns": null,
            "margin": null,
            "display": null,
            "left": null
          }
        },
        "a5d8875ca2a7462e8f88cc5eb379f2e2": {
          "model_module": "@jupyter-widgets/controls",
          "model_name": "FloatProgressModel",
          "state": {
            "_view_name": "ProgressView",
            "style": "IPY_MODEL_4b57a722b796491cac418eb48e1d2f26",
            "_dom_classes": [],
            "description": "",
            "_model_name": "FloatProgressModel",
            "bar_style": "success",
            "max": 1,
            "_view_module": "@jupyter-widgets/controls",
            "_model_module_version": "1.5.0",
            "value": 1,
            "_view_count": null,
            "_view_module_version": "1.5.0",
            "orientation": "horizontal",
            "min": 0,
            "description_tooltip": null,
            "_model_module": "@jupyter-widgets/controls",
            "layout": "IPY_MODEL_326191de19e04ae8a8f2b0518f7a48d1"
          }
        },
        "ac4ed371985940779fb96d7bc9c2f5b1": {
          "model_module": "@jupyter-widgets/controls",
          "model_name": "HTMLModel",
          "state": {
            "_view_name": "HTMLView",
            "style": "IPY_MODEL_fe19001c2d9540239ba05d6befceb0f1",
            "_dom_classes": [],
            "description": "",
            "_model_name": "HTMLModel",
            "placeholder": "​",
            "_view_module": "@jupyter-widgets/controls",
            "_model_module_version": "1.5.0",
            "value": " 61/? [01:21&lt;00:00,  1.34s/it]",
            "_view_count": null,
            "_view_module_version": "1.5.0",
            "description_tooltip": null,
            "_model_module": "@jupyter-widgets/controls",
            "layout": "IPY_MODEL_cb8a2302fe9c479c98297b65a99d90f8"
          }
        },
        "4b57a722b796491cac418eb48e1d2f26": {
          "model_module": "@jupyter-widgets/controls",
          "model_name": "ProgressStyleModel",
          "state": {
            "_view_name": "StyleView",
            "_model_name": "ProgressStyleModel",
            "description_width": "initial",
            "_view_module": "@jupyter-widgets/base",
            "_model_module_version": "1.5.0",
            "_view_count": null,
            "_view_module_version": "1.2.0",
            "bar_color": null,
            "_model_module": "@jupyter-widgets/controls"
          }
        },
        "326191de19e04ae8a8f2b0518f7a48d1": {
          "model_module": "@jupyter-widgets/base",
          "model_name": "LayoutModel",
          "state": {
            "_view_name": "LayoutView",
            "grid_template_rows": null,
            "right": null,
            "justify_content": null,
            "_view_module": "@jupyter-widgets/base",
            "overflow": null,
            "_model_module_version": "1.2.0",
            "_view_count": null,
            "flex_flow": null,
            "width": null,
            "min_width": null,
            "border": null,
            "align_items": null,
            "bottom": null,
            "_model_module": "@jupyter-widgets/base",
            "top": null,
            "grid_column": null,
            "overflow_y": null,
            "overflow_x": null,
            "grid_auto_flow": null,
            "grid_area": null,
            "grid_template_columns": null,
            "flex": null,
            "_model_name": "LayoutModel",
            "justify_items": null,
            "grid_row": null,
            "max_height": null,
            "align_content": null,
            "visibility": null,
            "align_self": null,
            "height": null,
            "min_height": null,
            "padding": null,
            "grid_auto_rows": null,
            "grid_gap": null,
            "max_width": null,
            "order": null,
            "_view_module_version": "1.2.0",
            "grid_template_areas": null,
            "object_position": null,
            "object_fit": null,
            "grid_auto_columns": null,
            "margin": null,
            "display": null,
            "left": null
          }
        },
        "fe19001c2d9540239ba05d6befceb0f1": {
          "model_module": "@jupyter-widgets/controls",
          "model_name": "DescriptionStyleModel",
          "state": {
            "_view_name": "StyleView",
            "_model_name": "DescriptionStyleModel",
            "description_width": "",
            "_view_module": "@jupyter-widgets/base",
            "_model_module_version": "1.5.0",
            "_view_count": null,
            "_view_module_version": "1.2.0",
            "_model_module": "@jupyter-widgets/controls"
          }
        },
        "cb8a2302fe9c479c98297b65a99d90f8": {
          "model_module": "@jupyter-widgets/base",
          "model_name": "LayoutModel",
          "state": {
            "_view_name": "LayoutView",
            "grid_template_rows": null,
            "right": null,
            "justify_content": null,
            "_view_module": "@jupyter-widgets/base",
            "overflow": null,
            "_model_module_version": "1.2.0",
            "_view_count": null,
            "flex_flow": null,
            "width": null,
            "min_width": null,
            "border": null,
            "align_items": null,
            "bottom": null,
            "_model_module": "@jupyter-widgets/base",
            "top": null,
            "grid_column": null,
            "overflow_y": null,
            "overflow_x": null,
            "grid_auto_flow": null,
            "grid_area": null,
            "grid_template_columns": null,
            "flex": null,
            "_model_name": "LayoutModel",
            "justify_items": null,
            "grid_row": null,
            "max_height": null,
            "align_content": null,
            "visibility": null,
            "align_self": null,
            "height": null,
            "min_height": null,
            "padding": null,
            "grid_auto_rows": null,
            "grid_gap": null,
            "max_width": null,
            "order": null,
            "_view_module_version": "1.2.0",
            "grid_template_areas": null,
            "object_position": null,
            "object_fit": null,
            "grid_auto_columns": null,
            "margin": null,
            "display": null,
            "left": null
          }
        },
        "14816a8d18034d139595cdfa30a51302": {
          "model_module": "@jupyter-widgets/controls",
          "model_name": "HBoxModel",
          "state": {
            "_view_name": "HBoxView",
            "_dom_classes": [],
            "_model_name": "HBoxModel",
            "_view_module": "@jupyter-widgets/controls",
            "_model_module_version": "1.5.0",
            "_view_count": null,
            "_view_module_version": "1.5.0",
            "box_style": "",
            "layout": "IPY_MODEL_9a4f87fc24044fc18cf6aff146317952",
            "_model_module": "@jupyter-widgets/controls",
            "children": [
              "IPY_MODEL_0c428c3436f644868f66114485e9fe48",
              "IPY_MODEL_b546825533d14fae8b3f9281ce6ffec6"
            ]
          }
        },
        "9a4f87fc24044fc18cf6aff146317952": {
          "model_module": "@jupyter-widgets/base",
          "model_name": "LayoutModel",
          "state": {
            "_view_name": "LayoutView",
            "grid_template_rows": null,
            "right": null,
            "justify_content": null,
            "_view_module": "@jupyter-widgets/base",
            "overflow": null,
            "_model_module_version": "1.2.0",
            "_view_count": null,
            "flex_flow": null,
            "width": null,
            "min_width": null,
            "border": null,
            "align_items": null,
            "bottom": null,
            "_model_module": "@jupyter-widgets/base",
            "top": null,
            "grid_column": null,
            "overflow_y": null,
            "overflow_x": null,
            "grid_auto_flow": null,
            "grid_area": null,
            "grid_template_columns": null,
            "flex": null,
            "_model_name": "LayoutModel",
            "justify_items": null,
            "grid_row": null,
            "max_height": null,
            "align_content": null,
            "visibility": null,
            "align_self": null,
            "height": null,
            "min_height": null,
            "padding": null,
            "grid_auto_rows": null,
            "grid_gap": null,
            "max_width": null,
            "order": null,
            "_view_module_version": "1.2.0",
            "grid_template_areas": null,
            "object_position": null,
            "object_fit": null,
            "grid_auto_columns": null,
            "margin": null,
            "display": null,
            "left": null
          }
        },
        "0c428c3436f644868f66114485e9fe48": {
          "model_module": "@jupyter-widgets/controls",
          "model_name": "FloatProgressModel",
          "state": {
            "_view_name": "ProgressView",
            "style": "IPY_MODEL_9eaeeba69b3c4bda9d3da7d7c31ddbca",
            "_dom_classes": [],
            "description": "100%",
            "_model_name": "FloatProgressModel",
            "bar_style": "success",
            "max": 16,
            "_view_module": "@jupyter-widgets/controls",
            "_model_module_version": "1.5.0",
            "value": 16,
            "_view_count": null,
            "_view_module_version": "1.5.0",
            "orientation": "horizontal",
            "min": 0,
            "description_tooltip": null,
            "_model_module": "@jupyter-widgets/controls",
            "layout": "IPY_MODEL_e1678238b4084785bf0b43fbe269e24c"
          }
        },
        "b546825533d14fae8b3f9281ce6ffec6": {
          "model_module": "@jupyter-widgets/controls",
          "model_name": "HTMLModel",
          "state": {
            "_view_name": "HTMLView",
            "style": "IPY_MODEL_f98f1220ad0b4f34922f939be328b892",
            "_dom_classes": [],
            "description": "",
            "_model_name": "HTMLModel",
            "placeholder": "​",
            "_view_module": "@jupyter-widgets/controls",
            "_model_module_version": "1.5.0",
            "value": " 16/16 [00:11&lt;00:00,  1.34it/s]",
            "_view_count": null,
            "_view_module_version": "1.5.0",
            "description_tooltip": null,
            "_model_module": "@jupyter-widgets/controls",
            "layout": "IPY_MODEL_09016a969ee646f5a094db0e8ef12af1"
          }
        },
        "9eaeeba69b3c4bda9d3da7d7c31ddbca": {
          "model_module": "@jupyter-widgets/controls",
          "model_name": "ProgressStyleModel",
          "state": {
            "_view_name": "StyleView",
            "_model_name": "ProgressStyleModel",
            "description_width": "initial",
            "_view_module": "@jupyter-widgets/base",
            "_model_module_version": "1.5.0",
            "_view_count": null,
            "_view_module_version": "1.2.0",
            "bar_color": null,
            "_model_module": "@jupyter-widgets/controls"
          }
        },
        "e1678238b4084785bf0b43fbe269e24c": {
          "model_module": "@jupyter-widgets/base",
          "model_name": "LayoutModel",
          "state": {
            "_view_name": "LayoutView",
            "grid_template_rows": null,
            "right": null,
            "justify_content": null,
            "_view_module": "@jupyter-widgets/base",
            "overflow": null,
            "_model_module_version": "1.2.0",
            "_view_count": null,
            "flex_flow": null,
            "width": null,
            "min_width": null,
            "border": null,
            "align_items": null,
            "bottom": null,
            "_model_module": "@jupyter-widgets/base",
            "top": null,
            "grid_column": null,
            "overflow_y": null,
            "overflow_x": null,
            "grid_auto_flow": null,
            "grid_area": null,
            "grid_template_columns": null,
            "flex": null,
            "_model_name": "LayoutModel",
            "justify_items": null,
            "grid_row": null,
            "max_height": null,
            "align_content": null,
            "visibility": null,
            "align_self": null,
            "height": null,
            "min_height": null,
            "padding": null,
            "grid_auto_rows": null,
            "grid_gap": null,
            "max_width": null,
            "order": null,
            "_view_module_version": "1.2.0",
            "grid_template_areas": null,
            "object_position": null,
            "object_fit": null,
            "grid_auto_columns": null,
            "margin": null,
            "display": null,
            "left": null
          }
        },
        "f98f1220ad0b4f34922f939be328b892": {
          "model_module": "@jupyter-widgets/controls",
          "model_name": "DescriptionStyleModel",
          "state": {
            "_view_name": "StyleView",
            "_model_name": "DescriptionStyleModel",
            "description_width": "",
            "_view_module": "@jupyter-widgets/base",
            "_model_module_version": "1.5.0",
            "_view_count": null,
            "_view_module_version": "1.2.0",
            "_model_module": "@jupyter-widgets/controls"
          }
        },
        "09016a969ee646f5a094db0e8ef12af1": {
          "model_module": "@jupyter-widgets/base",
          "model_name": "LayoutModel",
          "state": {
            "_view_name": "LayoutView",
            "grid_template_rows": null,
            "right": null,
            "justify_content": null,
            "_view_module": "@jupyter-widgets/base",
            "overflow": null,
            "_model_module_version": "1.2.0",
            "_view_count": null,
            "flex_flow": null,
            "width": null,
            "min_width": null,
            "border": null,
            "align_items": null,
            "bottom": null,
            "_model_module": "@jupyter-widgets/base",
            "top": null,
            "grid_column": null,
            "overflow_y": null,
            "overflow_x": null,
            "grid_auto_flow": null,
            "grid_area": null,
            "grid_template_columns": null,
            "flex": null,
            "_model_name": "LayoutModel",
            "justify_items": null,
            "grid_row": null,
            "max_height": null,
            "align_content": null,
            "visibility": null,
            "align_self": null,
            "height": null,
            "min_height": null,
            "padding": null,
            "grid_auto_rows": null,
            "grid_gap": null,
            "max_width": null,
            "order": null,
            "_view_module_version": "1.2.0",
            "grid_template_areas": null,
            "object_position": null,
            "object_fit": null,
            "grid_auto_columns": null,
            "margin": null,
            "display": null,
            "left": null
          }
        },
        "d5aebd3a1aed4f40886124c067a451b5": {
          "model_module": "@jupyter-widgets/controls",
          "model_name": "HBoxModel",
          "state": {
            "_view_name": "HBoxView",
            "_dom_classes": [],
            "_model_name": "HBoxModel",
            "_view_module": "@jupyter-widgets/controls",
            "_model_module_version": "1.5.0",
            "_view_count": null,
            "_view_module_version": "1.5.0",
            "box_style": "",
            "layout": "IPY_MODEL_7502b1d8a06a4dfabb790b204e5007ef",
            "_model_module": "@jupyter-widgets/controls",
            "children": [
              "IPY_MODEL_bdbc7edce19c4307a77197e58de14b1a",
              "IPY_MODEL_8600c31c981f4f5eadbbc5eb3e432396"
            ]
          }
        },
        "7502b1d8a06a4dfabb790b204e5007ef": {
          "model_module": "@jupyter-widgets/base",
          "model_name": "LayoutModel",
          "state": {
            "_view_name": "LayoutView",
            "grid_template_rows": null,
            "right": null,
            "justify_content": null,
            "_view_module": "@jupyter-widgets/base",
            "overflow": null,
            "_model_module_version": "1.2.0",
            "_view_count": null,
            "flex_flow": null,
            "width": null,
            "min_width": null,
            "border": null,
            "align_items": null,
            "bottom": null,
            "_model_module": "@jupyter-widgets/base",
            "top": null,
            "grid_column": null,
            "overflow_y": null,
            "overflow_x": null,
            "grid_auto_flow": null,
            "grid_area": null,
            "grid_template_columns": null,
            "flex": null,
            "_model_name": "LayoutModel",
            "justify_items": null,
            "grid_row": null,
            "max_height": null,
            "align_content": null,
            "visibility": null,
            "align_self": null,
            "height": null,
            "min_height": null,
            "padding": null,
            "grid_auto_rows": null,
            "grid_gap": null,
            "max_width": null,
            "order": null,
            "_view_module_version": "1.2.0",
            "grid_template_areas": null,
            "object_position": null,
            "object_fit": null,
            "grid_auto_columns": null,
            "margin": null,
            "display": null,
            "left": null
          }
        },
        "bdbc7edce19c4307a77197e58de14b1a": {
          "model_module": "@jupyter-widgets/controls",
          "model_name": "FloatProgressModel",
          "state": {
            "_view_name": "ProgressView",
            "style": "IPY_MODEL_3a2bf133b1ac422aa892ddad46c911f3",
            "_dom_classes": [],
            "description": "",
            "_model_name": "FloatProgressModel",
            "bar_style": "success",
            "max": 1,
            "_view_module": "@jupyter-widgets/controls",
            "_model_module_version": "1.5.0",
            "value": 1,
            "_view_count": null,
            "_view_module_version": "1.5.0",
            "orientation": "horizontal",
            "min": 0,
            "description_tooltip": null,
            "_model_module": "@jupyter-widgets/controls",
            "layout": "IPY_MODEL_ad80793412a1411594645ad60abb97f0"
          }
        },
        "8600c31c981f4f5eadbbc5eb3e432396": {
          "model_module": "@jupyter-widgets/controls",
          "model_name": "HTMLModel",
          "state": {
            "_view_name": "HTMLView",
            "style": "IPY_MODEL_3feca24c3dcb433eb01a455472e8957f",
            "_dom_classes": [],
            "description": "",
            "_model_name": "HTMLModel",
            "placeholder": "​",
            "_view_module": "@jupyter-widgets/controls",
            "_model_module_version": "1.5.0",
            "value": " 61/? [00:54&lt;00:00,  1.12it/s]",
            "_view_count": null,
            "_view_module_version": "1.5.0",
            "description_tooltip": null,
            "_model_module": "@jupyter-widgets/controls",
            "layout": "IPY_MODEL_2157c8a2519c40e9b6054339ffdace8b"
          }
        },
        "3a2bf133b1ac422aa892ddad46c911f3": {
          "model_module": "@jupyter-widgets/controls",
          "model_name": "ProgressStyleModel",
          "state": {
            "_view_name": "StyleView",
            "_model_name": "ProgressStyleModel",
            "description_width": "initial",
            "_view_module": "@jupyter-widgets/base",
            "_model_module_version": "1.5.0",
            "_view_count": null,
            "_view_module_version": "1.2.0",
            "bar_color": null,
            "_model_module": "@jupyter-widgets/controls"
          }
        },
        "ad80793412a1411594645ad60abb97f0": {
          "model_module": "@jupyter-widgets/base",
          "model_name": "LayoutModel",
          "state": {
            "_view_name": "LayoutView",
            "grid_template_rows": null,
            "right": null,
            "justify_content": null,
            "_view_module": "@jupyter-widgets/base",
            "overflow": null,
            "_model_module_version": "1.2.0",
            "_view_count": null,
            "flex_flow": null,
            "width": null,
            "min_width": null,
            "border": null,
            "align_items": null,
            "bottom": null,
            "_model_module": "@jupyter-widgets/base",
            "top": null,
            "grid_column": null,
            "overflow_y": null,
            "overflow_x": null,
            "grid_auto_flow": null,
            "grid_area": null,
            "grid_template_columns": null,
            "flex": null,
            "_model_name": "LayoutModel",
            "justify_items": null,
            "grid_row": null,
            "max_height": null,
            "align_content": null,
            "visibility": null,
            "align_self": null,
            "height": null,
            "min_height": null,
            "padding": null,
            "grid_auto_rows": null,
            "grid_gap": null,
            "max_width": null,
            "order": null,
            "_view_module_version": "1.2.0",
            "grid_template_areas": null,
            "object_position": null,
            "object_fit": null,
            "grid_auto_columns": null,
            "margin": null,
            "display": null,
            "left": null
          }
        },
        "3feca24c3dcb433eb01a455472e8957f": {
          "model_module": "@jupyter-widgets/controls",
          "model_name": "DescriptionStyleModel",
          "state": {
            "_view_name": "StyleView",
            "_model_name": "DescriptionStyleModel",
            "description_width": "",
            "_view_module": "@jupyter-widgets/base",
            "_model_module_version": "1.5.0",
            "_view_count": null,
            "_view_module_version": "1.2.0",
            "_model_module": "@jupyter-widgets/controls"
          }
        },
        "2157c8a2519c40e9b6054339ffdace8b": {
          "model_module": "@jupyter-widgets/base",
          "model_name": "LayoutModel",
          "state": {
            "_view_name": "LayoutView",
            "grid_template_rows": null,
            "right": null,
            "justify_content": null,
            "_view_module": "@jupyter-widgets/base",
            "overflow": null,
            "_model_module_version": "1.2.0",
            "_view_count": null,
            "flex_flow": null,
            "width": null,
            "min_width": null,
            "border": null,
            "align_items": null,
            "bottom": null,
            "_model_module": "@jupyter-widgets/base",
            "top": null,
            "grid_column": null,
            "overflow_y": null,
            "overflow_x": null,
            "grid_auto_flow": null,
            "grid_area": null,
            "grid_template_columns": null,
            "flex": null,
            "_model_name": "LayoutModel",
            "justify_items": null,
            "grid_row": null,
            "max_height": null,
            "align_content": null,
            "visibility": null,
            "align_self": null,
            "height": null,
            "min_height": null,
            "padding": null,
            "grid_auto_rows": null,
            "grid_gap": null,
            "max_width": null,
            "order": null,
            "_view_module_version": "1.2.0",
            "grid_template_areas": null,
            "object_position": null,
            "object_fit": null,
            "grid_auto_columns": null,
            "margin": null,
            "display": null,
            "left": null
          }
        },
        "458ad529af5e4340a93349b3d06ef688": {
          "model_module": "@jupyter-widgets/controls",
          "model_name": "HBoxModel",
          "state": {
            "_view_name": "HBoxView",
            "_dom_classes": [],
            "_model_name": "HBoxModel",
            "_view_module": "@jupyter-widgets/controls",
            "_model_module_version": "1.5.0",
            "_view_count": null,
            "_view_module_version": "1.5.0",
            "box_style": "",
            "layout": "IPY_MODEL_3d4e4acfe6c148a8a57624d346b73aaf",
            "_model_module": "@jupyter-widgets/controls",
            "children": [
              "IPY_MODEL_5414573222314c58a3a50ecea1fc8cef",
              "IPY_MODEL_f0b5e8ab0c5a422db3724cf2b98659ff"
            ]
          }
        },
        "3d4e4acfe6c148a8a57624d346b73aaf": {
          "model_module": "@jupyter-widgets/base",
          "model_name": "LayoutModel",
          "state": {
            "_view_name": "LayoutView",
            "grid_template_rows": null,
            "right": null,
            "justify_content": null,
            "_view_module": "@jupyter-widgets/base",
            "overflow": null,
            "_model_module_version": "1.2.0",
            "_view_count": null,
            "flex_flow": null,
            "width": null,
            "min_width": null,
            "border": null,
            "align_items": null,
            "bottom": null,
            "_model_module": "@jupyter-widgets/base",
            "top": null,
            "grid_column": null,
            "overflow_y": null,
            "overflow_x": null,
            "grid_auto_flow": null,
            "grid_area": null,
            "grid_template_columns": null,
            "flex": null,
            "_model_name": "LayoutModel",
            "justify_items": null,
            "grid_row": null,
            "max_height": null,
            "align_content": null,
            "visibility": null,
            "align_self": null,
            "height": null,
            "min_height": null,
            "padding": null,
            "grid_auto_rows": null,
            "grid_gap": null,
            "max_width": null,
            "order": null,
            "_view_module_version": "1.2.0",
            "grid_template_areas": null,
            "object_position": null,
            "object_fit": null,
            "grid_auto_columns": null,
            "margin": null,
            "display": null,
            "left": null
          }
        },
        "5414573222314c58a3a50ecea1fc8cef": {
          "model_module": "@jupyter-widgets/controls",
          "model_name": "FloatProgressModel",
          "state": {
            "_view_name": "ProgressView",
            "style": "IPY_MODEL_212d94d042a04331b1fbc835aa829828",
            "_dom_classes": [],
            "description": "100%",
            "_model_name": "FloatProgressModel",
            "bar_style": "success",
            "max": 16,
            "_view_module": "@jupyter-widgets/controls",
            "_model_module_version": "1.5.0",
            "value": 16,
            "_view_count": null,
            "_view_module_version": "1.5.0",
            "orientation": "horizontal",
            "min": 0,
            "description_tooltip": null,
            "_model_module": "@jupyter-widgets/controls",
            "layout": "IPY_MODEL_47b8221eba064b5e8e3fd95f748e4210"
          }
        },
        "f0b5e8ab0c5a422db3724cf2b98659ff": {
          "model_module": "@jupyter-widgets/controls",
          "model_name": "HTMLModel",
          "state": {
            "_view_name": "HTMLView",
            "style": "IPY_MODEL_5ee5b6414da3465d97ffceb0bee307de",
            "_dom_classes": [],
            "description": "",
            "_model_name": "HTMLModel",
            "placeholder": "​",
            "_view_module": "@jupyter-widgets/controls",
            "_model_module_version": "1.5.0",
            "value": " 16/16 [00:27&lt;00:00,  1.70s/it]",
            "_view_count": null,
            "_view_module_version": "1.5.0",
            "description_tooltip": null,
            "_model_module": "@jupyter-widgets/controls",
            "layout": "IPY_MODEL_94236cddecc24e05bf1889f0d131664b"
          }
        },
        "212d94d042a04331b1fbc835aa829828": {
          "model_module": "@jupyter-widgets/controls",
          "model_name": "ProgressStyleModel",
          "state": {
            "_view_name": "StyleView",
            "_model_name": "ProgressStyleModel",
            "description_width": "initial",
            "_view_module": "@jupyter-widgets/base",
            "_model_module_version": "1.5.0",
            "_view_count": null,
            "_view_module_version": "1.2.0",
            "bar_color": null,
            "_model_module": "@jupyter-widgets/controls"
          }
        },
        "47b8221eba064b5e8e3fd95f748e4210": {
          "model_module": "@jupyter-widgets/base",
          "model_name": "LayoutModel",
          "state": {
            "_view_name": "LayoutView",
            "grid_template_rows": null,
            "right": null,
            "justify_content": null,
            "_view_module": "@jupyter-widgets/base",
            "overflow": null,
            "_model_module_version": "1.2.0",
            "_view_count": null,
            "flex_flow": null,
            "width": null,
            "min_width": null,
            "border": null,
            "align_items": null,
            "bottom": null,
            "_model_module": "@jupyter-widgets/base",
            "top": null,
            "grid_column": null,
            "overflow_y": null,
            "overflow_x": null,
            "grid_auto_flow": null,
            "grid_area": null,
            "grid_template_columns": null,
            "flex": null,
            "_model_name": "LayoutModel",
            "justify_items": null,
            "grid_row": null,
            "max_height": null,
            "align_content": null,
            "visibility": null,
            "align_self": null,
            "height": null,
            "min_height": null,
            "padding": null,
            "grid_auto_rows": null,
            "grid_gap": null,
            "max_width": null,
            "order": null,
            "_view_module_version": "1.2.0",
            "grid_template_areas": null,
            "object_position": null,
            "object_fit": null,
            "grid_auto_columns": null,
            "margin": null,
            "display": null,
            "left": null
          }
        },
        "5ee5b6414da3465d97ffceb0bee307de": {
          "model_module": "@jupyter-widgets/controls",
          "model_name": "DescriptionStyleModel",
          "state": {
            "_view_name": "StyleView",
            "_model_name": "DescriptionStyleModel",
            "description_width": "",
            "_view_module": "@jupyter-widgets/base",
            "_model_module_version": "1.5.0",
            "_view_count": null,
            "_view_module_version": "1.2.0",
            "_model_module": "@jupyter-widgets/controls"
          }
        },
        "94236cddecc24e05bf1889f0d131664b": {
          "model_module": "@jupyter-widgets/base",
          "model_name": "LayoutModel",
          "state": {
            "_view_name": "LayoutView",
            "grid_template_rows": null,
            "right": null,
            "justify_content": null,
            "_view_module": "@jupyter-widgets/base",
            "overflow": null,
            "_model_module_version": "1.2.0",
            "_view_count": null,
            "flex_flow": null,
            "width": null,
            "min_width": null,
            "border": null,
            "align_items": null,
            "bottom": null,
            "_model_module": "@jupyter-widgets/base",
            "top": null,
            "grid_column": null,
            "overflow_y": null,
            "overflow_x": null,
            "grid_auto_flow": null,
            "grid_area": null,
            "grid_template_columns": null,
            "flex": null,
            "_model_name": "LayoutModel",
            "justify_items": null,
            "grid_row": null,
            "max_height": null,
            "align_content": null,
            "visibility": null,
            "align_self": null,
            "height": null,
            "min_height": null,
            "padding": null,
            "grid_auto_rows": null,
            "grid_gap": null,
            "max_width": null,
            "order": null,
            "_view_module_version": "1.2.0",
            "grid_template_areas": null,
            "object_position": null,
            "object_fit": null,
            "grid_auto_columns": null,
            "margin": null,
            "display": null,
            "left": null
          }
        },
        "689f24ecdd6a41d692d7b16ad64e7211": {
          "model_module": "@jupyter-widgets/controls",
          "model_name": "HBoxModel",
          "state": {
            "_view_name": "HBoxView",
            "_dom_classes": [],
            "_model_name": "HBoxModel",
            "_view_module": "@jupyter-widgets/controls",
            "_model_module_version": "1.5.0",
            "_view_count": null,
            "_view_module_version": "1.5.0",
            "box_style": "",
            "layout": "IPY_MODEL_e82d4cf570724c329e785decf3b9aa5c",
            "_model_module": "@jupyter-widgets/controls",
            "children": [
              "IPY_MODEL_fbc096b9053b4eaebcce72251222704f",
              "IPY_MODEL_4dd93d7332ba411fabe408338a2bf5a8"
            ]
          }
        },
        "e82d4cf570724c329e785decf3b9aa5c": {
          "model_module": "@jupyter-widgets/base",
          "model_name": "LayoutModel",
          "state": {
            "_view_name": "LayoutView",
            "grid_template_rows": null,
            "right": null,
            "justify_content": null,
            "_view_module": "@jupyter-widgets/base",
            "overflow": null,
            "_model_module_version": "1.2.0",
            "_view_count": null,
            "flex_flow": null,
            "width": null,
            "min_width": null,
            "border": null,
            "align_items": null,
            "bottom": null,
            "_model_module": "@jupyter-widgets/base",
            "top": null,
            "grid_column": null,
            "overflow_y": null,
            "overflow_x": null,
            "grid_auto_flow": null,
            "grid_area": null,
            "grid_template_columns": null,
            "flex": null,
            "_model_name": "LayoutModel",
            "justify_items": null,
            "grid_row": null,
            "max_height": null,
            "align_content": null,
            "visibility": null,
            "align_self": null,
            "height": null,
            "min_height": null,
            "padding": null,
            "grid_auto_rows": null,
            "grid_gap": null,
            "max_width": null,
            "order": null,
            "_view_module_version": "1.2.0",
            "grid_template_areas": null,
            "object_position": null,
            "object_fit": null,
            "grid_auto_columns": null,
            "margin": null,
            "display": null,
            "left": null
          }
        },
        "fbc096b9053b4eaebcce72251222704f": {
          "model_module": "@jupyter-widgets/controls",
          "model_name": "FloatProgressModel",
          "state": {
            "_view_name": "ProgressView",
            "style": "IPY_MODEL_09cd7a17f88b49fc9e4b96ef8312c34a",
            "_dom_classes": [],
            "description": "",
            "_model_name": "FloatProgressModel",
            "bar_style": "success",
            "max": 1,
            "_view_module": "@jupyter-widgets/controls",
            "_model_module_version": "1.5.0",
            "value": 1,
            "_view_count": null,
            "_view_module_version": "1.5.0",
            "orientation": "horizontal",
            "min": 0,
            "description_tooltip": null,
            "_model_module": "@jupyter-widgets/controls",
            "layout": "IPY_MODEL_3c3f24cecac642ab9dd06a3d4a1ff01c"
          }
        },
        "4dd93d7332ba411fabe408338a2bf5a8": {
          "model_module": "@jupyter-widgets/controls",
          "model_name": "HTMLModel",
          "state": {
            "_view_name": "HTMLView",
            "style": "IPY_MODEL_d8fee1193431418b9b799fd89ef3cd7f",
            "_dom_classes": [],
            "description": "",
            "_model_name": "HTMLModel",
            "placeholder": "​",
            "_view_module": "@jupyter-widgets/controls",
            "_model_module_version": "1.5.0",
            "value": " 61/? [00:25&lt;00:00,  2.41it/s]",
            "_view_count": null,
            "_view_module_version": "1.5.0",
            "description_tooltip": null,
            "_model_module": "@jupyter-widgets/controls",
            "layout": "IPY_MODEL_5cd74191ec064c25b86111e49da7ccb2"
          }
        },
        "09cd7a17f88b49fc9e4b96ef8312c34a": {
          "model_module": "@jupyter-widgets/controls",
          "model_name": "ProgressStyleModel",
          "state": {
            "_view_name": "StyleView",
            "_model_name": "ProgressStyleModel",
            "description_width": "initial",
            "_view_module": "@jupyter-widgets/base",
            "_model_module_version": "1.5.0",
            "_view_count": null,
            "_view_module_version": "1.2.0",
            "bar_color": null,
            "_model_module": "@jupyter-widgets/controls"
          }
        },
        "3c3f24cecac642ab9dd06a3d4a1ff01c": {
          "model_module": "@jupyter-widgets/base",
          "model_name": "LayoutModel",
          "state": {
            "_view_name": "LayoutView",
            "grid_template_rows": null,
            "right": null,
            "justify_content": null,
            "_view_module": "@jupyter-widgets/base",
            "overflow": null,
            "_model_module_version": "1.2.0",
            "_view_count": null,
            "flex_flow": null,
            "width": null,
            "min_width": null,
            "border": null,
            "align_items": null,
            "bottom": null,
            "_model_module": "@jupyter-widgets/base",
            "top": null,
            "grid_column": null,
            "overflow_y": null,
            "overflow_x": null,
            "grid_auto_flow": null,
            "grid_area": null,
            "grid_template_columns": null,
            "flex": null,
            "_model_name": "LayoutModel",
            "justify_items": null,
            "grid_row": null,
            "max_height": null,
            "align_content": null,
            "visibility": null,
            "align_self": null,
            "height": null,
            "min_height": null,
            "padding": null,
            "grid_auto_rows": null,
            "grid_gap": null,
            "max_width": null,
            "order": null,
            "_view_module_version": "1.2.0",
            "grid_template_areas": null,
            "object_position": null,
            "object_fit": null,
            "grid_auto_columns": null,
            "margin": null,
            "display": null,
            "left": null
          }
        },
        "d8fee1193431418b9b799fd89ef3cd7f": {
          "model_module": "@jupyter-widgets/controls",
          "model_name": "DescriptionStyleModel",
          "state": {
            "_view_name": "StyleView",
            "_model_name": "DescriptionStyleModel",
            "description_width": "",
            "_view_module": "@jupyter-widgets/base",
            "_model_module_version": "1.5.0",
            "_view_count": null,
            "_view_module_version": "1.2.0",
            "_model_module": "@jupyter-widgets/controls"
          }
        },
        "5cd74191ec064c25b86111e49da7ccb2": {
          "model_module": "@jupyter-widgets/base",
          "model_name": "LayoutModel",
          "state": {
            "_view_name": "LayoutView",
            "grid_template_rows": null,
            "right": null,
            "justify_content": null,
            "_view_module": "@jupyter-widgets/base",
            "overflow": null,
            "_model_module_version": "1.2.0",
            "_view_count": null,
            "flex_flow": null,
            "width": null,
            "min_width": null,
            "border": null,
            "align_items": null,
            "bottom": null,
            "_model_module": "@jupyter-widgets/base",
            "top": null,
            "grid_column": null,
            "overflow_y": null,
            "overflow_x": null,
            "grid_auto_flow": null,
            "grid_area": null,
            "grid_template_columns": null,
            "flex": null,
            "_model_name": "LayoutModel",
            "justify_items": null,
            "grid_row": null,
            "max_height": null,
            "align_content": null,
            "visibility": null,
            "align_self": null,
            "height": null,
            "min_height": null,
            "padding": null,
            "grid_auto_rows": null,
            "grid_gap": null,
            "max_width": null,
            "order": null,
            "_view_module_version": "1.2.0",
            "grid_template_areas": null,
            "object_position": null,
            "object_fit": null,
            "grid_auto_columns": null,
            "margin": null,
            "display": null,
            "left": null
          }
        },
        "2190fed1f75a4ad096aa930dc1e4c273": {
          "model_module": "@jupyter-widgets/controls",
          "model_name": "HBoxModel",
          "state": {
            "_view_name": "HBoxView",
            "_dom_classes": [],
            "_model_name": "HBoxModel",
            "_view_module": "@jupyter-widgets/controls",
            "_model_module_version": "1.5.0",
            "_view_count": null,
            "_view_module_version": "1.5.0",
            "box_style": "",
            "layout": "IPY_MODEL_2491ff30aee24cac87577ad2b1be76cc",
            "_model_module": "@jupyter-widgets/controls",
            "children": [
              "IPY_MODEL_8114a093ed554485858b46bbcc8e6020",
              "IPY_MODEL_b3da61ae098443f29ad34195485c31e6"
            ]
          }
        },
        "2491ff30aee24cac87577ad2b1be76cc": {
          "model_module": "@jupyter-widgets/base",
          "model_name": "LayoutModel",
          "state": {
            "_view_name": "LayoutView",
            "grid_template_rows": null,
            "right": null,
            "justify_content": null,
            "_view_module": "@jupyter-widgets/base",
            "overflow": null,
            "_model_module_version": "1.2.0",
            "_view_count": null,
            "flex_flow": null,
            "width": null,
            "min_width": null,
            "border": null,
            "align_items": null,
            "bottom": null,
            "_model_module": "@jupyter-widgets/base",
            "top": null,
            "grid_column": null,
            "overflow_y": null,
            "overflow_x": null,
            "grid_auto_flow": null,
            "grid_area": null,
            "grid_template_columns": null,
            "flex": null,
            "_model_name": "LayoutModel",
            "justify_items": null,
            "grid_row": null,
            "max_height": null,
            "align_content": null,
            "visibility": null,
            "align_self": null,
            "height": null,
            "min_height": null,
            "padding": null,
            "grid_auto_rows": null,
            "grid_gap": null,
            "max_width": null,
            "order": null,
            "_view_module_version": "1.2.0",
            "grid_template_areas": null,
            "object_position": null,
            "object_fit": null,
            "grid_auto_columns": null,
            "margin": null,
            "display": null,
            "left": null
          }
        },
        "8114a093ed554485858b46bbcc8e6020": {
          "model_module": "@jupyter-widgets/controls",
          "model_name": "FloatProgressModel",
          "state": {
            "_view_name": "ProgressView",
            "style": "IPY_MODEL_d7e0f330b64d401b9030ed39c1934b53",
            "_dom_classes": [],
            "description": "100%",
            "_model_name": "FloatProgressModel",
            "bar_style": "success",
            "max": 16,
            "_view_module": "@jupyter-widgets/controls",
            "_model_module_version": "1.5.0",
            "value": 16,
            "_view_count": null,
            "_view_module_version": "1.5.0",
            "orientation": "horizontal",
            "min": 0,
            "description_tooltip": null,
            "_model_module": "@jupyter-widgets/controls",
            "layout": "IPY_MODEL_d11c44cedf16481e973adadaf432dfb2"
          }
        },
        "b3da61ae098443f29ad34195485c31e6": {
          "model_module": "@jupyter-widgets/controls",
          "model_name": "HTMLModel",
          "state": {
            "_view_name": "HTMLView",
            "style": "IPY_MODEL_701c9e7313c7413dbe7210ef1a2daa75",
            "_dom_classes": [],
            "description": "",
            "_model_name": "HTMLModel",
            "placeholder": "​",
            "_view_module": "@jupyter-widgets/controls",
            "_model_module_version": "1.5.0",
            "value": " 16/16 [00:02&lt;00:00,  7.96it/s]",
            "_view_count": null,
            "_view_module_version": "1.5.0",
            "description_tooltip": null,
            "_model_module": "@jupyter-widgets/controls",
            "layout": "IPY_MODEL_ed9f718d4c204982b7f1f0aed3d30da0"
          }
        },
        "d7e0f330b64d401b9030ed39c1934b53": {
          "model_module": "@jupyter-widgets/controls",
          "model_name": "ProgressStyleModel",
          "state": {
            "_view_name": "StyleView",
            "_model_name": "ProgressStyleModel",
            "description_width": "initial",
            "_view_module": "@jupyter-widgets/base",
            "_model_module_version": "1.5.0",
            "_view_count": null,
            "_view_module_version": "1.2.0",
            "bar_color": null,
            "_model_module": "@jupyter-widgets/controls"
          }
        },
        "d11c44cedf16481e973adadaf432dfb2": {
          "model_module": "@jupyter-widgets/base",
          "model_name": "LayoutModel",
          "state": {
            "_view_name": "LayoutView",
            "grid_template_rows": null,
            "right": null,
            "justify_content": null,
            "_view_module": "@jupyter-widgets/base",
            "overflow": null,
            "_model_module_version": "1.2.0",
            "_view_count": null,
            "flex_flow": null,
            "width": null,
            "min_width": null,
            "border": null,
            "align_items": null,
            "bottom": null,
            "_model_module": "@jupyter-widgets/base",
            "top": null,
            "grid_column": null,
            "overflow_y": null,
            "overflow_x": null,
            "grid_auto_flow": null,
            "grid_area": null,
            "grid_template_columns": null,
            "flex": null,
            "_model_name": "LayoutModel",
            "justify_items": null,
            "grid_row": null,
            "max_height": null,
            "align_content": null,
            "visibility": null,
            "align_self": null,
            "height": null,
            "min_height": null,
            "padding": null,
            "grid_auto_rows": null,
            "grid_gap": null,
            "max_width": null,
            "order": null,
            "_view_module_version": "1.2.0",
            "grid_template_areas": null,
            "object_position": null,
            "object_fit": null,
            "grid_auto_columns": null,
            "margin": null,
            "display": null,
            "left": null
          }
        },
        "701c9e7313c7413dbe7210ef1a2daa75": {
          "model_module": "@jupyter-widgets/controls",
          "model_name": "DescriptionStyleModel",
          "state": {
            "_view_name": "StyleView",
            "_model_name": "DescriptionStyleModel",
            "description_width": "",
            "_view_module": "@jupyter-widgets/base",
            "_model_module_version": "1.5.0",
            "_view_count": null,
            "_view_module_version": "1.2.0",
            "_model_module": "@jupyter-widgets/controls"
          }
        },
        "ed9f718d4c204982b7f1f0aed3d30da0": {
          "model_module": "@jupyter-widgets/base",
          "model_name": "LayoutModel",
          "state": {
            "_view_name": "LayoutView",
            "grid_template_rows": null,
            "right": null,
            "justify_content": null,
            "_view_module": "@jupyter-widgets/base",
            "overflow": null,
            "_model_module_version": "1.2.0",
            "_view_count": null,
            "flex_flow": null,
            "width": null,
            "min_width": null,
            "border": null,
            "align_items": null,
            "bottom": null,
            "_model_module": "@jupyter-widgets/base",
            "top": null,
            "grid_column": null,
            "overflow_y": null,
            "overflow_x": null,
            "grid_auto_flow": null,
            "grid_area": null,
            "grid_template_columns": null,
            "flex": null,
            "_model_name": "LayoutModel",
            "justify_items": null,
            "grid_row": null,
            "max_height": null,
            "align_content": null,
            "visibility": null,
            "align_self": null,
            "height": null,
            "min_height": null,
            "padding": null,
            "grid_auto_rows": null,
            "grid_gap": null,
            "max_width": null,
            "order": null,
            "_view_module_version": "1.2.0",
            "grid_template_areas": null,
            "object_position": null,
            "object_fit": null,
            "grid_auto_columns": null,
            "margin": null,
            "display": null,
            "left": null
          }
        }
      }
    }
  },
  "cells": [
    {
      "cell_type": "markdown",
      "metadata": {
        "id": "view-in-github",
        "colab_type": "text"
      },
      "source": [
        "<a href=\"https://colab.research.google.com/github/Sophie1218/-n-HMTK/blob/main/Code_RunModel.ipynb\" target=\"_parent\"><img src=\"https://colab.research.google.com/assets/colab-badge.svg\" alt=\"Open In Colab\"/></a>"
      ]
    },
    {
      "cell_type": "markdown",
      "metadata": {
        "id": "T6ABvX1W0RrC"
      },
      "source": [
        "# Import and Install libraries"
      ]
    },
    {
      "cell_type": "code",
      "metadata": {
        "colab": {
          "base_uri": "https://localhost:8080/"
        },
        "id": "wkENM8IwiyZ3",
        "outputId": "02ae4005-d8d8-4159-e95c-9bb66c5e7da4"
      },
      "source": [
        "from google.colab import drive\n",
        "drive.mount('/content/drive')"
      ],
      "execution_count": 1,
      "outputs": [
        {
          "output_type": "stream",
          "text": [
            "Mounted at /content/drive\n"
          ],
          "name": "stdout"
        }
      ]
    },
    {
      "cell_type": "code",
      "metadata": {
        "id": "EPhu2RUBJk_r"
      },
      "source": [
        "import warnings \r\n",
        "  \r\n",
        "warnings.filterwarnings(action = 'ignore') "
      ],
      "execution_count": 2,
      "outputs": []
    },
    {
      "cell_type": "code",
      "metadata": {
        "id": "ybfXEhCVJwmJ"
      },
      "source": [
        "import os\r\n",
        "import time\r\n",
        "import string\r\n",
        "import random\r\n",
        "import wordcloud\r\n",
        "import seaborn as sns\r\n",
        "import pandas as pd\r\n",
        "import numpy as np\r\n",
        "import numpy as np\r\n",
        "import matplotlib\r\n",
        "import regex as re\r\n",
        "import matplotlib.pyplot as plt\r\n",
        "\r\n",
        "import torch\r\n",
        "from tqdm import tqdm_notebook\r\n",
        "from sklearn.metrics import classification_report\r\n",
        "from sklearn import model_selection\r\n",
        "from sklearn.model_selection import train_test_split\r\n",
        "from sklearn.feature_extraction.text import TfidfVectorizer\r\n",
        "from sklearn.metrics import confusion_matrix\r\n",
        "from sklearn.model_selection import cross_val_predict\r\n",
        "from sklearn.model_selection import ShuffleSplit\r\n",
        "from sklearn.model_selection import cross_val_score\r\n",
        "from sklearn.metrics import accuracy_score, f1_score\r\n",
        "from sklearn.model_selection import StratifiedKFold\r\n",
        "\r\n",
        "from sklearn.preprocessing import StandardScaler\r\n",
        "from sklearn.linear_model import LogisticRegression\r\n",
        "from sklearn.svm import SVC\r\n",
        "from sklearn.tree import DecisionTreeClassifier\r\n",
        "from sklearn.ensemble import RandomForestClassifier\r\n",
        "from sklearn.neighbors import KNeighborsClassifier\r\n",
        "from sklearn.naive_bayes import GaussianNB\r\n",
        "\r\n",
        "from tensorflow.keras.preprocessing.sequence import pad_sequences\r\n",
        "from torch.utils.data import TensorDataset, DataLoader, RandomSampler, SequentialSampler"
      ],
      "execution_count": 38,
      "outputs": []
    },
    {
      "cell_type": "code",
      "metadata": {
        "id": "DH-mzfBpZPei"
      },
      "source": [
        "import os\n",
        "os.chdir('/content/drive/MyDrive/Colab Notebooks/Bert_Complaint')"
      ],
      "execution_count": 4,
      "outputs": []
    },
    {
      "cell_type": "code",
      "metadata": {
        "colab": {
          "base_uri": "https://localhost:8080/"
        },
        "id": "j5qfwX3jZddL",
        "outputId": "62bedf81-5873-4748-aea1-2a960780a516"
      },
      "source": [
        "!nvidia-smi"
      ],
      "execution_count": 5,
      "outputs": [
        {
          "output_type": "stream",
          "text": [
            "Sat Dec 12 10:55:56 2020       \n",
            "+-----------------------------------------------------------------------------+\n",
            "| NVIDIA-SMI 455.45.01    Driver Version: 418.67       CUDA Version: 10.1     |\n",
            "|-------------------------------+----------------------+----------------------+\n",
            "| GPU  Name        Persistence-M| Bus-Id        Disp.A | Volatile Uncorr. ECC |\n",
            "| Fan  Temp  Perf  Pwr:Usage/Cap|         Memory-Usage | GPU-Util  Compute M. |\n",
            "|                               |                      |               MIG M. |\n",
            "|===============================+======================+======================|\n",
            "|   0  Tesla P100-PCIE...  Off  | 00000000:00:04.0 Off |                    0 |\n",
            "| N/A   39C    P0    26W / 250W |      0MiB / 16280MiB |      0%      Default |\n",
            "|                               |                      |                 ERR! |\n",
            "+-------------------------------+----------------------+----------------------+\n",
            "                                                                               \n",
            "+-----------------------------------------------------------------------------+\n",
            "| Processes:                                                                  |\n",
            "|  GPU   GI   CI        PID   Type   Process name                  GPU Memory |\n",
            "|        ID   ID                                                   Usage      |\n",
            "|=============================================================================|\n",
            "|  No running processes found                                                 |\n",
            "+-----------------------------------------------------------------------------+\n"
          ],
          "name": "stdout"
        }
      ]
    },
    {
      "cell_type": "code",
      "metadata": {
        "colab": {
          "base_uri": "https://localhost:8080/"
        },
        "id": "4_6sYt9vZfP4",
        "outputId": "fb45081a-a491-487e-a11a-33fc9ec9a9ef"
      },
      "source": [
        "!pip install transformers"
      ],
      "execution_count": 6,
      "outputs": [
        {
          "output_type": "stream",
          "text": [
            "Collecting transformers\n",
            "\u001b[?25l  Downloading https://files.pythonhosted.org/packages/ed/db/98c3ea1a78190dac41c0127a063abf92bd01b4b0b6970a6db1c2f5b66fa0/transformers-4.0.1-py3-none-any.whl (1.4MB)\n",
            "\r\u001b[K     |▎                               | 10kB 16.8MB/s eta 0:00:01\r\u001b[K     |▌                               | 20kB 9.8MB/s eta 0:00:01\r\u001b[K     |▊                               | 30kB 7.7MB/s eta 0:00:01\r\u001b[K     |█                               | 40kB 7.0MB/s eta 0:00:01\r\u001b[K     |█▏                              | 51kB 4.5MB/s eta 0:00:01\r\u001b[K     |█▌                              | 61kB 5.0MB/s eta 0:00:01\r\u001b[K     |█▊                              | 71kB 5.4MB/s eta 0:00:01\r\u001b[K     |██                              | 81kB 5.4MB/s eta 0:00:01\r\u001b[K     |██▏                             | 92kB 5.7MB/s eta 0:00:01\r\u001b[K     |██▍                             | 102kB 5.7MB/s eta 0:00:01\r\u001b[K     |██▋                             | 112kB 5.7MB/s eta 0:00:01\r\u001b[K     |███                             | 122kB 5.7MB/s eta 0:00:01\r\u001b[K     |███▏                            | 133kB 5.7MB/s eta 0:00:01\r\u001b[K     |███▍                            | 143kB 5.7MB/s eta 0:00:01\r\u001b[K     |███▋                            | 153kB 5.7MB/s eta 0:00:01\r\u001b[K     |███▉                            | 163kB 5.7MB/s eta 0:00:01\r\u001b[K     |████▏                           | 174kB 5.7MB/s eta 0:00:01\r\u001b[K     |████▍                           | 184kB 5.7MB/s eta 0:00:01\r\u001b[K     |████▋                           | 194kB 5.7MB/s eta 0:00:01\r\u001b[K     |████▉                           | 204kB 5.7MB/s eta 0:00:01\r\u001b[K     |█████                           | 215kB 5.7MB/s eta 0:00:01\r\u001b[K     |█████▎                          | 225kB 5.7MB/s eta 0:00:01\r\u001b[K     |█████▋                          | 235kB 5.7MB/s eta 0:00:01\r\u001b[K     |█████▉                          | 245kB 5.7MB/s eta 0:00:01\r\u001b[K     |██████                          | 256kB 5.7MB/s eta 0:00:01\r\u001b[K     |██████▎                         | 266kB 5.7MB/s eta 0:00:01\r\u001b[K     |██████▌                         | 276kB 5.7MB/s eta 0:00:01\r\u001b[K     |██████▉                         | 286kB 5.7MB/s eta 0:00:01\r\u001b[K     |███████                         | 296kB 5.7MB/s eta 0:00:01\r\u001b[K     |███████▎                        | 307kB 5.7MB/s eta 0:00:01\r\u001b[K     |███████▌                        | 317kB 5.7MB/s eta 0:00:01\r\u001b[K     |███████▊                        | 327kB 5.7MB/s eta 0:00:01\r\u001b[K     |████████                        | 337kB 5.7MB/s eta 0:00:01\r\u001b[K     |████████▎                       | 348kB 5.7MB/s eta 0:00:01\r\u001b[K     |████████▌                       | 358kB 5.7MB/s eta 0:00:01\r\u001b[K     |████████▊                       | 368kB 5.7MB/s eta 0:00:01\r\u001b[K     |█████████                       | 378kB 5.7MB/s eta 0:00:01\r\u001b[K     |█████████▏                      | 389kB 5.7MB/s eta 0:00:01\r\u001b[K     |█████████▌                      | 399kB 5.7MB/s eta 0:00:01\r\u001b[K     |█████████▊                      | 409kB 5.7MB/s eta 0:00:01\r\u001b[K     |██████████                      | 419kB 5.7MB/s eta 0:00:01\r\u001b[K     |██████████▏                     | 430kB 5.7MB/s eta 0:00:01\r\u001b[K     |██████████▍                     | 440kB 5.7MB/s eta 0:00:01\r\u001b[K     |██████████▋                     | 450kB 5.7MB/s eta 0:00:01\r\u001b[K     |███████████                     | 460kB 5.7MB/s eta 0:00:01\r\u001b[K     |███████████▏                    | 471kB 5.7MB/s eta 0:00:01\r\u001b[K     |███████████▍                    | 481kB 5.7MB/s eta 0:00:01\r\u001b[K     |███████████▋                    | 491kB 5.7MB/s eta 0:00:01\r\u001b[K     |███████████▉                    | 501kB 5.7MB/s eta 0:00:01\r\u001b[K     |████████████▏                   | 512kB 5.7MB/s eta 0:00:01\r\u001b[K     |████████████▍                   | 522kB 5.7MB/s eta 0:00:01\r\u001b[K     |████████████▋                   | 532kB 5.7MB/s eta 0:00:01\r\u001b[K     |████████████▉                   | 542kB 5.7MB/s eta 0:00:01\r\u001b[K     |█████████████                   | 552kB 5.7MB/s eta 0:00:01\r\u001b[K     |█████████████▎                  | 563kB 5.7MB/s eta 0:00:01\r\u001b[K     |█████████████▋                  | 573kB 5.7MB/s eta 0:00:01\r\u001b[K     |█████████████▉                  | 583kB 5.7MB/s eta 0:00:01\r\u001b[K     |██████████████                  | 593kB 5.7MB/s eta 0:00:01\r\u001b[K     |██████████████▎                 | 604kB 5.7MB/s eta 0:00:01\r\u001b[K     |██████████████▌                 | 614kB 5.7MB/s eta 0:00:01\r\u001b[K     |██████████████▉                 | 624kB 5.7MB/s eta 0:00:01\r\u001b[K     |███████████████                 | 634kB 5.7MB/s eta 0:00:01\r\u001b[K     |███████████████▎                | 645kB 5.7MB/s eta 0:00:01\r\u001b[K     |███████████████▌                | 655kB 5.7MB/s eta 0:00:01\r\u001b[K     |███████████████▊                | 665kB 5.7MB/s eta 0:00:01\r\u001b[K     |████████████████                | 675kB 5.7MB/s eta 0:00:01\r\u001b[K     |████████████████▎               | 686kB 5.7MB/s eta 0:00:01\r\u001b[K     |████████████████▌               | 696kB 5.7MB/s eta 0:00:01\r\u001b[K     |████████████████▊               | 706kB 5.7MB/s eta 0:00:01\r\u001b[K     |█████████████████               | 716kB 5.7MB/s eta 0:00:01\r\u001b[K     |█████████████████▏              | 727kB 5.7MB/s eta 0:00:01\r\u001b[K     |█████████████████▌              | 737kB 5.7MB/s eta 0:00:01\r\u001b[K     |█████████████████▊              | 747kB 5.7MB/s eta 0:00:01\r\u001b[K     |██████████████████              | 757kB 5.7MB/s eta 0:00:01\r\u001b[K     |██████████████████▏             | 768kB 5.7MB/s eta 0:00:01\r\u001b[K     |██████████████████▍             | 778kB 5.7MB/s eta 0:00:01\r\u001b[K     |██████████████████▋             | 788kB 5.7MB/s eta 0:00:01\r\u001b[K     |███████████████████             | 798kB 5.7MB/s eta 0:00:01\r\u001b[K     |███████████████████▏            | 808kB 5.7MB/s eta 0:00:01\r\u001b[K     |███████████████████▍            | 819kB 5.7MB/s eta 0:00:01\r\u001b[K     |███████████████████▋            | 829kB 5.7MB/s eta 0:00:01\r\u001b[K     |███████████████████▉            | 839kB 5.7MB/s eta 0:00:01\r\u001b[K     |████████████████████▏           | 849kB 5.7MB/s eta 0:00:01\r\u001b[K     |████████████████████▍           | 860kB 5.7MB/s eta 0:00:01\r\u001b[K     |████████████████████▋           | 870kB 5.7MB/s eta 0:00:01\r\u001b[K     |████████████████████▉           | 880kB 5.7MB/s eta 0:00:01\r\u001b[K     |█████████████████████           | 890kB 5.7MB/s eta 0:00:01\r\u001b[K     |█████████████████████▎          | 901kB 5.7MB/s eta 0:00:01\r\u001b[K     |█████████████████████▋          | 911kB 5.7MB/s eta 0:00:01\r\u001b[K     |█████████████████████▉          | 921kB 5.7MB/s eta 0:00:01\r\u001b[K     |██████████████████████          | 931kB 5.7MB/s eta 0:00:01\r\u001b[K     |██████████████████████▎         | 942kB 5.7MB/s eta 0:00:01\r\u001b[K     |██████████████████████▌         | 952kB 5.7MB/s eta 0:00:01\r\u001b[K     |██████████████████████▊         | 962kB 5.7MB/s eta 0:00:01\r\u001b[K     |███████████████████████         | 972kB 5.7MB/s eta 0:00:01\r\u001b[K     |███████████████████████▎        | 983kB 5.7MB/s eta 0:00:01\r\u001b[K     |███████████████████████▌        | 993kB 5.7MB/s eta 0:00:01\r\u001b[K     |███████████████████████▊        | 1.0MB 5.7MB/s eta 0:00:01\r\u001b[K     |████████████████████████        | 1.0MB 5.7MB/s eta 0:00:01\r\u001b[K     |████████████████████████▎       | 1.0MB 5.7MB/s eta 0:00:01\r\u001b[K     |████████████████████████▌       | 1.0MB 5.7MB/s eta 0:00:01\r\u001b[K     |████████████████████████▊       | 1.0MB 5.7MB/s eta 0:00:01\r\u001b[K     |█████████████████████████       | 1.1MB 5.7MB/s eta 0:00:01\r\u001b[K     |█████████████████████████▏      | 1.1MB 5.7MB/s eta 0:00:01\r\u001b[K     |█████████████████████████▍      | 1.1MB 5.7MB/s eta 0:00:01\r\u001b[K     |█████████████████████████▊      | 1.1MB 5.7MB/s eta 0:00:01\r\u001b[K     |██████████████████████████      | 1.1MB 5.7MB/s eta 0:00:01\r\u001b[K     |██████████████████████████▏     | 1.1MB 5.7MB/s eta 0:00:01\r\u001b[K     |██████████████████████████▍     | 1.1MB 5.7MB/s eta 0:00:01\r\u001b[K     |██████████████████████████▋     | 1.1MB 5.7MB/s eta 0:00:01\r\u001b[K     |███████████████████████████     | 1.1MB 5.7MB/s eta 0:00:01\r\u001b[K     |███████████████████████████▏    | 1.1MB 5.7MB/s eta 0:00:01\r\u001b[K     |███████████████████████████▍    | 1.2MB 5.7MB/s eta 0:00:01\r\u001b[K     |███████████████████████████▋    | 1.2MB 5.7MB/s eta 0:00:01\r\u001b[K     |███████████████████████████▉    | 1.2MB 5.7MB/s eta 0:00:01\r\u001b[K     |████████████████████████████    | 1.2MB 5.7MB/s eta 0:00:01\r\u001b[K     |████████████████████████████▍   | 1.2MB 5.7MB/s eta 0:00:01\r\u001b[K     |████████████████████████████▋   | 1.2MB 5.7MB/s eta 0:00:01\r\u001b[K     |████████████████████████████▉   | 1.2MB 5.7MB/s eta 0:00:01\r\u001b[K     |█████████████████████████████   | 1.2MB 5.7MB/s eta 0:00:01\r\u001b[K     |█████████████████████████████▎  | 1.2MB 5.7MB/s eta 0:00:01\r\u001b[K     |█████████████████████████████▋  | 1.2MB 5.7MB/s eta 0:00:01\r\u001b[K     |█████████████████████████████▉  | 1.3MB 5.7MB/s eta 0:00:01\r\u001b[K     |██████████████████████████████  | 1.3MB 5.7MB/s eta 0:00:01\r\u001b[K     |██████████████████████████████▎ | 1.3MB 5.7MB/s eta 0:00:01\r\u001b[K     |██████████████████████████████▌ | 1.3MB 5.7MB/s eta 0:00:01\r\u001b[K     |██████████████████████████████▊ | 1.3MB 5.7MB/s eta 0:00:01\r\u001b[K     |███████████████████████████████ | 1.3MB 5.7MB/s eta 0:00:01\r\u001b[K     |███████████████████████████████▎| 1.3MB 5.7MB/s eta 0:00:01\r\u001b[K     |███████████████████████████████▌| 1.3MB 5.7MB/s eta 0:00:01\r\u001b[K     |███████████████████████████████▊| 1.3MB 5.7MB/s eta 0:00:01\r\u001b[K     |████████████████████████████████| 1.4MB 5.7MB/s eta 0:00:01\r\u001b[K     |████████████████████████████████| 1.4MB 5.7MB/s \n",
            "\u001b[?25hRequirement already satisfied: tqdm>=4.27 in /usr/local/lib/python3.6/dist-packages (from transformers) (4.41.1)\n",
            "Collecting tokenizers==0.9.4\n",
            "\u001b[?25l  Downloading https://files.pythonhosted.org/packages/0f/1c/e789a8b12e28be5bc1ce2156cf87cb522b379be9cadc7ad8091a4cc107c4/tokenizers-0.9.4-cp36-cp36m-manylinux2010_x86_64.whl (2.9MB)\n",
            "\u001b[K     |████████████████████████████████| 2.9MB 20.8MB/s \n",
            "\u001b[?25hRequirement already satisfied: dataclasses; python_version < \"3.7\" in /usr/local/lib/python3.6/dist-packages (from transformers) (0.8)\n",
            "Requirement already satisfied: regex!=2019.12.17 in /usr/local/lib/python3.6/dist-packages (from transformers) (2019.12.20)\n",
            "Requirement already satisfied: requests in /usr/local/lib/python3.6/dist-packages (from transformers) (2.23.0)\n",
            "Requirement already satisfied: filelock in /usr/local/lib/python3.6/dist-packages (from transformers) (3.0.12)\n",
            "Collecting sacremoses\n",
            "\u001b[?25l  Downloading https://files.pythonhosted.org/packages/7d/34/09d19aff26edcc8eb2a01bed8e98f13a1537005d31e95233fd48216eed10/sacremoses-0.0.43.tar.gz (883kB)\n",
            "\u001b[K     |████████████████████████████████| 890kB 38.7MB/s \n",
            "\u001b[?25hRequirement already satisfied: packaging in /usr/local/lib/python3.6/dist-packages (from transformers) (20.7)\n",
            "Requirement already satisfied: numpy in /usr/local/lib/python3.6/dist-packages (from transformers) (1.18.5)\n",
            "Requirement already satisfied: certifi>=2017.4.17 in /usr/local/lib/python3.6/dist-packages (from requests->transformers) (2020.12.5)\n",
            "Requirement already satisfied: idna<3,>=2.5 in /usr/local/lib/python3.6/dist-packages (from requests->transformers) (2.10)\n",
            "Requirement already satisfied: chardet<4,>=3.0.2 in /usr/local/lib/python3.6/dist-packages (from requests->transformers) (3.0.4)\n",
            "Requirement already satisfied: urllib3!=1.25.0,!=1.25.1,<1.26,>=1.21.1 in /usr/local/lib/python3.6/dist-packages (from requests->transformers) (1.24.3)\n",
            "Requirement already satisfied: six in /usr/local/lib/python3.6/dist-packages (from sacremoses->transformers) (1.15.0)\n",
            "Requirement already satisfied: click in /usr/local/lib/python3.6/dist-packages (from sacremoses->transformers) (7.1.2)\n",
            "Requirement already satisfied: joblib in /usr/local/lib/python3.6/dist-packages (from sacremoses->transformers) (0.17.0)\n",
            "Requirement already satisfied: pyparsing>=2.0.2 in /usr/local/lib/python3.6/dist-packages (from packaging->transformers) (2.4.7)\n",
            "Building wheels for collected packages: sacremoses\n",
            "  Building wheel for sacremoses (setup.py) ... \u001b[?25l\u001b[?25hdone\n",
            "  Created wheel for sacremoses: filename=sacremoses-0.0.43-cp36-none-any.whl size=893261 sha256=ac98b5f96e41bacb3484a159fcf6524c9eb420c0fbf419043db05f5eb6bc6ead\n",
            "  Stored in directory: /root/.cache/pip/wheels/29/3c/fd/7ce5c3f0666dab31a50123635e6fb5e19ceb42ce38d4e58f45\n",
            "Successfully built sacremoses\n",
            "Installing collected packages: tokenizers, sacremoses, transformers\n",
            "Successfully installed sacremoses-0.0.43 tokenizers-0.9.4 transformers-4.0.1\n"
          ],
          "name": "stdout"
        }
      ]
    },
    {
      "cell_type": "code",
      "metadata": {
        "colab": {
          "base_uri": "https://localhost:8080/"
        },
        "id": "55eWPg5TZphI",
        "outputId": "46e331e3-9695-4770-fbe9-1315d4eef670"
      },
      "source": [
        "!pip install fastBPE\n",
        "!pip install fairseq"
      ],
      "execution_count": 7,
      "outputs": [
        {
          "output_type": "stream",
          "text": [
            "Collecting fastBPE\n",
            "  Downloading https://files.pythonhosted.org/packages/e1/37/f97181428a5d151501b90b2cebedf97c81b034ace753606a3cda5ad4e6e2/fastBPE-0.1.0.tar.gz\n",
            "Building wheels for collected packages: fastBPE\n",
            "  Building wheel for fastBPE (setup.py) ... \u001b[?25l\u001b[?25hdone\n",
            "  Created wheel for fastBPE: filename=fastBPE-0.1.0-cp36-cp36m-linux_x86_64.whl size=481516 sha256=4c9be63779780b7621f4112f80683847668bcae7bac350118444560fdcd97ca9\n",
            "  Stored in directory: /root/.cache/pip/wheels/f3/0c/9c/fc62058b4d473a5602bcd3d3edfece796f123875379ea82d79\n",
            "Successfully built fastBPE\n",
            "Installing collected packages: fastBPE\n",
            "Successfully installed fastBPE-0.1.0\n",
            "Collecting fairseq\n",
            "\u001b[?25l  Downloading https://files.pythonhosted.org/packages/2c/da/7c7032988dade3b21ccfd5b226e50b382abfd3459129d67240bb004506ae/fairseq-0.10.1-cp36-cp36m-manylinux1_x86_64.whl (1.7MB)\n",
            "\u001b[K     |████████████████████████████████| 1.7MB 4.5MB/s \n",
            "\u001b[?25hRequirement already satisfied: dataclasses in /usr/local/lib/python3.6/dist-packages (from fairseq) (0.8)\n",
            "Requirement already satisfied: tqdm in /usr/local/lib/python3.6/dist-packages (from fairseq) (4.41.1)\n",
            "Requirement already satisfied: cffi in /usr/local/lib/python3.6/dist-packages (from fairseq) (1.14.4)\n",
            "Requirement already satisfied: cython in /usr/local/lib/python3.6/dist-packages (from fairseq) (0.29.21)\n",
            "Requirement already satisfied: torch in /usr/local/lib/python3.6/dist-packages (from fairseq) (1.7.0+cu101)\n",
            "Collecting hydra-core\n",
            "\u001b[?25l  Downloading https://files.pythonhosted.org/packages/f0/1f/7f502b9e37596164111655861370b08626f46f9e4524433c354f472765d4/hydra_core-1.0.4-py3-none-any.whl (122kB)\n",
            "\u001b[K     |████████████████████████████████| 122kB 18.1MB/s \n",
            "\u001b[?25hCollecting sacrebleu>=1.4.12\n",
            "\u001b[?25l  Downloading https://files.pythonhosted.org/packages/a3/c4/8e948f601a4f9609e8b2b58f31966cb13cf17b940b82aa3e767f01c42c52/sacrebleu-1.4.14-py3-none-any.whl (64kB)\n",
            "\u001b[K     |████████████████████████████████| 71kB 6.5MB/s \n",
            "\u001b[?25hRequirement already satisfied: numpy in /usr/local/lib/python3.6/dist-packages (from fairseq) (1.18.5)\n",
            "Requirement already satisfied: regex in /usr/local/lib/python3.6/dist-packages (from fairseq) (2019.12.20)\n",
            "Requirement already satisfied: pycparser in /usr/local/lib/python3.6/dist-packages (from cffi->fairseq) (2.20)\n",
            "Requirement already satisfied: future in /usr/local/lib/python3.6/dist-packages (from torch->fairseq) (0.16.0)\n",
            "Requirement already satisfied: typing-extensions in /usr/local/lib/python3.6/dist-packages (from torch->fairseq) (3.7.4.3)\n",
            "Collecting antlr4-python3-runtime==4.8\n",
            "\u001b[?25l  Downloading https://files.pythonhosted.org/packages/56/02/789a0bddf9c9b31b14c3e79ec22b9656185a803dc31c15f006f9855ece0d/antlr4-python3-runtime-4.8.tar.gz (112kB)\n",
            "\u001b[K     |████████████████████████████████| 112kB 13.2MB/s \n",
            "\u001b[?25hCollecting omegaconf>=2.0.5\n",
            "  Downloading https://files.pythonhosted.org/packages/e5/f6/043b6d255dd6fbf2025110cea35b87f4c5100a181681d8eab496269f0d5b/omegaconf-2.0.5-py3-none-any.whl\n",
            "Requirement already satisfied: importlib-resources; python_version < \"3.9\" in /usr/local/lib/python3.6/dist-packages (from hydra-core->fairseq) (3.3.0)\n",
            "Collecting portalocker\n",
            "  Downloading https://files.pythonhosted.org/packages/89/a6/3814b7107e0788040870e8825eebf214d72166adf656ba7d4bf14759a06a/portalocker-2.0.0-py2.py3-none-any.whl\n",
            "Collecting PyYAML>=5.1.*\n",
            "\u001b[?25l  Downloading https://files.pythonhosted.org/packages/64/c2/b80047c7ac2478f9501676c988a5411ed5572f35d1beff9cae07d321512c/PyYAML-5.3.1.tar.gz (269kB)\n",
            "\u001b[K     |████████████████████████████████| 276kB 17.6MB/s \n",
            "\u001b[?25hRequirement already satisfied: zipp>=0.4; python_version < \"3.8\" in /usr/local/lib/python3.6/dist-packages (from importlib-resources; python_version < \"3.9\"->hydra-core->fairseq) (3.4.0)\n",
            "Building wheels for collected packages: antlr4-python3-runtime, PyYAML\n",
            "  Building wheel for antlr4-python3-runtime (setup.py) ... \u001b[?25l\u001b[?25hdone\n",
            "  Created wheel for antlr4-python3-runtime: filename=antlr4_python3_runtime-4.8-cp36-none-any.whl size=141231 sha256=da2bf3816e37a687e15cccdb0685000fabeeaf9f34be34146b5c3df9e15a27bf\n",
            "  Stored in directory: /root/.cache/pip/wheels/e3/e2/fa/b78480b448b8579ddf393bebd3f47ee23aa84c89b6a78285c8\n",
            "  Building wheel for PyYAML (setup.py) ... \u001b[?25l\u001b[?25hdone\n",
            "  Created wheel for PyYAML: filename=PyYAML-5.3.1-cp36-cp36m-linux_x86_64.whl size=44620 sha256=d72637b6a32fa19eca09a2b8056ed52fd1bf12cb46940a43ec0e454843a85358\n",
            "  Stored in directory: /root/.cache/pip/wheels/a7/c1/ea/cf5bd31012e735dc1dfea3131a2d5eae7978b251083d6247bd\n",
            "Successfully built antlr4-python3-runtime PyYAML\n",
            "Installing collected packages: antlr4-python3-runtime, PyYAML, omegaconf, hydra-core, portalocker, sacrebleu, fairseq\n",
            "  Found existing installation: PyYAML 3.13\n",
            "    Uninstalling PyYAML-3.13:\n",
            "      Successfully uninstalled PyYAML-3.13\n",
            "Successfully installed PyYAML-5.3.1 antlr4-python3-runtime-4.8 fairseq-0.10.1 hydra-core-1.0.4 omegaconf-2.0.5 portalocker-2.0.0 sacrebleu-1.4.14\n"
          ],
          "name": "stdout"
        }
      ]
    },
    {
      "cell_type": "code",
      "metadata": {
        "colab": {
          "base_uri": "https://localhost:8080/"
        },
        "id": "luFpfmBVZ8u3",
        "outputId": "c187db73-beb3-4bca-9c08-c0039cd8a6fe"
      },
      "source": [
        "!pip install vncorenlp"
      ],
      "execution_count": 8,
      "outputs": [
        {
          "output_type": "stream",
          "text": [
            "Collecting vncorenlp\n",
            "\u001b[?25l  Downloading https://files.pythonhosted.org/packages/71/c2/96a60cf75421ecc740829fa920c617b3dd7fa6791e17554e7c6f3e7d7fca/vncorenlp-1.0.3.tar.gz (2.6MB)\n",
            "\u001b[K     |████████████████████████████████| 2.7MB 5.6MB/s \n",
            "\u001b[?25hRequirement already satisfied: requests in /usr/local/lib/python3.6/dist-packages (from vncorenlp) (2.23.0)\n",
            "Requirement already satisfied: certifi>=2017.4.17 in /usr/local/lib/python3.6/dist-packages (from requests->vncorenlp) (2020.12.5)\n",
            "Requirement already satisfied: idna<3,>=2.5 in /usr/local/lib/python3.6/dist-packages (from requests->vncorenlp) (2.10)\n",
            "Requirement already satisfied: chardet<4,>=3.0.2 in /usr/local/lib/python3.6/dist-packages (from requests->vncorenlp) (3.0.4)\n",
            "Requirement already satisfied: urllib3!=1.25.0,!=1.25.1,<1.26,>=1.21.1 in /usr/local/lib/python3.6/dist-packages (from requests->vncorenlp) (1.24.3)\n",
            "Building wheels for collected packages: vncorenlp\n",
            "  Building wheel for vncorenlp (setup.py) ... \u001b[?25l\u001b[?25hdone\n",
            "  Created wheel for vncorenlp: filename=vncorenlp-1.0.3-cp36-none-any.whl size=2645934 sha256=0c07a0e4e742d609df6599de98eac1d5d2b6eaf15e909a2e0e8655d29bd529cb\n",
            "  Stored in directory: /root/.cache/pip/wheels/09/54/8b/043667de6091d06a381d7745f44174504a9a4a56ecc9380c54\n",
            "Successfully built vncorenlp\n",
            "Installing collected packages: vncorenlp\n",
            "Successfully installed vncorenlp-1.0.3\n"
          ],
          "name": "stdout"
        }
      ]
    },
    {
      "cell_type": "code",
      "metadata": {
        "colab": {
          "base_uri": "https://localhost:8080/"
        },
        "id": "dV9S87S1pUSp",
        "outputId": "290c63a8-86f0-411e-9d41-7bc4bf3693a7"
      },
      "source": [
        "!pip install transformers-phobert"
      ],
      "execution_count": 9,
      "outputs": [
        {
          "output_type": "stream",
          "text": [
            "Collecting transformers-phobert\n",
            "\u001b[?25l  Downloading https://files.pythonhosted.org/packages/f7/de/95b3dfc362e0b733253ec36d7206356a9da4d7310808a2331f817505bdf6/transformers-phobert-3.1.2.tar.gz (777kB)\n",
            "\u001b[K     |████████████████████████████████| 778kB 5.5MB/s \n",
            "\u001b[?25hRequirement already satisfied: numpy in /usr/local/lib/python3.6/dist-packages (from transformers-phobert) (1.18.5)\n",
            "Collecting tokenizers==0.8.1.rc2\n",
            "\u001b[?25l  Downloading https://files.pythonhosted.org/packages/80/83/8b9fccb9e48eeb575ee19179e2bdde0ee9a1904f97de5f02d19016b8804f/tokenizers-0.8.1rc2-cp36-cp36m-manylinux1_x86_64.whl (3.0MB)\n",
            "\u001b[K     |████████████████████████████████| 3.0MB 18.0MB/s \n",
            "\u001b[?25hRequirement already satisfied: packaging in /usr/local/lib/python3.6/dist-packages (from transformers-phobert) (20.7)\n",
            "Requirement already satisfied: filelock in /usr/local/lib/python3.6/dist-packages (from transformers-phobert) (3.0.12)\n",
            "Requirement already satisfied: requests in /usr/local/lib/python3.6/dist-packages (from transformers-phobert) (2.23.0)\n",
            "Requirement already satisfied: tqdm>=4.27 in /usr/local/lib/python3.6/dist-packages (from transformers-phobert) (4.41.1)\n",
            "Requirement already satisfied: regex!=2019.12.17 in /usr/local/lib/python3.6/dist-packages (from transformers-phobert) (2019.12.20)\n",
            "Collecting sentencepiece!=0.1.92\n",
            "\u001b[?25l  Downloading https://files.pythonhosted.org/packages/e5/2d/6d4ca4bef9a67070fa1cac508606328329152b1df10bdf31fb6e4e727894/sentencepiece-0.1.94-cp36-cp36m-manylinux2014_x86_64.whl (1.1MB)\n",
            "\u001b[K     |████████████████████████████████| 1.1MB 32.8MB/s \n",
            "\u001b[?25hRequirement already satisfied: sacremoses in /usr/local/lib/python3.6/dist-packages (from transformers-phobert) (0.0.43)\n",
            "Requirement already satisfied: dataclasses in /usr/local/lib/python3.6/dist-packages (from transformers-phobert) (0.8)\n",
            "Requirement already satisfied: pyparsing>=2.0.2 in /usr/local/lib/python3.6/dist-packages (from packaging->transformers-phobert) (2.4.7)\n",
            "Requirement already satisfied: chardet<4,>=3.0.2 in /usr/local/lib/python3.6/dist-packages (from requests->transformers-phobert) (3.0.4)\n",
            "Requirement already satisfied: urllib3!=1.25.0,!=1.25.1,<1.26,>=1.21.1 in /usr/local/lib/python3.6/dist-packages (from requests->transformers-phobert) (1.24.3)\n",
            "Requirement already satisfied: certifi>=2017.4.17 in /usr/local/lib/python3.6/dist-packages (from requests->transformers-phobert) (2020.12.5)\n",
            "Requirement already satisfied: idna<3,>=2.5 in /usr/local/lib/python3.6/dist-packages (from requests->transformers-phobert) (2.10)\n",
            "Requirement already satisfied: click in /usr/local/lib/python3.6/dist-packages (from sacremoses->transformers-phobert) (7.1.2)\n",
            "Requirement already satisfied: six in /usr/local/lib/python3.6/dist-packages (from sacremoses->transformers-phobert) (1.15.0)\n",
            "Requirement already satisfied: joblib in /usr/local/lib/python3.6/dist-packages (from sacremoses->transformers-phobert) (0.17.0)\n",
            "Building wheels for collected packages: transformers-phobert\n",
            "  Building wheel for transformers-phobert (setup.py) ... \u001b[?25l\u001b[?25hdone\n",
            "  Created wheel for transformers-phobert: filename=transformers_phobert-3.1.2-cp36-none-any.whl size=937535 sha256=ff54498e700e7ca03ff3923da519df5c1ae12c5b1b2d370f63c49c94d9fd8469\n",
            "  Stored in directory: /root/.cache/pip/wheels/cd/cc/58/e17df0c3e8a761f126c5864f29aa299559a14698ab78e3e825\n",
            "Successfully built transformers-phobert\n",
            "\u001b[31mERROR: transformers 4.0.1 has requirement tokenizers==0.9.4, but you'll have tokenizers 0.8.1rc2 which is incompatible.\u001b[0m\n",
            "Installing collected packages: tokenizers, sentencepiece, transformers-phobert\n",
            "  Found existing installation: tokenizers 0.9.4\n",
            "    Uninstalling tokenizers-0.9.4:\n",
            "      Successfully uninstalled tokenizers-0.9.4\n",
            "Successfully installed sentencepiece-0.1.94 tokenizers-0.8.1rc2 transformers-phobert-3.1.2\n"
          ],
          "name": "stdout"
        }
      ]
    },
    {
      "cell_type": "code",
      "metadata": {
        "id": "5sGcfSblZrgq"
      },
      "source": [
        "from vncorenlp import VnCoreNLP\n",
        "rdrsegmenter = VnCoreNLP(\"/content/drive/MyDrive/Colab Notebooks/VnCoreNLP-master/VnCoreNLP-1.1.1.jar\", annotators=\"wseg\", max_heap_size='-Xmx500m') "
      ],
      "execution_count": 10,
      "outputs": []
    },
    {
      "cell_type": "code",
      "metadata": {
        "id": "AKZNsDOUZuT9"
      },
      "source": [
        "from fairseq.data.encoders.fastbpe import fastBPE\n",
        "from fairseq.data import Dictionary\n",
        "import argparse\n",
        "\n",
        "parser = argparse.ArgumentParser()\n",
        "parser.add_argument('--bpe-codes', \n",
        "    default=\"/content/drive/MyDrive/Colab Notebooks/PhoBERT_base_transformers/PhoBERT_base_transformers/bpe.codes\",\n",
        "    required=False,\n",
        "    type=str,\n",
        "    help='path to fastBPE BPE'\n",
        ")\n",
        "args, unknown = parser.parse_known_args()\n",
        "bpe = fastBPE(args)\n",
        "\n",
        "# Load the dictionary\n",
        "vocab = Dictionary()\n",
        "vocab.add_from_file(\"/content/drive/MyDrive/Colab Notebooks/PhoBERT_base_transformers/PhoBERT_base_transformers/dict.txt\")"
      ],
      "execution_count": 11,
      "outputs": []
    },
    {
      "cell_type": "code",
      "metadata": {
        "colab": {
          "base_uri": "https://localhost:8080/",
          "height": 204
        },
        "id": "wj4Csu7ccRS2",
        "outputId": "57609c79-78de-4816-c2b8-b2951472b21a"
      },
      "source": [
        "df = pd.read_csv('/content/drive/MyDrive/Colab Notebooks/Bert_Complaint/Dataset_DL.csv')\n",
        "df.head()"
      ],
      "execution_count": 12,
      "outputs": [
        {
          "output_type": "execute_result",
          "data": {
            "text/html": [
              "<div>\n",
              "<style scoped>\n",
              "    .dataframe tbody tr th:only-of-type {\n",
              "        vertical-align: middle;\n",
              "    }\n",
              "\n",
              "    .dataframe tbody tr th {\n",
              "        vertical-align: top;\n",
              "    }\n",
              "\n",
              "    .dataframe thead th {\n",
              "        text-align: right;\n",
              "    }\n",
              "</style>\n",
              "<table border=\"1\" class=\"dataframe\">\n",
              "  <thead>\n",
              "    <tr style=\"text-align: right;\">\n",
              "      <th></th>\n",
              "      <th>ID</th>\n",
              "      <th>Comment</th>\n",
              "      <th>Label</th>\n",
              "      <th>Domain</th>\n",
              "    </tr>\n",
              "  </thead>\n",
              "  <tbody>\n",
              "    <tr>\n",
              "      <th>0</th>\n",
              "      <td>1117661425258766_1117711878587054</td>\n",
              "      <td>Tắt Ai tự động nhận diện ảnh kiểu gì ak</td>\n",
              "      <td>0</td>\n",
              "      <td>Điện thoại</td>\n",
              "    </tr>\n",
              "    <tr>\n",
              "      <th>1</th>\n",
              "      <td>1117661425258766_1117711881920387</td>\n",
              "      <td>So sánh với Nokia 8.1</td>\n",
              "      <td>0</td>\n",
              "      <td>Điện thoại</td>\n",
              "    </tr>\n",
              "    <tr>\n",
              "      <th>2</th>\n",
              "      <td>1117661425258766_1117712271920348</td>\n",
              "      <td>A51 vs reno 2F máy nào tốt hơn a</td>\n",
              "      <td>0</td>\n",
              "      <td>Điện thoại</td>\n",
              "    </tr>\n",
              "    <tr>\n",
              "      <th>3</th>\n",
              "      <td>1117661425258766_1117712698586972</td>\n",
              "      <td>Giật nhỉ :))</td>\n",
              "      <td>1</td>\n",
              "      <td>Điện thoại</td>\n",
              "    </tr>\n",
              "    <tr>\n",
              "      <th>4</th>\n",
              "      <td>1117661425258766_1117712938586948</td>\n",
              "      <td>Mới toang con 7plus,hôm qua ra làm luôn con nà...</td>\n",
              "      <td>1</td>\n",
              "      <td>Điện thoại</td>\n",
              "    </tr>\n",
              "  </tbody>\n",
              "</table>\n",
              "</div>"
            ],
            "text/plain": [
              "                                  ID  ...      Domain\n",
              "0  1117661425258766_1117711878587054  ...  Điện thoại\n",
              "1  1117661425258766_1117711881920387  ...  Điện thoại\n",
              "2  1117661425258766_1117712271920348  ...  Điện thoại\n",
              "3  1117661425258766_1117712698586972  ...  Điện thoại\n",
              "4  1117661425258766_1117712938586948  ...  Điện thoại\n",
              "\n",
              "[5 rows x 4 columns]"
            ]
          },
          "metadata": {
            "tags": []
          },
          "execution_count": 12
        }
      ]
    },
    {
      "cell_type": "markdown",
      "metadata": {
        "id": "OG3KjpqR0hVT"
      },
      "source": [
        "\r\n",
        "# Preprocess data"
      ]
    },
    {
      "cell_type": "code",
      "metadata": {
        "id": "YMC8PPnsep0n"
      },
      "source": [
        "uniChars = \"àáảãạâầấẩẫậăằắẳẵặèéẻẽẹêềếểễệđìíỉĩịòóỏõọôồốổỗộơờớởỡợùúủũụưừứửữựỳýỷỹỵÀÁẢÃẠÂẦẤẨẪẬĂẰẮẲẴẶÈÉẺẼẸÊỀẾỂỄỆĐÌÍỈĨỊÒÓỎÕỌÔỒỐỔỖỘƠỜỚỞỠỢÙÚỦŨỤƯỪỨỬỮỰỲÝỶỸỴÂĂĐÔƠƯ\"\n",
        "unsignChars = \"aaaaaaaaaaaaaaaaaeeeeeeeeeeediiiiiooooooooooooooooouuuuuuuuuuuyyyyyAAAAAAAAAAAAAAAAAEEEEEEEEEEEDIIIOOOOOOOOOOOOOOOOOOOUUUUUUUUUUUYYYYYAADOOU\"\n",
        " \n",
        "def loaddicchar():\n",
        "    dic = {}\n",
        "    char1252 = 'à|á|ả|ã|ạ|ầ|ấ|ẩ|ẫ|ậ|ằ|ắ|ẳ|ẵ|ặ|è|é|ẻ|ẽ|ẹ|ề|ế|ể|ễ|ệ|ì|í|ỉ|ĩ|ị|ò|ó|ỏ|õ|ọ|ồ|ố|ổ|ỗ|ộ|ờ|ớ|ở|ỡ|ợ|ù|ú|ủ|ũ|ụ|ừ|ứ|ử|ữ|ự|ỳ|ý|ỷ|ỹ|ỵ|À|Á|Ả|Ã|Ạ|Ầ|Ấ|Ẩ|Ẫ|Ậ|Ằ|Ắ|Ẳ|Ẵ|Ặ|È|É|Ẻ|Ẽ|Ẹ|Ề|Ế|Ể|Ễ|Ệ|Ì|Í|Ỉ|Ĩ|Ị|Ò|Ó|Ỏ|Õ|Ọ|Ồ|Ố|Ổ|Ỗ|Ộ|Ờ|Ớ|Ở|Ỡ|Ợ|Ù|Ú|Ủ|Ũ|Ụ|Ừ|Ứ|Ử|Ữ|Ự|Ỳ|Ý|Ỷ|Ỹ|Ỵ'.split(\n",
        "        '|')\n",
        "    charutf8 = \"à|á|ả|ã|ạ|ầ|ấ|ẩ|ẫ|ậ|ằ|ắ|ẳ|ẵ|ặ|è|é|ẻ|ẽ|ẹ|ề|ế|ể|ễ|ệ|ì|í|ỉ|ĩ|ị|ò|ó|ỏ|õ|ọ|ồ|ố|ổ|ỗ|ộ|ờ|ớ|ở|ỡ|ợ|ù|ú|ủ|ũ|ụ|ừ|ứ|ử|ữ|ự|ỳ|ý|ỷ|ỹ|ỵ|À|Á|Ả|Ã|Ạ|Ầ|Ấ|Ẩ|Ẫ|Ậ|Ằ|Ắ|Ẳ|Ẵ|Ặ|È|É|Ẻ|Ẽ|Ẹ|Ề|Ế|Ể|Ễ|Ệ|Ì|Í|Ỉ|Ĩ|Ị|Ò|Ó|Ỏ|Õ|Ọ|Ồ|Ố|Ổ|Ỗ|Ộ|Ờ|Ớ|Ở|Ỡ|Ợ|Ù|Ú|Ủ|Ũ|Ụ|Ừ|Ứ|Ử|Ữ|Ự|Ỳ|Ý|Ỷ|Ỹ|Ỵ\".split(\n",
        "        '|')\n",
        "    for i in range(len(char1252)):\n",
        "        dic[char1252[i]] = charutf8[i]\n",
        "    return dic\n",
        "dicchar = loaddicchar()\n",
        "\n",
        "def convert_unicode(txt):\n",
        "    return re.sub(\n",
        "        r'à|á|ả|ã|ạ|ầ|ấ|ẩ|ẫ|ậ|ằ|ắ|ẳ|ẵ|ặ|è|é|ẻ|ẽ|ẹ|ề|ế|ể|ễ|ệ|ì|í|ỉ|ĩ|ị|ò|ó|ỏ|õ|ọ|ồ|ố|ổ|ỗ|ộ|ờ|ớ|ở|ỡ|ợ|ù|ú|ủ|ũ|ụ|ừ|ứ|ử|ữ|ự|ỳ|ý|ỷ|ỹ|ỵ|À|Á|Ả|Ã|Ạ|Ầ|Ấ|Ẩ|Ẫ|Ậ|Ằ|Ắ|Ẳ|Ẵ|Ặ|È|É|Ẻ|Ẽ|Ẹ|Ề|Ế|Ể|Ễ|Ệ|Ì|Í|Ỉ|Ĩ|Ị|Ò|Ó|Ỏ|Õ|Ọ|Ồ|Ố|Ổ|Ỗ|Ộ|Ờ|Ớ|Ở|Ỡ|Ợ|Ù|Ú|Ủ|Ũ|Ụ|Ừ|Ứ|Ử|Ữ|Ự|Ỳ|Ý|Ỷ|Ỹ|Ỵ',\n",
        "        lambda x: dicchar[x.group()], txt)\n",
        "\n",
        "bang_nguyen_am = [['a', 'à', 'á', 'ả', 'ã', 'ạ', 'a'],\n",
        "                  ['ă', 'ằ', 'ắ', 'ẳ', 'ẵ', 'ặ', 'aw'],\n",
        "                  ['â', 'ầ', 'ấ', 'ẩ', 'ẫ', 'ậ', 'aa'],\n",
        "                  ['e', 'è', 'é', 'ẻ', 'ẽ', 'ẹ', 'e'],\n",
        "                  ['ê', 'ề', 'ế', 'ể', 'ễ', 'ệ', 'ee'],\n",
        "                  ['i', 'ì', 'í', 'ỉ', 'ĩ', 'ị', 'i'],\n",
        "                  ['o', 'ò', 'ó', 'ỏ', 'õ', 'ọ', 'o'],\n",
        "                  ['ô', 'ồ', 'ố', 'ổ', 'ỗ', 'ộ', 'oo'],\n",
        "                  ['ơ', 'ờ', 'ớ', 'ở', 'ỡ', 'ợ', 'ow'],\n",
        "                  ['u', 'ù', 'ú', 'ủ', 'ũ', 'ụ', 'u'],\n",
        "                  ['ư', 'ừ', 'ứ', 'ử', 'ữ', 'ự', 'uw'],\n",
        "                  ['y', 'ỳ', 'ý', 'ỷ', 'ỹ', 'ỵ', 'y']]\n",
        "bang_ky_tu_dau = ['', 'f', 's', 'r', 'x', 'j']\n",
        "\n",
        "nguyen_am_to_ids = {}\n",
        "\n",
        "for i in range(len(bang_nguyen_am)):\n",
        "    for j in range(len(bang_nguyen_am[i]) - 1):\n",
        "        nguyen_am_to_ids[bang_nguyen_am[i][j]] = (i, j)\n",
        "\n",
        "def chuan_hoa_dau_tu_tieng_viet(word):\n",
        "    if not is_valid_vietnam_word(word):\n",
        "        return word\n",
        "\n",
        "    chars = list(word)\n",
        "    dau_cau = 0\n",
        "    nguyen_am_index = []\n",
        "    qu_or_gi = False\n",
        "    for index, char in enumerate(chars):\n",
        "        x, y = nguyen_am_to_ids.get(char, (-1, -1))\n",
        "        if x == -1:\n",
        "            continue\n",
        "        elif x == 9:  # check qu\n",
        "            if index != 0 and chars[index - 1] == 'q':\n",
        "                chars[index] = 'u'\n",
        "                qu_or_gi = True\n",
        "        elif x == 5:  # check gi\n",
        "            if index != 0 and chars[index - 1] == 'g':\n",
        "                chars[index] = 'i'\n",
        "                qu_or_gi = True\n",
        "        if y != 0:\n",
        "            dau_cau = y\n",
        "            chars[index] = bang_nguyen_am[x][0]\n",
        "        if not qu_or_gi or index != 1:\n",
        "            nguyen_am_index.append(index)\n",
        "    if len(nguyen_am_index) < 2:\n",
        "        if qu_or_gi:\n",
        "            if len(chars) == 2:\n",
        "                x, y = nguyen_am_to_ids.get(chars[1])\n",
        "                chars[1] = bang_nguyen_am[x][dau_cau]\n",
        "            else:\n",
        "                x, y = nguyen_am_to_ids.get(chars[2], (-1, -1))\n",
        "                if x != -1:\n",
        "                    chars[2] = bang_nguyen_am[x][dau_cau]\n",
        "                else:\n",
        "                    chars[1] = bang_nguyen_am[5][dau_cau] if chars[1] == 'i' else bang_nguyen_am[9][dau_cau]\n",
        "            return ''.join(chars)\n",
        "        return word\n",
        "\n",
        "    for index in nguyen_am_index:\n",
        "        x, y = nguyen_am_to_ids[chars[index]]\n",
        "        if x == 4 or x == 8:  # ê, ơ\n",
        "            chars[index] = bang_nguyen_am[x][dau_cau]\n",
        "            # for index2 in nguyen_am_index:\n",
        "            #     if index2 != index:\n",
        "            #         x, y = nguyen_am_to_ids[chars[index]]\n",
        "            #         chars[index2] = bang_nguyen_am[x][0]\n",
        "            return ''.join(chars)\n",
        "\n",
        "    if len(nguyen_am_index) == 2:\n",
        "        if nguyen_am_index[-1] == len(chars) - 1:\n",
        "            x, y = nguyen_am_to_ids[chars[nguyen_am_index[0]]]\n",
        "            chars[nguyen_am_index[0]] = bang_nguyen_am[x][dau_cau]\n",
        "            # x, y = nguyen_am_to_ids[chars[nguyen_am_index[1]]]\n",
        "            # chars[nguyen_am_index[1]] = bang_nguyen_am[x][0]\n",
        "        else:\n",
        "            # x, y = nguyen_am_to_ids[chars[nguyen_am_index[0]]]\n",
        "            # chars[nguyen_am_index[0]] = bang_nguyen_am[x][0]\n",
        "            x, y = nguyen_am_to_ids[chars[nguyen_am_index[1]]]\n",
        "            chars[nguyen_am_index[1]] = bang_nguyen_am[x][dau_cau]\n",
        "    else:\n",
        "        # x, y = nguyen_am_to_ids[chars[nguyen_am_index[0]]]\n",
        "        # chars[nguyen_am_index[0]] = bang_nguyen_am[x][0]\n",
        "        x, y = nguyen_am_to_ids[chars[nguyen_am_index[1]]]\n",
        "        chars[nguyen_am_index[1]] = bang_nguyen_am[x][dau_cau]\n",
        "        # x, y = nguyen_am_to_ids[chars[nguyen_am_index[2]]]\n",
        "        # chars[nguyen_am_index[2]] = bang_nguyen_am[x][0]\n",
        "    return ''.join(chars)\n",
        "\n",
        "\n",
        "def is_valid_vietnam_word(word):\n",
        "    chars = list(word)\n",
        "    nguyen_am_index = -1\n",
        "    for index, char in enumerate(chars):\n",
        "        x, y = nguyen_am_to_ids.get(char, (-1, -1))\n",
        "        if x != -1:\n",
        "            if nguyen_am_index == -1:\n",
        "                nguyen_am_index = index\n",
        "            else:\n",
        "                if index - nguyen_am_index != 1:\n",
        "                    return False\n",
        "                nguyen_am_index = index\n",
        "    return True\n",
        "\n",
        "\n",
        "def chuan_hoa_dau_cau_tieng_viet(sentence):\n",
        "    \"\"\"\n",
        "        Chuyển câu tiếng việt về chuẩn gõ dấu kiểu cũ.\n",
        "        :param sentence:\n",
        "        :return:\n",
        "        \"\"\"\n",
        "    sentence = sentence.lower()\n",
        "    words = sentence.split()\n",
        "    for index, word in enumerate(words):\n",
        "        cw = re.sub(r'(^\\p{P}*)([p{L}.]*\\p{L}+)(\\p{P}*$)', r'\\1/\\2/\\3', word).split('/')\n",
        "        # print(cw)\n",
        "        if len(cw) == 3:\n",
        "            cw[1] = chuan_hoa_dau_tu_tieng_viet(cw[1])\n",
        "        words[index] = ''.join(cw)\n",
        "    return ' '.join(words)\n",
        "\n",
        "def remove_html(txt):\n",
        "    return re.sub(r'<[^>]*>', '', txt)"
      ],
      "execution_count": 13,
      "outputs": []
    },
    {
      "cell_type": "code",
      "metadata": {
        "id": "A_lXbaCIfer8"
      },
      "source": [
        "def text_preprocess(document):\n",
        "    # delete html code\n",
        "    document = remove_html(document)\n",
        "    # standardized unicode\n",
        "    document = convert_unicode(document)\n",
        "    # standardized typing Vietnamese accents\n",
        "    document = chuan_hoa_dau_cau_tieng_viet(document)\n",
        "    # lower\n",
        "    document = document.lower()\n",
        "    # delete unnecessary characters \n",
        "    document = re.sub(r'[^\\s\\wáàảãạăắằẳẵặâấầẩẫậéèẻẽẹêếềểễệóòỏõọôốồổỗộơớờởỡợíìỉĩịúùủũụưứừửữựýỳỷỹỵđ_]',' ',document)\n",
        "    # delete extra spaces\n",
        "    document = re.sub(r'\\s+', ' ', document).strip()\n",
        "    return document"
      ],
      "execution_count": 14,
      "outputs": []
    },
    {
      "cell_type": "code",
      "metadata": {
        "id": "VTUkNwHsfpS5"
      },
      "source": [
        "df[\"Comment\"] = df[\"Comment\"].apply(text_preprocess)"
      ],
      "execution_count": 15,
      "outputs": []
    },
    {
      "cell_type": "code",
      "metadata": {
        "id": "_2K3_RQ9hozP"
      },
      "source": [
        "\n",
        "abbr_dict={'k':'không','t':'tôi','fb':'facebook','mess':'messenger','mn':'mọi người','gr':'group','dc':'được','ko':'không','mng':'mọi người','cty':'công ty','1':'một','ngta':'người ta','ng':'người','oki':'ok','thg':'thường','vn':'việt nam','tq':'trung quốc','insta':'instagram','connect':'kết nối','user':'người dùng','h':'giờ','nt':'nhắn tin','dth':'dễ thương','đt':'điện thoại','qc':'quảng cáo','pr':'quảng cáo','ae':'anh em','trung':'trung quốc','tk':'tài khoản','mị':'tôi','chăn rau':'gạ gẫm','ny':'người yêu','lq':'game','wa':'quá','ak':'á','í':'ý','ms':'mới','ip':'iphone','apple':'iphone','kh':'không','cùi':'tệ','dg':'đang','ms':'mới','vs':'với','lm':'làm','bik':'biết','tàu':'trung quốc','tn':'tin nhắn','comment':'bình luận','ng':'người','app':'ứng dụng','u.d':'ứng dụng','j':'gì','mk':'tôi','inb':'nhắn tin','nick':'tài khoản','cmt':'bình luận','update':'nâng cấp','hk':'hông','hoy':'thôi','xh':'xã hội','ntn':'như thế nào',\n",
        "'gr':'group','mxh':'mạng xã hội','đc':'được','ko':'không','fb':'facebook','zl':'zalo','tw':'twitter','tele':'telegram','t':'tôi','mng':'mọi người','ng':'người','nma':'nhưng mà','cty':'công ty','vidcall':'video call','acc':'account','tumblr':'tumbler',\n",
        "'mn':'mọi người','ngta':'người ta','hong':'không','vn':'Việt Nam','vl':'quá trời','cm':'chúng mày','tq':'Trung Quốc','thg':'thường','face':'facebook','hs':'Hoàng Sa','ts':'Trường Sa','vn':'Việt Nam','tq':'Trung Quốc','nn':'nước ngoài','dn':'doanh nghiệp',\n",
        "'fb':'facebook','bt':'biết','vs':'với','pr':'quảng cáo','dth':'dễ thương','sx':'sản xuất','vn':'Việt Nam','pỏn':'porn','ig':'instagram','klq':'không liên quan',\n",
        "'mobi':'mobile','ae':'anh em','ny':'người yêu','nhứt':'nhất','trc':'trước','zm':'zing me','n':'nhiều','mess':'messenger','tk':'tài khoản','r':'rồi','mị':'mình','ib':'inbox','nf':'new feed','nhug':'nhưng','sđ':'sử dụng','tung của':'Trung Quốc','mer':'mơ','cmt':'comment','j':'gì','4rum':'forum','nyc':'người yêu cũ','đc':'được','dùg':'dùng','dùngg':'dùng','trường cđ':'trường cao đẳng','cae':'cả anh em','Ms':'microsoft',\n",
        "'nhìu':'nhiều','sv':'sinh viên','hwa':'hôm qua','ae':'anh em','save':'lưu','bank':'ngân hàng','tgioi':'thế giới','méo':'không','ndung':'nội dung','e':'em','áh':'á',\n",
        "'nf':'new feed','xh':'xã hội','ak':'á','trc':'trước','đb':'đầu bùi','ad':'admin','k':'không','t':'tôi','fb':'facebook','mess':'messenger','mn':'mọi người','gr':'group','dc':'được','ko':'không','mng':'mọi người','cty':'công ty','1':'một','ngta':'người ta','ng':'người','oki':'ok','thg':'thường','vn':'việt nam','tq':'trung quốc','die':'chết','insta':'instagram','connect':'kết nối','user':'người dùng','h':'giờ','nt':'nhắn tin','dth':'dễ thương','đt':'điện thoại','qc':'quảng cáo','pr':'quảng cáo','ae':'anh em','trung':'trung quốc','tk':'tài khoản','mị':'tôi','chăn rau':'gạ gẫm','ny':'người yêu','lq':'game','wa':'quá','ak':'á','í':'ý','ms':'mới','ip':'iphone','apple':'iphone','kh':'không','cùi':'tệ','dg':'đang','ms':'mới','vs':'với','lm':'làm','bik':'biết','tàu':'trung quốc',\n",
        "'tn':'tin nhắn','comment':'bình luận','ng':'người','app':'ứng dụng','u.d':'ứng dụng','j':'gì','mk':'tôi','inb':'nhắn tin','nick':'tài khoản','cmt':'bình luận','update':'nâng cấp','hk':'hông','hoy':'thôi','xh':'xã hội','ntn':'như thế nào','b':'bạn','sp':'sản phẩm','oki':'ok','dùg':'dùng','hk':'không','nc': 'nước','í': 'ý','e':'em','srm': 'sữa rửa mặt','rv': 'review','kcn': 'kem chống nắng','ttrang': 'tẩy trang','bn':'bao nhiêu','r': 'rồi','ah':'ạ','m': 'mình','oke': 'ok','zới': 'với','rw': 'review','klq': 'không liên quan','sr': 'serum','mp': 'mỹ phẩm','cx':'cũng','cj': 'chị','c':'chị','ttbc': 'tẩy tế bào chết','ng':'người','v': 'vậy','ce': 'chị em','hok': 'không','lquan':'liên quan','nèe': 'nè','bạnn': 'bạn','sis': 'chị','pk': 'biết','sg':'sài gòn','ntn': 'như thế này','bit': 'biết','tnao': 'thế nào','okeee':'ok','ơu': 'ơi','xl': 'xin lỗi','bh': 'bây giờ','hh': 'hỗn hợp','cũngg': 'cũng','hjx': 'hic','tr': 'trời','ln': 'luôn','od': 'đặt hàng','thik': 'thích','ncl': 'nói chung là','ơii': 'ơi','n': 'nó','N':'nó','nhiêud': 'nhiều','ek': 'em','Mội': 'mọi','mjnh': 'mình','bth': 'bình thường','gù': 'gì','rww': 'bình luận','lq': 'liên quan','oie': 'ơi','okela': 'ok','mem': 'bạn','siu':'siêu','Vtm tree': 'nhãn_hiệu','gth': 'giới thiệu','yt': 'youtube','th': 'trường hợp','nhưg': 'nhưng','mrm': 'sữa rửa mặt','ci': 'chị','bt': 'biết','pai': 'phải','ngta': 'người ta','m.n': 'mọi người','ms': 'mới','cx': 'cũng','thíc':'thích','dg': 'đang','tt': 'tẩy trang','kb': 'không biết','hq':'Hàn Quốc','sd':'sử dụng','nc':'nước','lcl':'lỗ chân lông','b':'bạn','r':'rồi','mh':'mình','xog':'xong','nh':'nhiều','c':'chị','r':'rồi','m':'mình','auth':'chính hãng','ah':'ạ','sp':'sản phẩm','bn':'bạn','xg':'xong','mk':'mình','bth':'bình thường','or':'hoặc','m.n':'mọi người','v':'vậy','mrm':'sữa rửa mặt','sr':'serum','ngkhac':'người khác','vsinh':'vệ sinh','mn':'mặt nạ','kh':'không','lun':'luôn','hiu hiu':'khóc','bio':'bio','TO':'The Ordinary','td':'tẩy da','nek':'nè','mìk':'mình','ạk':'ạ','mog':'mong','lsao':'là sao','s':'sao','ak':'á','siu siu':'siêu siêu','cx':'cũng','kp':'không phải','bt':'bình thường','hhtd':'hỗn hợp thiên dầu','ord':'đặt hàng','đc':'được','ợ':'ạ','kp':'không phải','đk':'được','nta':'người ta','hời':'trời ơi','td':'tác dụng','sr':'xin lỗi','ui':'ôi','tt':'tẩy trang','oi':'ơi','kb':'không biết','z':'vậy','sis':'chị gái','nvay':'như vậy','vd':'ví dụ','hsinh':'hi sinh','mh':'mình','eee':'ê','a':'anh','hông':'không','bh':'bao giờ','qq':'quần què','gg':'google','mọi ng':'mọi người','ni':'này','hq':'hôm qua','òy':'rồi','rcm':'tư vấn','fai':'phải','vđ':'ví dụ','đg':'đang','ối':'trời ơi','èo':'eo ôi','cskh':'chăm sóc khách hàng','f':'phải','nầy':'này','nx':'nhận xét','zô':'vô','TG':'thế giới','ui':'ơi','hhtk':'hỗn hợp thiên khô','oki':'ok','ytb':'youtuber','ún':'uống','hs':'học sinh','sv':'sinh viên','nc':'nói chung','ng':'người','400k':'400 nghìn','tbc':'tế bào chết','vứiiii':'với','mđ':'mấy đứa','ts':'tới','bn':'bao nhiêu','tờ':'trộn','zs':'với','ch':'chưa','é':'á','okies':'ok','tphan':'thành phần','coa':'có','hk':'không','ttbc':'tẩy tế bào chết','dk':'được','nhma':'nhưng mà','mọe':'mẹ','rì':'nhận xét','dug':'đúng','ck':'chồng','tv':'tư vấn','tg':'thời gian','oy':'ơi','cd':'công dụng','bn':'bạn', 'bum':'bướm','búm':'bướm','nhg':'nhưng','hok':'không','ks':'không sao','qtrong':'quan trọng','tgian':'thời gian','tr':'trời','tnao':'thế nào','hôg':'không','kbt':'không biết sao','body':'cơ thể','review':'bình luận','toner':'nước_dưỡng','naruko':'nhãn_hiệu','saem':'nhãn_hiệu','aztec':'nhãn_hiệu','lotion':'sữa_dưỡng','khoing':'không','skincare':'sp_dưỡng_da','serum':'tinh chất','melano':'nhãn_hiệu','simple':'nhãn_hiệu','laroche':'nhãn_hiệu','senka':'nhãn_hiệu','acnes':'nhãn_hiệu','cerave':'nhãn_hiệu','silicon':'chất hại','liti':'li ti','từg':'từng','fake':'giả','makup':'trang điểm'\n",
        "}\n",
        "def find_replace(list_token, dictionary):\n",
        "    for idx, item in enumerate(list_token): \n",
        "        if item in dictionary.keys():\n",
        "            list_token[idx] = dictionary[item]            \n",
        "    return list_token \n"
      ],
      "execution_count": 16,
      "outputs": []
    },
    {
      "cell_type": "code",
      "metadata": {
        "id": "jWffmf8Un2nI"
      },
      "source": [
        "for i in range(len(df)):\n",
        "    df[\"Comment\"][i] = find_replace(df[\"Comment\"][i].split(' '), abbr_dict)\n",
        "#convert to string\n",
        "for i in range(len(df)):\n",
        "   df[\"Comment\"][i]= ' '.join(df[\"Comment\"][i])\n",
        "comments = df[\"Comment\"]"
      ],
      "execution_count": 17,
      "outputs": []
    },
    {
      "cell_type": "code",
      "metadata": {
        "id": "9PeUfS4w0ivD"
      },
      "source": [
        "for i in range(len(df)):\r\n",
        "  df[\"Comment\"][i] = rdrsegmenter.tokenize(df[\"Comment\"][i])\r\n",
        "  df[\"Comment\"][i] = ' '.join([' '.join(x) for x in df[\"Comment\"][i]])\r\n"
      ],
      "execution_count": 18,
      "outputs": []
    },
    {
      "cell_type": "code",
      "metadata": {
        "id": "TUjeIFv7hVEo"
      },
      "source": [
        "# Find the maximum length\r\n",
        "length = []\r\n",
        "for i in range(len(df)):\r\n",
        "  length.append(len(df[\"Comment\"][i]))"
      ],
      "execution_count": 19,
      "outputs": []
    },
    {
      "cell_type": "code",
      "metadata": {
        "colab": {
          "base_uri": "https://localhost:8080/",
          "height": 313
        },
        "id": "vCsNFBWLi_AS",
        "outputId": "ca8ba516-d349-44bc-ee10-112b11d1e761"
      },
      "source": [
        "%matplotlib inline\r\n",
        "import matplotlib.pyplot as plt\r\n",
        "import seaborn as sns\r\n",
        "sns.distplot(length)\r\n",
        "plt.xlim([0, 500]);\r\n",
        "plt.xlabel('Token count')\r\n",
        " "
      ],
      "execution_count": 20,
      "outputs": [
        {
          "output_type": "stream",
          "text": [
            "2020-12-12 10:56:56 | INFO | numexpr.utils | NumExpr defaulting to 4 threads.\n"
          ],
          "name": "stderr"
        },
        {
          "output_type": "execute_result",
          "data": {
            "text/plain": [
              "Text(0.5, 0, 'Token count')"
            ]
          },
          "metadata": {
            "tags": []
          },
          "execution_count": 20
        },
        {
          "output_type": "display_data",
          "data": {
            "image/png": "[encoded data removed]",
            "text/plain": [
              "<Figure size 432x288 with 1 Axes>"
            ]
          },
          "metadata": {
            "tags": [],
            "needs_background": "light"
          }
        }
      ]
    },
    {
      "cell_type": "markdown",
      "metadata": {
        "id": "Lr4ughcjKxgb"
      },
      "source": [
        "# Split Train Set và Test Set"
      ]
    },
    {
      "cell_type": "code",
      "metadata": {
        "id": "50z0ozp8ozuC"
      },
      "source": [
        "X_train, X_test, y_train, y_test = train_test_split(df[\"Comment\"], df['Label'], test_size=0.2,random_state=42)"
      ],
      "execution_count": 21,
      "outputs": []
    },
    {
      "cell_type": "code",
      "metadata": {
        "colab": {
          "base_uri": "https://localhost:8080/"
        },
        "id": "HH2wq01f_Ko1",
        "outputId": "2819a4e3-1014-4f9a-eb40-cc3a7ada2d65"
      },
      "source": [
        "test = X_test.tolist()\r\n",
        "print('Train:\\n',y_train.value_counts(normalize=False))\r\n",
        "print('Test:\\n',y_test.value_counts(normalize=False))"
      ],
      "execution_count": 22,
      "outputs": [
        {
          "output_type": "stream",
          "text": [
            "Train:\n",
            " 0    1060\n",
            "1     872\n",
            "Name: Label, dtype: int64\n",
            "Test:\n",
            " 0    262\n",
            "1    221\n",
            "Name: Label, dtype: int64\n"
          ],
          "name": "stdout"
        }
      ]
    },
    {
      "cell_type": "markdown",
      "metadata": {
        "id": "jXxgwdIuLEVq"
      },
      "source": [
        "# Machine Learning"
      ]
    },
    {
      "cell_type": "markdown",
      "metadata": {
        "id": "ykiAy-y_NsTP"
      },
      "source": [
        "Vector hóa dữ liệu: TF-IDF"
      ]
    },
    {
      "cell_type": "code",
      "metadata": {
        "colab": {
          "base_uri": "https://localhost:8080/"
        },
        "id": "Y1f2lCvRQCfO",
        "outputId": "692c0f89-f33f-4f5f-8364-d026a988ef95"
      },
      "source": [
        "from sklearn.feature_extraction.text import CountVectorizer\r\n",
        "cv = CountVectorizer()\r\n",
        "X_cv = cv.fit_transform(X_train)\r\n",
        "print(X_cv.shape[1])"
      ],
      "execution_count": 23,
      "outputs": [
        {
          "output_type": "stream",
          "text": [
            "3922\n"
          ],
          "name": "stdout"
        }
      ]
    },
    {
      "cell_type": "code",
      "metadata": {
        "id": "A1zuaKb4LaCh"
      },
      "source": [
        "tfidf = TfidfVectorizer(max_features= 3900)\r\n",
        "X_train_tfidf = tfidf.fit_transform(X_train.astype('U')).toarray()\r\n",
        "X_test_tfidf = tfidf.transform(X_test.astype('U')).toarray()"
      ],
      "execution_count": 24,
      "outputs": []
    },
    {
      "cell_type": "code",
      "metadata": {
        "colab": {
          "base_uri": "https://localhost:8080/"
        },
        "id": "B3AK7lKtSaVt",
        "outputId": "95b98ac7-8dc1-4f6b-ff8a-b104b5867104"
      },
      "source": [
        "X_train_tfidf.shape"
      ],
      "execution_count": 25,
      "outputs": [
        {
          "output_type": "execute_result",
          "data": {
            "text/plain": [
              "(1932, 3900)"
            ]
          },
          "metadata": {
            "tags": []
          },
          "execution_count": 25
        }
      ]
    },
    {
      "cell_type": "code",
      "metadata": {
        "id": "5vfUWRvoVXnV"
      },
      "source": [
        "# Standardize data\r\n",
        "sc = StandardScaler()\r\n",
        "X_train_tfidf = sc.fit_transform(X_train_tfidf)\r\n",
        "X_test_tfidf = sc.transform(X_test_tfidf)"
      ],
      "execution_count": 26,
      "outputs": []
    },
    {
      "cell_type": "code",
      "metadata": {
        "colab": {
          "base_uri": "https://localhost:8080/",
          "height": 430
        },
        "id": "Wiy5lbpSLaSB",
        "outputId": "3754ac8f-2763-4164-af48-615a85ea2f3c"
      },
      "source": [
        "%%time\r\n",
        "models = []\r\n",
        "models.append(('LR', LogisticRegression()))\r\n",
        "models.append(('KNN', KNeighborsClassifier()))\r\n",
        "models.append(('DTree', DecisionTreeClassifier()))\r\n",
        "models.append(('NB', GaussianNB()))\r\n",
        "models.append(('SVM', SVC()))\r\n",
        "models.append(('RF',RandomForestClassifier()))\r\n",
        "\r\n",
        "results = []\r\n",
        "names = []\r\n",
        "scoring='f1_macro'\r\n",
        "for name, model in models:\r\n",
        "\tkfold = model_selection.KFold(n_splits=5)\r\n",
        "\tcv_results = model_selection.cross_val_score(model, X_train_tfidf, y_train, cv=kfold, scoring=scoring)\r\n",
        "\tresults.append(cv_results)\r\n",
        "\tnames.append(name)\r\n",
        "\tmsg = \"%s: %f (%f)\" % (name, cv_results.mean(), cv_results.std())\r\n",
        "\tprint(msg)\r\n",
        "  \r\n",
        "fig = plt.figure()\r\n",
        "fig.suptitle('Algorithm Comparison')\r\n",
        "ax = fig.add_subplot(111)\r\n",
        "plt.boxplot(results)\r\n",
        "ax.set_xticklabels(names)\r\n",
        "\r\n",
        "plt.show()"
      ],
      "execution_count": 29,
      "outputs": [
        {
          "output_type": "stream",
          "text": [
            "LR: 0.713035 (0.022724)\n",
            "KNN: 0.598285 (0.036204)\n",
            "DTree: 0.663632 (0.025906)\n",
            "NB: 0.647142 (0.023572)\n",
            "SVM: 0.706924 (0.027245)\n",
            "RF: 0.733367 (0.018957)\n"
          ],
          "name": "stdout"
        },
        {
          "output_type": "display_data",
          "data": {
            "image/png": "[encoded data removed]",
            "text/plain": [
              "<Figure size 432x288 with 1 Axes>"
            ]
          },
          "metadata": {
            "tags": [],
            "needs_background": "light"
          }
        },
        {
          "output_type": "stream",
          "text": [
            "CPU times: user 1min 45s, sys: 1.83 s, total: 1min 47s\n",
            "Wall time: 1min 43s\n"
          ],
          "name": "stdout"
        }
      ]
    },
    {
      "cell_type": "code",
      "metadata": {
        "id": "0joYMNIxpLXd",
        "colab": {
          "base_uri": "https://localhost:8080/"
        },
        "outputId": "cf1679a8-f018-46d8-94cf-d357d428ccda"
      },
      "source": [
        "%%time\r\n",
        "#Tuning hyparameters of Random Forest\r\n",
        "from sklearn.model_selection import GridSearchCV\r\n",
        "\r\n",
        "grid_param = {\r\n",
        "    'n_estimators': [100, 300, 500, 800, 1000],\r\n",
        "    'criterion': ['gini', 'entropy'],\r\n",
        "    'bootstrap': [True, False]\r\n",
        "}\r\n",
        "\r\n",
        "rf_grid = GridSearchCV(estimator=RandomForestClassifier(), param_grid=grid_param, cv= 5,scoring='f1_macro')\r\n",
        "\r\n",
        "rf_grid.fit(X_train_tfidf, y_train)\r\n",
        "\r\n",
        "print(rf_grid.best_params_)\r\n",
        "print(rf_grid.best_score_)\r\n"
      ],
      "execution_count": 30,
      "outputs": [
        {
          "output_type": "stream",
          "text": [
            "{'bootstrap': False, 'criterion': 'entropy', 'n_estimators': 100}\n",
            "0.7517859794285153\n",
            "CPU times: user 18min 11s, sys: 848 ms, total: 18min 12s\n",
            "Wall time: 18min 12s\n"
          ],
          "name": "stdout"
        }
      ]
    },
    {
      "cell_type": "code",
      "metadata": {
        "id": "yRE5lGFo48Br",
        "colab": {
          "base_uri": "https://localhost:8080/"
        },
        "outputId": "d0f56541-7c35-4e7f-d494-c0c27374c314"
      },
      "source": [
        "%%time\r\n",
        "#Tuning hyparameters of Logistic Regression\r\n",
        "grid_param = {\"C\": [0.001,0.01,0.1,1,10],\r\n",
        "\"penalty\" : ['l1', 'l2']\r\n",
        "}\r\n",
        "lr_grid = GridSearchCV(estimator=LogisticRegression(), param_grid=grid_param, cv= 5,scoring='f1_macro')\r\n",
        "\r\n",
        "lr_grid.fit(X_train_tfidf, y_train)\r\n",
        "\r\n",
        "print(lr_grid.best_params_)\r\n",
        "print(lr_grid.best_score_)"
      ],
      "execution_count": 31,
      "outputs": [
        {
          "output_type": "stream",
          "text": [
            "{'C': 0.01, 'penalty': 'l2'}\n",
            "0.7432500811479098\n",
            "CPU times: user 14.7 s, sys: 6.81 s, total: 21.5 s\n",
            "Wall time: 5.5 s\n"
          ],
          "name": "stdout"
        }
      ]
    },
    {
      "cell_type": "code",
      "metadata": {
        "id": "gouMzGm-5IYO",
        "colab": {
          "base_uri": "https://localhost:8080/"
        },
        "outputId": "23d4a0df-1a9c-4d21-c25a-d106b2a7dc24"
      },
      "source": [
        "%%time\r\n",
        "#Tuning hyparameters of Decison Tree\r\n",
        "\r\n",
        "grid_param = {'criterion': ['gini', 'entropy'],\r\n",
        "             'max_depth': [1, 2, 3, 4, 5, 6, 7, 8],\r\n",
        "             'min_samples_split': [2, 3]}\r\n",
        "\r\n",
        "DT_grid = GridSearchCV(estimator=DecisionTreeClassifier(), \r\n",
        "                     param_grid=grid_param, \r\n",
        "                     cv=5, \r\n",
        "                     scoring='f1_macro')\r\n",
        "\r\n",
        "DT_grid.fit(X_train_tfidf, y_train);\r\n",
        "\r\n",
        "print(DT_grid.best_params_)\r\n",
        "\r\n",
        "print(DT_grid.best_score_)"
      ],
      "execution_count": 32,
      "outputs": [
        {
          "output_type": "stream",
          "text": [
            "{'criterion': 'gini', 'max_depth': 8, 'min_samples_split': 2}\n",
            "0.6024965553346961\n",
            "CPU times: user 39.6 s, sys: 309 ms, total: 39.9 s\n",
            "Wall time: 39.6 s\n"
          ],
          "name": "stdout"
        }
      ]
    },
    {
      "cell_type": "code",
      "metadata": {
        "colab": {
          "base_uri": "https://localhost:8080/"
        },
        "id": "XdqAv6gP_sKg",
        "outputId": "2f5891f5-8564-486e-9776-517eb5ab18ad"
      },
      "source": [
        "%%time\r\n",
        "#Tuning hyparameters of SVM\r\n",
        "grid_param = {'C': [0.0001,0.01,0.1,1,10,100,1000],\r\n",
        "             'gamma': [1, 0.1, 0.001, 0.0001],\r\n",
        "             'kernel': ['linear', 'rbf']}\r\n",
        "\r\n",
        "SVM_grid = GridSearchCV(estimator=SVC(), \r\n",
        "                     param_grid=grid_param, \r\n",
        "                     cv=5, \r\n",
        "                     scoring='f1_macro')\r\n",
        "\r\n",
        "SVM_grid.fit(X_train_tfidf, y_train);\r\n",
        "\r\n",
        "print(SVM_grid.best_params_)\r\n",
        "\r\n",
        "print(SVM_grid.best_score_)"
      ],
      "execution_count": 33,
      "outputs": [
        {
          "output_type": "stream",
          "text": [
            "{'C': 10, 'gamma': 0.0001, 'kernel': 'rbf'}\n",
            "0.7473330560935201\n",
            "CPU times: user 1h 2min, sys: 233 ms, total: 1h 2min\n",
            "Wall time: 1h 2min\n"
          ],
          "name": "stdout"
        }
      ]
    },
    {
      "cell_type": "code",
      "metadata": {
        "id": "klcQ_de7C4w-",
        "colab": {
          "base_uri": "https://localhost:8080/"
        },
        "outputId": "c408173e-9d29-4a6c-f99b-f97daf9b7a26"
      },
      "source": [
        "%%time\r\n",
        "# Final Results in Test Set\r\n",
        "models = []\r\n",
        "models.append(SVM_grid.best_estimator_)\r\n",
        "models.append(rf_grid.best_estimator_)\r\n",
        "models.append(lr_grid.best_estimator_)\r\n",
        "models.append(DT_grid.best_estimator_)\r\n",
        "\r\n",
        "for model in models:\r\n",
        "  y_pred = model.predict(X_test_tfidf)\r\n",
        "  print(classification_report(y_test, y_pred,digits=4))"
      ],
      "execution_count": 37,
      "outputs": [
        {
          "output_type": "stream",
          "text": [
            "              precision    recall  f1-score   support\n",
            "\n",
            "           0     0.8027    0.6832    0.7381       262\n",
            "           1     0.6808    0.8009    0.7360       221\n",
            "\n",
            "    accuracy                         0.7371       483\n",
            "   macro avg     0.7417    0.7421    0.7371       483\n",
            "weighted avg     0.7469    0.7371    0.7371       483\n",
            "\n",
            "              precision    recall  f1-score   support\n",
            "\n",
            "           0     0.7519    0.7634    0.7576       262\n",
            "           1     0.7143    0.7014    0.7078       221\n",
            "\n",
            "    accuracy                         0.7350       483\n",
            "   macro avg     0.7331    0.7324    0.7327       483\n",
            "weighted avg     0.7347    0.7350    0.7348       483\n",
            "\n",
            "              precision    recall  f1-score   support\n",
            "\n",
            "           0     0.7913    0.7672    0.7791       262\n",
            "           1     0.7336    0.7602    0.7467       221\n",
            "\n",
            "    accuracy                         0.7640       483\n",
            "   macro avg     0.7625    0.7637    0.7629       483\n",
            "weighted avg     0.7649    0.7640    0.7642       483\n",
            "\n",
            "              precision    recall  f1-score   support\n",
            "\n",
            "           0     0.6280    0.8893    0.7362       262\n",
            "           1     0.7411    0.3756    0.4985       221\n",
            "\n",
            "    accuracy                         0.6542       483\n",
            "   macro avg     0.6846    0.6324    0.6173       483\n",
            "weighted avg     0.6798    0.6542    0.6274       483\n",
            "\n",
            "CPU times: user 3.9 s, sys: 46 ms, total: 3.94 s\n",
            "Wall time: 3.89 s\n"
          ],
          "name": "stdout"
        }
      ]
    },
    {
      "cell_type": "markdown",
      "metadata": {
        "id": "TBPMS_wqLB0D"
      },
      "source": [
        "# Bert"
      ]
    },
    {
      "cell_type": "code",
      "metadata": {
        "id": "8xyLNZxIo0X3"
      },
      "source": [
        "\n",
        "MAX_LEN = 125\n",
        "\n",
        "train_ids = []\n",
        "for sent in X_train:\n",
        "    subwords = '<s> ' + bpe.encode(sent) + ' </s>'\n",
        "    encoded_sent = vocab.encode_line(subwords, append_eos=True, add_if_not_exist=False).long().tolist()\n",
        "    train_ids.append(encoded_sent)\n",
        "\n",
        "test_ids = []\n",
        "for sent in X_test:\n",
        "    subwords = '<s> ' + bpe.encode(sent) + ' </s>'\n",
        "    encoded_sent = vocab.encode_line(subwords, append_eos=True, add_if_not_exist=False).long().tolist()\n",
        "    test_ids.append(encoded_sent)\n",
        "    \n",
        "train_ids = pad_sequences(train_ids, maxlen=MAX_LEN, dtype=\"long\", value=0, truncating=\"post\", padding=\"post\")\n",
        "test_ids = pad_sequences(test_ids, maxlen=MAX_LEN, dtype=\"long\", value=0, truncating=\"post\", padding=\"post\")"
      ],
      "execution_count": 39,
      "outputs": []
    },
    {
      "cell_type": "code",
      "metadata": {
        "id": "6t7cSUH_pP9p"
      },
      "source": [
        "train_masks = []\n",
        "for sent in train_ids:\n",
        "    mask = [int(token_id > 0) for token_id in sent]\n",
        "    train_masks.append(mask)\n",
        "\n",
        "test_masks = []\n",
        "for sent in test_ids:\n",
        "    mask = [int(token_id > 0) for token_id in sent]\n",
        "\n",
        "    test_masks.append(mask)"
      ],
      "execution_count": 40,
      "outputs": []
    },
    {
      "cell_type": "code",
      "metadata": {
        "id": "mVAly4LvpScC"
      },
      "source": [
        "train_inputs = torch.tensor(train_ids)\n",
        "test_inputs = torch.tensor(test_ids)\n",
        "y_train = torch.tensor((y_train.tolist()).copy())\n",
        "y_test = torch.tensor((y_test.tolist()).copy())\n",
        "train_masks = torch.tensor(train_masks)\n",
        "test_masks = torch.tensor(test_masks)\n",
        "\n",
        "train_data = TensorDataset(train_inputs, train_masks, y_train)\n",
        "train_sampler = SequentialSampler(train_data)\n",
        "train_dataloader = DataLoader(train_data, sampler=train_sampler, batch_size=32)\n",
        "\n",
        "test_data = TensorDataset(test_inputs, test_masks, y_test)\n",
        "test_sampler = SequentialSampler(test_data)\n",
        "test_dataloader = DataLoader(test_data, sampler=test_sampler, batch_size=32)"
      ],
      "execution_count": 41,
      "outputs": []
    },
    {
      "cell_type": "code",
      "metadata": {
        "colab": {
          "base_uri": "https://localhost:8080/"
        },
        "id": "KpSc7CYGrhA9",
        "outputId": "1a763425-5bb3-4e2a-8b93-b9c3be64e33f"
      },
      "source": [
        "from transformers import RobertaForSequenceClassification, RobertaConfig, AdamW\n",
        "\n",
        "config = RobertaConfig.from_pretrained(\n",
        "    \"/content/drive/MyDrive/Colab Notebooks/PhoBERT_base_transformers/PhoBERT_base_transformers/config.json\", from_tf=False, num_labels = 2, output_hidden_states=False,\n",
        ")\n",
        "BERT = RobertaForSequenceClassification.from_pretrained(\n",
        "    \"/content/drive/MyDrive/Colab Notebooks/PhoBERT_base_transformers/PhoBERT_base_transformers/model.bin\",\n",
        "    config=config\n",
        ")"
      ],
      "execution_count": 42,
      "outputs": [
        {
          "output_type": "stream",
          "text": [
            "Some weights of the model checkpoint at /content/drive/MyDrive/Colab Notebooks/PhoBERT_base_transformers/PhoBERT_base_transformers/model.bin were not used when initializing RobertaForSequenceClassification: ['lm_head.bias', 'lm_head.dense.weight', 'lm_head.dense.bias', 'lm_head.layer_norm.weight', 'lm_head.layer_norm.bias', 'lm_head.decoder.weight', 'lm_head.decoder.bias']\n",
            "- This IS expected if you are initializing RobertaForSequenceClassification from the checkpoint of a model trained on another task or with another architecture (e.g. initializing a BertForSequenceClassification model from a BertForPretraining model).\n",
            "- This IS NOT expected if you are initializing RobertaForSequenceClassification from the checkpoint of a model that you expect to be exactly identical (initializing a BertForSequenceClassification model from a BertForSequenceClassification model).\n",
            "Some weights of RobertaForSequenceClassification were not initialized from the model checkpoint at /content/drive/MyDrive/Colab Notebooks/PhoBERT_base_transformers/PhoBERT_base_transformers/model.bin and are newly initialized: ['classifier.dense.weight', 'classifier.dense.bias', 'classifier.out_proj.weight', 'classifier.out_proj.bias']\n",
            "You should probably TRAIN this model on a down-stream task to be able to use it for predictions and inference.\n"
          ],
          "name": "stderr"
        }
      ]
    },
    {
      "cell_type": "code",
      "metadata": {
        "colab": {
          "base_uri": "https://localhost:8080/"
        },
        "id": "TeUopsaJuPjO",
        "outputId": "03b2bb16-66f8-4a57-f6ac-8c356cad9805"
      },
      "source": [
        "BERT.cuda()\r\n",
        "print('Done')"
      ],
      "execution_count": 43,
      "outputs": [
        {
          "output_type": "stream",
          "text": [
            "Done\n"
          ],
          "name": "stdout"
        }
      ]
    },
    {
      "cell_type": "code",
      "metadata": {
        "id": "94nXDdoyqHEQ"
      },
      "source": [
        "def flat_accuracy(preds, labels):\n",
        "    pred_flat = np.argmax(preds, axis=1).flatten()\n",
        "    labels_flat = labels.flatten()\n",
        "    \n",
        "    F1_score = f1_score(pred_flat, labels_flat, average='macro')\n",
        "    \n",
        "    return accuracy_score(pred_flat, labels_flat), F1_score"
      ],
      "execution_count": 44,
      "outputs": []
    },
    {
      "cell_type": "code",
      "metadata": {
        "colab": {
          "base_uri": "https://localhost:8080/",
          "height": 1000,
          "referenced_widgets": [
            "5efcd9f6816a4a2bad73bb0e83dbf27d",
            "e138a487ce30498d827f3a2d0a930d1a",
            "96b2c8b53a264519b97f7ce8be6bf5d0",
            "bc88733c196845afba3e4bbd52143988",
            "34df10d2f5b844848497521c59e57ab1",
            "12599a5ecd1849649d9834241888fe03",
            "63e36be85f234078b4db6e95e63ba1cb",
            "0e2fd7ce2f0d4e139cca66bdd90db564",
            "891a127da8db42cf973ab98a3d81846e",
            "9fcb25f4de874744b10db5ae3f1fe507",
            "7435df5850b84e308c78d8429addec5d",
            "714fdcfcee7042b9b07b7eee3fc857c1",
            "59e90347aeb747d9889be0850ecf1223",
            "142e5d04ddbe433e8a8cea1d51619339",
            "330b47efed054e98a2c584760d311283",
            "6724d01df16640ea8e3a1d0ae3190f24",
            "e5e4facf4bb44e7f9dacf70ec526a99c",
            "0defe6bfff1547bb8cc187495291242a",
            "1fabe40999404a319aa969a84ca13a42",
            "440c6dba4bd14774b04b5b44e53655f4",
            "c3e50353e0744f5c9b0f43780d15dabe",
            "412bbc9cf4e14f888cec4779b18f805e",
            "38396e9fadbe406a92ce6d42d669f6d8",
            "7797e5d2e11649598f40f70242287e25",
            "90238f94105e49769ffdf53812e59769",
            "14bf3468e5f644ed9e8568967246c23b",
            "c04e8457fdd145f4bd039ecba87050e6",
            "e26eeb23a5ee4df7a9d12f1c81792a67",
            "8a34769af5ad4f1ca049625717a48838",
            "89bd561e33664d2ab0e8e11d572ba85e",
            "938042e0c1e4458a92c4288470f3d977",
            "4bf883d24e68423883941ae3a5334235",
            "f05330dba44e481f9b41113e6961f233",
            "5fbfe4b0bbfa4768b351facd2acfd352",
            "a5d8875ca2a7462e8f88cc5eb379f2e2",
            "ac4ed371985940779fb96d7bc9c2f5b1",
            "4b57a722b796491cac418eb48e1d2f26",
            "326191de19e04ae8a8f2b0518f7a48d1",
            "fe19001c2d9540239ba05d6befceb0f1",
            "cb8a2302fe9c479c98297b65a99d90f8",
            "14816a8d18034d139595cdfa30a51302",
            "9a4f87fc24044fc18cf6aff146317952",
            "0c428c3436f644868f66114485e9fe48",
            "b546825533d14fae8b3f9281ce6ffec6",
            "9eaeeba69b3c4bda9d3da7d7c31ddbca",
            "e1678238b4084785bf0b43fbe269e24c",
            "f98f1220ad0b4f34922f939be328b892",
            "09016a969ee646f5a094db0e8ef12af1",
            "d5aebd3a1aed4f40886124c067a451b5",
            "7502b1d8a06a4dfabb790b204e5007ef",
            "bdbc7edce19c4307a77197e58de14b1a",
            "8600c31c981f4f5eadbbc5eb3e432396",
            "3a2bf133b1ac422aa892ddad46c911f3",
            "ad80793412a1411594645ad60abb97f0",
            "3feca24c3dcb433eb01a455472e8957f",
            "2157c8a2519c40e9b6054339ffdace8b",
            "458ad529af5e4340a93349b3d06ef688",
            "3d4e4acfe6c148a8a57624d346b73aaf",
            "5414573222314c58a3a50ecea1fc8cef",
            "f0b5e8ab0c5a422db3724cf2b98659ff",
            "212d94d042a04331b1fbc835aa829828",
            "47b8221eba064b5e8e3fd95f748e4210",
            "5ee5b6414da3465d97ffceb0bee307de",
            "94236cddecc24e05bf1889f0d131664b",
            "689f24ecdd6a41d692d7b16ad64e7211",
            "e82d4cf570724c329e785decf3b9aa5c",
            "fbc096b9053b4eaebcce72251222704f",
            "4dd93d7332ba411fabe408338a2bf5a8",
            "09cd7a17f88b49fc9e4b96ef8312c34a",
            "3c3f24cecac642ab9dd06a3d4a1ff01c",
            "d8fee1193431418b9b799fd89ef3cd7f",
            "5cd74191ec064c25b86111e49da7ccb2",
            "2190fed1f75a4ad096aa930dc1e4c273",
            "2491ff30aee24cac87577ad2b1be76cc",
            "8114a093ed554485858b46bbcc8e6020",
            "b3da61ae098443f29ad34195485c31e6",
            "d7e0f330b64d401b9030ed39c1934b53",
            "d11c44cedf16481e973adadaf432dfb2",
            "701c9e7313c7413dbe7210ef1a2daa75",
            "ed9f718d4c204982b7f1f0aed3d30da0"
          ]
        },
        "id": "SHcvhGnGru9M",
        "outputId": "932e7c9f-8269-41a9-ec75-e46e3f9038ca"
      },
      "source": [
        "device = 'cuda'\n",
        "epochs = 5\n",
        "\n",
        "param_optimizer = list(BERT.named_parameters())\n",
        "no_decay = ['bias', 'LayerNorm.bias', 'LayerNorm.weight']\n",
        "optimizer_grouped_parameters = [\n",
        "    {'params': [p for n, p in param_optimizer if not any(nd in n for nd in no_decay)], 'weight_decay': 0.01},\n",
        "    {'params': [p for n, p in param_optimizer if any(nd in n for nd in no_decay)], 'weight_decay': 0.0}\n",
        "]\n",
        "\n",
        "optimizer = AdamW(optimizer_grouped_parameters, lr=1e-5, correct_bias=False)\n",
        "\n",
        "\n",
        "for epoch_i in range(0, epochs):\n",
        "    print('======== Epoch {:} / {:} ========'.format(epoch_i + 1, epochs))\n",
        "    print('Training...')\n",
        "\n",
        "    total_loss = 0\n",
        "    BERT.train()\n",
        "    train_accuracy = 0\n",
        "    nb_train_steps = 0\n",
        "    train_f1 = 0\n",
        "    \n",
        "    for step, batch in tqdm_notebook(enumerate(train_dataloader)):\n",
        "        b_input_ids = batch[0].to(device)\n",
        "        b_input_mask = batch[1].to(device)\n",
        "        b_labels = batch[2].to(device)\n",
        "\n",
        "        BERT.zero_grad()\n",
        "        outputs = BERT(b_input_ids, \n",
        "            token_type_ids=None, \n",
        "            attention_mask=b_input_mask, \n",
        "            labels=b_labels)\n",
        "        loss = outputs[0]\n",
        "        total_loss += loss.item()\n",
        "        \n",
        "        logits = outputs[1].detach().cpu().numpy()\n",
        "        label_ids = b_labels.to('cpu').numpy()\n",
        "        tmp_train_accuracy, tmp_train_f1 = flat_accuracy(logits, label_ids)\n",
        "        train_accuracy += tmp_train_accuracy\n",
        "        train_f1 += tmp_train_f1\n",
        "        nb_train_steps += 1\n",
        "        \n",
        "        loss.backward()\n",
        "        torch.nn.utils.clip_grad_norm_(BERT.parameters(), 1.0)\n",
        "        optimizer.step()\n",
        "        \n",
        "    avg_train_loss = total_loss / len(train_dataloader)\n",
        "    print(\" Accuracy: {0:.4f}\".format(train_accuracy/nb_train_steps))\n",
        "    print(\" F1 score: {0:.4f}\".format(train_f1/nb_train_steps))\n",
        "    print(\" Average training loss: {0:.4f}\".format(avg_train_loss))\n",
        "\n",
        "    print(\"Running Test...\")\n",
        "    BERT.eval()\n",
        "    eval_loss, eval_accuracy = 0, 0\n",
        "    nb_eval_steps, nb_eval_examples = 0, 0\n",
        "    eval_f1 = 0\n",
        "    y_pred = []\n",
        "    for batch in tqdm_notebook(test_dataloader):\n",
        "\n",
        "        batch = tuple(t.to(device) for t in batch)\n",
        "\n",
        "        b_input_ids, b_input_mask, b_labels = batch\n",
        "\n",
        "        with torch.no_grad():\n",
        "            outputs = BERT(b_input_ids, \n",
        "            token_type_ids=None, \n",
        "            attention_mask=b_input_mask)\n",
        "            logits = outputs[0]\n",
        "            \n",
        "            logits = logits.detach().cpu().numpy()\n",
        "            label_ids = b_labels.to('cpu').numpy()\n",
        "            pred_flat = np.argmax(logits, axis=1).flatten()\n",
        "            for i in pred_flat:\n",
        "              y_pred.append(i)\n",
        "\n",
        "            tmp_eval_accuracy, tmp_eval_f1 = flat_accuracy(logits, label_ids)\n",
        "\n",
        "            eval_accuracy += tmp_eval_accuracy\n",
        "            eval_f1 += tmp_eval_f1\n",
        "            nb_eval_steps += 1\n",
        "    print(\" Accuracy: {0:.4f}\".format(eval_accuracy/nb_eval_steps))\n",
        "    print(\" F1 score: {0:.4f}\".format(eval_f1/nb_eval_steps))\n",
        "print(\"Training complete!\")"
      ],
      "execution_count": 45,
      "outputs": [
        {
          "output_type": "stream",
          "text": [
            "======== Epoch 1 / 5 ========\n",
            "Training...\n"
          ],
          "name": "stdout"
        },
        {
          "output_type": "display_data",
          "data": {
            "application/vnd.jupyter.widget-view+json": {
              "model_id": "5efcd9f6816a4a2bad73bb0e83dbf27d",
              "version_minor": 0,
              "version_major": 2
            },
            "text/plain": [
              "HBox(children=(FloatProgress(value=1.0, bar_style='info', max=1.0), HTML(value='')))"
            ]
          },
          "metadata": {
            "tags": []
          }
        },
        {
          "output_type": "stream",
          "text": [
            "\n",
            " Accuracy: 0.6749\n",
            " F1 score: 0.6306\n",
            " Average training loss: 0.5795\n",
            "Running Test...\n"
          ],
          "name": "stdout"
        },
        {
          "output_type": "display_data",
          "data": {
            "application/vnd.jupyter.widget-view+json": {
              "model_id": "891a127da8db42cf973ab98a3d81846e",
              "version_minor": 0,
              "version_major": 2
            },
            "text/plain": [
              "HBox(children=(FloatProgress(value=0.0, max=16.0), HTML(value='')))"
            ]
          },
          "metadata": {
            "tags": []
          }
        },
        {
          "output_type": "stream",
          "text": [
            "\n",
            " Accuracy: 0.8086\n",
            " F1 score: 0.8019\n",
            "======== Epoch 2 / 5 ========\n",
            "Training...\n"
          ],
          "name": "stdout"
        },
        {
          "output_type": "display_data",
          "data": {
            "application/vnd.jupyter.widget-view+json": {
              "model_id": "e5e4facf4bb44e7f9dacf70ec526a99c",
              "version_minor": 0,
              "version_major": 2
            },
            "text/plain": [
              "HBox(children=(FloatProgress(value=1.0, bar_style='info', max=1.0), HTML(value='')))"
            ]
          },
          "metadata": {
            "tags": []
          }
        },
        {
          "output_type": "stream",
          "text": [
            "\n",
            " Accuracy: 0.8484\n",
            " F1 score: 0.8403\n",
            " Average training loss: 0.3549\n",
            "Running Test...\n"
          ],
          "name": "stdout"
        },
        {
          "output_type": "display_data",
          "data": {
            "application/vnd.jupyter.widget-view+json": {
              "model_id": "90238f94105e49769ffdf53812e59769",
              "version_minor": 0,
              "version_major": 2
            },
            "text/plain": [
              "HBox(children=(FloatProgress(value=0.0, max=16.0), HTML(value='')))"
            ]
          },
          "metadata": {
            "tags": []
          }
        },
        {
          "output_type": "stream",
          "text": [
            "\n",
            " Accuracy: 0.8594\n",
            " F1 score: 0.8543\n",
            "======== Epoch 3 / 5 ========\n",
            "Training...\n"
          ],
          "name": "stdout"
        },
        {
          "output_type": "display_data",
          "data": {
            "application/vnd.jupyter.widget-view+json": {
              "model_id": "f05330dba44e481f9b41113e6961f233",
              "version_minor": 0,
              "version_major": 2
            },
            "text/plain": [
              "HBox(children=(FloatProgress(value=1.0, bar_style='info', max=1.0), HTML(value='')))"
            ]
          },
          "metadata": {
            "tags": []
          }
        },
        {
          "output_type": "stream",
          "text": [
            "\n",
            " Accuracy: 0.9121\n",
            " F1 score: 0.9078\n",
            " Average training loss: 0.2292\n",
            "Running Test...\n"
          ],
          "name": "stdout"
        },
        {
          "output_type": "display_data",
          "data": {
            "application/vnd.jupyter.widget-view+json": {
              "model_id": "14816a8d18034d139595cdfa30a51302",
              "version_minor": 0,
              "version_major": 2
            },
            "text/plain": [
              "HBox(children=(FloatProgress(value=0.0, max=16.0), HTML(value='')))"
            ]
          },
          "metadata": {
            "tags": []
          }
        },
        {
          "output_type": "stream",
          "text": [
            "\n",
            " Accuracy: 0.8594\n",
            " F1 score: 0.8551\n",
            "======== Epoch 4 / 5 ========\n",
            "Training...\n"
          ],
          "name": "stdout"
        },
        {
          "output_type": "display_data",
          "data": {
            "application/vnd.jupyter.widget-view+json": {
              "model_id": "d5aebd3a1aed4f40886124c067a451b5",
              "version_minor": 0,
              "version_major": 2
            },
            "text/plain": [
              "HBox(children=(FloatProgress(value=1.0, bar_style='info', max=1.0), HTML(value='')))"
            ]
          },
          "metadata": {
            "tags": []
          }
        },
        {
          "output_type": "stream",
          "text": [
            "\n",
            " Accuracy: 0.9467\n",
            " F1 score: 0.9447\n",
            " Average training loss: 0.1584\n",
            "Running Test...\n"
          ],
          "name": "stdout"
        },
        {
          "output_type": "display_data",
          "data": {
            "application/vnd.jupyter.widget-view+json": {
              "model_id": "458ad529af5e4340a93349b3d06ef688",
              "version_minor": 0,
              "version_major": 2
            },
            "text/plain": [
              "HBox(children=(FloatProgress(value=0.0, max=16.0), HTML(value='')))"
            ]
          },
          "metadata": {
            "tags": []
          }
        },
        {
          "output_type": "stream",
          "text": [
            "\n",
            " Accuracy: 0.8594\n",
            " F1 score: 0.8565\n",
            "======== Epoch 5 / 5 ========\n",
            "Training...\n"
          ],
          "name": "stdout"
        },
        {
          "output_type": "display_data",
          "data": {
            "application/vnd.jupyter.widget-view+json": {
              "model_id": "689f24ecdd6a41d692d7b16ad64e7211",
              "version_minor": 0,
              "version_major": 2
            },
            "text/plain": [
              "HBox(children=(FloatProgress(value=1.0, bar_style='info', max=1.0), HTML(value='')))"
            ]
          },
          "metadata": {
            "tags": []
          }
        },
        {
          "output_type": "stream",
          "text": [
            "\n",
            " Accuracy: 0.9580\n",
            " F1 score: 0.9563\n",
            " Average training loss: 0.1192\n",
            "Running Test...\n"
          ],
          "name": "stdout"
        },
        {
          "output_type": "display_data",
          "data": {
            "application/vnd.jupyter.widget-view+json": {
              "model_id": "2190fed1f75a4ad096aa930dc1e4c273",
              "version_minor": 0,
              "version_major": 2
            },
            "text/plain": [
              "HBox(children=(FloatProgress(value=0.0, max=16.0), HTML(value='')))"
            ]
          },
          "metadata": {
            "tags": []
          }
        },
        {
          "output_type": "stream",
          "text": [
            "\n",
            " Accuracy: 0.8438\n",
            " F1 score: 0.8380\n",
            "Training complete!\n"
          ],
          "name": "stdout"
        }
      ]
    },
    {
      "cell_type": "code",
      "metadata": {
        "colab": {
          "base_uri": "https://localhost:8080/",
          "height": 317
        },
        "id": "ryzVXRPGsf9f",
        "outputId": "7a070a0b-ba10-4a90-eec6-210d2691a47c"
      },
      "source": [
        "from sklearn.metrics import confusion_matrix\r\n",
        "def show_confusion_matrix(confusion_matrix):\r\n",
        "  hmap = sns.heatmap(confusion_matrix, annot=True, fmt=\"d\", cmap=\"Blues\")\r\n",
        "  hmap.yaxis.set_ticklabels(hmap.yaxis.get_ticklabels(), rotation=0, ha='right')\r\n",
        "  hmap.xaxis.set_ticklabels(hmap.xaxis.get_ticklabels(), rotation=30, ha='right')\r\n",
        "  plt.ylabel('True Complaint')\r\n",
        "  plt.xlabel('Predicted Complaint');\r\n",
        "cm = confusion_matrix(y_test, y_pred)\r\n",
        "df_cm = pd.DataFrame(cm, index=['Non_Complaint','Complaint'], columns=['Non_Complaint','Complaint'])\r\n",
        "\r\n",
        "show_confusion_matrix(df_cm)"
      ],
      "execution_count": 46,
      "outputs": [
        {
          "output_type": "display_data",
          "data": {
            "image/png": "[encoded data removed]",
            "text/plain": [
              "<Figure size 432x288 with 2 Axes>"
            ]
          },
          "metadata": {
            "tags": [],
            "needs_background": "light"
          }
        }
      ]
    },
    {
      "cell_type": "code",
      "metadata": {
        "colab": {
          "base_uri": "https://localhost:8080/"
        },
        "id": "9GhMVsuQ3PS2",
        "outputId": "e382fc3e-9c94-42de-a822-fb9608922529"
      },
      "source": [
        "#  print('Câu bình luận không phàn nàn bị nhận nhầm:')\r\n",
        "index_Non_False = []\r\n",
        "for i in range(len(y_test)):\r\n",
        "  if (y_test[i] == 0) and (y_pred[i] == 1):\r\n",
        "    index_Non_False.append(i)\r\n",
        "for i in index_Non_False:\r\n",
        "  print(test[i])"
      ],
      "execution_count": 47,
      "outputs": [
        {
          "output_type": "stream",
          "text": [
            "đang dài mới biết được trụ được một 2 trận thì không thể_hiện được\n",
            "vừa định đặt mua mà nghe nói cũng sợ sợ mình da_dầu mụn ẩn\n",
            "zalo nó chỉ là ứng_dụng nhắn_tin này_nọ chứ chưa được tính là mạng xã_hội mà chưa kể nó bảo_mật được tin nhắn thông_tin tốt thì có gì đâu đã muốn cắm_sừng thì shopee ứng_dụng ngân_hàng nó còn cắm được nói gì zalo\n",
            "bạn nên đổi sữa rửa mặt mình nghĩ do sữa rửa mặt kg hợp á\n",
            "mới đặt mua hàng chưa về mà các chị làm em hoang_mang quá\n",
            "viết về các mạng xã_hội mới nhưng lại đăng trên facebook thì ích gì hả bạn phải quảng_cáo tới những đứa trẻ mới cầm chiếc điện_thoại đầu_tiên trên tay ý\n",
            "cần lắm một chị am_hiểu csd và các loai mỹ_phẩm để hướng_dẫn em từ đầu huhu em bi dính xin_lỗi trộn rồi\n",
            "sau 15phut gánh team mà pin tụt có 4 quá ngầu\n",
            "chắc chị mua nhầm hàng giả rồi\n",
            "máy mình lla để qua đêm không sụt tí nào\n",
            "mình muốn mua bột trà xanh nhưng cái này là trộn phải khạ\n",
            "cũng số tiền đó có_thể mua được chiếc iphone có suất xứ tại châu_âu nhưng đa_phần mọi người mua iphone dành cho thị_trường châu_á với tôi đó là một sai_lầm\n",
            "hàng công_nghệ mà vẫn có tỉ_lệ lỗi nhất_định và iphone đã lược bớt phần kiểm_tra sản_phẩm để giảm chi_phí và đem công_việc kiểm_tra ấy cho khách_hàng có_khi mua iphone cũ lại hay cái người bán kiểm_tra mệt_nghỉ mới giám bán ra cho mình vừa giá rẻ hơn có lỗi cũng đổi trả dễ hơn\n",
            "fnews collection admin ơi em viết bài dài với không có trùng bài này mà không được duyệt huhu\n",
            "có mụn thì chắc_chắn phải đi lấy mụn rồi tìm_hiểu nguyên_nhân gây mụn nữa bởi_vì các loại đặc_trị mụn chỉ điều_trị ngoài da không điều_trị được nguyên_nhân bên trong gây mụn\n",
            "mấy ông_bà trung_quốc niên khoái dùng zalo để cắm_sừng vợ_chồng ở nhà\n",
            "mạng xã_hội thuần việt thì bọn phản_động nó không dùng đâu\n",
            "chê lỗi này lỗi nọ mà mỗi năm đều cháy hàng càng nhiều anti fan thì càng nhiều người mua_bán ra hàng triệu máy tất_nhiên phải có sản_phẩm bị lỗi rồi hãng nào cũng dính thôi nếu do nhà_sản_xuất thì đem đổi trả có gì đâu\n",
            "mấy bạn dùng v7 lên mụn thường là không biết xài với v7 bôi ban_ngày nâng tone với dưỡng ẩm thì ok chứ để dưỡng trắng thì không hiệu_quả lắm\n",
            "ai cho em mã zoom troll thầy_cô phát\n",
            "3 nhà mình gần cái công_ty tên là lotus này cơ_mà vẫn không biết lotus làm cái gì\n",
            "mẹ em cũng đang sài không biết sao nữa\n",
            "mạng xã_hội việt_nam có cái gì mà mạng xã_hội nước_ngoài không có\n",
            "trị mụn ẩn\n",
            "lỗi gì muốn bán hàng tồn đó mà\n",
            "tại_sao p60 lại max setting liên_quân được vậy anh_em sao nói 730g lại không bật được ta\n",
            "mình dùng facebook ảnh và chữ bị out nét thì phải làm_sao có ai bị như_vậy không\n",
            "pin khoẻ không ý_anh\n",
            "có 2 lọ giống nhau đó bạn người ta hay bị nhầm lắm một lọ là hương_liệu một lọ là natural thì phỉ\n",
            "mình đang dùng thấy ỗn nhưng nghe mặt_nạ nói em lo quá\n",
            "cho em hỏi máy bị mở_màn với lưng có sao không á\n",
            "ngày_xưa có account game trên zing khủng vc mà nó lại xoá\n",
            "đừng nói mạng xã_hội khi facebook twitter đã quá phổ_biến ngày_trước thời_đại hoàng_kim của văn_hoá forum còn chết gần sạch truongton vnsharing yumei mấy web như voz webtretho được đúc tiền mà hoạt_động còn chả bằng 110 ngày trước\n",
            "ai đứng sau mạng này mà truyền_thông mạnh_dạn quảng_cáo cho đến chạy bài trên các hội nhóm ở facebook thế có_khi giống vin cũng_nên\n",
            "người dùng quyết_định cả lúc chưa có facebook thì yahoo với zing phổ_biến như thế_này nếu không đủ tốt thì sẽ bị đào_thải thế thôi\n",
            "có_lẽ chị chưa bình_thường dòng này có 2 loại có hương_liệu và không hương_liệu chị mua phải loại có hương_liệu rồi loai không huong liêu nó lùn với nó hơi ngang nhìn mập hơn loai có huong liêu chất hại trong kem dưỡng này không nhiều nhưng kich ứng với một sô người ạ\n",
            "mọi người thôi đi được không trình_duyệt lotus mới ra bản beta nên chỉ đọc báo với xem tin xàm thôi nhưng trong tương_lai sẽ có thanh nhập địa_chỉ như google chorme lúc đó tha_hồ mà cày tư_liệu nhật\n",
            "tại việt_nam mình thời zing me còn nổi thì tự_nhiên bỏ chặn facebook trước đó muốn vào facebook phải giả iphone\n",
            "camera đẹp\n",
            "gapo có_vẻ không ai ngó_ngàng nhỉ\n",
            "thấy mọi người nói nước _ dưỡng có vấn_đề nhưng mình xài thấy ok mà ta cấp ẩm ok nhẹ_nhàng mát nữa\n",
            "cái này mới cho da mụn không hương_liệu nè chị còn cái chị dùng là cho da_dầu thường hay sao ý có hương_liệu\n",
            "lên lúc đầu một_chút thôi sau đó sẽ ổn nha bạn lúc đầu cảm_giác da bị co lại mình nhìn thây rõ những vết rỗ nhẹ trước giờ chưa từng thấy sau lại căng ra cảm_giác mấy vết đó nó đầy luôn mình vẫn đang dùng thấy ok\n",
            "gapo ổn nè mọi người ơi mình đã tải lúc nó mới ra thì hầu_như lúc đó rất ít người sử_dụng bây_giờ thì có tiến_triển rất tốt rồi nha ai bảo chán không hề các page ở facebook cũng dần chuyển qua đấy rồi lost bird cũng có rồi nhé lượt tương_tác các bài viết cũng từ_từ được cải_thiện vì người dùng ngày nhiều hơn\n"
          ],
          "name": "stdout"
        }
      ]
    },
    {
      "cell_type": "code",
      "metadata": {
        "colab": {
          "base_uri": "https://localhost:8080/"
        },
        "id": "cqk32OcBuAcx",
        "outputId": "bb9ed8b2-ba74-4e6f-c104-152d76525139"
      },
      "source": [
        "#print('Câu bình luận phàn nàn bị nhận nhầm:')\r\n",
        "index_Com_False = []\r\n",
        "for i in range(len(y_test)):\r\n",
        "  if (y_test[i] == 1) and (y_pred[i] == 0):\r\n",
        "    index_Non_False.append(i)\r\n",
        "for i in index_Non_False:\r\n",
        "  print(test[i])"
      ],
      "execution_count": 48,
      "outputs": [
        {
          "output_type": "stream",
          "text": [
            "đang dài mới biết được trụ được một 2 trận thì không thể_hiện được\n",
            "vừa định đặt mua mà nghe nói cũng sợ sợ mình da_dầu mụn ẩn\n",
            "zalo nó chỉ là ứng_dụng nhắn_tin này_nọ chứ chưa được tính là mạng xã_hội mà chưa kể nó bảo_mật được tin nhắn thông_tin tốt thì có gì đâu đã muốn cắm_sừng thì shopee ứng_dụng ngân_hàng nó còn cắm được nói gì zalo\n",
            "bạn nên đổi sữa rửa mặt mình nghĩ do sữa rửa mặt kg hợp á\n",
            "mới đặt mua hàng chưa về mà các chị làm em hoang_mang quá\n",
            "viết về các mạng xã_hội mới nhưng lại đăng trên facebook thì ích gì hả bạn phải quảng_cáo tới những đứa trẻ mới cầm chiếc điện_thoại đầu_tiên trên tay ý\n",
            "cần lắm một chị am_hiểu csd và các loai mỹ_phẩm để hướng_dẫn em từ đầu huhu em bi dính xin_lỗi trộn rồi\n",
            "sau 15phut gánh team mà pin tụt có 4 quá ngầu\n",
            "chắc chị mua nhầm hàng giả rồi\n",
            "máy mình lla để qua đêm không sụt tí nào\n",
            "mình muốn mua bột trà xanh nhưng cái này là trộn phải khạ\n",
            "cũng số tiền đó có_thể mua được chiếc iphone có suất xứ tại châu_âu nhưng đa_phần mọi người mua iphone dành cho thị_trường châu_á với tôi đó là một sai_lầm\n",
            "hàng công_nghệ mà vẫn có tỉ_lệ lỗi nhất_định và iphone đã lược bớt phần kiểm_tra sản_phẩm để giảm chi_phí và đem công_việc kiểm_tra ấy cho khách_hàng có_khi mua iphone cũ lại hay cái người bán kiểm_tra mệt_nghỉ mới giám bán ra cho mình vừa giá rẻ hơn có lỗi cũng đổi trả dễ hơn\n",
            "fnews collection admin ơi em viết bài dài với không có trùng bài này mà không được duyệt huhu\n",
            "có mụn thì chắc_chắn phải đi lấy mụn rồi tìm_hiểu nguyên_nhân gây mụn nữa bởi_vì các loại đặc_trị mụn chỉ điều_trị ngoài da không điều_trị được nguyên_nhân bên trong gây mụn\n",
            "mấy ông_bà trung_quốc niên khoái dùng zalo để cắm_sừng vợ_chồng ở nhà\n",
            "mạng xã_hội thuần việt thì bọn phản_động nó không dùng đâu\n",
            "chê lỗi này lỗi nọ mà mỗi năm đều cháy hàng càng nhiều anti fan thì càng nhiều người mua_bán ra hàng triệu máy tất_nhiên phải có sản_phẩm bị lỗi rồi hãng nào cũng dính thôi nếu do nhà_sản_xuất thì đem đổi trả có gì đâu\n",
            "mấy bạn dùng v7 lên mụn thường là không biết xài với v7 bôi ban_ngày nâng tone với dưỡng ẩm thì ok chứ để dưỡng trắng thì không hiệu_quả lắm\n",
            "ai cho em mã zoom troll thầy_cô phát\n",
            "3 nhà mình gần cái công_ty tên là lotus này cơ_mà vẫn không biết lotus làm cái gì\n",
            "mẹ em cũng đang sài không biết sao nữa\n",
            "mạng xã_hội việt_nam có cái gì mà mạng xã_hội nước_ngoài không có\n",
            "trị mụn ẩn\n",
            "lỗi gì muốn bán hàng tồn đó mà\n",
            "tại_sao p60 lại max setting liên_quân được vậy anh_em sao nói 730g lại không bật được ta\n",
            "mình dùng facebook ảnh và chữ bị out nét thì phải làm_sao có ai bị như_vậy không\n",
            "pin khoẻ không ý_anh\n",
            "có 2 lọ giống nhau đó bạn người ta hay bị nhầm lắm một lọ là hương_liệu một lọ là natural thì phỉ\n",
            "mình đang dùng thấy ỗn nhưng nghe mặt_nạ nói em lo quá\n",
            "cho em hỏi máy bị mở_màn với lưng có sao không á\n",
            "ngày_xưa có account game trên zing khủng vc mà nó lại xoá\n",
            "đừng nói mạng xã_hội khi facebook twitter đã quá phổ_biến ngày_trước thời_đại hoàng_kim của văn_hoá forum còn chết gần sạch truongton vnsharing yumei mấy web như voz webtretho được đúc tiền mà hoạt_động còn chả bằng 110 ngày trước\n",
            "ai đứng sau mạng này mà truyền_thông mạnh_dạn quảng_cáo cho đến chạy bài trên các hội nhóm ở facebook thế có_khi giống vin cũng_nên\n",
            "người dùng quyết_định cả lúc chưa có facebook thì yahoo với zing phổ_biến như thế_này nếu không đủ tốt thì sẽ bị đào_thải thế thôi\n",
            "có_lẽ chị chưa bình_thường dòng này có 2 loại có hương_liệu và không hương_liệu chị mua phải loại có hương_liệu rồi loai không huong liêu nó lùn với nó hơi ngang nhìn mập hơn loai có huong liêu chất hại trong kem dưỡng này không nhiều nhưng kich ứng với một sô người ạ\n",
            "mọi người thôi đi được không trình_duyệt lotus mới ra bản beta nên chỉ đọc báo với xem tin xàm thôi nhưng trong tương_lai sẽ có thanh nhập địa_chỉ như google chorme lúc đó tha_hồ mà cày tư_liệu nhật\n",
            "tại việt_nam mình thời zing me còn nổi thì tự_nhiên bỏ chặn facebook trước đó muốn vào facebook phải giả iphone\n",
            "camera đẹp\n",
            "gapo có_vẻ không ai ngó_ngàng nhỉ\n",
            "thấy mọi người nói nước _ dưỡng có vấn_đề nhưng mình xài thấy ok mà ta cấp ẩm ok nhẹ_nhàng mát nữa\n",
            "cái này mới cho da mụn không hương_liệu nè chị còn cái chị dùng là cho da_dầu thường hay sao ý có hương_liệu\n",
            "lên lúc đầu một_chút thôi sau đó sẽ ổn nha bạn lúc đầu cảm_giác da bị co lại mình nhìn thây rõ những vết rỗ nhẹ trước giờ chưa từng thấy sau lại căng ra cảm_giác mấy vết đó nó đầy luôn mình vẫn đang dùng thấy ok\n",
            "gapo ổn nè mọi người ơi mình đã tải lúc nó mới ra thì hầu_như lúc đó rất ít người sử_dụng bây_giờ thì có tiến_triển rất tốt rồi nha ai bảo chán không hề các page ở facebook cũng dần chuyển qua đấy rồi lost bird cũng có rồi nhé lượt tương_tác các bài viết cũng từ_từ được cải_thiện vì người dùng ngày nhiều hơn\n",
            "vừa đăng về lịch_sử buổi sáng buổi chiều khoá hoàn_toàn chức_năng hiểu mục_đích rồi chứ\n",
            "mẹ 23h giờ thì báo 21h 40\n",
            "ok lam nhung toi rat mong cac anh ra phan bạn moi hon sang tao hon va ok hon khac phuc loi va khieu nai ve phan bạn cu von da loi_thoi nay chi su dung một so diwn thoai con một so khac không su dung duoc neu dung luong phien ban sao ich hon thi cang duoc danh_gia cao hon rat mong ben phia cac nha sang bài đánh_giá đầy đuỏk lam nhung toi rat mong cac anh ra phan bạn moi hon sang tao hon va ok hon khac phuc loi va khieu nai ve phan bạn cu von da loi_thoi nay chi su dung một so diwn thoai con một so khac không su dung duoc neu dung luong phien ban sao ich hon thi cang duoc danh_gia cao hon rat mong ben phia cac nha sang tao nhin thay y kien cua toi rat cam on\n",
            "da mình cũng dầu mụn dùng em này mặt như chảo dầu luôn\n",
            "nếu bạn thích tăng độ khó cho game thì cứ dùng\n",
            "cho mình hỏi đồ này có phải trộn không ạ bảo đồ hàn_quốc mà bên đó cũng có mỹ_phẩm medicell mà logo với sản_phẩm lại không giống cái này lắm\n",
            "có ai dùng sữa rửa mặt loại vòi tạo bọt của nhãn _ hiệu bị nổi mụn không ạ\n",
            "mạng xã_hội việt_nam thì trước_hết cái tên phải việt_nam\n",
            "kem của neu thì dòng water gel có huong liệu\n",
            "kem này có chất nghiện kem\n",
            "nhìn vỏ hộp phèn là biết nó trộn òi mấy chị\n",
            "bạn dùng water gel lên mụn là đúng ùi mình dùng loại gel cream thích lắm\n",
            "vui_lòng sửa cập_nhật giúp chúng_tôi sau khi cập_nhật ngày 16 11 2018 vào chat với khách thì giao_diện đã khác cụ_thể ứng_dụng đã bổ_sung tính_năng chat với khách với tư_cách là tài_khoản cá_nhân của người đang chat với khách trên fanapge ghi_chú với tư_cách trang trên từng tài_khoản của khách cũng đã thay_đổi vị bài đánh_giá đầy đủvui lòng sửa cập_nhật giúp chúng_tôi sau khi cập_nhật ngày 16 11 2018 vào chat với khách thì giao_diện đã khác cụ_thể ứng_dụng đã bổ_sung tính_năng chat với khách với tư_cách là tài_khoản cá_nhân của người đang chat với khách trên fanapge ghi_chú với tư_cách trang trên từng tài_khoản của khách cũng đã thay_đổi vị_trí mở ra ghi_chú bằng cách bấm vào avatar của khách trong đoạn chat thanks cập_nhật rất tốt\n",
            "siêu lên mụn ẩn nhé bạn\n",
            "ios 12 đây qua đêm mất 2\n",
            "dòng này dễ lên mụn ẩn còn một dòng màu trắng xanh nhạt hơn cho da nhạy_cảm thì phải\n",
            "em nghĩ là chị nên đổi sữa rửa mặt đi ạ\n",
            "chi co điều gia qua max\n",
            "hàng mix thôi chứ không trộn\n",
            "tôi rồi ộ nó\n",
            "không dùng pond sao vì nó không tốt đâu tẩy_trang mỗi ngày vì mụn ẩn đều do da không được làm sạch tìm kem dưỡng mỏng nhẹ thôi và đừng cố_gắng đắp nhiều đồ dưỡng da lên mặt recommend là bạn tìm sản_phẩm chứa ahabha sẽ trị được mụn ẩn nha\n",
            "mua về tẩy thâm mông cũng được á vì da mông dày nhất rồi\n",
            "kem trộn nha bạn\n",
            "cho mình hỏi gapo có chat group được không nhở hôm_nay mình kêu_gọi mấy bạn thân sang xài cái này nhưng tìm mãi không có chat group để bọn mình tiện chat với nhau nếu không có thì chắc ghé qua zalo để chat nhóm thôi nhỉ\n",
            "cứ tối nào tuii xài cái này là sáng_mai da tuii đổ dầu á\n",
            "mua máy chơi game thi nên từ_bỏ ý_định mua sam sung đi\n",
            "có ai sử_dụng mask miung lab chưa ạ cho em xin bình_luận với thấy nhiều người bảo tốt với giá_thành cũng rất đắt\n",
            "minh dung iphone xsmax gan 2 thang thi van thay ok muot ma co thay ji dau chi co cai nang cấp he điều hanh ios 12 một 4 thi tục that loi liên_tục con may van hoạt dong bình_thường ma iphone minh dang dung la hang vna\n",
            "water gel có chất hại giúp làm mướt da nên nhiều bạn bị dị_ứng nhất là bạn nào có mụn sau bạn mua loại gel cream á loại đó không hương_liệu không chất hại nên không lo kích_ứng\n",
            "tui kị neu cực_kỳ\n",
            "mới dùng số điện_thoại đăng_ký vài ngày sau có bên bảo_hiểm tua du_lịch điện vào số mình liền hay một cái là biết tên mình luôn\n",
            "lotus web tạch rồi\n",
            "nhà mình cũng có một hủ nè nhìn mấy dòng trên nắp hủ mà tôi ứa gan mà kem trộn này có giá lắm nhaaa được bán tận bên chợ cali ở mỹ người_thân mình mua ở bển đem về vì nghe giới_thiệu trị mụn ok lắm\n",
            "đổi nước _ dưỡng đi chị uiii\n",
            "loại kem chống nắng the nhãn _ hiệu này mình dùng nên bôi lớp mỏng thôi ạ bôi lớp quá dày sẽ gây bí và đó là lý_do bị nổi mụn ẩn ạ chứ không phải cứ dùng là bị mụn ẩn đâu ạ\n",
            "em xài đỡ mụn nhưng sửa rửa mặt hình_như hút nắng ạ\n"
          ],
          "name": "stdout"
        }
      ]
    },
    {
      "cell_type": "code",
      "metadata": {
        "id": "o198syo35d7z",
        "colab": {
          "base_uri": "https://localhost:8080/"
        },
        "outputId": "178d39a2-e6fb-4d92-9b84-2d4c7ce2ec8a"
      },
      "source": [
        "!git clone https://github.com/Sophie1218/-n-HMTK.git"
      ],
      "execution_count": 49,
      "outputs": [
        {
          "output_type": "stream",
          "text": [
            "Cloning into '-n-HMTK'...\n",
            "remote: Enumerating objects: 3, done.\u001b[K\n",
            "remote: Counting objects: 100% (3/3), done.\u001b[K\n",
            "remote: Compressing objects: 100% (2/2), done.\u001b[K\n",
            "remote: Total 3 (delta 0), reused 0 (delta 0), pack-reused 0\u001b[K\n",
            "Unpacking objects: 100% (3/3), done.\n"
          ],
          "name": "stdout"
        }
      ]
    },
    {
      "cell_type": "code",
      "metadata": {
        "id": "oGaHWD9VFUYk"
      },
      "source": [
        ""
      ],
      "execution_count": null,
      "outputs": []
    }
  ]
}